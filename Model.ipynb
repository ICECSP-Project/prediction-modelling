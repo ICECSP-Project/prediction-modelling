{
 "cells": [
  {
   "cell_type": "markdown",
   "metadata": {},
   "source": [
    "# imports"
   ]
  },
  {
   "cell_type": "code",
   "execution_count": 1,
   "metadata": {},
   "outputs": [
    {
     "name": "stderr",
     "output_type": "stream",
     "text": [
      "Registered S3 methods overwritten by 'ggplot2':\n",
      "  method         from \n",
      "  [.quosures     rlang\n",
      "  c.quosures     rlang\n",
      "  print.quosures rlang\n",
      "Registered S3 method overwritten by 'rvest':\n",
      "  method            from\n",
      "  read_xml.response xml2\n",
      "── Attaching packages ─────────────────────────────────────── tidyverse 1.2.1 ──\n",
      "✔ ggplot2 3.1.1       ✔ purrr   0.3.2  \n",
      "✔ tibble  2.1.1       ✔ dplyr   0.8.0.1\n",
      "✔ tidyr   0.8.3       ✔ stringr 1.4.0  \n",
      "✔ readr   1.3.1       ✔ forcats 0.4.0  \n",
      "── Conflicts ────────────────────────────────────────── tidyverse_conflicts() ──\n",
      "✖ dplyr::filter() masks stats::filter()\n",
      "✖ dplyr::lag()    masks stats::lag()\n",
      "Loading required package: lattice\n",
      "\n",
      "Attaching package: ‘caret’\n",
      "\n",
      "The following objects are masked from ‘package:Metrics’:\n",
      "\n",
      "    precision, recall\n",
      "\n",
      "The following object is masked from ‘package:purrr’:\n",
      "\n",
      "    lift\n",
      "\n"
     ]
    },
    {
     "ename": "ERROR",
     "evalue": "Error in library(xgboost): there is no package called ‘xgboost’\n",
     "output_type": "error",
     "traceback": [
      "Error in library(xgboost): there is no package called ‘xgboost’\nTraceback:\n",
      "1. library(xgboost)"
     ]
    }
   ],
   "source": [
    "library(tidyverse)\n",
    "library(dplyr)\n",
    "#install.packages(\"Metrics\")\n",
    "library(Metrics)\n",
    "library(rpart)\n",
    "\n",
    "library(caret)\n",
    "library(xgboost)"
   ]
  },
  {
   "cell_type": "code",
   "execution_count": 9,
   "metadata": {},
   "outputs": [
    {
     "name": "stderr",
     "output_type": "stream",
     "text": [
      "Warning message:\n",
      "“Missing column names filled in: 'X1' [1]”Parsed with column specification:\n",
      "cols(\n",
      "  .default = col_double(),\n",
      "  tradeTime = col_date(format = \"\"),\n",
      "  buildingType = col_character(),\n",
      "  renovationCondition = col_character(),\n",
      "  buildingStructure = col_character(),\n",
      "  elevator = col_character(),\n",
      "  fiveYearsProperty = col_character(),\n",
      "  subway = col_character(),\n",
      "  district = col_character()\n",
      ")\n",
      "See spec(...) for full column specifications.\n"
     ]
    }
   ],
   "source": [
    "#cl_data <- read_csv(\"../datasets/Dataset 3 Beijing/Datacleaning/cleaned_beijing.csv\")\n",
    "cl_data <- read_csv(\"cleaned_beijing.csv\")\n",
    "cl_data <- cl_data[ -c(1) ]"
   ]
  },
  {
   "cell_type": "code",
   "execution_count": 4,
   "metadata": {},
   "outputs": [
    {
     "data": {
      "text/html": [
       "<table>\n",
       "<thead><tr><th scope=col>Lng</th><th scope=col>Lat</th><th scope=col>Cid</th><th scope=col>tradeTime</th><th scope=col>DOM</th><th scope=col>followers</th><th scope=col>totalPrice</th><th scope=col>price</th><th scope=col>square</th><th scope=col>livingRoom</th><th scope=col>...</th><th scope=col>buildingType</th><th scope=col>constructionTime</th><th scope=col>renovationCondition</th><th scope=col>buildingStructure</th><th scope=col>ladderRatio</th><th scope=col>elevator</th><th scope=col>fiveYearsProperty</th><th scope=col>subway</th><th scope=col>district</th><th scope=col>communityAverage</th></tr></thead>\n",
       "<tbody>\n",
       "\t<tr><td>116.4755         </td><td>40.01952         </td><td>1.111027e+12     </td><td>2016-08-09       </td><td>1464             </td><td>106              </td><td> 415.0           </td><td>31680            </td><td>131.00           </td><td>2                </td><td>...              </td><td>Tower            </td><td>2005             </td><td>Simplicit        </td><td>Steel/Concrete   </td><td>0.217            </td><td>Has_Elevator     </td><td>Ownership &gt; 5y</td><td>Has_Subway       </td><td>ChaoYang         </td><td>56021            </td></tr>\n",
       "\t<tr><td>116.4539         </td><td>39.88153         </td><td>1.111027e+12     </td><td>2016-07-28       </td><td> 903             </td><td>126              </td><td> 575.0           </td><td>43436            </td><td>132.38           </td><td>2                </td><td>...              </td><td>Tower            </td><td>2004             </td><td>Hardcover        </td><td>Steel/Concrete   </td><td>0.667            </td><td>Has_Elevator     </td><td>Ownership &lt; 5y</td><td>No_Subway        </td><td>ChaoYang         </td><td>71539            </td></tr>\n",
       "\t<tr><td>116.5620         </td><td>39.87714         </td><td>1.111041e+12     </td><td>2016-12-11       </td><td>1271             </td><td> 48              </td><td>1030.0           </td><td>52021            </td><td>198.00           </td><td>3                </td><td>...              </td><td>Plate            </td><td>2005             </td><td>Simplicit        </td><td>Steel/Concrete   </td><td>0.500            </td><td>Has_Elevator     </td><td>Ownership &gt; 5y</td><td>No_Subway        </td><td>ChaoYang         </td><td>48160            </td></tr>\n",
       "\t<tr><td>116.4380                                         </td><td>40.07611                                         </td><td>1.111043e+12                                     </td><td>2016-09-30                                       </td><td> 965                                             </td><td>138                                              </td><td> 297.5                                           </td><td>22202                                            </td><td>134.00                                           </td><td>3                                                </td><td>...                                              </td><td>Tower                                            </td><td>2008                                             </td><td><span style=white-space:pre-wrap>Other    </span></td><td>Steel/Concrete                                   </td><td>0.273                                            </td><td>Has_Elevator                                     </td><td>Ownership &gt; 5y                                </td><td>No_Subway                                        </td><td>ChangPing                                        </td><td>51238                                            </td></tr>\n",
       "\t<tr><td>116.4284                                              </td><td>39.88623                                              </td><td>1.111027e+12                                          </td><td>2016-08-28                                            </td><td> 927                                                  </td><td>286                                                   </td><td> 392.0                                                </td><td>48396                                                 </td><td> 81.00                                                </td><td>2                                                     </td><td>...                                                   </td><td>Plate                                                 </td><td>1960                                                  </td><td><span style=white-space:pre-wrap>Rough    </span>     </td><td><span style=white-space:pre-wrap>Mixed         </span></td><td>0.333                                                 </td><td>No_elevator                                           </td><td>Ownership &lt; 5y                                     </td><td>Has_Subway                                            </td><td>DongCheng                                             </td><td>62588                                                 </td></tr>\n",
       "\t<tr><td>116.4663         </td><td>39.99136         </td><td>1.111027e+12     </td><td>2016-07-22       </td><td> 861             </td><td> 57              </td><td> 275.6           </td><td>52000            </td><td> 53.00           </td><td>1                </td><td>...              </td><td>Plate            </td><td>2005             </td><td>Simplicit        </td><td>Steel/Concrete   </td><td>0.333            </td><td>Has_Elevator     </td><td>Ownership &lt; 5y</td><td>No_Subway        </td><td>ChaoYang         </td><td>67738            </td></tr>\n",
       "</tbody>\n",
       "</table>\n"
      ],
      "text/latex": [
       "\\begin{tabular}{r|llllllllllllllllllllllll}\n",
       " Lng & Lat & Cid & tradeTime & DOM & followers & totalPrice & price & square & livingRoom & ... & buildingType & constructionTime & renovationCondition & buildingStructure & ladderRatio & elevator & fiveYearsProperty & subway & district & communityAverage\\\\\n",
       "\\hline\n",
       "\t 116.4755       & 40.01952       & 1.111027e+12   & 2016-08-09     & 1464           & 106            &  415.0         & 31680          & 131.00         & 2              & ...            & Tower          & 2005           & Simplicit      & Steel/Concrete & 0.217          & Has\\_Elevator & Ownership > 5y & Has\\_Subway   & ChaoYang       & 56021         \\\\\n",
       "\t 116.4539       & 39.88153       & 1.111027e+12   & 2016-07-28     &  903           & 126            &  575.0         & 43436          & 132.38         & 2              & ...            & Tower          & 2004           & Hardcover      & Steel/Concrete & 0.667          & Has\\_Elevator & Ownership < 5y & No\\_Subway    & ChaoYang       & 71539         \\\\\n",
       "\t 116.5620       & 39.87714       & 1.111041e+12   & 2016-12-11     & 1271           &  48            & 1030.0         & 52021          & 198.00         & 3              & ...            & Plate          & 2005           & Simplicit      & Steel/Concrete & 0.500          & Has\\_Elevator & Ownership > 5y & No\\_Subway    & ChaoYang       & 48160         \\\\\n",
       "\t 116.4380       & 40.07611       & 1.111043e+12   & 2016-09-30     &  965           & 138            &  297.5         & 22202          & 134.00         & 3              & ...            & Tower          & 2008           & Other          & Steel/Concrete & 0.273          & Has\\_Elevator & Ownership > 5y & No\\_Subway    & ChangPing      & 51238         \\\\\n",
       "\t 116.4284       & 39.88623       & 1.111027e+12   & 2016-08-28     &  927           & 286            &  392.0         & 48396          &  81.00         & 2              & ...            & Plate          & 1960           & Rough          & Mixed          & 0.333          & No\\_elevator  & Ownership < 5y & Has\\_Subway   & DongCheng      & 62588         \\\\\n",
       "\t 116.4663       & 39.99136       & 1.111027e+12   & 2016-07-22     &  861           &  57            &  275.6         & 52000          &  53.00         & 1              & ...            & Plate          & 2005           & Simplicit      & Steel/Concrete & 0.333          & Has\\_Elevator & Ownership < 5y & No\\_Subway    & ChaoYang       & 67738         \\\\\n",
       "\\end{tabular}\n"
      ],
      "text/markdown": [
       "\n",
       "| Lng | Lat | Cid | tradeTime | DOM | followers | totalPrice | price | square | livingRoom | ... | buildingType | constructionTime | renovationCondition | buildingStructure | ladderRatio | elevator | fiveYearsProperty | subway | district | communityAverage |\n",
       "|---|---|---|---|---|---|---|---|---|---|---|---|---|---|---|---|---|---|---|---|---|\n",
       "| 116.4755       | 40.01952       | 1.111027e+12   | 2016-08-09     | 1464           | 106            |  415.0         | 31680          | 131.00         | 2              | ...            | Tower          | 2005           | Simplicit      | Steel/Concrete | 0.217          | Has_Elevator   | Ownership > 5y | Has_Subway     | ChaoYang       | 56021          |\n",
       "| 116.4539       | 39.88153       | 1.111027e+12   | 2016-07-28     |  903           | 126            |  575.0         | 43436          | 132.38         | 2              | ...            | Tower          | 2004           | Hardcover      | Steel/Concrete | 0.667          | Has_Elevator   | Ownership < 5y | No_Subway      | ChaoYang       | 71539          |\n",
       "| 116.5620       | 39.87714       | 1.111041e+12   | 2016-12-11     | 1271           |  48            | 1030.0         | 52021          | 198.00         | 3              | ...            | Plate          | 2005           | Simplicit      | Steel/Concrete | 0.500          | Has_Elevator   | Ownership > 5y | No_Subway      | ChaoYang       | 48160          |\n",
       "| 116.4380       | 40.07611       | 1.111043e+12   | 2016-09-30     |  965           | 138            |  297.5         | 22202          | 134.00         | 3              | ...            | Tower          | 2008           | Other          | Steel/Concrete | 0.273          | Has_Elevator   | Ownership > 5y | No_Subway      | ChangPing      | 51238          |\n",
       "| 116.4284       | 39.88623       | 1.111027e+12   | 2016-08-28     |  927           | 286            |  392.0         | 48396          |  81.00         | 2              | ...            | Plate          | 1960           | Rough          | Mixed          | 0.333          | No_elevator    | Ownership < 5y | Has_Subway     | DongCheng      | 62588          |\n",
       "| 116.4663       | 39.99136       | 1.111027e+12   | 2016-07-22     |  861           |  57            |  275.6         | 52000          |  53.00         | 1              | ...            | Plate          | 2005           | Simplicit      | Steel/Concrete | 0.333          | Has_Elevator   | Ownership < 5y | No_Subway      | ChaoYang       | 67738          |\n",
       "\n"
      ],
      "text/plain": [
       "  Lng      Lat      Cid          tradeTime  DOM  followers totalPrice price\n",
       "1 116.4755 40.01952 1.111027e+12 2016-08-09 1464 106        415.0     31680\n",
       "2 116.4539 39.88153 1.111027e+12 2016-07-28  903 126        575.0     43436\n",
       "3 116.5620 39.87714 1.111041e+12 2016-12-11 1271  48       1030.0     52021\n",
       "4 116.4380 40.07611 1.111043e+12 2016-09-30  965 138        297.5     22202\n",
       "5 116.4284 39.88623 1.111027e+12 2016-08-28  927 286        392.0     48396\n",
       "6 116.4663 39.99136 1.111027e+12 2016-07-22  861  57        275.6     52000\n",
       "  square livingRoom ... buildingType constructionTime renovationCondition\n",
       "1 131.00 2          ... Tower        2005             Simplicit          \n",
       "2 132.38 2          ... Tower        2004             Hardcover          \n",
       "3 198.00 3          ... Plate        2005             Simplicit          \n",
       "4 134.00 3          ... Tower        2008             Other              \n",
       "5  81.00 2          ... Plate        1960             Rough              \n",
       "6  53.00 1          ... Plate        2005             Simplicit          \n",
       "  buildingStructure ladderRatio elevator     fiveYearsProperty subway    \n",
       "1 Steel/Concrete    0.217       Has_Elevator Ownership > 5y    Has_Subway\n",
       "2 Steel/Concrete    0.667       Has_Elevator Ownership < 5y    No_Subway \n",
       "3 Steel/Concrete    0.500       Has_Elevator Ownership > 5y    No_Subway \n",
       "4 Steel/Concrete    0.273       Has_Elevator Ownership > 5y    No_Subway \n",
       "5 Mixed             0.333       No_elevator  Ownership < 5y    Has_Subway\n",
       "6 Steel/Concrete    0.333       Has_Elevator Ownership < 5y    No_Subway \n",
       "  district  communityAverage\n",
       "1 ChaoYang  56021           \n",
       "2 ChaoYang  71539           \n",
       "3 ChaoYang  48160           \n",
       "4 ChangPing 51238           \n",
       "5 DongCheng 62588           \n",
       "6 ChaoYang  67738           "
      ]
     },
     "metadata": {},
     "output_type": "display_data"
    }
   ],
   "source": [
    "head(cl_data)"
   ]
  },
  {
   "cell_type": "code",
   "execution_count": 5,
   "metadata": {},
   "outputs": [
    {
     "data": {
      "text/plain": [
       "      Lng             Lat             Cid              tradeTime         \n",
       " Min.   :116.1   Min.   :39.63   Min.   :1.111e+12   Min.   :2002-06-01  \n",
       " 1st Qu.:116.3   1st Qu.:39.89   1st Qu.:1.111e+12   1st Qu.:2013-12-26  \n",
       " Median :116.4   Median :39.93   Median :1.111e+12   Median :2015-09-27  \n",
       " Mean   :116.4   Mean   :39.95   Mean   :1.126e+12   Mean   :2015-04-30  \n",
       " 3rd Qu.:116.5   3rd Qu.:40.00   3rd Qu.:1.111e+12   3rd Qu.:2016-08-12  \n",
       " Max.   :116.7   Max.   :40.25   Max.   :1.185e+14   Max.   :2018-01-28  \n",
       "      DOM            followers         totalPrice         price       \n",
       " Min.   :   1.00   Min.   :   0.00   Min.   :  13.0   Min.   : 10000  \n",
       " 1st Qu.:   7.00   1st Qu.:   0.00   1st Qu.: 206.0   1st Qu.: 28362  \n",
       " Median :   7.00   Median :   5.00   Median : 295.0   Median : 39132  \n",
       " Mean   :  18.54   Mean   :  17.25   Mean   : 350.6   Mean   : 44003  \n",
       " 3rd Qu.:   8.00   3rd Qu.:  19.00   3rd Qu.: 428.0   3rd Qu.: 54348  \n",
       " Max.   :1677.00   Max.   :1143.00   Max.   :4900.0   Max.   :150000  \n",
       "     square         livingRoom    drawingRoom       kitchen      \n",
       " Min.   :  7.37   Min.   :0.00   Min.   :0.000   Min.   :0.0000  \n",
       " 1st Qu.: 57.91   1st Qu.:1.00   1st Qu.:1.000   1st Qu.:1.0000  \n",
       " Median : 73.92   Median :2.00   Median :1.000   Median :1.0000  \n",
       " Mean   : 82.58   Mean   :2.01   Mean   :1.171   Mean   :0.9949  \n",
       " 3rd Qu.: 98.15   3rd Qu.:2.00   3rd Qu.:1.000   3rd Qu.:1.0000  \n",
       " Max.   :640.00   Max.   :8.00   Max.   :5.000   Max.   :3.0000  \n",
       "    bathRoom         floor       buildingType       constructionTime\n",
       " Min.   :0.000   Min.   : 1.00   Length:296350      Min.   :1950    \n",
       " 1st Qu.:1.000   1st Qu.: 6.00   Class :character   1st Qu.:1994    \n",
       " Median :1.000   Median :11.00   Mode  :character   Median :2001    \n",
       " Mean   :1.182   Mean   :13.17                      Mean   :1999    \n",
       " 3rd Qu.:1.000   3rd Qu.:19.00                      3rd Qu.:2006    \n",
       " Max.   :7.000   Max.   :63.00                      Max.   :2016    \n",
       " renovationCondition buildingStructure   ladderRatio       elevator        \n",
       " Length:296350       Length:296350      Min.   :0.0140   Length:296350     \n",
       " Class :character    Class :character   1st Qu.:0.2500   Class :character  \n",
       " Mode  :character    Mode  :character   Median :0.3330   Mode  :character  \n",
       "                                        Mean   :0.3818                     \n",
       "                                        3rd Qu.:0.5000                     \n",
       "                                        Max.   :5.0000                     \n",
       " fiveYearsProperty     subway            district         communityAverage\n",
       " Length:296350      Length:296350      Length:296350      Min.   : 10847  \n",
       " Class :character   Class :character   Class :character   1st Qu.: 46578  \n",
       " Mode  :character   Mode  :character   Mode  :character   Median : 59060  \n",
       "                                                          Mean   : 63745  \n",
       "                                                          3rd Qu.: 75868  \n",
       "                                                          Max.   :183109  "
      ]
     },
     "metadata": {},
     "output_type": "display_data"
    }
   ],
   "source": [
    "summary(cl_data)"
   ]
  },
  {
   "cell_type": "code",
   "execution_count": 5,
   "metadata": {
    "scrolled": true
   },
   "outputs": [
    {
     "data": {
      "text/html": [
       "<ol class=list-inline>\n",
       "\t<li>2005</li>\n",
       "\t<li>2004</li>\n",
       "\t<li>2008</li>\n",
       "\t<li>1960</li>\n",
       "\t<li>1997</li>\n",
       "\t<li>2009</li>\n",
       "\t<li>1991</li>\n",
       "\t<li>2001</li>\n",
       "\t<li>1990</li>\n",
       "\t<li>2011</li>\n",
       "\t<li>2000</li>\n",
       "\t<li>1998</li>\n",
       "\t<li>2010</li>\n",
       "\t<li>1996</li>\n",
       "\t<li>1993</li>\n",
       "\t<li>2006</li>\n",
       "\t<li>2002</li>\n",
       "\t<li>2012</li>\n",
       "\t<li>1989</li>\n",
       "\t<li>2003</li>\n",
       "\t<li>2007</li>\n",
       "\t<li>1994</li>\n",
       "\t<li>1984</li>\n",
       "\t<li>1992</li>\n",
       "\t<li>2014</li>\n",
       "\t<li>1985</li>\n",
       "\t<li>1999</li>\n",
       "\t<li>1979</li>\n",
       "\t<li>1981</li>\n",
       "\t<li>1976</li>\n",
       "\t<li>1982</li>\n",
       "\t<li>1975</li>\n",
       "\t<li>1983</li>\n",
       "\t<li>1986</li>\n",
       "\t<li>1995</li>\n",
       "\t<li>1965</li>\n",
       "\t<li>2013</li>\n",
       "\t<li>1988</li>\n",
       "\t<li>1987</li>\n",
       "\t<li>2015</li>\n",
       "\t<li>1955</li>\n",
       "\t<li>1980</li>\n",
       "\t<li>1978</li>\n",
       "\t<li>1958</li>\n",
       "\t<li>1970</li>\n",
       "\t<li>1956</li>\n",
       "\t<li>1977</li>\n",
       "\t<li>1964</li>\n",
       "\t<li>1963</li>\n",
       "\t<li>1967</li>\n",
       "\t<li>2016</li>\n",
       "\t<li>1974</li>\n",
       "\t<li>1973</li>\n",
       "\t<li>1959</li>\n",
       "\t<li>1954</li>\n",
       "\t<li>1962</li>\n",
       "\t<li>1966</li>\n",
       "\t<li>1957</li>\n",
       "\t<li>1972</li>\n",
       "\t<li>1971</li>\n",
       "\t<li>1953</li>\n",
       "\t<li>1968</li>\n",
       "\t<li>1961</li>\n",
       "\t<li>1950</li>\n",
       "\t<li>1952</li>\n",
       "\t<li>1969</li>\n",
       "</ol>\n"
      ],
      "text/latex": [
       "\\begin{enumerate*}\n",
       "\\item 2005\n",
       "\\item 2004\n",
       "\\item 2008\n",
       "\\item 1960\n",
       "\\item 1997\n",
       "\\item 2009\n",
       "\\item 1991\n",
       "\\item 2001\n",
       "\\item 1990\n",
       "\\item 2011\n",
       "\\item 2000\n",
       "\\item 1998\n",
       "\\item 2010\n",
       "\\item 1996\n",
       "\\item 1993\n",
       "\\item 2006\n",
       "\\item 2002\n",
       "\\item 2012\n",
       "\\item 1989\n",
       "\\item 2003\n",
       "\\item 2007\n",
       "\\item 1994\n",
       "\\item 1984\n",
       "\\item 1992\n",
       "\\item 2014\n",
       "\\item 1985\n",
       "\\item 1999\n",
       "\\item 1979\n",
       "\\item 1981\n",
       "\\item 1976\n",
       "\\item 1982\n",
       "\\item 1975\n",
       "\\item 1983\n",
       "\\item 1986\n",
       "\\item 1995\n",
       "\\item 1965\n",
       "\\item 2013\n",
       "\\item 1988\n",
       "\\item 1987\n",
       "\\item 2015\n",
       "\\item 1955\n",
       "\\item 1980\n",
       "\\item 1978\n",
       "\\item 1958\n",
       "\\item 1970\n",
       "\\item 1956\n",
       "\\item 1977\n",
       "\\item 1964\n",
       "\\item 1963\n",
       "\\item 1967\n",
       "\\item 2016\n",
       "\\item 1974\n",
       "\\item 1973\n",
       "\\item 1959\n",
       "\\item 1954\n",
       "\\item 1962\n",
       "\\item 1966\n",
       "\\item 1957\n",
       "\\item 1972\n",
       "\\item 1971\n",
       "\\item 1953\n",
       "\\item 1968\n",
       "\\item 1961\n",
       "\\item 1950\n",
       "\\item 1952\n",
       "\\item 1969\n",
       "\\end{enumerate*}\n"
      ],
      "text/markdown": [
       "1. 2005\n",
       "2. 2004\n",
       "3. 2008\n",
       "4. 1960\n",
       "5. 1997\n",
       "6. 2009\n",
       "7. 1991\n",
       "8. 2001\n",
       "9. 1990\n",
       "10. 2011\n",
       "11. 2000\n",
       "12. 1998\n",
       "13. 2010\n",
       "14. 1996\n",
       "15. 1993\n",
       "16. 2006\n",
       "17. 2002\n",
       "18. 2012\n",
       "19. 1989\n",
       "20. 2003\n",
       "21. 2007\n",
       "22. 1994\n",
       "23. 1984\n",
       "24. 1992\n",
       "25. 2014\n",
       "26. 1985\n",
       "27. 1999\n",
       "28. 1979\n",
       "29. 1981\n",
       "30. 1976\n",
       "31. 1982\n",
       "32. 1975\n",
       "33. 1983\n",
       "34. 1986\n",
       "35. 1995\n",
       "36. 1965\n",
       "37. 2013\n",
       "38. 1988\n",
       "39. 1987\n",
       "40. 2015\n",
       "41. 1955\n",
       "42. 1980\n",
       "43. 1978\n",
       "44. 1958\n",
       "45. 1970\n",
       "46. 1956\n",
       "47. 1977\n",
       "48. 1964\n",
       "49. 1963\n",
       "50. 1967\n",
       "51. 2016\n",
       "52. 1974\n",
       "53. 1973\n",
       "54. 1959\n",
       "55. 1954\n",
       "56. 1962\n",
       "57. 1966\n",
       "58. 1957\n",
       "59. 1972\n",
       "60. 1971\n",
       "61. 1953\n",
       "62. 1968\n",
       "63. 1961\n",
       "64. 1950\n",
       "65. 1952\n",
       "66. 1969\n",
       "\n",
       "\n"
      ],
      "text/plain": [
       " [1] 2005 2004 2008 1960 1997 2009 1991 2001 1990 2011 2000 1998 2010 1996 1993\n",
       "[16] 2006 2002 2012 1989 2003 2007 1994 1984 1992 2014 1985 1999 1979 1981 1976\n",
       "[31] 1982 1975 1983 1986 1995 1965 2013 1988 1987 2015 1955 1980 1978 1958 1970\n",
       "[46] 1956 1977 1964 1963 1967 2016 1974 1973 1959 1954 1962 1966 1957 1972 1971\n",
       "[61] 1953 1968 1961 1950 1952 1969"
      ]
     },
     "metadata": {},
     "output_type": "display_data"
    }
   ],
   "source": [
    "unique(cl_data$constructionTime)"
   ]
  },
  {
   "cell_type": "code",
   "execution_count": null,
   "metadata": {},
   "outputs": [],
   "source": []
  },
  {
   "cell_type": "markdown",
   "metadata": {},
   "source": [
    "removing  Cid and total price. cid has too many factors (computer crashes when trained using as factor) "
   ]
  },
  {
   "cell_type": "code",
   "execution_count": 10,
   "metadata": {},
   "outputs": [],
   "source": [
    "data = cl_data[-c(3,7)]"
   ]
  },
  {
   "cell_type": "markdown",
   "metadata": {},
   "source": [
    "# Data After Modifiation"
   ]
  },
  {
   "cell_type": "code",
   "execution_count": 7,
   "metadata": {},
   "outputs": [
    {
     "data": {
      "text/html": [
       "<table>\n",
       "<thead><tr><th scope=col>Lng</th><th scope=col>Lat</th><th scope=col>tradeTime</th><th scope=col>DOM</th><th scope=col>followers</th><th scope=col>price</th><th scope=col>square</th><th scope=col>livingRoom</th><th scope=col>drawingRoom</th><th scope=col>kitchen</th><th scope=col>...</th><th scope=col>buildingType</th><th scope=col>constructionTime</th><th scope=col>renovationCondition</th><th scope=col>buildingStructure</th><th scope=col>ladderRatio</th><th scope=col>elevator</th><th scope=col>fiveYearsProperty</th><th scope=col>subway</th><th scope=col>district</th><th scope=col>communityAverage</th></tr></thead>\n",
       "<tbody>\n",
       "\t<tr><td>116.4755         </td><td>40.01952         </td><td>2016-08-09       </td><td>1464             </td><td>106              </td><td>31680            </td><td>131.00           </td><td>2                </td><td>1                </td><td>1                </td><td>...              </td><td>Tower            </td><td>2005             </td><td>Simplicit        </td><td>Steel/Concrete   </td><td>0.217            </td><td>Has_Elevator     </td><td>Ownership &gt; 5y</td><td>Has_Subway       </td><td>ChaoYang         </td><td>56021            </td></tr>\n",
       "\t<tr><td>116.4539         </td><td>39.88153         </td><td>2016-07-28       </td><td> 903             </td><td>126              </td><td>43436            </td><td>132.38           </td><td>2                </td><td>2                </td><td>1                </td><td>...              </td><td>Tower            </td><td>2004             </td><td>Hardcover        </td><td>Steel/Concrete   </td><td>0.667            </td><td>Has_Elevator     </td><td>Ownership &lt; 5y</td><td>No_Subway        </td><td>ChaoYang         </td><td>71539            </td></tr>\n",
       "\t<tr><td>116.5620         </td><td>39.87714         </td><td>2016-12-11       </td><td>1271             </td><td> 48              </td><td>52021            </td><td>198.00           </td><td>3                </td><td>2                </td><td>1                </td><td>...              </td><td>Plate            </td><td>2005             </td><td>Simplicit        </td><td>Steel/Concrete   </td><td>0.500            </td><td>Has_Elevator     </td><td>Ownership &gt; 5y</td><td>No_Subway        </td><td>ChaoYang         </td><td>48160            </td></tr>\n",
       "\t<tr><td>116.4380                                         </td><td>40.07611                                         </td><td>2016-09-30                                       </td><td> 965                                             </td><td>138                                              </td><td>22202                                            </td><td>134.00                                           </td><td>3                                                </td><td>1                                                </td><td>1                                                </td><td>...                                              </td><td>Tower                                            </td><td>2008                                             </td><td><span style=white-space:pre-wrap>Other    </span></td><td>Steel/Concrete                                   </td><td>0.273                                            </td><td>Has_Elevator                                     </td><td>Ownership &gt; 5y                                </td><td>No_Subway                                        </td><td>ChangPing                                        </td><td>51238                                            </td></tr>\n",
       "\t<tr><td>116.4284                                              </td><td>39.88623                                              </td><td>2016-08-28                                            </td><td> 927                                                  </td><td>286                                                   </td><td>48396                                                 </td><td> 81.00                                                </td><td>2                                                     </td><td>1                                                     </td><td>1                                                     </td><td>...                                                   </td><td>Plate                                                 </td><td>1960                                                  </td><td><span style=white-space:pre-wrap>Rough    </span>     </td><td><span style=white-space:pre-wrap>Mixed         </span></td><td>0.333                                                 </td><td>No_elevator                                           </td><td>Ownership &lt; 5y                                     </td><td>Has_Subway                                            </td><td>DongCheng                                             </td><td>62588                                                 </td></tr>\n",
       "\t<tr><td>116.4663         </td><td>39.99136         </td><td>2016-07-22       </td><td> 861             </td><td> 57              </td><td>52000            </td><td> 53.00           </td><td>1                </td><td>0                </td><td>1                </td><td>...              </td><td>Plate            </td><td>2005             </td><td>Simplicit        </td><td>Steel/Concrete   </td><td>0.333            </td><td>Has_Elevator     </td><td>Ownership &lt; 5y</td><td>No_Subway        </td><td>ChaoYang         </td><td>67738            </td></tr>\n",
       "</tbody>\n",
       "</table>\n"
      ],
      "text/latex": [
       "\\begin{tabular}{r|llllllllllllllllllllll}\n",
       " Lng & Lat & tradeTime & DOM & followers & price & square & livingRoom & drawingRoom & kitchen & ... & buildingType & constructionTime & renovationCondition & buildingStructure & ladderRatio & elevator & fiveYearsProperty & subway & district & communityAverage\\\\\n",
       "\\hline\n",
       "\t 116.4755       & 40.01952       & 2016-08-09     & 1464           & 106            & 31680          & 131.00         & 2              & 1              & 1              & ...            & Tower          & 2005           & Simplicit      & Steel/Concrete & 0.217          & Has\\_Elevator & Ownership > 5y & Has\\_Subway   & ChaoYang       & 56021         \\\\\n",
       "\t 116.4539       & 39.88153       & 2016-07-28     &  903           & 126            & 43436          & 132.38         & 2              & 2              & 1              & ...            & Tower          & 2004           & Hardcover      & Steel/Concrete & 0.667          & Has\\_Elevator & Ownership < 5y & No\\_Subway    & ChaoYang       & 71539         \\\\\n",
       "\t 116.5620       & 39.87714       & 2016-12-11     & 1271           &  48            & 52021          & 198.00         & 3              & 2              & 1              & ...            & Plate          & 2005           & Simplicit      & Steel/Concrete & 0.500          & Has\\_Elevator & Ownership > 5y & No\\_Subway    & ChaoYang       & 48160         \\\\\n",
       "\t 116.4380       & 40.07611       & 2016-09-30     &  965           & 138            & 22202          & 134.00         & 3              & 1              & 1              & ...            & Tower          & 2008           & Other          & Steel/Concrete & 0.273          & Has\\_Elevator & Ownership > 5y & No\\_Subway    & ChangPing      & 51238         \\\\\n",
       "\t 116.4284       & 39.88623       & 2016-08-28     &  927           & 286            & 48396          &  81.00         & 2              & 1              & 1              & ...            & Plate          & 1960           & Rough          & Mixed          & 0.333          & No\\_elevator  & Ownership < 5y & Has\\_Subway   & DongCheng      & 62588         \\\\\n",
       "\t 116.4663       & 39.99136       & 2016-07-22     &  861           &  57            & 52000          &  53.00         & 1              & 0              & 1              & ...            & Plate          & 2005           & Simplicit      & Steel/Concrete & 0.333          & Has\\_Elevator & Ownership < 5y & No\\_Subway    & ChaoYang       & 67738         \\\\\n",
       "\\end{tabular}\n"
      ],
      "text/markdown": [
       "\n",
       "| Lng | Lat | tradeTime | DOM | followers | price | square | livingRoom | drawingRoom | kitchen | ... | buildingType | constructionTime | renovationCondition | buildingStructure | ladderRatio | elevator | fiveYearsProperty | subway | district | communityAverage |\n",
       "|---|---|---|---|---|---|---|---|---|---|---|---|---|---|---|---|---|---|---|---|---|\n",
       "| 116.4755       | 40.01952       | 2016-08-09     | 1464           | 106            | 31680          | 131.00         | 2              | 1              | 1              | ...            | Tower          | 2005           | Simplicit      | Steel/Concrete | 0.217          | Has_Elevator   | Ownership > 5y | Has_Subway     | ChaoYang       | 56021          |\n",
       "| 116.4539       | 39.88153       | 2016-07-28     |  903           | 126            | 43436          | 132.38         | 2              | 2              | 1              | ...            | Tower          | 2004           | Hardcover      | Steel/Concrete | 0.667          | Has_Elevator   | Ownership < 5y | No_Subway      | ChaoYang       | 71539          |\n",
       "| 116.5620       | 39.87714       | 2016-12-11     | 1271           |  48            | 52021          | 198.00         | 3              | 2              | 1              | ...            | Plate          | 2005           | Simplicit      | Steel/Concrete | 0.500          | Has_Elevator   | Ownership > 5y | No_Subway      | ChaoYang       | 48160          |\n",
       "| 116.4380       | 40.07611       | 2016-09-30     |  965           | 138            | 22202          | 134.00         | 3              | 1              | 1              | ...            | Tower          | 2008           | Other          | Steel/Concrete | 0.273          | Has_Elevator   | Ownership > 5y | No_Subway      | ChangPing      | 51238          |\n",
       "| 116.4284       | 39.88623       | 2016-08-28     |  927           | 286            | 48396          |  81.00         | 2              | 1              | 1              | ...            | Plate          | 1960           | Rough          | Mixed          | 0.333          | No_elevator    | Ownership < 5y | Has_Subway     | DongCheng      | 62588          |\n",
       "| 116.4663       | 39.99136       | 2016-07-22     |  861           |  57            | 52000          |  53.00         | 1              | 0              | 1              | ...            | Plate          | 2005           | Simplicit      | Steel/Concrete | 0.333          | Has_Elevator   | Ownership < 5y | No_Subway      | ChaoYang       | 67738          |\n",
       "\n"
      ],
      "text/plain": [
       "  Lng      Lat      tradeTime  DOM  followers price square livingRoom\n",
       "1 116.4755 40.01952 2016-08-09 1464 106       31680 131.00 2         \n",
       "2 116.4539 39.88153 2016-07-28  903 126       43436 132.38 2         \n",
       "3 116.5620 39.87714 2016-12-11 1271  48       52021 198.00 3         \n",
       "4 116.4380 40.07611 2016-09-30  965 138       22202 134.00 3         \n",
       "5 116.4284 39.88623 2016-08-28  927 286       48396  81.00 2         \n",
       "6 116.4663 39.99136 2016-07-22  861  57       52000  53.00 1         \n",
       "  drawingRoom kitchen ... buildingType constructionTime renovationCondition\n",
       "1 1           1       ... Tower        2005             Simplicit          \n",
       "2 2           1       ... Tower        2004             Hardcover          \n",
       "3 2           1       ... Plate        2005             Simplicit          \n",
       "4 1           1       ... Tower        2008             Other              \n",
       "5 1           1       ... Plate        1960             Rough              \n",
       "6 0           1       ... Plate        2005             Simplicit          \n",
       "  buildingStructure ladderRatio elevator     fiveYearsProperty subway    \n",
       "1 Steel/Concrete    0.217       Has_Elevator Ownership > 5y    Has_Subway\n",
       "2 Steel/Concrete    0.667       Has_Elevator Ownership < 5y    No_Subway \n",
       "3 Steel/Concrete    0.500       Has_Elevator Ownership > 5y    No_Subway \n",
       "4 Steel/Concrete    0.273       Has_Elevator Ownership > 5y    No_Subway \n",
       "5 Mixed             0.333       No_elevator  Ownership < 5y    Has_Subway\n",
       "6 Steel/Concrete    0.333       Has_Elevator Ownership < 5y    No_Subway \n",
       "  district  communityAverage\n",
       "1 ChaoYang  56021           \n",
       "2 ChaoYang  71539           \n",
       "3 ChaoYang  48160           \n",
       "4 ChangPing 51238           \n",
       "5 DongCheng 62588           \n",
       "6 ChaoYang  67738           "
      ]
     },
     "metadata": {},
     "output_type": "display_data"
    }
   ],
   "source": [
    "head(data)"
   ]
  },
  {
   "cell_type": "code",
   "execution_count": 4,
   "metadata": {},
   "outputs": [
    {
     "data": {
      "text/html": [
       "<ol class=list-inline>\n",
       "\t<li>'Lng'</li>\n",
       "\t<li>'Lat'</li>\n",
       "\t<li>'tradeTime'</li>\n",
       "\t<li>'DOM'</li>\n",
       "\t<li>'followers'</li>\n",
       "\t<li>'price'</li>\n",
       "\t<li>'square'</li>\n",
       "\t<li>'livingRoom'</li>\n",
       "\t<li>'drawingRoom'</li>\n",
       "\t<li>'kitchen'</li>\n",
       "\t<li>'bathRoom'</li>\n",
       "\t<li>'floor'</li>\n",
       "\t<li>'buildingType'</li>\n",
       "\t<li>'constructionTime'</li>\n",
       "\t<li>'renovationCondition'</li>\n",
       "\t<li>'buildingStructure'</li>\n",
       "\t<li>'ladderRatio'</li>\n",
       "\t<li>'elevator'</li>\n",
       "\t<li>'fiveYearsProperty'</li>\n",
       "\t<li>'subway'</li>\n",
       "\t<li>'district'</li>\n",
       "\t<li>'communityAverage'</li>\n",
       "</ol>\n"
      ],
      "text/latex": [
       "\\begin{enumerate*}\n",
       "\\item 'Lng'\n",
       "\\item 'Lat'\n",
       "\\item 'tradeTime'\n",
       "\\item 'DOM'\n",
       "\\item 'followers'\n",
       "\\item 'price'\n",
       "\\item 'square'\n",
       "\\item 'livingRoom'\n",
       "\\item 'drawingRoom'\n",
       "\\item 'kitchen'\n",
       "\\item 'bathRoom'\n",
       "\\item 'floor'\n",
       "\\item 'buildingType'\n",
       "\\item 'constructionTime'\n",
       "\\item 'renovationCondition'\n",
       "\\item 'buildingStructure'\n",
       "\\item 'ladderRatio'\n",
       "\\item 'elevator'\n",
       "\\item 'fiveYearsProperty'\n",
       "\\item 'subway'\n",
       "\\item 'district'\n",
       "\\item 'communityAverage'\n",
       "\\end{enumerate*}\n"
      ],
      "text/markdown": [
       "1. 'Lng'\n",
       "2. 'Lat'\n",
       "3. 'tradeTime'\n",
       "4. 'DOM'\n",
       "5. 'followers'\n",
       "6. 'price'\n",
       "7. 'square'\n",
       "8. 'livingRoom'\n",
       "9. 'drawingRoom'\n",
       "10. 'kitchen'\n",
       "11. 'bathRoom'\n",
       "12. 'floor'\n",
       "13. 'buildingType'\n",
       "14. 'constructionTime'\n",
       "15. 'renovationCondition'\n",
       "16. 'buildingStructure'\n",
       "17. 'ladderRatio'\n",
       "18. 'elevator'\n",
       "19. 'fiveYearsProperty'\n",
       "20. 'subway'\n",
       "21. 'district'\n",
       "22. 'communityAverage'\n",
       "\n",
       "\n"
      ],
      "text/plain": [
       " [1] \"Lng\"                 \"Lat\"                 \"tradeTime\"          \n",
       " [4] \"DOM\"                 \"followers\"           \"price\"              \n",
       " [7] \"square\"              \"livingRoom\"          \"drawingRoom\"        \n",
       "[10] \"kitchen\"             \"bathRoom\"            \"floor\"              \n",
       "[13] \"buildingType\"        \"constructionTime\"    \"renovationCondition\"\n",
       "[16] \"buildingStructure\"   \"ladderRatio\"         \"elevator\"           \n",
       "[19] \"fiveYearsProperty\"   \"subway\"              \"district\"           \n",
       "[22] \"communityAverage\"   "
      ]
     },
     "metadata": {},
     "output_type": "display_data"
    }
   ],
   "source": [
    "colnames(data)"
   ]
  },
  {
   "cell_type": "code",
   "execution_count": 9,
   "metadata": {},
   "outputs": [
    {
     "name": "stdout",
     "output_type": "stream",
     "text": [
      "Classes 'tbl_df', 'tbl' and 'data.frame':\t296350 obs. of  22 variables:\n",
      " $ Lng                : num  116 116 117 116 116 ...\n",
      " $ Lat                : num  40 39.9 39.9 40.1 39.9 ...\n",
      " $ tradeTime          : Date, format: \"2016-08-09\" \"2016-07-28\" ...\n",
      " $ DOM                : num  1464 903 1271 965 927 ...\n",
      " $ followers          : num  106 126 48 138 286 57 167 138 218 134 ...\n",
      " $ price              : num  31680 43436 52021 22202 48396 ...\n",
      " $ square             : num  131 132 198 134 81 ...\n",
      " $ livingRoom         : num  2 2 3 3 2 1 2 3 1 1 ...\n",
      " $ drawingRoom        : num  1 2 2 1 1 0 1 2 0 0 ...\n",
      " $ kitchen            : num  1 1 1 1 1 1 1 1 1 0 ...\n",
      " $ bathRoom           : num  1 2 3 1 1 1 1 2 1 0 ...\n",
      " $ floor              : num  26 22 4 21 6 8 6 22 10 23 ...\n",
      " $ buildingType       : chr  \"Tower\" \"Tower\" \"Plate\" \"Tower\" ...\n",
      " $ constructionTime   : num  2005 2004 2005 2008 1960 ...\n",
      " $ renovationCondition: chr  \"Simplicit\" \"Hardcover\" \"Simplicit\" \"Other\" ...\n",
      " $ buildingStructure  : chr  \"Steel/Concrete\" \"Steel/Concrete\" \"Steel/Concrete\" \"Steel/Concrete\" ...\n",
      " $ ladderRatio        : num  0.217 0.667 0.5 0.273 0.333 0.333 0.5 0.667 0.333 0.308 ...\n",
      " $ elevator           : chr  \"Has_Elevator\" \"Has_Elevator\" \"Has_Elevator\" \"Has_Elevator\" ...\n",
      " $ fiveYearsProperty  : chr  \"Ownership > 5y\" \"Ownership < 5y\" \"Ownership > 5y\" \"Ownership > 5y\" ...\n",
      " $ subway             : chr  \"Has_Subway\" \"No_Subway\" \"No_Subway\" \"No_Subway\" ...\n",
      " $ district           : chr  \"ChaoYang\" \"ChaoYang\" \"ChaoYang\" \"ChangPing\" ...\n",
      " $ communityAverage   : num  56021 71539 48160 51238 62588 ...\n"
     ]
    }
   ],
   "source": [
    "str(data)"
   ]
  },
  {
   "cell_type": "markdown",
   "metadata": {},
   "source": [
    "# Runing an analysis of variabce to see the significat factors"
   ]
  },
  {
   "cell_type": "code",
   "execution_count": 10,
   "metadata": {},
   "outputs": [],
   "source": [
    "anova <- aov( price ~ . , data = data )"
   ]
  },
  {
   "cell_type": "code",
   "execution_count": 11,
   "metadata": {},
   "outputs": [
    {
     "data": {
      "text/plain": [
       "                        Df    Sum Sq   Mean Sq  F value Pr(>F)    \n",
       "Lng                      1 3.362e+12 3.362e+12  35190.1 <2e-16 ***\n",
       "Lat                      1 2.696e+11 2.696e+11   2822.3 <2e-16 ***\n",
       "tradeTime                1 3.956e+13 3.956e+13 414057.9 <2e-16 ***\n",
       "DOM                      1 9.809e+11 9.809e+11  10266.3 <2e-16 ***\n",
       "followers                1 1.049e+10 1.049e+10    109.8 <2e-16 ***\n",
       "square                   1 3.485e+12 3.485e+12  36475.2 <2e-16 ***\n",
       "livingRoom               1 3.904e+11 3.904e+11   4086.1 <2e-16 ***\n",
       "drawingRoom              1 5.909e+10 5.909e+10    618.4 <2e-16 ***\n",
       "kitchen                  1 1.609e+11 1.609e+11   1683.8 <2e-16 ***\n",
       "bathRoom                 1 4.947e+11 4.947e+11   5178.2 <2e-16 ***\n",
       "floor                    1 5.533e+11 5.533e+11   5791.1 <2e-16 ***\n",
       "buildingType             3 5.894e+11 1.965e+11   2056.5 <2e-16 ***\n",
       "constructionTime         1 5.432e+12 5.432e+12  56851.2 <2e-16 ***\n",
       "renovationCondition      3 1.355e+12 4.517e+11   4727.3 <2e-16 ***\n",
       "buildingStructure        5 1.086e+12 2.172e+11   2273.5 <2e-16 ***\n",
       "ladderRatio              1 3.749e+10 3.749e+10    392.4 <2e-16 ***\n",
       "elevator                 1 6.238e+11 6.238e+11   6529.0 <2e-16 ***\n",
       "fiveYearsProperty        1 4.374e+10 4.374e+10    457.8 <2e-16 ***\n",
       "subway                   1 3.756e+12 3.756e+12  39309.8 <2e-16 ***\n",
       "district                12 3.167e+13 2.639e+12  27626.5 <2e-16 ***\n",
       "communityAverage         1 1.693e+13 1.693e+13 177151.3 <2e-16 ***\n",
       "Residuals           296309 2.831e+13 9.554e+07                    \n",
       "---\n",
       "Signif. codes:  0 '***' 0.001 '**' 0.01 '*' 0.05 '.' 0.1 ' ' 1"
      ]
     },
     "metadata": {},
     "output_type": "display_data"
    }
   ],
   "source": [
    "summary(anova)"
   ]
  },
  {
   "cell_type": "markdown",
   "metadata": {},
   "source": [
    "# Spliting Data"
   ]
  },
  {
   "cell_type": "code",
   "execution_count": 11,
   "metadata": {},
   "outputs": [],
   "source": [
    "train_index <- sample(1:nrow(data), 0.8 * nrow(data))\n",
    "test_index <- setdiff(1:nrow(data), train_index)\n",
    "\n",
    "# Build X_train, y_train, X_test, y_test\n",
    "train <- data[train_index,]\n",
    "\n",
    "\n",
    "test <- data[test_index,]\n"
   ]
  },
  {
   "cell_type": "markdown",
   "metadata": {},
   "source": [
    "# Model creation"
   ]
  },
  {
   "cell_type": "markdown",
   "metadata": {},
   "source": [
    "## model with linercombiantion of all facotors"
   ]
  },
  {
   "cell_type": "code",
   "execution_count": 13,
   "metadata": {},
   "outputs": [],
   "source": [
    "model <- lm(price ~ . , data = train )"
   ]
  },
  {
   "cell_type": "code",
   "execution_count": 14,
   "metadata": {
    "scrolled": true
   },
   "outputs": [
    {
     "data": {
      "text/plain": [
       "\n",
       "Call:\n",
       "lm(formula = price ~ ., data = train)\n",
       "\n",
       "Residuals:\n",
       "   Min     1Q Median     3Q    Max \n",
       "-90350  -6080   -615   5448 142676 \n",
       "\n",
       "Coefficients:\n",
       "                                  Estimate Std. Error t value Pr(>|t|)    \n",
       "(Intercept)                      2.745e+05  5.809e+04   4.726 2.29e-06 ***\n",
       "Lng                             -3.306e+03  4.358e+02  -7.586 3.31e-14 ***\n",
       "Lat                             -3.647e+03  4.994e+02  -7.302 2.84e-13 ***\n",
       "tradeTime                        2.258e+01  5.150e-02 438.417  < 2e-16 ***\n",
       "DOM                              3.586e+01  6.310e-01  56.835  < 2e-16 ***\n",
       "followers                        8.860e+00  7.019e-01  12.623  < 2e-16 ***\n",
       "square                          -6.179e+01  1.240e+00 -49.840  < 2e-16 ***\n",
       "livingRoom                       1.404e+02  4.273e+01   3.287  0.00101 ** \n",
       "drawingRoom                      1.208e+03  5.136e+01  23.519  < 2e-16 ***\n",
       "kitchen                         -8.640e+02  2.112e+02  -4.090 4.31e-05 ***\n",
       "bathRoom                         1.105e+03  7.145e+01  15.467  < 2e-16 ***\n",
       "floor                           -7.666e+01  5.160e+00 -14.856  < 2e-16 ***\n",
       "buildingTypePlate               -1.060e+04  2.249e+03  -4.714 2.43e-06 ***\n",
       "buildingTypePlate/Tower         -1.107e+04  2.251e+03  -4.919 8.72e-07 ***\n",
       "buildingTypeTower               -1.069e+04  2.251e+03  -4.748 2.06e-06 ***\n",
       "constructionTime                -5.220e+01  3.489e+00 -14.960  < 2e-16 ***\n",
       "renovationConditionOther         5.779e+03  6.320e+01  91.444  < 2e-16 ***\n",
       "renovationConditionRough        -2.527e+03  1.606e+02 -15.733  < 2e-16 ***\n",
       "renovationConditionSimplicit    -1.033e+03  5.399e+01 -19.142  < 2e-16 ***\n",
       "buildingStructureBrick/Wood      1.366e+04  1.886e+03   7.242 4.45e-13 ***\n",
       "buildingStructureMixed           4.940e+02  1.013e+02   4.878 1.07e-06 ***\n",
       "buildingStructureSteel           1.139e+03  8.803e+02   1.293  0.19590    \n",
       "buildingStructureSteel/Concrete  1.289e+02  1.245e+02   1.036  0.30027    \n",
       "buildingStructureUnavailable    -2.584e+03  2.528e+03  -1.022  0.30687    \n",
       "ladderRatio                      2.074e+03  1.387e+02  14.947  < 2e-16 ***\n",
       "elevatorNo_elevator             -1.460e+03  9.186e+01 -15.888  < 2e-16 ***\n",
       "fiveYearsPropertyOwnership > 5y  1.529e+03  4.482e+01  34.110  < 2e-16 ***\n",
       "subwayNo_Subway                 -8.431e+02  4.542e+01 -18.563  < 2e-16 ***\n",
       "districtChaoYang                 1.467e+03  1.192e+02  12.307  < 2e-16 ***\n",
       "districtDaXing                  -4.034e+03  2.847e+02 -14.169  < 2e-16 ***\n",
       "districtDongCheng                7.265e+02  1.649e+02   4.406 1.05e-05 ***\n",
       "districtFangShang               -7.852e+03  3.028e+02 -25.935  < 2e-16 ***\n",
       "districtFaXing                  -1.081e+03  1.940e+02  -5.573 2.51e-08 ***\n",
       "districtFengTai                  8.486e+02  1.520e+02   5.583 2.37e-08 ***\n",
       "districtHaiDian                  2.381e+03  1.217e+02  19.567  < 2e-16 ***\n",
       "districtMenTouGou                6.130e+01  1.770e+02   0.346  0.72908    \n",
       "districtShiJingShan              1.097e+03  1.752e+02   6.263 3.78e-10 ***\n",
       "districtShunYi                   3.232e+03  3.300e+02   9.794  < 2e-16 ***\n",
       "districtTongZhou                 5.374e+02  1.877e+02   2.864  0.00419 ** \n",
       "districtXiCheng                 -3.991e+02  1.669e+02  -2.391  0.01681 *  \n",
       "communityAverage                 6.461e-01  1.721e-03 375.553  < 2e-16 ***\n",
       "---\n",
       "Signif. codes:  0 '***' 0.001 '**' 0.01 '*' 0.05 '.' 0.1 ' ' 1\n",
       "\n",
       "Residual standard error: 9778 on 237039 degrees of freedom\n",
       "Multiple R-squared:  0.7959,\tAdjusted R-squared:  0.7959 \n",
       "F-statistic: 2.311e+04 on 40 and 237039 DF,  p-value: < 2.2e-16\n"
      ]
     },
     "metadata": {},
     "output_type": "display_data"
    }
   ],
   "source": [
    "summary(model)"
   ]
  },
  {
   "cell_type": "markdown",
   "metadata": {},
   "source": [
    "mean funtion not working had to imporvised now "
   ]
  },
  {
   "cell_type": "code",
   "execution_count": 15,
   "metadata": {},
   "outputs": [
    {
     "data": {
      "text/html": [
       "9761.89314623993"
      ],
      "text/latex": [
       "9761.89314623993"
      ],
      "text/markdown": [
       "9761.89314623993"
      ],
      "text/plain": [
       "[1] 9761.893"
      ]
     },
     "metadata": {},
     "output_type": "display_data"
    }
   ],
   "source": [
    "p = predict(model, test)\n",
    "error = (p-test[6])\n",
    "mean(as.matrix(error)^2)^.5"
   ]
  },
  {
   "cell_type": "markdown",
   "metadata": {},
   "source": [
    "## model with limited factors for initial testing"
   ]
  },
  {
   "cell_type": "code",
   "execution_count": 16,
   "metadata": {},
   "outputs": [],
   "source": [
    "model_limited <- lm(price ~ square + buildingType +constructionTime + subway + district , data = train )\n"
   ]
  },
  {
   "cell_type": "code",
   "execution_count": 17,
   "metadata": {
    "scrolled": true
   },
   "outputs": [
    {
     "data": {
      "text/plain": [
       "\n",
       "Call:\n",
       "lm(formula = price ~ square + buildingType + constructionTime + \n",
       "    subway + district, data = train)\n",
       "\n",
       "Residuals:\n",
       "   Min     1Q Median     3Q    Max \n",
       "-71747 -11248  -3453   9138 114062 \n",
       "\n",
       "Coefficients:\n",
       "                          Estimate Std. Error t value Pr(>|t|)    \n",
       "(Intercept)              6.921e+04  1.052e+04   6.578 4.77e-11 ***\n",
       "square                  -3.099e+01  1.106e+00 -28.026  < 2e-16 ***\n",
       "buildingTypePlate       -3.305e+04  3.160e+03 -10.458  < 2e-16 ***\n",
       "buildingTypePlate/Tower -3.235e+04  3.161e+03 -10.234  < 2e-16 ***\n",
       "buildingTypeTower       -3.520e+04  3.161e+03 -11.137  < 2e-16 ***\n",
       "constructionTime        -3.823e-01  5.052e+00  -0.076   0.9397    \n",
       "subwayNo_Subway         -3.807e+03  7.933e+01 -47.991  < 2e-16 ***\n",
       "districtChaoYang         1.292e+04  1.292e+02  99.939  < 2e-16 ***\n",
       "districtDaXing           1.874e+03  4.328e+02   4.330 1.49e-05 ***\n",
       "districtDongCheng        2.930e+04  1.978e+02 148.099  < 2e-16 ***\n",
       "districtFangShang       -1.581e+03  4.021e+02  -3.933 8.41e-05 ***\n",
       "districtFaXing          -4.507e+02  1.954e+02  -2.307   0.0211 *  \n",
       "districtFengTai          7.851e+03  1.637e+02  47.947  < 2e-16 ***\n",
       "districtHaiDian          2.447e+04  1.540e+02 158.898  < 2e-16 ***\n",
       "districtMenTouGou       -5.351e+03  2.340e+02 -22.864  < 2e-16 ***\n",
       "districtShiJingShan      5.653e+03  2.264e+02  24.967  < 2e-16 ***\n",
       "districtShunYi          -2.942e+03  5.035e+02  -5.844 5.12e-09 ***\n",
       "districtTongZhou        -2.227e+03  2.081e+02 -10.700  < 2e-16 ***\n",
       "districtXiCheng          3.616e+04  1.683e+02 214.914  < 2e-16 ***\n",
       "---\n",
       "Signif. codes:  0 '***' 0.001 '**' 0.01 '*' 0.05 '.' 0.1 ' ' 1\n",
       "\n",
       "Residual standard error: 17580 on 237061 degrees of freedom\n",
       "Multiple R-squared:  0.3402,\tAdjusted R-squared:  0.3401 \n",
       "F-statistic:  6790 on 18 and 237061 DF,  p-value: < 2.2e-16\n"
      ]
     },
     "metadata": {},
     "output_type": "display_data"
    }
   ],
   "source": [
    "summary(model_limited)"
   ]
  },
  {
   "cell_type": "code",
   "execution_count": 18,
   "metadata": {},
   "outputs": [
    {
     "data": {
      "text/html": [
       "17637.9434344572"
      ],
      "text/latex": [
       "17637.9434344572"
      ],
      "text/markdown": [
       "17637.9434344572"
      ],
      "text/plain": [
       "[1] 17637.94"
      ]
     },
     "metadata": {},
     "output_type": "display_data"
    }
   ],
   "source": [
    "p = predict(model_limited, test)\n",
    "error = (p-test[6])\n",
    "mean(as.matrix(error)^2)^.5"
   ]
  },
  {
   "cell_type": "markdown",
   "metadata": {},
   "source": [
    "'price'\n",
    "'square'\n",
    "'livingRoom'\n",
    "'drawingRoom'\n",
    "'kitchen'\n",
    "'bathRoom'\n",
    "'floor'\n",
    "'buildingType'\n",
    "'constructionTime'\n",
    "'renovationCondition'\n",
    "'buildingStructure'\n",
    "'ladderRatio'\n",
    "'elevator'\n",
    "'fiveYearsProperty'\n",
    "'subway'\n",
    "'district'## tree model"
   ]
  },
  {
   "cell_type": "code",
   "execution_count": 19,
   "metadata": {},
   "outputs": [],
   "source": [
    "fit <- rpart(price ~ square + livingRoom + drawingRoom + kitchen + bathRoom + floor + buildingType + \n",
    "             constructionTime + renovationCondition + buildingStructure + elevator+ subway+ district, data = train ,method=\"anova\")"
   ]
  },
  {
   "cell_type": "code",
   "execution_count": 20,
   "metadata": {
    "scrolled": true
   },
   "outputs": [
    {
     "name": "stdout",
     "output_type": "stream",
     "text": [
      "Call:\n",
      "rpart(formula = price ~ square + livingRoom + drawingRoom + kitchen + \n",
      "    bathRoom + floor + buildingType + constructionTime + renovationCondition + \n",
      "    buildingStructure + elevator + subway + district, data = train, \n",
      "    method = \"anova\")\n",
      "  n= 237080 \n",
      "\n",
      "          CP nsplit rel error    xerror        xstd\n",
      "1 0.23749922      0 1.0000000 1.0000080 0.004163942\n",
      "2 0.06345670      1 0.7625008 0.7625198 0.002961263\n",
      "3 0.05575580      2 0.6990441 0.6990673 0.002821824\n",
      "4 0.03671490      3 0.6432883 0.6433195 0.002672968\n",
      "5 0.01367052      4 0.6065734 0.6066069 0.002615369\n",
      "6 0.01133829      5 0.5929029 0.5929536 0.002522452\n",
      "7 0.01000000      6 0.5815646 0.5816146 0.002520933\n",
      "\n",
      "Variable importance\n",
      "           district renovationCondition   buildingStructure              subway \n",
      "                 68                  22                   2                   2 \n",
      "              floor            elevator        buildingType    constructionTime \n",
      "                  2                   1                   1                   1 \n",
      "\n",
      "Node number 1: 237080 observations,    complexity param=0.2374992\n",
      "  mean=43987.83, MSE=4.683488e+08 \n",
      "  left son=2 (172711 obs) right son=3 (64369 obs)\n",
      "  Primary splits:\n",
      "      district            splits as  LLLRLLLRLLLLR, improve=0.23749920, (0 missing)\n",
      "      renovationCondition splits as  RLRR, improve=0.09603692, (0 missing)\n",
      "      constructionTime    < 1992.5 to the right, improve=0.05731820, (0 missing)\n",
      "      subway              splits as  RL, improve=0.05258356, (0 missing)\n",
      "      square              < 78.815 to the right, improve=0.03686343, (0 missing)\n",
      "  Surrogate splits:\n",
      "      constructionTime  < 1980.5 to the right, agree=0.732, adj=0.014, (0 split)\n",
      "      square            < 31.875 to the right, agree=0.730, adj=0.006, (0 split)\n",
      "      floor             < 1.5    to the right, agree=0.729, adj=0.001, (0 split)\n",
      "      buildingStructure splits as  LRLLLL,     agree=0.729, adj=0.000, (0 split)\n",
      "      buildingType      splits as  RLLL,       agree=0.729, adj=0.000, (0 split)\n",
      "\n",
      "Node number 2: 172711 observations,    complexity param=0.0634567\n",
      "  mean=37549.19, MSE=2.587337e+08 \n",
      "  left son=4 (69792 obs) right son=5 (102919 obs)\n",
      "  Primary splits:\n",
      "      district            splits as  LRL-LLR-LLLL-, improve=0.15767720, (0 missing)\n",
      "      renovationCondition splits as  RLRR, improve=0.11902070, (0 missing)\n",
      "      subway              splits as  RL, improve=0.04425697, (0 missing)\n",
      "      buildingStructure   splits as  LLLLRL, improve=0.04376955, (0 missing)\n",
      "      floor               < 11.5   to the left,  improve=0.03561376, (0 missing)\n",
      "  Surrogate splits:\n",
      "      buildingStructure splits as  RLLRRL,     agree=0.666, adj=0.174, (0 split)\n",
      "      subway            splits as  RL,         agree=0.650, adj=0.133, (0 split)\n",
      "      floor             < 11.5   to the left,  agree=0.643, adj=0.116, (0 split)\n",
      "      elevator          splits as  RL,         agree=0.637, adj=0.103, (0 split)\n",
      "      buildingType      splits as  -LRR,       agree=0.624, adj=0.070, (0 split)\n",
      "\n",
      "Node number 3: 64369 observations,    complexity param=0.0557558\n",
      "  mean=61263.6, MSE=6.210908e+08 \n",
      "  left son=6 (23523 obs) right son=7 (40846 obs)\n",
      "  Primary splits:\n",
      "      renovationCondition splits as  RLRR, improve=0.15485410, (0 missing)\n",
      "      district            splits as  ---R---L----R, improve=0.04333911, (0 missing)\n",
      "      constructionTime    < 1994.5 to the right, improve=0.03455322, (0 missing)\n",
      "      square              < 78.855 to the right, improve=0.01920230, (0 missing)\n",
      "      subway              splits as  RL, improve=0.01606340, (0 missing)\n",
      "  Surrogate splits:\n",
      "      floor             < 1.5    to the left,  agree=0.635, adj=0.001, (0 split)\n",
      "      constructionTime  < 2013.5 to the right, agree=0.635, adj=0.001, (0 split)\n",
      "      square            < 18.735 to the left,  agree=0.635, adj=0.001, (0 split)\n",
      "      buildingType      splits as  LRRR,       agree=0.635, adj=0.001, (0 split)\n",
      "      buildingStructure splits as  RLRRRR,     agree=0.635, adj=0.000, (0 split)\n",
      "\n",
      "Node number 4: 69792 observations,    complexity param=0.01133829\n",
      "  mean=29792.87, MSE=1.418719e+08 \n",
      "  left son=8 (26070 obs) right son=9 (43722 obs)\n",
      "  Primary splits:\n",
      "      renovationCondition splits as  RLRR, improve=0.12714810, (0 missing)\n",
      "      buildingStructure   splits as  LRLLRL, improve=0.04853465, (0 missing)\n",
      "      constructionTime    < 2011.5 to the left,  improve=0.04534204, (0 missing)\n",
      "      elevator            splits as  RL, improve=0.03164605, (0 missing)\n",
      "      district            splits as  L-L-LL--LRLL-, improve=0.03162963, (0 missing)\n",
      "  Surrogate splits:\n",
      "      constructionTime  < 1977.5 to the left,  agree=0.627, adj=0.001, (0 split)\n",
      "      bathRoom          < 0.5    to the left,  agree=0.627, adj=0.000, (0 split)\n",
      "      kitchen           < 2.5    to the right, agree=0.627, adj=0.000, (0 split)\n",
      "      square            < 11.605 to the left,  agree=0.626, adj=0.000, (0 split)\n",
      "      buildingStructure splits as  RRRRRL,     agree=0.626, adj=0.000, (0 split)\n",
      "\n",
      "Node number 5: 102919 observations,    complexity param=0.0367149\n",
      "  mean=42808.95, MSE=2.695192e+08 \n",
      "  left son=10 (37070 obs) right son=11 (65849 obs)\n",
      "  Primary splits:\n",
      "      renovationCondition splits as  RLRR, improve=0.146967600, (0 missing)\n",
      "      subway              splits as  RL, improve=0.019391040, (0 missing)\n",
      "      district            splits as  -R----L------, improve=0.017822370, (0 missing)\n",
      "      constructionTime    < 2011.5 to the left,  improve=0.011205790, (0 missing)\n",
      "      square              < 45.605 to the right, improve=0.003776505, (0 missing)\n",
      "  Surrogate splits:\n",
      "      square     < 34.925 to the left,  agree=0.64, adj=0, (0 split)\n",
      "      bathRoom   < 0.5    to the left,  agree=0.64, adj=0, (0 split)\n",
      "      kitchen    < 2.5    to the right, agree=0.64, adj=0, (0 split)\n",
      "      livingRoom < 0.5    to the left,  agree=0.64, adj=0, (0 split)\n",
      "\n",
      "Node number 6: 23523 observations\n",
      "  mean=48340.49, MSE=4.248974e+08 \n",
      "\n",
      "Node number 7: 40846 observations,    complexity param=0.01367052\n",
      "  mean=68705.96, MSE=5.825104e+08 \n",
      "  left son=14 (25981 obs) right son=15 (14865 obs)\n",
      "  Primary splits:\n",
      "      district          splits as  ---L---L----R, improve=0.06379638, (0 missing)\n",
      "      constructionTime  < 1994.5 to the right, improve=0.04420124, (0 missing)\n",
      "      square            < 81.525 to the right, improve=0.02555500, (0 missing)\n",
      "      subway            splits as  RL, improve=0.02066664, (0 missing)\n",
      "      buildingStructure splits as  RRRRLR, improve=0.01726167, (0 missing)\n",
      "  Surrogate splits:\n",
      "      constructionTime < 1984.5 to the right, agree=0.661, adj=0.069, (0 split)\n",
      "      square           < 36.285 to the right, agree=0.647, adj=0.031, (0 split)\n",
      "      kitchen          < 0.5    to the right, agree=0.637, adj=0.003, (0 split)\n",
      "      floor            < 3.5    to the right, agree=0.636, adj=0.001, (0 split)\n",
      "\n",
      "Node number 8: 26070 observations\n",
      "  mean=24292.62, MSE=9.576218e+07 \n",
      "\n",
      "Node number 9: 43722 observations\n",
      "  mean=33072.49, MSE=1.40571e+08 \n",
      "\n",
      "Node number 10: 37070 observations\n",
      "  mean=34420.75, MSE=1.626409e+08 \n",
      "\n",
      "Node number 11: 65849 observations\n",
      "  mean=47531.13, MSE=2.677772e+08 \n",
      "\n",
      "Node number 14: 25981 observations\n",
      "  mean=64094.86, MSE=4.757034e+08 \n",
      "\n",
      "Node number 15: 14865 observations\n",
      "  mean=76765.22, MSE=6.670736e+08 \n",
      "\n"
     ]
    }
   ],
   "source": [
    "summary(fit)"
   ]
  },
  {
   "cell_type": "code",
   "execution_count": 21,
   "metadata": {},
   "outputs": [
    {
     "data": {
      "text/html": [
       "16613.647944417"
      ],
      "text/latex": [
       "16613.647944417"
      ],
      "text/markdown": [
       "16613.647944417"
      ],
      "text/plain": [
       "[1] 16613.65"
      ]
     },
     "metadata": {},
     "output_type": "display_data"
    }
   ],
   "source": [
    "p = predict(fit, test)\n",
    "error = (p-test[6])\n",
    "mean(as.matrix(error)^2)^.5"
   ]
  },
  {
   "cell_type": "code",
   "execution_count": 23,
   "metadata": {},
   "outputs": [],
   "source": [
    "save(fit, file = \"models/limited_model.rda\")\n",
    "save(fit, file = \"../house-price-prediction-app/shinyApp/models/limited_model.rda\")"
   ]
  },
  {
   "cell_type": "markdown",
   "metadata": {},
   "source": [
    "## Random forest\n",
    "\n",
    "crashes computer uses all ram"
   ]
  },
  {
   "cell_type": "markdown",
   "metadata": {},
   "source": [
    "## Feature analysis"
   ]
  },
  {
   "cell_type": "code",
   "execution_count": 60,
   "metadata": {
    "scrolled": true
   },
   "outputs": [
    {
     "data": {
      "text/plain": [
       "   Min. 1st Qu.  Median    Mean 3rd Qu.    Max. \n",
       "   7.37   57.90   73.80   82.49   98.03  640.00 "
      ]
     },
     "metadata": {},
     "output_type": "display_data"
    },
    {
     "data": {
      "text/html": [
       "'numeric'"
      ],
      "text/latex": [
       "'numeric'"
      ],
      "text/markdown": [
       "'numeric'"
      ],
      "text/plain": [
       "[1] \"numeric\""
      ]
     },
     "metadata": {},
     "output_type": "display_data"
    },
    {
     "data": {
      "text/html": [
       "16747"
      ],
      "text/latex": [
       "16747"
      ],
      "text/markdown": [
       "16747"
      ],
      "text/plain": [
       "[1] 16747"
      ]
     },
     "metadata": {},
     "output_type": "display_data"
    }
   ],
   "source": [
    "summary(train$square); class(train$square); length(unique(train$square))"
   ]
  },
  {
   "cell_type": "code",
   "execution_count": 41,
   "metadata": {},
   "outputs": [
    {
     "data": {
      "text/html": [
       "<ol class=list-inline>\n",
       "\t<li>2</li>\n",
       "\t<li>1</li>\n",
       "\t<li>3</li>\n",
       "\t<li>4</li>\n",
       "\t<li>5</li>\n",
       "\t<li>6</li>\n",
       "\t<li>7</li>\n",
       "\t<li>0</li>\n",
       "\t<li>8</li>\n",
       "</ol>\n"
      ],
      "text/latex": [
       "\\begin{enumerate*}\n",
       "\\item 2\n",
       "\\item 1\n",
       "\\item 3\n",
       "\\item 4\n",
       "\\item 5\n",
       "\\item 6\n",
       "\\item 7\n",
       "\\item 0\n",
       "\\item 8\n",
       "\\end{enumerate*}\n"
      ],
      "text/markdown": [
       "1. 2\n",
       "2. 1\n",
       "3. 3\n",
       "4. 4\n",
       "5. 5\n",
       "6. 6\n",
       "7. 7\n",
       "8. 0\n",
       "9. 8\n",
       "\n",
       "\n"
      ],
      "text/plain": [
       "[1] 2 1 3 4 5 6 7 0 8"
      ]
     },
     "metadata": {},
     "output_type": "display_data"
    },
    {
     "data": {
      "text/html": [
       "'numeric'"
      ],
      "text/latex": [
       "'numeric'"
      ],
      "text/markdown": [
       "'numeric'"
      ],
      "text/plain": [
       "[1] \"numeric\""
      ]
     },
     "metadata": {},
     "output_type": "display_data"
    }
   ],
   "source": [
    "unique(train$livingRoom); class(train$livingRoom)"
   ]
  },
  {
   "cell_type": "code",
   "execution_count": 42,
   "metadata": {},
   "outputs": [
    {
     "data": {
      "text/html": [
       "<ol class=list-inline>\n",
       "\t<li>2</li>\n",
       "\t<li>0</li>\n",
       "\t<li>1</li>\n",
       "\t<li>3</li>\n",
       "\t<li>4</li>\n",
       "\t<li>5</li>\n",
       "</ol>\n"
      ],
      "text/latex": [
       "\\begin{enumerate*}\n",
       "\\item 2\n",
       "\\item 0\n",
       "\\item 1\n",
       "\\item 3\n",
       "\\item 4\n",
       "\\item 5\n",
       "\\end{enumerate*}\n"
      ],
      "text/markdown": [
       "1. 2\n",
       "2. 0\n",
       "3. 1\n",
       "4. 3\n",
       "5. 4\n",
       "6. 5\n",
       "\n",
       "\n"
      ],
      "text/plain": [
       "[1] 2 0 1 3 4 5"
      ]
     },
     "metadata": {},
     "output_type": "display_data"
    },
    {
     "data": {
      "text/html": [
       "'numeric'"
      ],
      "text/latex": [
       "'numeric'"
      ],
      "text/markdown": [
       "'numeric'"
      ],
      "text/plain": [
       "[1] \"numeric\""
      ]
     },
     "metadata": {},
     "output_type": "display_data"
    }
   ],
   "source": [
    "unique(train$drawingRoom); class(train$drawingRoom)"
   ]
  },
  {
   "cell_type": "code",
   "execution_count": 43,
   "metadata": {},
   "outputs": [
    {
     "data": {
      "text/html": [
       "<ol class=list-inline>\n",
       "\t<li>1</li>\n",
       "\t<li>0</li>\n",
       "\t<li>2</li>\n",
       "\t<li>3</li>\n",
       "</ol>\n"
      ],
      "text/latex": [
       "\\begin{enumerate*}\n",
       "\\item 1\n",
       "\\item 0\n",
       "\\item 2\n",
       "\\item 3\n",
       "\\end{enumerate*}\n"
      ],
      "text/markdown": [
       "1. 1\n",
       "2. 0\n",
       "3. 2\n",
       "4. 3\n",
       "\n",
       "\n"
      ],
      "text/plain": [
       "[1] 1 0 2 3"
      ]
     },
     "metadata": {},
     "output_type": "display_data"
    },
    {
     "data": {
      "text/html": [
       "'numeric'"
      ],
      "text/latex": [
       "'numeric'"
      ],
      "text/markdown": [
       "'numeric'"
      ],
      "text/plain": [
       "[1] \"numeric\""
      ]
     },
     "metadata": {},
     "output_type": "display_data"
    }
   ],
   "source": [
    "unique(train$kitchen); class(train$kitchen)"
   ]
  },
  {
   "cell_type": "code",
   "execution_count": 44,
   "metadata": {},
   "outputs": [
    {
     "data": {
      "text/html": [
       "<ol class=list-inline>\n",
       "\t<li>1</li>\n",
       "\t<li>2</li>\n",
       "\t<li>3</li>\n",
       "\t<li>4</li>\n",
       "\t<li>0</li>\n",
       "\t<li>6</li>\n",
       "\t<li>5</li>\n",
       "\t<li>7</li>\n",
       "</ol>\n"
      ],
      "text/latex": [
       "\\begin{enumerate*}\n",
       "\\item 1\n",
       "\\item 2\n",
       "\\item 3\n",
       "\\item 4\n",
       "\\item 0\n",
       "\\item 6\n",
       "\\item 5\n",
       "\\item 7\n",
       "\\end{enumerate*}\n"
      ],
      "text/markdown": [
       "1. 1\n",
       "2. 2\n",
       "3. 3\n",
       "4. 4\n",
       "5. 0\n",
       "6. 6\n",
       "7. 5\n",
       "8. 7\n",
       "\n",
       "\n"
      ],
      "text/plain": [
       "[1] 1 2 3 4 0 6 5 7"
      ]
     },
     "metadata": {},
     "output_type": "display_data"
    },
    {
     "data": {
      "text/html": [
       "'numeric'"
      ],
      "text/latex": [
       "'numeric'"
      ],
      "text/markdown": [
       "'numeric'"
      ],
      "text/plain": [
       "[1] \"numeric\""
      ]
     },
     "metadata": {},
     "output_type": "display_data"
    }
   ],
   "source": [
    "unique(train$bathRoom); class(train$bathRoom)"
   ]
  },
  {
   "cell_type": "code",
   "execution_count": 46,
   "metadata": {},
   "outputs": [
    {
     "data": {
      "text/plain": [
       "   Min. 1st Qu.  Median    Mean 3rd Qu.    Max. \n",
       "   1.00    6.00   11.00   13.17   19.00   63.00 "
      ]
     },
     "metadata": {},
     "output_type": "display_data"
    },
    {
     "data": {
      "text/html": [
       "'numeric'"
      ],
      "text/latex": [
       "'numeric'"
      ],
      "text/markdown": [
       "'numeric'"
      ],
      "text/plain": [
       "[1] \"numeric\""
      ]
     },
     "metadata": {},
     "output_type": "display_data"
    }
   ],
   "source": [
    "summary(train$floor); class(train$floor)"
   ]
  },
  {
   "cell_type": "code",
   "execution_count": 47,
   "metadata": {},
   "outputs": [
    {
     "data": {
      "text/html": [
       "<ol class=list-inline>\n",
       "\t<li>'Tower'</li>\n",
       "\t<li>'Plate/Tower'</li>\n",
       "\t<li>'Plate'</li>\n",
       "\t<li>'Bungalow'</li>\n",
       "</ol>\n"
      ],
      "text/latex": [
       "\\begin{enumerate*}\n",
       "\\item 'Tower'\n",
       "\\item 'Plate/Tower'\n",
       "\\item 'Plate'\n",
       "\\item 'Bungalow'\n",
       "\\end{enumerate*}\n"
      ],
      "text/markdown": [
       "1. 'Tower'\n",
       "2. 'Plate/Tower'\n",
       "3. 'Plate'\n",
       "4. 'Bungalow'\n",
       "\n",
       "\n"
      ],
      "text/plain": [
       "[1] \"Tower\"       \"Plate/Tower\" \"Plate\"       \"Bungalow\"   "
      ]
     },
     "metadata": {},
     "output_type": "display_data"
    },
    {
     "data": {
      "text/html": [
       "'character'"
      ],
      "text/latex": [
       "'character'"
      ],
      "text/markdown": [
       "'character'"
      ],
      "text/plain": [
       "[1] \"character\""
      ]
     },
     "metadata": {},
     "output_type": "display_data"
    }
   ],
   "source": [
    "unique(train$buildingType); class(train$buildingType)"
   ]
  },
  {
   "cell_type": "code",
   "execution_count": 48,
   "metadata": {},
   "outputs": [
    {
     "data": {
      "text/html": [
       "<ol class=list-inline>\n",
       "\t<li>'Steel/Concrete'</li>\n",
       "\t<li>'Mixed'</li>\n",
       "\t<li>'Brick/Concrete'</li>\n",
       "\t<li>'Brick/Wood'</li>\n",
       "\t<li>'Steel'</li>\n",
       "\t<li>'Unavailable'</li>\n",
       "</ol>\n"
      ],
      "text/latex": [
       "\\begin{enumerate*}\n",
       "\\item 'Steel/Concrete'\n",
       "\\item 'Mixed'\n",
       "\\item 'Brick/Concrete'\n",
       "\\item 'Brick/Wood'\n",
       "\\item 'Steel'\n",
       "\\item 'Unavailable'\n",
       "\\end{enumerate*}\n"
      ],
      "text/markdown": [
       "1. 'Steel/Concrete'\n",
       "2. 'Mixed'\n",
       "3. 'Brick/Concrete'\n",
       "4. 'Brick/Wood'\n",
       "5. 'Steel'\n",
       "6. 'Unavailable'\n",
       "\n",
       "\n"
      ],
      "text/plain": [
       "[1] \"Steel/Concrete\" \"Mixed\"          \"Brick/Concrete\" \"Brick/Wood\"    \n",
       "[5] \"Steel\"          \"Unavailable\"   "
      ]
     },
     "metadata": {},
     "output_type": "display_data"
    },
    {
     "data": {
      "text/html": [
       "'character'"
      ],
      "text/latex": [
       "'character'"
      ],
      "text/markdown": [
       "'character'"
      ],
      "text/plain": [
       "[1] \"character\""
      ]
     },
     "metadata": {},
     "output_type": "display_data"
    }
   ],
   "source": [
    "unique(train$buildingStructure); class(train$buildingStructure)"
   ]
  },
  {
   "cell_type": "code",
   "execution_count": 49,
   "metadata": {},
   "outputs": [
    {
     "data": {
      "text/plain": [
       "   Min. 1st Qu.  Median    Mean 3rd Qu.    Max. \n",
       "   1950    1994    2001    1999    2006    2016 "
      ]
     },
     "metadata": {},
     "output_type": "display_data"
    },
    {
     "data": {
      "text/html": [
       "'numeric'"
      ],
      "text/latex": [
       "'numeric'"
      ],
      "text/markdown": [
       "'numeric'"
      ],
      "text/plain": [
       "[1] \"numeric\""
      ]
     },
     "metadata": {},
     "output_type": "display_data"
    }
   ],
   "source": [
    "summary(train$constructionTime); class(train$constructionTime)"
   ]
  },
  {
   "cell_type": "code",
   "execution_count": 50,
   "metadata": {},
   "outputs": [
    {
     "data": {
      "text/html": [
       "<ol class=list-inline>\n",
       "\t<li>'Hardcover'</li>\n",
       "\t<li>'Other'</li>\n",
       "\t<li>'Simplicit'</li>\n",
       "\t<li>'Rough'</li>\n",
       "</ol>\n"
      ],
      "text/latex": [
       "\\begin{enumerate*}\n",
       "\\item 'Hardcover'\n",
       "\\item 'Other'\n",
       "\\item 'Simplicit'\n",
       "\\item 'Rough'\n",
       "\\end{enumerate*}\n"
      ],
      "text/markdown": [
       "1. 'Hardcover'\n",
       "2. 'Other'\n",
       "3. 'Simplicit'\n",
       "4. 'Rough'\n",
       "\n",
       "\n"
      ],
      "text/plain": [
       "[1] \"Hardcover\" \"Other\"     \"Simplicit\" \"Rough\"    "
      ]
     },
     "metadata": {},
     "output_type": "display_data"
    },
    {
     "data": {
      "text/html": [
       "'character'"
      ],
      "text/latex": [
       "'character'"
      ],
      "text/markdown": [
       "'character'"
      ],
      "text/plain": [
       "[1] \"character\""
      ]
     },
     "metadata": {},
     "output_type": "display_data"
    }
   ],
   "source": [
    "unique(train$renovationCondition); class(train$renovationCondition)"
   ]
  },
  {
   "cell_type": "code",
   "execution_count": 51,
   "metadata": {
    "scrolled": true
   },
   "outputs": [
    {
     "data": {
      "text/html": [
       "<ol class=list-inline>\n",
       "\t<li>'Has_Elevator'</li>\n",
       "\t<li>'No_elevator'</li>\n",
       "</ol>\n"
      ],
      "text/latex": [
       "\\begin{enumerate*}\n",
       "\\item 'Has\\_Elevator'\n",
       "\\item 'No\\_elevator'\n",
       "\\end{enumerate*}\n"
      ],
      "text/markdown": [
       "1. 'Has_Elevator'\n",
       "2. 'No_elevator'\n",
       "\n",
       "\n"
      ],
      "text/plain": [
       "[1] \"Has_Elevator\" \"No_elevator\" "
      ]
     },
     "metadata": {},
     "output_type": "display_data"
    },
    {
     "data": {
      "text/html": [
       "'character'"
      ],
      "text/latex": [
       "'character'"
      ],
      "text/markdown": [
       "'character'"
      ],
      "text/plain": [
       "[1] \"character\""
      ]
     },
     "metadata": {},
     "output_type": "display_data"
    }
   ],
   "source": [
    "unique(train$elevator); class(train$elevator)"
   ]
  },
  {
   "cell_type": "code",
   "execution_count": 52,
   "metadata": {},
   "outputs": [
    {
     "data": {
      "text/html": [
       "<ol class=list-inline>\n",
       "\t<li>'Has_Subway'</li>\n",
       "\t<li>'No_Subway'</li>\n",
       "</ol>\n"
      ],
      "text/latex": [
       "\\begin{enumerate*}\n",
       "\\item 'Has\\_Subway'\n",
       "\\item 'No\\_Subway'\n",
       "\\end{enumerate*}\n"
      ],
      "text/markdown": [
       "1. 'Has_Subway'\n",
       "2. 'No_Subway'\n",
       "\n",
       "\n"
      ],
      "text/plain": [
       "[1] \"Has_Subway\" \"No_Subway\" "
      ]
     },
     "metadata": {},
     "output_type": "display_data"
    },
    {
     "data": {
      "text/html": [
       "'character'"
      ],
      "text/latex": [
       "'character'"
      ],
      "text/markdown": [
       "'character'"
      ],
      "text/plain": [
       "[1] \"character\""
      ]
     },
     "metadata": {},
     "output_type": "display_data"
    }
   ],
   "source": [
    "unique(train$subway); class(train$subway)"
   ]
  },
  {
   "cell_type": "code",
   "execution_count": 53,
   "metadata": {
    "scrolled": true
   },
   "outputs": [
    {
     "data": {
      "text/html": [
       "<ol class=list-inline>\n",
       "\t<li>'ChaoYang'</li>\n",
       "\t<li>'HaiDian'</li>\n",
       "\t<li>'FengTai'</li>\n",
       "\t<li>'DongCheng'</li>\n",
       "\t<li>'XiCheng'</li>\n",
       "\t<li>'FaXing'</li>\n",
       "\t<li>'ChangPing'</li>\n",
       "\t<li>'ShiJingShan'</li>\n",
       "\t<li>'MenTouGou'</li>\n",
       "\t<li>'ShunYi'</li>\n",
       "\t<li>'DaXing'</li>\n",
       "\t<li>'TongZhou'</li>\n",
       "\t<li>'FangShang'</li>\n",
       "</ol>\n"
      ],
      "text/latex": [
       "\\begin{enumerate*}\n",
       "\\item 'ChaoYang'\n",
       "\\item 'HaiDian'\n",
       "\\item 'FengTai'\n",
       "\\item 'DongCheng'\n",
       "\\item 'XiCheng'\n",
       "\\item 'FaXing'\n",
       "\\item 'ChangPing'\n",
       "\\item 'ShiJingShan'\n",
       "\\item 'MenTouGou'\n",
       "\\item 'ShunYi'\n",
       "\\item 'DaXing'\n",
       "\\item 'TongZhou'\n",
       "\\item 'FangShang'\n",
       "\\end{enumerate*}\n"
      ],
      "text/markdown": [
       "1. 'ChaoYang'\n",
       "2. 'HaiDian'\n",
       "3. 'FengTai'\n",
       "4. 'DongCheng'\n",
       "5. 'XiCheng'\n",
       "6. 'FaXing'\n",
       "7. 'ChangPing'\n",
       "8. 'ShiJingShan'\n",
       "9. 'MenTouGou'\n",
       "10. 'ShunYi'\n",
       "11. 'DaXing'\n",
       "12. 'TongZhou'\n",
       "13. 'FangShang'\n",
       "\n",
       "\n"
      ],
      "text/plain": [
       " [1] \"ChaoYang\"    \"HaiDian\"     \"FengTai\"     \"DongCheng\"   \"XiCheng\"    \n",
       " [6] \"FaXing\"      \"ChangPing\"   \"ShiJingShan\" \"MenTouGou\"   \"ShunYi\"     \n",
       "[11] \"DaXing\"      \"TongZhou\"    \"FangShang\"  "
      ]
     },
     "metadata": {},
     "output_type": "display_data"
    },
    {
     "data": {
      "text/html": [
       "'character'"
      ],
      "text/latex": [
       "'character'"
      ],
      "text/markdown": [
       "'character'"
      ],
      "text/plain": [
       "[1] \"character\""
      ]
     },
     "metadata": {},
     "output_type": "display_data"
    }
   ],
   "source": [
    "unique(train$district); class(train$district)"
   ]
  },
  {
   "cell_type": "markdown",
   "metadata": {},
   "source": [
    "## Extended liner Model"
   ]
  },
  {
   "cell_type": "code",
   "execution_count": 54,
   "metadata": {},
   "outputs": [
    {
     "name": "stdout",
     "output_type": "stream",
     "text": [
      "Classes 'tbl_df', 'tbl' and 'data.frame':\t296350 obs. of  22 variables:\n",
      " $ Lng                : num  116 116 117 116 116 ...\n",
      " $ Lat                : num  40 39.9 39.9 40.1 39.9 ...\n",
      " $ tradeTime          : Date, format: \"2016-08-09\" \"2016-07-28\" ...\n",
      " $ DOM                : num  1464 903 1271 965 927 ...\n",
      " $ followers          : num  106 126 48 138 286 57 167 138 218 134 ...\n",
      " $ price              : num  31680 43436 52021 22202 48396 ...\n",
      " $ square             : num  131 132 198 134 81 ...\n",
      " $ livingRoom         : num  2 2 3 3 2 1 2 3 1 1 ...\n",
      " $ drawingRoom        : num  1 2 2 1 1 0 1 2 0 0 ...\n",
      " $ kitchen            : num  1 1 1 1 1 1 1 1 1 0 ...\n",
      " $ bathRoom           : num  1 2 3 1 1 1 1 2 1 0 ...\n",
      " $ floor              : num  26 22 4 21 6 8 6 22 10 23 ...\n",
      " $ buildingType       : chr  \"Tower\" \"Tower\" \"Plate\" \"Tower\" ...\n",
      " $ constructionTime   : num  2005 2004 2005 2008 1960 ...\n",
      " $ renovationCondition: chr  \"Simplicit\" \"Hardcover\" \"Simplicit\" \"Other\" ...\n",
      " $ buildingStructure  : chr  \"Steel/Concrete\" \"Steel/Concrete\" \"Steel/Concrete\" \"Steel/Concrete\" ...\n",
      " $ ladderRatio        : num  0.217 0.667 0.5 0.273 0.333 0.333 0.5 0.667 0.333 0.308 ...\n",
      " $ elevator           : chr  \"Has_Elevator\" \"Has_Elevator\" \"Has_Elevator\" \"Has_Elevator\" ...\n",
      " $ fiveYearsProperty  : chr  \"Ownership > 5y\" \"Ownership < 5y\" \"Ownership > 5y\" \"Ownership > 5y\" ...\n",
      " $ subway             : chr  \"Has_Subway\" \"No_Subway\" \"No_Subway\" \"No_Subway\" ...\n",
      " $ district           : chr  \"ChaoYang\" \"ChaoYang\" \"ChaoYang\" \"ChangPing\" ...\n",
      " $ communityAverage   : num  56021 71539 48160 51238 62588 ...\n"
     ]
    }
   ],
   "source": [
    "str(data)"
   ]
  },
  {
   "cell_type": "code",
   "execution_count": 24,
   "metadata": {},
   "outputs": [],
   "source": [
    "model_ext<- lm(price ~ square + livingRoom + drawingRoom + kitchen + bathRoom + floor + buildingType + \n",
    "             constructionTime + renovationCondition + buildingStructure + elevator+ subway+ district , data = train )"
   ]
  },
  {
   "cell_type": "code",
   "execution_count": 25,
   "metadata": {},
   "outputs": [
    {
     "data": {
      "text/plain": [
       "\n",
       "Call:\n",
       "lm(formula = price ~ square + livingRoom + drawingRoom + kitchen + \n",
       "    bathRoom + floor + buildingType + constructionTime + renovationCondition + \n",
       "    buildingStructure + elevator + subway + district, data = train)\n",
       "\n",
       "Residuals:\n",
       "   Min     1Q Median     3Q    Max \n",
       "-78859 -10688  -2503   8004 121481 \n",
       "\n",
       "Coefficients:\n",
       "                                  Estimate Std. Error  t value Pr(>|t|)    \n",
       "(Intercept)                     271872.156  11868.828   22.906  < 2e-16 ***\n",
       "square                             -86.526      1.997  -43.332  < 2e-16 ***\n",
       "livingRoom                        1197.110     70.314   17.025  < 2e-16 ***\n",
       "drawingRoom                       -263.154     84.174   -3.126  0.00177 ** \n",
       "kitchen                           4631.205    347.980   13.309  < 2e-16 ***\n",
       "bathRoom                          3181.315    117.538   27.066  < 2e-16 ***\n",
       "floor                              139.477      8.387   16.629  < 2e-16 ***\n",
       "buildingTypePlate               -27097.134   3712.295   -7.299 2.90e-13 ***\n",
       "buildingTypePlate/Tower         -29611.187   3714.017   -7.973 1.56e-15 ***\n",
       "buildingTypeTower               -33180.622   3714.465   -8.933  < 2e-16 ***\n",
       "constructionTime                  -104.577      5.649  -18.512  < 2e-16 ***\n",
       "renovationConditionOther        -14538.462     78.166 -185.994  < 2e-16 ***\n",
       "renovationConditionRough         -3786.573    264.786  -14.301  < 2e-16 ***\n",
       "renovationConditionSimplicit     -1709.880     88.861  -19.242  < 2e-16 ***\n",
       "buildingStructureBrick/Wood      22829.532   3113.260    7.333 2.26e-13 ***\n",
       "buildingStructureMixed             890.845    167.074    5.332 9.72e-08 ***\n",
       "buildingStructureSteel            3119.157   1452.895    2.147  0.03181 *  \n",
       "buildingStructureSteel/Concrete   1939.614    204.913    9.466  < 2e-16 ***\n",
       "buildingStructureUnavailable      5286.542   4173.044    1.267  0.20522    \n",
       "elevatorNo_elevator              -3292.362    150.872  -21.822  < 2e-16 ***\n",
       "subwayNo_Subway                  -3438.584     73.249  -46.944  < 2e-16 ***\n",
       "districtChaoYang                 11473.257    124.503   92.153  < 2e-16 ***\n",
       "districtDaXing                     576.082    398.689    1.445  0.14848    \n",
       "districtDongCheng                28427.385    184.569  154.020  < 2e-16 ***\n",
       "districtFangShang                -5824.505    372.322  -15.644  < 2e-16 ***\n",
       "districtFaXing                     -53.048    181.188   -0.293  0.76969    \n",
       "districtFengTai                   7091.642    153.829   46.101  < 2e-16 ***\n",
       "districtHaiDian                  23710.067    144.208  164.416  < 2e-16 ***\n",
       "districtMenTouGou                -3861.759    215.380  -17.930  < 2e-16 ***\n",
       "districtShiJingShan               5360.948    211.192   25.384  < 2e-16 ***\n",
       "districtShunYi                   -5259.342    486.588  -10.809  < 2e-16 ***\n",
       "districtTongZhou                 -2151.295    192.316  -11.186  < 2e-16 ***\n",
       "districtXiCheng                  35111.225    156.480  224.381  < 2e-16 ***\n",
       "---\n",
       "Signif. codes:  0 '***' 0.001 '**' 0.01 '*' 0.05 '.' 0.1 ' ' 1\n",
       "\n",
       "Residual standard error: 16140 on 237047 degrees of freedom\n",
       "Multiple R-squared:  0.4439,\tAdjusted R-squared:  0.4439 \n",
       "F-statistic:  5914 on 32 and 237047 DF,  p-value: < 2.2e-16\n"
      ]
     },
     "metadata": {},
     "output_type": "display_data"
    }
   ],
   "source": [
    "summary(model_ext)"
   ]
  },
  {
   "cell_type": "code",
   "execution_count": 26,
   "metadata": {},
   "outputs": [
    {
     "data": {
      "text/html": [
       "16247.092435255"
      ],
      "text/latex": [
       "16247.092435255"
      ],
      "text/markdown": [
       "16247.092435255"
      ],
      "text/plain": [
       "[1] 16247.09"
      ]
     },
     "metadata": {},
     "output_type": "display_data"
    }
   ],
   "source": [
    "p = predict(model_ext, test)\n",
    "error = (p-test[6])\n",
    "mean(as.matrix(error)^2)^.5"
   ]
  },
  {
   "cell_type": "code",
   "execution_count": 27,
   "metadata": {},
   "outputs": [],
   "source": [
    "save(model_ext, file = \"models/extended_model.rda\")\n",
    "save(model_ext, file = \"../house-price-prediction-app/shinyApp/models/extended_model.rda\")"
   ]
  },
  {
   "cell_type": "markdown",
   "metadata": {},
   "source": [
    "## converting some (num) columns to factors"
   ]
  },
  {
   "cell_type": "code",
   "execution_count": 12,
   "metadata": {
    "scrolled": true
   },
   "outputs": [
    {
     "name": "stdout",
     "output_type": "stream",
     "text": [
      "Classes ‘tbl_df’, ‘tbl’ and 'data.frame':\t296350 obs. of  22 variables:\n",
      " $ Lng                : num  116 116 117 116 116 ...\n",
      " $ Lat                : num  40 39.9 39.9 40.1 39.9 ...\n",
      " $ tradeTime          : Date, format: \"2016-08-09\" \"2016-07-28\" ...\n",
      " $ DOM                : num  1464 903 1271 965 927 ...\n",
      " $ followers          : num  106 126 48 138 286 57 167 138 218 134 ...\n",
      " $ price              : num  31680 43436 52021 22202 48396 ...\n",
      " $ square             : num  131 132 198 134 81 ...\n",
      " $ livingRoom         : num  2 2 3 3 2 1 2 3 1 1 ...\n",
      " $ drawingRoom        : num  1 2 2 1 1 0 1 2 0 0 ...\n",
      " $ kitchen            : num  1 1 1 1 1 1 1 1 1 0 ...\n",
      " $ bathRoom           : num  1 2 3 1 1 1 1 2 1 0 ...\n",
      " $ floor              : num  26 22 4 21 6 8 6 22 10 23 ...\n",
      " $ buildingType       : chr  \"Tower\" \"Tower\" \"Plate\" \"Tower\" ...\n",
      " $ constructionTime   : num  2005 2004 2005 2008 1960 ...\n",
      " $ renovationCondition: chr  \"Simplicit\" \"Hardcover\" \"Simplicit\" \"Other\" ...\n",
      " $ buildingStructure  : chr  \"Steel/Concrete\" \"Steel/Concrete\" \"Steel/Concrete\" \"Steel/Concrete\" ...\n",
      " $ ladderRatio        : num  0.217 0.667 0.5 0.273 0.333 0.333 0.5 0.667 0.333 0.308 ...\n",
      " $ elevator           : chr  \"Has_Elevator\" \"Has_Elevator\" \"Has_Elevator\" \"Has_Elevator\" ...\n",
      " $ fiveYearsProperty  : chr  \"Ownership > 5y\" \"Ownership < 5y\" \"Ownership > 5y\" \"Ownership > 5y\" ...\n",
      " $ subway             : chr  \"Has_Subway\" \"No_Subway\" \"No_Subway\" \"No_Subway\" ...\n",
      " $ district           : chr  \"ChaoYang\" \"ChaoYang\" \"ChaoYang\" \"ChangPing\" ...\n",
      " $ communityAverage   : num  56021 71539 48160 51238 62588 ...\n"
     ]
    }
   ],
   "source": [
    "str(data)"
   ]
  },
  {
   "cell_type": "code",
   "execution_count": 31,
   "metadata": {},
   "outputs": [],
   "source": [
    "data$livingRoom <- as.factor(data$livingRoom)\n",
    "data$drawingRoom <- as.factor(data$drawingRoom)\n",
    "data$kitchen <- as.factor(data$kitchen)\n",
    "data$bathRoom <- as.factor(data$bathRoom)\n",
    "data$floor <- as.factor(data$floor) # this might cause problems "
   ]
  },
  {
   "cell_type": "code",
   "execution_count": 32,
   "metadata": {
    "scrolled": true
   },
   "outputs": [
    {
     "name": "stdout",
     "output_type": "stream",
     "text": [
      "Classes ‘tbl_df’, ‘tbl’ and 'data.frame':\t296350 obs. of  22 variables:\n",
      " $ Lng                : num  116 116 117 116 116 ...\n",
      " $ Lat                : num  40 39.9 39.9 40.1 39.9 ...\n",
      " $ tradeTime          : Date, format: \"2016-08-09\" \"2016-07-28\" ...\n",
      " $ DOM                : num  1464 903 1271 965 927 ...\n",
      " $ followers          : num  106 126 48 138 286 57 167 138 218 134 ...\n",
      " $ price              : num  31680 43436 52021 22202 48396 ...\n",
      " $ square             : num  131 132 198 134 81 ...\n",
      " $ livingRoom         : Factor w/ 9 levels \"0\",\"1\",\"2\",\"3\",..: 3 3 4 4 3 2 3 4 2 2 ...\n",
      " $ drawingRoom        : Factor w/ 6 levels \"0\",\"1\",\"2\",\"3\",..: 2 3 3 2 2 1 2 3 1 1 ...\n",
      " $ kitchen            : Factor w/ 4 levels \"0\",\"1\",\"2\",\"3\": 2 2 2 2 2 2 2 2 2 1 ...\n",
      " $ bathRoom           : Factor w/ 8 levels \"0\",\"1\",\"2\",\"3\",..: 2 3 4 2 2 2 2 3 2 1 ...\n",
      " $ floor              : Factor w/ 40 levels \"1\",\"2\",\"3\",\"4\",..: 26 22 4 21 6 8 6 22 10 23 ...\n",
      " $ buildingType       : chr  \"Tower\" \"Tower\" \"Plate\" \"Tower\" ...\n",
      " $ constructionTime   : num  2005 2004 2005 2008 1960 ...\n",
      " $ renovationCondition: chr  \"Simplicit\" \"Hardcover\" \"Simplicit\" \"Other\" ...\n",
      " $ buildingStructure  : chr  \"Steel/Concrete\" \"Steel/Concrete\" \"Steel/Concrete\" \"Steel/Concrete\" ...\n",
      " $ ladderRatio        : num  0.217 0.667 0.5 0.273 0.333 0.333 0.5 0.667 0.333 0.308 ...\n",
      " $ elevator           : chr  \"Has_Elevator\" \"Has_Elevator\" \"Has_Elevator\" \"Has_Elevator\" ...\n",
      " $ fiveYearsProperty  : chr  \"Ownership > 5y\" \"Ownership < 5y\" \"Ownership > 5y\" \"Ownership > 5y\" ...\n",
      " $ subway             : chr  \"Has_Subway\" \"No_Subway\" \"No_Subway\" \"No_Subway\" ...\n",
      " $ district           : chr  \"ChaoYang\" \"ChaoYang\" \"ChaoYang\" \"ChangPing\" ...\n",
      " $ communityAverage   : num  56021 71539 48160 51238 62588 ...\n"
     ]
    }
   ],
   "source": [
    "str(data)"
   ]
  },
  {
   "cell_type": "code",
   "execution_count": 33,
   "metadata": {},
   "outputs": [],
   "source": [
    "train <- data[train_index,]\n",
    "test <- data[test_index,]"
   ]
  },
  {
   "cell_type": "code",
   "execution_count": 34,
   "metadata": {},
   "outputs": [],
   "source": [
    "model <- lm(price ~ livingRoom + drawingRoom + kitchen + bathRoom + floor + buildingType + \n",
    "             constructionTime + renovationCondition + buildingStructure + elevator+ subway+ district , data = train )"
   ]
  },
  {
   "cell_type": "code",
   "execution_count": 35,
   "metadata": {
    "scrolled": true
   },
   "outputs": [
    {
     "data": {
      "text/plain": [
       "\n",
       "Call:\n",
       "lm(formula = price ~ livingRoom + drawingRoom + kitchen + bathRoom + \n",
       "    floor + buildingType + constructionTime + renovationCondition + \n",
       "    buildingStructure + elevator + subway + district, data = train)\n",
       "\n",
       "Residuals:\n",
       "   Min     1Q Median     3Q    Max \n",
       "-62949 -10688  -2509   7965 124198 \n",
       "\n",
       "Coefficients:\n",
       "                                  Estimate Std. Error  t value Pr(>|t|)    \n",
       "(Intercept)                     367816.802  12701.944   28.958  < 2e-16 ***\n",
       "livingRoom1                       2164.405   4047.781    0.535  0.59285    \n",
       "livingRoom2                       1159.886   4047.557    0.287  0.77445    \n",
       "livingRoom3                       1043.591   4048.396    0.258  0.79658    \n",
       "livingRoom4                        187.040   4056.180    0.046  0.96322    \n",
       "livingRoom5                      -4341.791   4101.276   -1.059  0.28976    \n",
       "livingRoom6                      -5357.366   4278.203   -1.252  0.21048    \n",
       "livingRoom7                      -5819.916   5836.323   -0.997  0.31867    \n",
       "livingRoom8                      -7944.984  12138.268   -0.655  0.51276    \n",
       "drawingRoom1                       378.921    156.827    2.416  0.01569 *  \n",
       "drawingRoom2                     -1629.518    181.626   -8.972  < 2e-16 ***\n",
       "drawingRoom3                      -938.088    753.805   -1.244  0.21333    \n",
       "drawingRoom4                      3278.163   3325.194    0.986  0.32420    \n",
       "drawingRoom5                    -27913.599  16210.091   -1.722  0.08507 .  \n",
       "kitchen1                          5453.466    454.523   11.998  < 2e-16 ***\n",
       "kitchen2                          7757.952    828.999    9.358  < 2e-16 ***\n",
       "kitchen3                         10897.620   4694.355    2.321  0.02026 *  \n",
       "bathRoom1                        -1739.570    842.009   -2.066  0.03883 *  \n",
       "bathRoom2                        -1202.877    850.154   -1.415  0.15710    \n",
       "bathRoom3                         1796.149    939.538    1.912  0.05591 .  \n",
       "bathRoom4                         6676.243   1368.039    4.880 1.06e-06 ***\n",
       "bathRoom5                         7857.859   3443.262    2.282  0.02248 *  \n",
       "bathRoom6                       -11552.157   9393.750   -1.230  0.21878    \n",
       "bathRoom7                       -13905.181  16198.703   -0.858  0.39067    \n",
       "floor2                          -37307.362   5296.762   -7.043 1.88e-12 ***\n",
       "floor3                          -32708.883   4909.203   -6.663 2.69e-11 ***\n",
       "floor4                          -33670.974   4861.197   -6.926 4.33e-12 ***\n",
       "floor5                          -31802.905   4853.883   -6.552 5.69e-11 ***\n",
       "floor6                          -33619.576   4852.038   -6.929 4.25e-12 ***\n",
       "floor7                          -32644.256   4855.560   -6.723 1.78e-11 ***\n",
       "floor8                          -33935.469   4872.410   -6.965 3.30e-12 ***\n",
       "floor9                          -32749.526   4861.418   -6.737 1.62e-11 ***\n",
       "floor10                         -33282.472   4862.771   -6.844 7.70e-12 ***\n",
       "floor11                         -34267.245   4860.542   -7.050 1.79e-12 ***\n",
       "floor12                         -33702.716   4860.762   -6.934 4.11e-12 ***\n",
       "floor13                         -35504.995   4865.107   -7.298 2.93e-13 ***\n",
       "floor14                         -34096.388   4860.529   -7.015 2.31e-12 ***\n",
       "floor15                         -32434.500   4862.013   -6.671 2.55e-11 ***\n",
       "floor16                         -30459.528   4859.551   -6.268 3.66e-10 ***\n",
       "floor17                         -30257.418   4864.066   -6.221 4.96e-10 ***\n",
       "floor18                         -31878.629   4858.833   -6.561 5.36e-11 ***\n",
       "floor19                         -34652.694   4864.834   -7.123 1.06e-12 ***\n",
       "floor20                         -30978.792   4861.149   -6.373 1.86e-10 ***\n",
       "floor21                         -32959.040   4861.671   -6.779 1.21e-11 ***\n",
       "floor22                         -32360.818   4861.958   -6.656 2.82e-11 ***\n",
       "floor23                         -31275.819   4867.491   -6.425 1.32e-10 ***\n",
       "floor24                         -33489.710   4860.773   -6.890 5.60e-12 ***\n",
       "floor25                         -29973.235   4863.737   -6.163 7.17e-10 ***\n",
       "floor26                         -29943.305   4863.148   -6.157 7.42e-10 ***\n",
       "floor27                         -27418.434   4865.143   -5.636 1.75e-08 ***\n",
       "floor28                         -33111.981   4862.478   -6.810 9.80e-12 ***\n",
       "floor29                         -33265.801   4878.607   -6.819 9.21e-12 ***\n",
       "floor30                         -30522.268   4872.752   -6.264 3.76e-10 ***\n",
       "floor31                         -30608.898   4920.383   -6.221 4.95e-10 ***\n",
       "floor32                         -35869.127   4872.319   -7.362 1.82e-13 ***\n",
       "floor33                         -29641.015   4920.667   -6.024 1.71e-09 ***\n",
       "floor34                         -25020.353   4958.729   -5.046 4.52e-07 ***\n",
       "floor35                          -1159.860  10526.299   -0.110  0.91226    \n",
       "floor36                         -37060.643   8713.279   -4.253 2.11e-05 ***\n",
       "floor37                         -29887.455   9433.754   -3.168  0.00153 ** \n",
       "floor42                         -11558.488   6005.682   -1.925  0.05428 .  \n",
       "floor57                          18403.302  12427.279    1.481  0.13864    \n",
       "floor63                          14347.710  16951.103    0.846  0.39732    \n",
       "buildingTypePlate                 -100.325   4993.723   -0.020  0.98397    \n",
       "buildingTypePlate/Tower          -2493.426   4995.236   -0.499  0.61767    \n",
       "buildingTypeTower                -6120.610   4995.441   -1.225  0.22049    \n",
       "constructionTime                  -149.784      5.706  -26.249  < 2e-16 ***\n",
       "renovationConditionOther        -14429.643     78.401 -184.049  < 2e-16 ***\n",
       "renovationConditionRough         -3888.898    265.779  -14.632  < 2e-16 ***\n",
       "renovationConditionSimplicit     -1564.494     89.082  -17.562  < 2e-16 ***\n",
       "buildingStructureBrick/Wood      18441.191   3335.798    5.528 3.24e-08 ***\n",
       "buildingStructureMixed            1012.356    168.321    6.014 1.81e-09 ***\n",
       "buildingStructureSteel            1418.105   1494.049    0.949  0.34254    \n",
       "buildingStructureSteel/Concrete   2032.058    209.417    9.703  < 2e-16 ***\n",
       "buildingStructureUnavailable      4867.274   4334.485    1.123  0.26147    \n",
       "elevatorNo_elevator              -3389.250    221.808  -15.280  < 2e-16 ***\n",
       "subwayNo_Subway                  -3633.835     74.044  -49.076  < 2e-16 ***\n",
       "districtChaoYang                 11634.533    126.367   92.070  < 2e-16 ***\n",
       "districtDaXing                    1088.798    404.272    2.693  0.00708 ** \n",
       "districtDongCheng                28709.634    185.877  154.455  < 2e-16 ***\n",
       "districtFangShang                -5398.003    376.134  -14.351  < 2e-16 ***\n",
       "districtFaXing                     176.629    182.059    0.970  0.33196    \n",
       "districtFengTai                   7537.820    155.601   48.443  < 2e-16 ***\n",
       "districtHaiDian                  23707.997    145.656  162.767  < 2e-16 ***\n",
       "districtMenTouGou                -3952.240    217.713  -18.153  < 2e-16 ***\n",
       "districtShiJingShan               5420.437    213.112   25.435  < 2e-16 ***\n",
       "districtShunYi                   -4574.492    501.396   -9.124  < 2e-16 ***\n",
       "districtTongZhou                 -1548.190    193.959   -7.982 1.45e-15 ***\n",
       "districtXiCheng                  35558.220    157.790  225.351  < 2e-16 ***\n",
       "---\n",
       "Signif. codes:  0 ‘***’ 0.001 ‘**’ 0.01 ‘*’ 0.05 ‘.’ 0.1 ‘ ’ 1\n",
       "\n",
       "Residual standard error: 16170 on 236991 degrees of freedom\n",
       "Multiple R-squared:  0.4438,\tAdjusted R-squared:  0.4436 \n",
       "F-statistic:  2149 on 88 and 236991 DF,  p-value: < 2.2e-16\n"
      ]
     },
     "metadata": {},
     "output_type": "display_data"
    }
   ],
   "source": [
    "summary(model)"
   ]
  },
  {
   "cell_type": "code",
   "execution_count": 36,
   "metadata": {},
   "outputs": [
    {
     "data": {
      "text/html": [
       "16120.7425026192"
      ],
      "text/latex": [
       "16120.7425026192"
      ],
      "text/markdown": [
       "16120.7425026192"
      ],
      "text/plain": [
       "[1] 16120.74"
      ]
     },
     "metadata": {},
     "output_type": "display_data"
    }
   ],
   "source": [
    "p = predict(model, test)\n",
    "error = (p-test[6])\n",
    "mean(as.matrix(error)^2)^.5"
   ]
  },
  {
   "cell_type": "markdown",
   "metadata": {},
   "source": [
    "minor perfoamce imporvemnt, even after removing square"
   ]
  },
  {
   "cell_type": "code",
   "execution_count": null,
   "metadata": {},
   "outputs": [],
   "source": []
  }
 ],
 "metadata": {
  "kernelspec": {
   "display_name": "R",
   "language": "R",
   "name": "ir"
  },
  "language_info": {
   "codemirror_mode": "r",
   "file_extension": ".r",
   "mimetype": "text/x-r-source",
   "name": "R",
   "pygments_lexer": "r",
   "version": "3.6.1"
  }
 },
 "nbformat": 4,
 "nbformat_minor": 4
}
