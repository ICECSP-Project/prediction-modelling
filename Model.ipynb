{
 "cells": [
  {
   "cell_type": "markdown",
   "metadata": {},
   "source": [
    "# imports"
   ]
  },
  {
   "cell_type": "code",
   "execution_count": 1,
   "metadata": {},
   "outputs": [
    {
     "name": "stderr",
     "output_type": "stream",
     "text": [
      "Registered S3 methods overwritten by 'ggplot2':\n",
      "  method         from \n",
      "  [.quosures     rlang\n",
      "  c.quosures     rlang\n",
      "  print.quosures rlang\n",
      "Registered S3 method overwritten by 'rvest':\n",
      "  method            from\n",
      "  read_xml.response xml2\n",
      "── Attaching packages ─────────────────────────────────────── tidyverse 1.2.1 ──\n",
      "✔ ggplot2 3.1.1       ✔ purrr   0.3.2  \n",
      "✔ tibble  2.1.1       ✔ dplyr   0.8.0.1\n",
      "✔ tidyr   0.8.3       ✔ stringr 1.4.0  \n",
      "✔ readr   1.3.1       ✔ forcats 0.4.0  \n",
      "── Conflicts ────────────────────────────────────────── tidyverse_conflicts() ──\n",
      "✖ dplyr::filter() masks stats::filter()\n",
      "✖ dplyr::lag()    masks stats::lag()\n"
     ]
    }
   ],
   "source": [
    "library(tidyverse)\n",
    "library(dplyr)\n",
    "#install.packages(\"Metrics\")\n",
    "library(Metrics)\n",
    "library(rpart)"
   ]
  },
  {
   "cell_type": "code",
   "execution_count": 2,
   "metadata": {},
   "outputs": [
    {
     "name": "stderr",
     "output_type": "stream",
     "text": [
      "Warning message:\n",
      "“Missing column names filled in: 'X1' [1]”Parsed with column specification:\n",
      "cols(\n",
      "  .default = col_double(),\n",
      "  tradeTime = col_date(format = \"\"),\n",
      "  buildingType = col_character(),\n",
      "  renovationCondition = col_character(),\n",
      "  buildingStructure = col_character(),\n",
      "  elevator = col_character(),\n",
      "  fiveYearsProperty = col_character(),\n",
      "  subway = col_character(),\n",
      "  district = col_character()\n",
      ")\n",
      "See spec(...) for full column specifications.\n"
     ]
    }
   ],
   "source": [
    "cl_data <- read_csv(\"cleaned_beijing.csv\")\n",
    "cl_data <- cl_data[ -c(1) ]"
   ]
  },
  {
   "cell_type": "code",
   "execution_count": 3,
   "metadata": {},
   "outputs": [
    {
     "data": {
      "text/html": [
       "<table>\n",
       "<thead><tr><th scope=col>Lng</th><th scope=col>Lat</th><th scope=col>Cid</th><th scope=col>tradeTime</th><th scope=col>DOM</th><th scope=col>followers</th><th scope=col>totalPrice</th><th scope=col>price</th><th scope=col>square</th><th scope=col>livingRoom</th><th scope=col>...</th><th scope=col>buildingType</th><th scope=col>constructionTime</th><th scope=col>renovationCondition</th><th scope=col>buildingStructure</th><th scope=col>ladderRatio</th><th scope=col>elevator</th><th scope=col>fiveYearsProperty</th><th scope=col>subway</th><th scope=col>district</th><th scope=col>communityAverage</th></tr></thead>\n",
       "<tbody>\n",
       "\t<tr><td>116.4755         </td><td>40.01952         </td><td>1.111027e+12     </td><td>2016-08-09       </td><td>1464             </td><td>106              </td><td> 415.0           </td><td>31680            </td><td>131.00           </td><td>2                </td><td>...              </td><td>Tower            </td><td>2005             </td><td>Simplicit        </td><td>Steel/Concrete   </td><td>0.217            </td><td>Has_Elevator     </td><td>Ownership &gt; 5y</td><td>Has_Subway       </td><td>ChaoYang         </td><td>56021            </td></tr>\n",
       "\t<tr><td>116.4539         </td><td>39.88153         </td><td>1.111027e+12     </td><td>2016-07-28       </td><td> 903             </td><td>126              </td><td> 575.0           </td><td>43436            </td><td>132.38           </td><td>2                </td><td>...              </td><td>Tower            </td><td>2004             </td><td>Hardcover        </td><td>Steel/Concrete   </td><td>0.667            </td><td>Has_Elevator     </td><td>Ownership &lt; 5y</td><td>No_Subway        </td><td>ChaoYang         </td><td>71539            </td></tr>\n",
       "\t<tr><td>116.5620         </td><td>39.87714         </td><td>1.111041e+12     </td><td>2016-12-11       </td><td>1271             </td><td> 48              </td><td>1030.0           </td><td>52021            </td><td>198.00           </td><td>3                </td><td>...              </td><td>Plate            </td><td>2005             </td><td>Simplicit        </td><td>Steel/Concrete   </td><td>0.500            </td><td>Has_Elevator     </td><td>Ownership &gt; 5y</td><td>No_Subway        </td><td>ChaoYang         </td><td>48160            </td></tr>\n",
       "\t<tr><td>116.4380                                         </td><td>40.07611                                         </td><td>1.111043e+12                                     </td><td>2016-09-30                                       </td><td> 965                                             </td><td>138                                              </td><td> 297.5                                           </td><td>22202                                            </td><td>134.00                                           </td><td>3                                                </td><td>...                                              </td><td>Tower                                            </td><td>2008                                             </td><td><span style=white-space:pre-wrap>Other    </span></td><td>Steel/Concrete                                   </td><td>0.273                                            </td><td>Has_Elevator                                     </td><td>Ownership &gt; 5y                                </td><td>No_Subway                                        </td><td>ChangPing                                        </td><td>51238                                            </td></tr>\n",
       "\t<tr><td>116.4284                                              </td><td>39.88623                                              </td><td>1.111027e+12                                          </td><td>2016-08-28                                            </td><td> 927                                                  </td><td>286                                                   </td><td> 392.0                                                </td><td>48396                                                 </td><td> 81.00                                                </td><td>2                                                     </td><td>...                                                   </td><td>Plate                                                 </td><td>1960                                                  </td><td><span style=white-space:pre-wrap>Rough    </span>     </td><td><span style=white-space:pre-wrap>Mixed         </span></td><td>0.333                                                 </td><td>No_elevator                                           </td><td>Ownership &lt; 5y                                     </td><td>Has_Subway                                            </td><td>DongCheng                                             </td><td>62588                                                 </td></tr>\n",
       "\t<tr><td>116.4663         </td><td>39.99136         </td><td>1.111027e+12     </td><td>2016-07-22       </td><td> 861             </td><td> 57              </td><td> 275.6           </td><td>52000            </td><td> 53.00           </td><td>1                </td><td>...              </td><td>Plate            </td><td>2005             </td><td>Simplicit        </td><td>Steel/Concrete   </td><td>0.333            </td><td>Has_Elevator     </td><td>Ownership &lt; 5y</td><td>No_Subway        </td><td>ChaoYang         </td><td>67738            </td></tr>\n",
       "</tbody>\n",
       "</table>\n"
      ],
      "text/latex": [
       "\\begin{tabular}{r|llllllllllllllllllllllll}\n",
       " Lng & Lat & Cid & tradeTime & DOM & followers & totalPrice & price & square & livingRoom & ... & buildingType & constructionTime & renovationCondition & buildingStructure & ladderRatio & elevator & fiveYearsProperty & subway & district & communityAverage\\\\\n",
       "\\hline\n",
       "\t 116.4755       & 40.01952       & 1.111027e+12   & 2016-08-09     & 1464           & 106            &  415.0         & 31680          & 131.00         & 2              & ...            & Tower          & 2005           & Simplicit      & Steel/Concrete & 0.217          & Has\\_Elevator & Ownership > 5y & Has\\_Subway   & ChaoYang       & 56021         \\\\\n",
       "\t 116.4539       & 39.88153       & 1.111027e+12   & 2016-07-28     &  903           & 126            &  575.0         & 43436          & 132.38         & 2              & ...            & Tower          & 2004           & Hardcover      & Steel/Concrete & 0.667          & Has\\_Elevator & Ownership < 5y & No\\_Subway    & ChaoYang       & 71539         \\\\\n",
       "\t 116.5620       & 39.87714       & 1.111041e+12   & 2016-12-11     & 1271           &  48            & 1030.0         & 52021          & 198.00         & 3              & ...            & Plate          & 2005           & Simplicit      & Steel/Concrete & 0.500          & Has\\_Elevator & Ownership > 5y & No\\_Subway    & ChaoYang       & 48160         \\\\\n",
       "\t 116.4380       & 40.07611       & 1.111043e+12   & 2016-09-30     &  965           & 138            &  297.5         & 22202          & 134.00         & 3              & ...            & Tower          & 2008           & Other          & Steel/Concrete & 0.273          & Has\\_Elevator & Ownership > 5y & No\\_Subway    & ChangPing      & 51238         \\\\\n",
       "\t 116.4284       & 39.88623       & 1.111027e+12   & 2016-08-28     &  927           & 286            &  392.0         & 48396          &  81.00         & 2              & ...            & Plate          & 1960           & Rough          & Mixed          & 0.333          & No\\_elevator  & Ownership < 5y & Has\\_Subway   & DongCheng      & 62588         \\\\\n",
       "\t 116.4663       & 39.99136       & 1.111027e+12   & 2016-07-22     &  861           &  57            &  275.6         & 52000          &  53.00         & 1              & ...            & Plate          & 2005           & Simplicit      & Steel/Concrete & 0.333          & Has\\_Elevator & Ownership < 5y & No\\_Subway    & ChaoYang       & 67738         \\\\\n",
       "\\end{tabular}\n"
      ],
      "text/markdown": [
       "\n",
       "| Lng | Lat | Cid | tradeTime | DOM | followers | totalPrice | price | square | livingRoom | ... | buildingType | constructionTime | renovationCondition | buildingStructure | ladderRatio | elevator | fiveYearsProperty | subway | district | communityAverage |\n",
       "|---|---|---|---|---|---|---|---|---|---|---|---|---|---|---|---|---|---|---|---|---|\n",
       "| 116.4755       | 40.01952       | 1.111027e+12   | 2016-08-09     | 1464           | 106            |  415.0         | 31680          | 131.00         | 2              | ...            | Tower          | 2005           | Simplicit      | Steel/Concrete | 0.217          | Has_Elevator   | Ownership > 5y | Has_Subway     | ChaoYang       | 56021          |\n",
       "| 116.4539       | 39.88153       | 1.111027e+12   | 2016-07-28     |  903           | 126            |  575.0         | 43436          | 132.38         | 2              | ...            | Tower          | 2004           | Hardcover      | Steel/Concrete | 0.667          | Has_Elevator   | Ownership < 5y | No_Subway      | ChaoYang       | 71539          |\n",
       "| 116.5620       | 39.87714       | 1.111041e+12   | 2016-12-11     | 1271           |  48            | 1030.0         | 52021          | 198.00         | 3              | ...            | Plate          | 2005           | Simplicit      | Steel/Concrete | 0.500          | Has_Elevator   | Ownership > 5y | No_Subway      | ChaoYang       | 48160          |\n",
       "| 116.4380       | 40.07611       | 1.111043e+12   | 2016-09-30     |  965           | 138            |  297.5         | 22202          | 134.00         | 3              | ...            | Tower          | 2008           | Other          | Steel/Concrete | 0.273          | Has_Elevator   | Ownership > 5y | No_Subway      | ChangPing      | 51238          |\n",
       "| 116.4284       | 39.88623       | 1.111027e+12   | 2016-08-28     |  927           | 286            |  392.0         | 48396          |  81.00         | 2              | ...            | Plate          | 1960           | Rough          | Mixed          | 0.333          | No_elevator    | Ownership < 5y | Has_Subway     | DongCheng      | 62588          |\n",
       "| 116.4663       | 39.99136       | 1.111027e+12   | 2016-07-22     |  861           |  57            |  275.6         | 52000          |  53.00         | 1              | ...            | Plate          | 2005           | Simplicit      | Steel/Concrete | 0.333          | Has_Elevator   | Ownership < 5y | No_Subway      | ChaoYang       | 67738          |\n",
       "\n"
      ],
      "text/plain": [
       "  Lng      Lat      Cid          tradeTime  DOM  followers totalPrice price\n",
       "1 116.4755 40.01952 1.111027e+12 2016-08-09 1464 106        415.0     31680\n",
       "2 116.4539 39.88153 1.111027e+12 2016-07-28  903 126        575.0     43436\n",
       "3 116.5620 39.87714 1.111041e+12 2016-12-11 1271  48       1030.0     52021\n",
       "4 116.4380 40.07611 1.111043e+12 2016-09-30  965 138        297.5     22202\n",
       "5 116.4284 39.88623 1.111027e+12 2016-08-28  927 286        392.0     48396\n",
       "6 116.4663 39.99136 1.111027e+12 2016-07-22  861  57        275.6     52000\n",
       "  square livingRoom ... buildingType constructionTime renovationCondition\n",
       "1 131.00 2          ... Tower        2005             Simplicit          \n",
       "2 132.38 2          ... Tower        2004             Hardcover          \n",
       "3 198.00 3          ... Plate        2005             Simplicit          \n",
       "4 134.00 3          ... Tower        2008             Other              \n",
       "5  81.00 2          ... Plate        1960             Rough              \n",
       "6  53.00 1          ... Plate        2005             Simplicit          \n",
       "  buildingStructure ladderRatio elevator     fiveYearsProperty subway    \n",
       "1 Steel/Concrete    0.217       Has_Elevator Ownership > 5y    Has_Subway\n",
       "2 Steel/Concrete    0.667       Has_Elevator Ownership < 5y    No_Subway \n",
       "3 Steel/Concrete    0.500       Has_Elevator Ownership > 5y    No_Subway \n",
       "4 Steel/Concrete    0.273       Has_Elevator Ownership > 5y    No_Subway \n",
       "5 Mixed             0.333       No_elevator  Ownership < 5y    Has_Subway\n",
       "6 Steel/Concrete    0.333       Has_Elevator Ownership < 5y    No_Subway \n",
       "  district  communityAverage\n",
       "1 ChaoYang  56021           \n",
       "2 ChaoYang  71539           \n",
       "3 ChaoYang  48160           \n",
       "4 ChangPing 51238           \n",
       "5 DongCheng 62588           \n",
       "6 ChaoYang  67738           "
      ]
     },
     "metadata": {},
     "output_type": "display_data"
    }
   ],
   "source": [
    "head(cl_data)"
   ]
  },
  {
   "cell_type": "code",
   "execution_count": 4,
   "metadata": {},
   "outputs": [
    {
     "data": {
      "text/plain": [
       "      Lng             Lat             Cid              tradeTime         \n",
       " Min.   :116.1   Min.   :39.63   Min.   :1.111e+12   Min.   :2002-06-01  \n",
       " 1st Qu.:116.3   1st Qu.:39.89   1st Qu.:1.111e+12   1st Qu.:2013-12-26  \n",
       " Median :116.4   Median :39.93   Median :1.111e+12   Median :2015-09-27  \n",
       " Mean   :116.4   Mean   :39.95   Mean   :1.126e+12   Mean   :2015-04-30  \n",
       " 3rd Qu.:116.5   3rd Qu.:40.00   3rd Qu.:1.111e+12   3rd Qu.:2016-08-12  \n",
       " Max.   :116.7   Max.   :40.25   Max.   :1.185e+14   Max.   :2018-01-28  \n",
       "      DOM            followers         totalPrice         price       \n",
       " Min.   :   1.00   Min.   :   0.00   Min.   :  13.0   Min.   : 10000  \n",
       " 1st Qu.:   7.00   1st Qu.:   0.00   1st Qu.: 206.0   1st Qu.: 28362  \n",
       " Median :   7.00   Median :   5.00   Median : 295.0   Median : 39132  \n",
       " Mean   :  18.54   Mean   :  17.25   Mean   : 350.6   Mean   : 44003  \n",
       " 3rd Qu.:   8.00   3rd Qu.:  19.00   3rd Qu.: 428.0   3rd Qu.: 54348  \n",
       " Max.   :1677.00   Max.   :1143.00   Max.   :4900.0   Max.   :150000  \n",
       "     square         livingRoom    drawingRoom       kitchen      \n",
       " Min.   :  7.37   Min.   :0.00   Min.   :0.000   Min.   :0.0000  \n",
       " 1st Qu.: 57.91   1st Qu.:1.00   1st Qu.:1.000   1st Qu.:1.0000  \n",
       " Median : 73.92   Median :2.00   Median :1.000   Median :1.0000  \n",
       " Mean   : 82.58   Mean   :2.01   Mean   :1.171   Mean   :0.9949  \n",
       " 3rd Qu.: 98.15   3rd Qu.:2.00   3rd Qu.:1.000   3rd Qu.:1.0000  \n",
       " Max.   :640.00   Max.   :8.00   Max.   :5.000   Max.   :3.0000  \n",
       "    bathRoom         floor       buildingType       constructionTime\n",
       " Min.   :0.000   Min.   : 1.00   Length:296350      Min.   :1950    \n",
       " 1st Qu.:1.000   1st Qu.: 6.00   Class :character   1st Qu.:1994    \n",
       " Median :1.000   Median :11.00   Mode  :character   Median :2001    \n",
       " Mean   :1.182   Mean   :13.17                      Mean   :1999    \n",
       " 3rd Qu.:1.000   3rd Qu.:19.00                      3rd Qu.:2006    \n",
       " Max.   :7.000   Max.   :63.00                      Max.   :2016    \n",
       " renovationCondition buildingStructure   ladderRatio       elevator        \n",
       " Length:296350       Length:296350      Min.   :0.0140   Length:296350     \n",
       " Class :character    Class :character   1st Qu.:0.2500   Class :character  \n",
       " Mode  :character    Mode  :character   Median :0.3330   Mode  :character  \n",
       "                                        Mean   :0.3818                     \n",
       "                                        3rd Qu.:0.5000                     \n",
       "                                        Max.   :5.0000                     \n",
       " fiveYearsProperty     subway            district         communityAverage\n",
       " Length:296350      Length:296350      Length:296350      Min.   : 10847  \n",
       " Class :character   Class :character   Class :character   1st Qu.: 46578  \n",
       " Mode  :character   Mode  :character   Mode  :character   Median : 59060  \n",
       "                                                          Mean   : 63745  \n",
       "                                                          3rd Qu.: 75868  \n",
       "                                                          Max.   :183109  "
      ]
     },
     "metadata": {},
     "output_type": "display_data"
    }
   ],
   "source": [
    "summary(cl_data)"
   ]
  },
  {
   "cell_type": "code",
   "execution_count": 5,
   "metadata": {
    "scrolled": true
   },
   "outputs": [
    {
     "data": {
      "text/html": [
       "<ol class=list-inline>\n",
       "\t<li>2005</li>\n",
       "\t<li>2004</li>\n",
       "\t<li>2008</li>\n",
       "\t<li>1960</li>\n",
       "\t<li>1997</li>\n",
       "\t<li>2009</li>\n",
       "\t<li>1991</li>\n",
       "\t<li>2001</li>\n",
       "\t<li>1990</li>\n",
       "\t<li>2011</li>\n",
       "\t<li>2000</li>\n",
       "\t<li>1998</li>\n",
       "\t<li>2010</li>\n",
       "\t<li>1996</li>\n",
       "\t<li>1993</li>\n",
       "\t<li>2006</li>\n",
       "\t<li>2002</li>\n",
       "\t<li>2012</li>\n",
       "\t<li>1989</li>\n",
       "\t<li>2003</li>\n",
       "\t<li>2007</li>\n",
       "\t<li>1994</li>\n",
       "\t<li>1984</li>\n",
       "\t<li>1992</li>\n",
       "\t<li>2014</li>\n",
       "\t<li>1985</li>\n",
       "\t<li>1999</li>\n",
       "\t<li>1979</li>\n",
       "\t<li>1981</li>\n",
       "\t<li>1976</li>\n",
       "\t<li>1982</li>\n",
       "\t<li>1975</li>\n",
       "\t<li>1983</li>\n",
       "\t<li>1986</li>\n",
       "\t<li>1995</li>\n",
       "\t<li>1965</li>\n",
       "\t<li>2013</li>\n",
       "\t<li>1988</li>\n",
       "\t<li>1987</li>\n",
       "\t<li>2015</li>\n",
       "\t<li>1955</li>\n",
       "\t<li>1980</li>\n",
       "\t<li>1978</li>\n",
       "\t<li>1958</li>\n",
       "\t<li>1970</li>\n",
       "\t<li>1956</li>\n",
       "\t<li>1977</li>\n",
       "\t<li>1964</li>\n",
       "\t<li>1963</li>\n",
       "\t<li>1967</li>\n",
       "\t<li>2016</li>\n",
       "\t<li>1974</li>\n",
       "\t<li>1973</li>\n",
       "\t<li>1959</li>\n",
       "\t<li>1954</li>\n",
       "\t<li>1962</li>\n",
       "\t<li>1966</li>\n",
       "\t<li>1957</li>\n",
       "\t<li>1972</li>\n",
       "\t<li>1971</li>\n",
       "\t<li>1953</li>\n",
       "\t<li>1968</li>\n",
       "\t<li>1961</li>\n",
       "\t<li>1950</li>\n",
       "\t<li>1952</li>\n",
       "\t<li>1969</li>\n",
       "</ol>\n"
      ],
      "text/latex": [
       "\\begin{enumerate*}\n",
       "\\item 2005\n",
       "\\item 2004\n",
       "\\item 2008\n",
       "\\item 1960\n",
       "\\item 1997\n",
       "\\item 2009\n",
       "\\item 1991\n",
       "\\item 2001\n",
       "\\item 1990\n",
       "\\item 2011\n",
       "\\item 2000\n",
       "\\item 1998\n",
       "\\item 2010\n",
       "\\item 1996\n",
       "\\item 1993\n",
       "\\item 2006\n",
       "\\item 2002\n",
       "\\item 2012\n",
       "\\item 1989\n",
       "\\item 2003\n",
       "\\item 2007\n",
       "\\item 1994\n",
       "\\item 1984\n",
       "\\item 1992\n",
       "\\item 2014\n",
       "\\item 1985\n",
       "\\item 1999\n",
       "\\item 1979\n",
       "\\item 1981\n",
       "\\item 1976\n",
       "\\item 1982\n",
       "\\item 1975\n",
       "\\item 1983\n",
       "\\item 1986\n",
       "\\item 1995\n",
       "\\item 1965\n",
       "\\item 2013\n",
       "\\item 1988\n",
       "\\item 1987\n",
       "\\item 2015\n",
       "\\item 1955\n",
       "\\item 1980\n",
       "\\item 1978\n",
       "\\item 1958\n",
       "\\item 1970\n",
       "\\item 1956\n",
       "\\item 1977\n",
       "\\item 1964\n",
       "\\item 1963\n",
       "\\item 1967\n",
       "\\item 2016\n",
       "\\item 1974\n",
       "\\item 1973\n",
       "\\item 1959\n",
       "\\item 1954\n",
       "\\item 1962\n",
       "\\item 1966\n",
       "\\item 1957\n",
       "\\item 1972\n",
       "\\item 1971\n",
       "\\item 1953\n",
       "\\item 1968\n",
       "\\item 1961\n",
       "\\item 1950\n",
       "\\item 1952\n",
       "\\item 1969\n",
       "\\end{enumerate*}\n"
      ],
      "text/markdown": [
       "1. 2005\n",
       "2. 2004\n",
       "3. 2008\n",
       "4. 1960\n",
       "5. 1997\n",
       "6. 2009\n",
       "7. 1991\n",
       "8. 2001\n",
       "9. 1990\n",
       "10. 2011\n",
       "11. 2000\n",
       "12. 1998\n",
       "13. 2010\n",
       "14. 1996\n",
       "15. 1993\n",
       "16. 2006\n",
       "17. 2002\n",
       "18. 2012\n",
       "19. 1989\n",
       "20. 2003\n",
       "21. 2007\n",
       "22. 1994\n",
       "23. 1984\n",
       "24. 1992\n",
       "25. 2014\n",
       "26. 1985\n",
       "27. 1999\n",
       "28. 1979\n",
       "29. 1981\n",
       "30. 1976\n",
       "31. 1982\n",
       "32. 1975\n",
       "33. 1983\n",
       "34. 1986\n",
       "35. 1995\n",
       "36. 1965\n",
       "37. 2013\n",
       "38. 1988\n",
       "39. 1987\n",
       "40. 2015\n",
       "41. 1955\n",
       "42. 1980\n",
       "43. 1978\n",
       "44. 1958\n",
       "45. 1970\n",
       "46. 1956\n",
       "47. 1977\n",
       "48. 1964\n",
       "49. 1963\n",
       "50. 1967\n",
       "51. 2016\n",
       "52. 1974\n",
       "53. 1973\n",
       "54. 1959\n",
       "55. 1954\n",
       "56. 1962\n",
       "57. 1966\n",
       "58. 1957\n",
       "59. 1972\n",
       "60. 1971\n",
       "61. 1953\n",
       "62. 1968\n",
       "63. 1961\n",
       "64. 1950\n",
       "65. 1952\n",
       "66. 1969\n",
       "\n",
       "\n"
      ],
      "text/plain": [
       " [1] 2005 2004 2008 1960 1997 2009 1991 2001 1990 2011 2000 1998 2010 1996 1993\n",
       "[16] 2006 2002 2012 1989 2003 2007 1994 1984 1992 2014 1985 1999 1979 1981 1976\n",
       "[31] 1982 1975 1983 1986 1995 1965 2013 1988 1987 2015 1955 1980 1978 1958 1970\n",
       "[46] 1956 1977 1964 1963 1967 2016 1974 1973 1959 1954 1962 1966 1957 1972 1971\n",
       "[61] 1953 1968 1961 1950 1952 1969"
      ]
     },
     "metadata": {},
     "output_type": "display_data"
    }
   ],
   "source": [
    "unique(cl_data$constructionTime)"
   ]
  },
  {
   "cell_type": "code",
   "execution_count": null,
   "metadata": {},
   "outputs": [],
   "source": []
  },
  {
   "cell_type": "markdown",
   "metadata": {},
   "source": [
    "removing  Cid and total price. cid has too many factors (computer crashes when trained using as factor) "
   ]
  },
  {
   "cell_type": "code",
   "execution_count": 6,
   "metadata": {},
   "outputs": [],
   "source": [
    "data = cl_data[-c(3,7)]"
   ]
  },
  {
   "cell_type": "markdown",
   "metadata": {},
   "source": [
    "# Data After Modifiation"
   ]
  },
  {
   "cell_type": "code",
   "execution_count": 7,
   "metadata": {},
   "outputs": [
    {
     "data": {
      "text/html": [
       "<table>\n",
       "<thead><tr><th scope=col>Lng</th><th scope=col>Lat</th><th scope=col>tradeTime</th><th scope=col>DOM</th><th scope=col>followers</th><th scope=col>price</th><th scope=col>square</th><th scope=col>livingRoom</th><th scope=col>drawingRoom</th><th scope=col>kitchen</th><th scope=col>...</th><th scope=col>buildingType</th><th scope=col>constructionTime</th><th scope=col>renovationCondition</th><th scope=col>buildingStructure</th><th scope=col>ladderRatio</th><th scope=col>elevator</th><th scope=col>fiveYearsProperty</th><th scope=col>subway</th><th scope=col>district</th><th scope=col>communityAverage</th></tr></thead>\n",
       "<tbody>\n",
       "\t<tr><td>116.4755         </td><td>40.01952         </td><td>2016-08-09       </td><td>1464             </td><td>106              </td><td>31680            </td><td>131.00           </td><td>2                </td><td>1                </td><td>1                </td><td>...              </td><td>Tower            </td><td>2005             </td><td>Simplicit        </td><td>Steel/Concrete   </td><td>0.217            </td><td>Has_Elevator     </td><td>Ownership &gt; 5y</td><td>Has_Subway       </td><td>ChaoYang         </td><td>56021            </td></tr>\n",
       "\t<tr><td>116.4539         </td><td>39.88153         </td><td>2016-07-28       </td><td> 903             </td><td>126              </td><td>43436            </td><td>132.38           </td><td>2                </td><td>2                </td><td>1                </td><td>...              </td><td>Tower            </td><td>2004             </td><td>Hardcover        </td><td>Steel/Concrete   </td><td>0.667            </td><td>Has_Elevator     </td><td>Ownership &lt; 5y</td><td>No_Subway        </td><td>ChaoYang         </td><td>71539            </td></tr>\n",
       "\t<tr><td>116.5620         </td><td>39.87714         </td><td>2016-12-11       </td><td>1271             </td><td> 48              </td><td>52021            </td><td>198.00           </td><td>3                </td><td>2                </td><td>1                </td><td>...              </td><td>Plate            </td><td>2005             </td><td>Simplicit        </td><td>Steel/Concrete   </td><td>0.500            </td><td>Has_Elevator     </td><td>Ownership &gt; 5y</td><td>No_Subway        </td><td>ChaoYang         </td><td>48160            </td></tr>\n",
       "\t<tr><td>116.4380                                         </td><td>40.07611                                         </td><td>2016-09-30                                       </td><td> 965                                             </td><td>138                                              </td><td>22202                                            </td><td>134.00                                           </td><td>3                                                </td><td>1                                                </td><td>1                                                </td><td>...                                              </td><td>Tower                                            </td><td>2008                                             </td><td><span style=white-space:pre-wrap>Other    </span></td><td>Steel/Concrete                                   </td><td>0.273                                            </td><td>Has_Elevator                                     </td><td>Ownership &gt; 5y                                </td><td>No_Subway                                        </td><td>ChangPing                                        </td><td>51238                                            </td></tr>\n",
       "\t<tr><td>116.4284                                              </td><td>39.88623                                              </td><td>2016-08-28                                            </td><td> 927                                                  </td><td>286                                                   </td><td>48396                                                 </td><td> 81.00                                                </td><td>2                                                     </td><td>1                                                     </td><td>1                                                     </td><td>...                                                   </td><td>Plate                                                 </td><td>1960                                                  </td><td><span style=white-space:pre-wrap>Rough    </span>     </td><td><span style=white-space:pre-wrap>Mixed         </span></td><td>0.333                                                 </td><td>No_elevator                                           </td><td>Ownership &lt; 5y                                     </td><td>Has_Subway                                            </td><td>DongCheng                                             </td><td>62588                                                 </td></tr>\n",
       "\t<tr><td>116.4663         </td><td>39.99136         </td><td>2016-07-22       </td><td> 861             </td><td> 57              </td><td>52000            </td><td> 53.00           </td><td>1                </td><td>0                </td><td>1                </td><td>...              </td><td>Plate            </td><td>2005             </td><td>Simplicit        </td><td>Steel/Concrete   </td><td>0.333            </td><td>Has_Elevator     </td><td>Ownership &lt; 5y</td><td>No_Subway        </td><td>ChaoYang         </td><td>67738            </td></tr>\n",
       "</tbody>\n",
       "</table>\n"
      ],
      "text/latex": [
       "\\begin{tabular}{r|llllllllllllllllllllll}\n",
       " Lng & Lat & tradeTime & DOM & followers & price & square & livingRoom & drawingRoom & kitchen & ... & buildingType & constructionTime & renovationCondition & buildingStructure & ladderRatio & elevator & fiveYearsProperty & subway & district & communityAverage\\\\\n",
       "\\hline\n",
       "\t 116.4755       & 40.01952       & 2016-08-09     & 1464           & 106            & 31680          & 131.00         & 2              & 1              & 1              & ...            & Tower          & 2005           & Simplicit      & Steel/Concrete & 0.217          & Has\\_Elevator & Ownership > 5y & Has\\_Subway   & ChaoYang       & 56021         \\\\\n",
       "\t 116.4539       & 39.88153       & 2016-07-28     &  903           & 126            & 43436          & 132.38         & 2              & 2              & 1              & ...            & Tower          & 2004           & Hardcover      & Steel/Concrete & 0.667          & Has\\_Elevator & Ownership < 5y & No\\_Subway    & ChaoYang       & 71539         \\\\\n",
       "\t 116.5620       & 39.87714       & 2016-12-11     & 1271           &  48            & 52021          & 198.00         & 3              & 2              & 1              & ...            & Plate          & 2005           & Simplicit      & Steel/Concrete & 0.500          & Has\\_Elevator & Ownership > 5y & No\\_Subway    & ChaoYang       & 48160         \\\\\n",
       "\t 116.4380       & 40.07611       & 2016-09-30     &  965           & 138            & 22202          & 134.00         & 3              & 1              & 1              & ...            & Tower          & 2008           & Other          & Steel/Concrete & 0.273          & Has\\_Elevator & Ownership > 5y & No\\_Subway    & ChangPing      & 51238         \\\\\n",
       "\t 116.4284       & 39.88623       & 2016-08-28     &  927           & 286            & 48396          &  81.00         & 2              & 1              & 1              & ...            & Plate          & 1960           & Rough          & Mixed          & 0.333          & No\\_elevator  & Ownership < 5y & Has\\_Subway   & DongCheng      & 62588         \\\\\n",
       "\t 116.4663       & 39.99136       & 2016-07-22     &  861           &  57            & 52000          &  53.00         & 1              & 0              & 1              & ...            & Plate          & 2005           & Simplicit      & Steel/Concrete & 0.333          & Has\\_Elevator & Ownership < 5y & No\\_Subway    & ChaoYang       & 67738         \\\\\n",
       "\\end{tabular}\n"
      ],
      "text/markdown": [
       "\n",
       "| Lng | Lat | tradeTime | DOM | followers | price | square | livingRoom | drawingRoom | kitchen | ... | buildingType | constructionTime | renovationCondition | buildingStructure | ladderRatio | elevator | fiveYearsProperty | subway | district | communityAverage |\n",
       "|---|---|---|---|---|---|---|---|---|---|---|---|---|---|---|---|---|---|---|---|---|\n",
       "| 116.4755       | 40.01952       | 2016-08-09     | 1464           | 106            | 31680          | 131.00         | 2              | 1              | 1              | ...            | Tower          | 2005           | Simplicit      | Steel/Concrete | 0.217          | Has_Elevator   | Ownership > 5y | Has_Subway     | ChaoYang       | 56021          |\n",
       "| 116.4539       | 39.88153       | 2016-07-28     |  903           | 126            | 43436          | 132.38         | 2              | 2              | 1              | ...            | Tower          | 2004           | Hardcover      | Steel/Concrete | 0.667          | Has_Elevator   | Ownership < 5y | No_Subway      | ChaoYang       | 71539          |\n",
       "| 116.5620       | 39.87714       | 2016-12-11     | 1271           |  48            | 52021          | 198.00         | 3              | 2              | 1              | ...            | Plate          | 2005           | Simplicit      | Steel/Concrete | 0.500          | Has_Elevator   | Ownership > 5y | No_Subway      | ChaoYang       | 48160          |\n",
       "| 116.4380       | 40.07611       | 2016-09-30     |  965           | 138            | 22202          | 134.00         | 3              | 1              | 1              | ...            | Tower          | 2008           | Other          | Steel/Concrete | 0.273          | Has_Elevator   | Ownership > 5y | No_Subway      | ChangPing      | 51238          |\n",
       "| 116.4284       | 39.88623       | 2016-08-28     |  927           | 286            | 48396          |  81.00         | 2              | 1              | 1              | ...            | Plate          | 1960           | Rough          | Mixed          | 0.333          | No_elevator    | Ownership < 5y | Has_Subway     | DongCheng      | 62588          |\n",
       "| 116.4663       | 39.99136       | 2016-07-22     |  861           |  57            | 52000          |  53.00         | 1              | 0              | 1              | ...            | Plate          | 2005           | Simplicit      | Steel/Concrete | 0.333          | Has_Elevator   | Ownership < 5y | No_Subway      | ChaoYang       | 67738          |\n",
       "\n"
      ],
      "text/plain": [
       "  Lng      Lat      tradeTime  DOM  followers price square livingRoom\n",
       "1 116.4755 40.01952 2016-08-09 1464 106       31680 131.00 2         \n",
       "2 116.4539 39.88153 2016-07-28  903 126       43436 132.38 2         \n",
       "3 116.5620 39.87714 2016-12-11 1271  48       52021 198.00 3         \n",
       "4 116.4380 40.07611 2016-09-30  965 138       22202 134.00 3         \n",
       "5 116.4284 39.88623 2016-08-28  927 286       48396  81.00 2         \n",
       "6 116.4663 39.99136 2016-07-22  861  57       52000  53.00 1         \n",
       "  drawingRoom kitchen ... buildingType constructionTime renovationCondition\n",
       "1 1           1       ... Tower        2005             Simplicit          \n",
       "2 2           1       ... Tower        2004             Hardcover          \n",
       "3 2           1       ... Plate        2005             Simplicit          \n",
       "4 1           1       ... Tower        2008             Other              \n",
       "5 1           1       ... Plate        1960             Rough              \n",
       "6 0           1       ... Plate        2005             Simplicit          \n",
       "  buildingStructure ladderRatio elevator     fiveYearsProperty subway    \n",
       "1 Steel/Concrete    0.217       Has_Elevator Ownership > 5y    Has_Subway\n",
       "2 Steel/Concrete    0.667       Has_Elevator Ownership < 5y    No_Subway \n",
       "3 Steel/Concrete    0.500       Has_Elevator Ownership > 5y    No_Subway \n",
       "4 Steel/Concrete    0.273       Has_Elevator Ownership > 5y    No_Subway \n",
       "5 Mixed             0.333       No_elevator  Ownership < 5y    Has_Subway\n",
       "6 Steel/Concrete    0.333       Has_Elevator Ownership < 5y    No_Subway \n",
       "  district  communityAverage\n",
       "1 ChaoYang  56021           \n",
       "2 ChaoYang  71539           \n",
       "3 ChaoYang  48160           \n",
       "4 ChangPing 51238           \n",
       "5 DongCheng 62588           \n",
       "6 ChaoYang  67738           "
      ]
     },
     "metadata": {},
     "output_type": "display_data"
    }
   ],
   "source": [
    "head(data)"
   ]
  },
  {
   "cell_type": "code",
   "execution_count": 21,
   "metadata": {},
   "outputs": [
    {
     "data": {
      "text/html": [
       "<ol class=list-inline>\n",
       "\t<li>'Lng'</li>\n",
       "\t<li>'Lat'</li>\n",
       "\t<li>'tradeTime'</li>\n",
       "\t<li>'DOM'</li>\n",
       "\t<li>'followers'</li>\n",
       "\t<li>'price'</li>\n",
       "\t<li>'square'</li>\n",
       "\t<li>'livingRoom'</li>\n",
       "\t<li>'drawingRoom'</li>\n",
       "\t<li>'kitchen'</li>\n",
       "\t<li>'bathRoom'</li>\n",
       "\t<li>'floor'</li>\n",
       "\t<li>'buildingType'</li>\n",
       "\t<li>'constructionTime'</li>\n",
       "\t<li>'renovationCondition'</li>\n",
       "\t<li>'buildingStructure'</li>\n",
       "\t<li>'ladderRatio'</li>\n",
       "\t<li>'elevator'</li>\n",
       "\t<li>'fiveYearsProperty'</li>\n",
       "\t<li>'subway'</li>\n",
       "\t<li>'district'</li>\n",
       "\t<li>'communityAverage'</li>\n",
       "</ol>\n"
      ],
      "text/latex": [
       "\\begin{enumerate*}\n",
       "\\item 'Lng'\n",
       "\\item 'Lat'\n",
       "\\item 'tradeTime'\n",
       "\\item 'DOM'\n",
       "\\item 'followers'\n",
       "\\item 'price'\n",
       "\\item 'square'\n",
       "\\item 'livingRoom'\n",
       "\\item 'drawingRoom'\n",
       "\\item 'kitchen'\n",
       "\\item 'bathRoom'\n",
       "\\item 'floor'\n",
       "\\item 'buildingType'\n",
       "\\item 'constructionTime'\n",
       "\\item 'renovationCondition'\n",
       "\\item 'buildingStructure'\n",
       "\\item 'ladderRatio'\n",
       "\\item 'elevator'\n",
       "\\item 'fiveYearsProperty'\n",
       "\\item 'subway'\n",
       "\\item 'district'\n",
       "\\item 'communityAverage'\n",
       "\\end{enumerate*}\n"
      ],
      "text/markdown": [
       "1. 'Lng'\n",
       "2. 'Lat'\n",
       "3. 'tradeTime'\n",
       "4. 'DOM'\n",
       "5. 'followers'\n",
       "6. 'price'\n",
       "7. 'square'\n",
       "8. 'livingRoom'\n",
       "9. 'drawingRoom'\n",
       "10. 'kitchen'\n",
       "11. 'bathRoom'\n",
       "12. 'floor'\n",
       "13. 'buildingType'\n",
       "14. 'constructionTime'\n",
       "15. 'renovationCondition'\n",
       "16. 'buildingStructure'\n",
       "17. 'ladderRatio'\n",
       "18. 'elevator'\n",
       "19. 'fiveYearsProperty'\n",
       "20. 'subway'\n",
       "21. 'district'\n",
       "22. 'communityAverage'\n",
       "\n",
       "\n"
      ],
      "text/plain": [
       " [1] \"Lng\"                 \"Lat\"                 \"tradeTime\"          \n",
       " [4] \"DOM\"                 \"followers\"           \"price\"              \n",
       " [7] \"square\"              \"livingRoom\"          \"drawingRoom\"        \n",
       "[10] \"kitchen\"             \"bathRoom\"            \"floor\"              \n",
       "[13] \"buildingType\"        \"constructionTime\"    \"renovationCondition\"\n",
       "[16] \"buildingStructure\"   \"ladderRatio\"         \"elevator\"           \n",
       "[19] \"fiveYearsProperty\"   \"subway\"              \"district\"           \n",
       "[22] \"communityAverage\"   "
      ]
     },
     "metadata": {},
     "output_type": "display_data"
    }
   ],
   "source": [
    "colnames(data)"
   ]
  },
  {
   "cell_type": "code",
   "execution_count": 8,
   "metadata": {},
   "outputs": [
    {
     "name": "stdout",
     "output_type": "stream",
     "text": [
      "Classes ‘tbl_df’, ‘tbl’ and 'data.frame':\t296350 obs. of  22 variables:\n",
      " $ Lng                : num  116 116 117 116 116 ...\n",
      " $ Lat                : num  40 39.9 39.9 40.1 39.9 ...\n",
      " $ tradeTime          : Date, format: \"2016-08-09\" \"2016-07-28\" ...\n",
      " $ DOM                : num  1464 903 1271 965 927 ...\n",
      " $ followers          : num  106 126 48 138 286 57 167 138 218 134 ...\n",
      " $ price              : num  31680 43436 52021 22202 48396 ...\n",
      " $ square             : num  131 132 198 134 81 ...\n",
      " $ livingRoom         : num  2 2 3 3 2 1 2 3 1 1 ...\n",
      " $ drawingRoom        : num  1 2 2 1 1 0 1 2 0 0 ...\n",
      " $ kitchen            : num  1 1 1 1 1 1 1 1 1 0 ...\n",
      " $ bathRoom           : num  1 2 3 1 1 1 1 2 1 0 ...\n",
      " $ floor              : num  26 22 4 21 6 8 6 22 10 23 ...\n",
      " $ buildingType       : chr  \"Tower\" \"Tower\" \"Plate\" \"Tower\" ...\n",
      " $ constructionTime   : num  2005 2004 2005 2008 1960 ...\n",
      " $ renovationCondition: chr  \"Simplicit\" \"Hardcover\" \"Simplicit\" \"Other\" ...\n",
      " $ buildingStructure  : chr  \"Steel/Concrete\" \"Steel/Concrete\" \"Steel/Concrete\" \"Steel/Concrete\" ...\n",
      " $ ladderRatio        : num  0.217 0.667 0.5 0.273 0.333 0.333 0.5 0.667 0.333 0.308 ...\n",
      " $ elevator           : chr  \"Has_Elevator\" \"Has_Elevator\" \"Has_Elevator\" \"Has_Elevator\" ...\n",
      " $ fiveYearsProperty  : chr  \"Ownership > 5y\" \"Ownership < 5y\" \"Ownership > 5y\" \"Ownership > 5y\" ...\n",
      " $ subway             : chr  \"Has_Subway\" \"No_Subway\" \"No_Subway\" \"No_Subway\" ...\n",
      " $ district           : chr  \"ChaoYang\" \"ChaoYang\" \"ChaoYang\" \"ChangPing\" ...\n",
      " $ communityAverage   : num  56021 71539 48160 51238 62588 ...\n"
     ]
    }
   ],
   "source": [
    "str(data)"
   ]
  },
  {
   "cell_type": "markdown",
   "metadata": {},
   "source": [
    "# Runing an analysis of variabce to see the significat factors"
   ]
  },
  {
   "cell_type": "code",
   "execution_count": 9,
   "metadata": {},
   "outputs": [],
   "source": [
    "anova <- aov( price ~ . , data = data )"
   ]
  },
  {
   "cell_type": "code",
   "execution_count": 10,
   "metadata": {},
   "outputs": [
    {
     "data": {
      "text/plain": [
       "                        Df    Sum Sq   Mean Sq  F value Pr(>F)    \n",
       "Lng                      1 3.362e+12 3.362e+12  35191.6 <2e-16 ***\n",
       "Lat                      1 2.696e+11 2.696e+11   2822.3 <2e-16 ***\n",
       "tradeTime                1 3.956e+13 3.956e+13 414056.7 <2e-16 ***\n",
       "DOM                      1 9.808e+11 9.808e+11  10266.2 <2e-16 ***\n",
       "followers                1 1.049e+10 1.049e+10    109.8 <2e-16 ***\n",
       "square                   1 3.485e+12 3.485e+12  36475.4 <2e-16 ***\n",
       "livingRoom               1 3.904e+11 3.904e+11   4086.1 <2e-16 ***\n",
       "drawingRoom              1 5.909e+10 5.909e+10    618.4 <2e-16 ***\n",
       "kitchen                  1 1.609e+11 1.609e+11   1683.8 <2e-16 ***\n",
       "bathRoom                 1 4.947e+11 4.947e+11   5178.2 <2e-16 ***\n",
       "floor                    1 5.533e+11 5.533e+11   5791.1 <2e-16 ***\n",
       "buildingType             3 5.894e+11 1.965e+11   2056.5 <2e-16 ***\n",
       "constructionTime         1 5.432e+12 5.432e+12  56851.1 <2e-16 ***\n",
       "renovationCondition      3 1.355e+12 4.517e+11   4727.3 <2e-16 ***\n",
       "buildingStructure        5 1.086e+12 2.172e+11   2273.5 <2e-16 ***\n",
       "ladderRatio              1 3.749e+10 3.749e+10    392.4 <2e-16 ***\n",
       "elevator                 1 6.238e+11 6.238e+11   6528.9 <2e-16 ***\n",
       "fiveYearsProperty        1 4.374e+10 4.374e+10    457.8 <2e-16 ***\n",
       "subway                   1 3.756e+12 3.756e+12  39309.9 <2e-16 ***\n",
       "district                12 3.167e+13 2.639e+12  27626.6 <2e-16 ***\n",
       "communityAverage         1 1.693e+13 1.693e+13 177150.9 <2e-16 ***\n",
       "Residuals           296309 2.831e+13 9.554e+07                    \n",
       "---\n",
       "Signif. codes:  0 ‘***’ 0.001 ‘**’ 0.01 ‘*’ 0.05 ‘.’ 0.1 ‘ ’ 1"
      ]
     },
     "metadata": {},
     "output_type": "display_data"
    }
   ],
   "source": [
    "summary(anova)"
   ]
  },
  {
   "cell_type": "markdown",
   "metadata": {},
   "source": [
    "# Spliting Data"
   ]
  },
  {
   "cell_type": "code",
   "execution_count": 11,
   "metadata": {},
   "outputs": [],
   "source": [
    "train_index <- sample(1:nrow(data), 0.8 * nrow(data))\n",
    "test_index <- setdiff(1:nrow(data), train_index)\n",
    "\n",
    "# Build X_train, y_train, X_test, y_test\n",
    "train <- data[train_index,]\n",
    "\n",
    "\n",
    "test <- data[test_index,]\n"
   ]
  },
  {
   "cell_type": "markdown",
   "metadata": {},
   "source": [
    "# Model creation"
   ]
  },
  {
   "cell_type": "markdown",
   "metadata": {},
   "source": [
    "## model with linercombiantion of all facotors"
   ]
  },
  {
   "cell_type": "code",
   "execution_count": 12,
   "metadata": {},
   "outputs": [],
   "source": [
    "model <- lm(price ~ . , data = train )"
   ]
  },
  {
   "cell_type": "code",
   "execution_count": 13,
   "metadata": {
    "scrolled": true
   },
   "outputs": [
    {
     "data": {
      "text/plain": [
       "\n",
       "Call:\n",
       "lm(formula = price ~ ., data = train)\n",
       "\n",
       "Residuals:\n",
       "   Min     1Q Median     3Q    Max \n",
       "-90382  -6051   -609   5424 142676 \n",
       "\n",
       "Coefficients:\n",
       "                                  Estimate Std. Error t value Pr(>|t|)    \n",
       "(Intercept)                      2.643e+05  5.805e+04   4.552 5.32e-06 ***\n",
       "Lng                             -3.202e+03  4.353e+02  -7.355 1.91e-13 ***\n",
       "Lat                             -3.563e+03  4.996e+02  -7.132 9.91e-13 ***\n",
       "tradeTime                        2.256e+01  5.143e-02 438.673  < 2e-16 ***\n",
       "DOM                              3.553e+01  6.258e-01  56.770  < 2e-16 ***\n",
       "followers                        9.350e+00  7.026e-01  13.308  < 2e-16 ***\n",
       "square                          -6.156e+01  1.236e+00 -49.786  < 2e-16 ***\n",
       "livingRoom                       1.326e+02  4.258e+01   3.114 0.001845 ** \n",
       "drawingRoom                      1.225e+03  5.131e+01  23.883  < 2e-16 ***\n",
       "kitchen                         -1.292e+03  2.125e+02  -6.082 1.19e-09 ***\n",
       "bathRoom                         1.089e+03  7.132e+01  15.262  < 2e-16 ***\n",
       "floor                           -7.639e+01  5.150e+00 -14.831  < 2e-16 ***\n",
       "buildingTypePlate               -1.119e+04  2.324e+03  -4.816 1.46e-06 ***\n",
       "buildingTypePlate/Tower         -1.164e+04  2.325e+03  -5.006 5.56e-07 ***\n",
       "buildingTypeTower               -1.127e+04  2.326e+03  -4.846 1.26e-06 ***\n",
       "constructionTime                -5.428e+01  3.488e+00 -15.562  < 2e-16 ***\n",
       "renovationConditionOther         5.850e+03  6.310e+01  92.698  < 2e-16 ***\n",
       "renovationConditionRough        -2.472e+03  1.607e+02 -15.379  < 2e-16 ***\n",
       "renovationConditionSimplicit    -1.021e+03  5.386e+01 -18.963  < 2e-16 ***\n",
       "buildingStructureBrick/Wood      1.525e+04  1.887e+03   8.081 6.43e-16 ***\n",
       "buildingStructureMixed           6.077e+02  1.012e+02   6.007 1.89e-09 ***\n",
       "buildingStructureSteel           1.454e+02  8.753e+02   0.166 0.868044    \n",
       "buildingStructureSteel/Concrete  2.740e+02  1.243e+02   2.204 0.027517 *  \n",
       "buildingStructureUnavailable    -1.915e+03  2.613e+03  -0.733 0.463702    \n",
       "ladderRatio                      2.024e+03  1.385e+02  14.608  < 2e-16 ***\n",
       "elevatorNo_elevator             -1.414e+03  9.162e+01 -15.435  < 2e-16 ***\n",
       "fiveYearsPropertyOwnership > 5y  1.530e+03  4.474e+01  34.186  < 2e-16 ***\n",
       "subwayNo_Subway                 -8.247e+02  4.534e+01 -18.188  < 2e-16 ***\n",
       "districtChaoYang                 1.403e+03  1.192e+02  11.771  < 2e-16 ***\n",
       "districtDaXing                  -3.881e+03  2.840e+02 -13.664  < 2e-16 ***\n",
       "districtDongCheng                5.971e+02  1.646e+02   3.627 0.000287 ***\n",
       "districtFangShang               -7.741e+03  3.021e+02 -25.625  < 2e-16 ***\n",
       "districtFaXing                  -1.071e+03  1.939e+02  -5.521 3.36e-08 ***\n",
       "districtFengTai                  8.349e+02  1.519e+02   5.498 3.85e-08 ***\n",
       "districtHaiDian                  2.338e+03  1.216e+02  19.231  < 2e-16 ***\n",
       "districtMenTouGou                3.878e+01  1.775e+02   0.219 0.827015    \n",
       "districtShiJingShan              1.048e+03  1.746e+02   6.005 1.92e-09 ***\n",
       "districtShunYi                   3.116e+03  3.256e+02   9.569  < 2e-16 ***\n",
       "districtTongZhou                 5.555e+02  1.876e+02   2.962 0.003061 ** \n",
       "districtXiCheng                 -4.730e+02  1.668e+02  -2.836 0.004565 ** \n",
       "communityAverage                 6.478e-01  1.716e-03 377.429  < 2e-16 ***\n",
       "---\n",
       "Signif. codes:  0 ‘***’ 0.001 ‘**’ 0.01 ‘*’ 0.05 ‘.’ 0.1 ‘ ’ 1\n",
       "\n",
       "Residual standard error: 9762 on 237039 degrees of freedom\n",
       "Multiple R-squared:  0.7963,\tAdjusted R-squared:  0.7962 \n",
       "F-statistic: 2.316e+04 on 40 and 237039 DF,  p-value: < 2.2e-16\n"
      ]
     },
     "metadata": {},
     "output_type": "display_data"
    }
   ],
   "source": [
    "summary(model)"
   ]
  },
  {
   "cell_type": "markdown",
   "metadata": {},
   "source": [
    "mean funtion not working had to imporvised now "
   ]
  },
  {
   "cell_type": "code",
   "execution_count": 14,
   "metadata": {},
   "outputs": [
    {
     "data": {
      "text/html": [
       "9825.18634835517"
      ],
      "text/latex": [
       "9825.18634835517"
      ],
      "text/markdown": [
       "9825.18634835517"
      ],
      "text/plain": [
       "[1] 9825.186"
      ]
     },
     "metadata": {},
     "output_type": "display_data"
    }
   ],
   "source": [
    "p = predict(model, test)\n",
    "error = (p-test[6])\n",
    "mean(as.matrix(error)^2)^.5"
   ]
  },
  {
   "cell_type": "markdown",
   "metadata": {},
   "source": [
    "## model with limited factors for initial testing"
   ]
  },
  {
   "cell_type": "code",
   "execution_count": 26,
   "metadata": {},
   "outputs": [],
   "source": [
    "model_limited <- lm(price ~ square + buildingType +constructionTime + subway + district , data = train )\n"
   ]
  },
  {
   "cell_type": "code",
   "execution_count": 27,
   "metadata": {
    "scrolled": true
   },
   "outputs": [
    {
     "data": {
      "text/plain": [
       "\n",
       "Call:\n",
       "lm(formula = price ~ square + livingRoom + drawingRoom + kitchen + \n",
       "    bathRoom + floor + buildingType + constructionTime + renovationCondition + \n",
       "    buildingStructure + elevator + subway + district, data = train)\n",
       "\n",
       "Residuals:\n",
       "   Min     1Q Median     3Q    Max \n",
       "-76950 -10704  -2524   8013 121426 \n",
       "\n",
       "Coefficients:\n",
       "                                  Estimate Std. Error  t value Pr(>|t|)    \n",
       "(Intercept)                     267944.828  11922.901   22.473  < 2e-16 ***\n",
       "square                             -86.434      1.995  -43.335  < 2e-16 ***\n",
       "livingRoom                        1198.625     70.207   17.073  < 2e-16 ***\n",
       "drawingRoom                       -217.897     84.272   -2.586  0.00972 ** \n",
       "kitchen                           4470.811    350.694   12.748  < 2e-16 ***\n",
       "bathRoom                          3131.557    117.538   26.643  < 2e-16 ***\n",
       "floor                              140.935      8.385   16.809  < 2e-16 ***\n",
       "buildingTypePlate               -22400.582   3843.205   -5.829 5.60e-09 ***\n",
       "buildingTypePlate/Tower         -24953.302   3844.813   -6.490 8.59e-11 ***\n",
       "buildingTypeTower               -28519.750   3845.252   -7.417 1.20e-13 ***\n",
       "constructionTime                  -104.893      5.656  -18.546  < 2e-16 ***\n",
       "renovationConditionOther        -14477.141     78.207 -185.114  < 2e-16 ***\n",
       "renovationConditionRough         -3780.559    265.445  -14.242  < 2e-16 ***\n",
       "renovationConditionSimplicit     -1701.798     88.811  -19.162  < 2e-16 ***\n",
       "buildingStructureBrick/Wood      25595.601   3119.939    8.204 2.34e-16 ***\n",
       "buildingStructureMixed             962.862    167.210    5.758 8.50e-09 ***\n",
       "buildingStructureSteel            1294.942   1447.367    0.895  0.37095    \n",
       "buildingStructureSteel/Concrete   2027.200    204.998    9.889  < 2e-16 ***\n",
       "buildingStructureUnavailable      5427.944   4321.119    1.256  0.20907    \n",
       "elevatorNo_elevator              -3320.213    150.759  -22.023  < 2e-16 ***\n",
       "subwayNo_Subway                  -3457.939     73.266  -47.197  < 2e-16 ***\n",
       "districtChaoYang                 11386.219    124.613   91.372  < 2e-16 ***\n",
       "districtDaXing                     542.732    398.133    1.363  0.17282    \n",
       "districtDongCheng                28323.329    184.400  153.597  < 2e-16 ***\n",
       "districtFangShang                -5999.708    371.502  -16.150  < 2e-16 ***\n",
       "districtFaXing                     -94.814    181.470   -0.522  0.60134    \n",
       "districtFengTai                   6996.849    153.779   45.499  < 2e-16 ***\n",
       "districtHaiDian                  23681.238    144.364  164.039  < 2e-16 ***\n",
       "districtMenTouGou                -3991.399    216.708  -18.418  < 2e-16 ***\n",
       "districtShiJingShan               5206.450    210.067   24.785  < 2e-16 ***\n",
       "districtShunYi                   -5200.158    479.425  -10.847  < 2e-16 ***\n",
       "districtTongZhou                 -2074.420    192.740  -10.763  < 2e-16 ***\n",
       "districtXiCheng                  34991.721    156.555  223.511  < 2e-16 ***\n",
       "---\n",
       "Signif. codes:  0 ‘***’ 0.001 ‘**’ 0.01 ‘*’ 0.05 ‘.’ 0.1 ‘ ’ 1\n",
       "\n",
       "Residual standard error: 16140 on 237047 degrees of freedom\n",
       "Multiple R-squared:  0.4429,\tAdjusted R-squared:  0.4428 \n",
       "F-statistic:  5889 on 32 and 237047 DF,  p-value: < 2.2e-16\n"
      ]
     },
     "metadata": {},
     "output_type": "display_data"
    }
   ],
   "source": [
    "summary(model_limited)"
   ]
  },
  {
   "cell_type": "code",
   "execution_count": 28,
   "metadata": {},
   "outputs": [
    {
     "data": {
      "text/html": [
       "16235.0918885638"
      ],
      "text/latex": [
       "16235.0918885638"
      ],
      "text/markdown": [
       "16235.0918885638"
      ],
      "text/plain": [
       "[1] 16235.09"
      ]
     },
     "metadata": {},
     "output_type": "display_data"
    }
   ],
   "source": [
    "p = predict(model_limited, test)\n",
    "error = (p-test[6])\n",
    "mean(as.matrix(error)^2)^.5"
   ]
  },
  {
   "cell_type": "markdown",
   "metadata": {},
   "source": [
    "'price'\n",
    "'square'\n",
    "'livingRoom'\n",
    "'drawingRoom'\n",
    "'kitchen'\n",
    "'bathRoom'\n",
    "'floor'\n",
    "'buildingType'\n",
    "'constructionTime'\n",
    "'renovationCondition'\n",
    "'buildingStructure'\n",
    "'ladderRatio'\n",
    "'elevator'\n",
    "'fiveYearsProperty'\n",
    "'subway'\n",
    "'district'## tree model"
   ]
  },
  {
   "cell_type": "code",
   "execution_count": 23,
   "metadata": {},
   "outputs": [],
   "source": [
    "fit <- rpart(price ~ square + livingRoom + drawingRoom + kitchen + bathRoom + floor + buildingType + \n",
    "             constructionTime + renovationCondition + buildingStructure + elevator+ subway+ district, data = train ,method=\"anova\")"
   ]
  },
  {
   "cell_type": "code",
   "execution_count": 24,
   "metadata": {
    "scrolled": true
   },
   "outputs": [
    {
     "name": "stdout",
     "output_type": "stream",
     "text": [
      "Call:\n",
      "rpart(formula = price ~ square + livingRoom + drawingRoom + kitchen + \n",
      "    bathRoom + floor + buildingType + constructionTime + renovationCondition + \n",
      "    buildingStructure + elevator + subway + district, data = train, \n",
      "    method = \"anova\")\n",
      "  n= 237080 \n",
      "\n",
      "          CP nsplit rel error    xerror        xstd\n",
      "1 0.23771543      0 1.0000000 1.0000037 0.004169825\n",
      "2 0.06322412      1 0.7622846 0.7622943 0.002957657\n",
      "3 0.05531486      2 0.6990604 0.6990748 0.002820284\n",
      "4 0.03600742      3 0.6437456 0.6437643 0.002671886\n",
      "5 0.01353588      4 0.6077382 0.6077623 0.002615524\n",
      "6 0.01157341      5 0.5942023 0.5942358 0.002521973\n",
      "7 0.01000000      6 0.5826289 0.5826650 0.002519922\n",
      "\n",
      "Variable importance\n",
      "           district renovationCondition   buildingStructure              subway \n",
      "                 68                  22                   2                   2 \n",
      "              floor            elevator        buildingType    constructionTime \n",
      "                  2                   1                   1                   1 \n",
      "\n",
      "Node number 1: 237080 observations,    complexity param=0.2377154\n",
      "  mean=43982.87, MSE=4.676506e+08 \n",
      "  left son=2 (172761 obs) right son=3 (64319 obs)\n",
      "  Primary splits:\n",
      "      district            splits as  LLLRLLLRLLLLR, improve=0.23771540, (0 missing)\n",
      "      renovationCondition splits as  RLRR, improve=0.09572716, (0 missing)\n",
      "      constructionTime    < 1992.5  to the right, improve=0.05702318, (0 missing)\n",
      "      subway              splits as  RL, improve=0.05304730, (0 missing)\n",
      "      square              < 79.225  to the right, improve=0.03692656, (0 missing)\n",
      "  Surrogate splits:\n",
      "      constructionTime  < 1980.5  to the right, agree=0.732, adj=0.012, (0 split)\n",
      "      square            < 31.935  to the right, agree=0.731, adj=0.007, (0 split)\n",
      "      floor             < 1.5     to the right, agree=0.729, adj=0.001, (0 split)\n",
      "      buildingType      splits as  RLLL,        agree=0.729, adj=0.000, (0 split)\n",
      "      buildingStructure splits as  LRLLLL,      agree=0.729, adj=0.000, (0 split)\n",
      "\n",
      "Node number 2: 172761 observations,    complexity param=0.06322412\n",
      "  mean=37549.54, MSE=2.578706e+08 \n",
      "  left son=4 (69788 obs) right son=5 (102973 obs)\n",
      "  Primary splits:\n",
      "      district            splits as  LRL-LLR-LLLL-, improve=0.15734460, (0 missing)\n",
      "      renovationCondition splits as  RLRR, improve=0.11878280, (0 missing)\n",
      "      subway              splits as  RL, improve=0.04482713, (0 missing)\n",
      "      buildingStructure   splits as  LLLLRL, improve=0.04409127, (0 missing)\n",
      "      floor               < 11.5    to the left,  improve=0.03582036, (0 missing)\n",
      "  Surrogate splits:\n",
      "      buildingStructure splits as  RLLRRL,      agree=0.668, adj=0.178, (0 split)\n",
      "      subway            splits as  RL,          agree=0.650, adj=0.132, (0 split)\n",
      "      floor             < 11.5    to the left,  agree=0.644, adj=0.119, (0 split)\n",
      "      elevator          splits as  RL,          agree=0.640, adj=0.108, (0 split)\n",
      "      buildingType      splits as  -LRR,        agree=0.626, adj=0.074, (0 split)\n",
      "\n",
      "Node number 3: 64319 observations,    complexity param=0.05531486\n",
      "  mean=61262.83, MSE=6.213557e+08 \n",
      "  left son=6 (23430 obs) right son=7 (40889 obs)\n",
      "  Primary splits:\n",
      "      renovationCondition splits as  RLRR, improve=0.15345420, (0 missing)\n",
      "      district            splits as  ---R---L----R, improve=0.04225805, (0 missing)\n",
      "      constructionTime    < 1994.5  to the right, improve=0.03483846, (0 missing)\n",
      "      square              < 81.525  to the right, improve=0.01922426, (0 missing)\n",
      "      subway              splits as  RL, improve=0.01589244, (0 missing)\n",
      "  Surrogate splits:\n",
      "      constructionTime  < 2013.5  to the right, agree=0.636, adj=0.001, (0 split)\n",
      "      floor             < 1.5     to the left,  agree=0.636, adj=0.001, (0 split)\n",
      "      square            < 17.735  to the left,  agree=0.636, adj=0.001, (0 split)\n",
      "      buildingType      splits as  LRRR,        agree=0.636, adj=0.000, (0 split)\n",
      "      buildingStructure splits as  RLRRRR,      agree=0.636, adj=0.000, (0 split)\n",
      "\n",
      "Node number 4: 69788 observations,    complexity param=0.01157341\n",
      "  mean=29812.08, MSE=1.420072e+08 \n",
      "  left son=8 (26101 obs) right son=9 (43687 obs)\n",
      "  Primary splits:\n",
      "      renovationCondition splits as  RLRR, improve=0.12947530, (0 missing)\n",
      "      buildingStructure   splits as  LRLLRL, improve=0.04840717, (0 missing)\n",
      "      constructionTime    < 2011.5  to the left,  improve=0.04349983, (0 missing)\n",
      "      elevator            splits as  RL, improve=0.03141693, (0 missing)\n",
      "      district            splits as  L-L-LL--LRLL-, improve=0.03055844, (0 missing)\n",
      "  Surrogate splits:\n",
      "      constructionTime < 1977.5  to the left,  agree=0.626, adj=0.001, (0 split)\n",
      "      bathRoom         < 0.5     to the left,  agree=0.626, adj=0.000, (0 split)\n",
      "      square           < 394.155 to the right, agree=0.626, adj=0.000, (0 split)\n",
      "      livingRoom       < 0.5     to the left,  agree=0.626, adj=0.000, (0 split)\n",
      "      drawingRoom      < 3.5     to the right, agree=0.626, adj=0.000, (0 split)\n",
      "\n",
      "Node number 5: 102973 observations,    complexity param=0.03600742\n",
      "  mean=42793.45, MSE=2.683217e+08 \n",
      "  left son=10 (36994 obs) right son=11 (65979 obs)\n",
      "  Primary splits:\n",
      "      renovationCondition splits as  RLRR, improve=0.14448720, (0 missing)\n",
      "      subway              splits as  RL, improve=0.01968715, (0 missing)\n",
      "      district            splits as  -R----L------, improve=0.01792410, (0 missing)\n",
      "      constructionTime    < 2011.5  to the left,  improve=0.01117976, (0 missing)\n",
      "      square              < 45.615  to the right, improve=0.00387436, (0 missing)\n",
      "  Surrogate splits:\n",
      "      bathRoom   < 0.5     to the left,  agree=0.641, adj=0, (0 split)\n",
      "      kitchen    < 2.5     to the right, agree=0.641, adj=0, (0 split)\n",
      "      square     < 16.86   to the left,  agree=0.641, adj=0, (0 split)\n",
      "      livingRoom < 0.5     to the left,  agree=0.641, adj=0, (0 split)\n",
      "\n",
      "Node number 6: 23430 observations\n",
      "  mean=48363.22, MSE=4.257633e+08 \n",
      "\n",
      "Node number 7: 40889 observations,    complexity param=0.01353588\n",
      "  mean=68654.5, MSE=5.834466e+08 \n",
      "  left son=14 (26029 obs) right son=15 (14860 obs)\n",
      "  Primary splits:\n",
      "      district          splits as  ---L---L----R, improve=0.06290648, (0 missing)\n",
      "      constructionTime  < 1994.5  to the right, improve=0.04407561, (0 missing)\n",
      "      square            < 81.775  to the right, improve=0.02543707, (0 missing)\n",
      "      subway            splits as  RL, improve=0.01961167, (0 missing)\n",
      "      buildingStructure splits as  RRRRLR, improve=0.01691583, (0 missing)\n",
      "  Surrogate splits:\n",
      "      constructionTime < 1984.5  to the right, agree=0.660, adj=0.063, (0 split)\n",
      "      square           < 36.305  to the right, agree=0.648, adj=0.031, (0 split)\n",
      "      kitchen          < 0.5     to the right, agree=0.638, adj=0.004, (0 split)\n",
      "      floor            < 3.5     to the right, agree=0.637, adj=0.000, (0 split)\n",
      "\n",
      "Node number 8: 26101 observations\n",
      "  mean=24264.6, MSE=9.426388e+07 \n",
      "\n",
      "Node number 9: 43687 observations\n",
      "  mean=33126.45, MSE=1.411601e+08 \n",
      "\n",
      "Node number 10: 36994 observations\n",
      "  mean=34478.11, MSE=1.635766e+08 \n",
      "\n",
      "Node number 11: 65979 observations\n",
      "  mean=47455.8, MSE=2.665449e+08 \n",
      "\n",
      "Node number 14: 26029 observations\n",
      "  mean=64076.99, MSE=4.762153e+08 \n",
      "\n",
      "Node number 15: 14860 observations\n",
      "  mean=76672.53, MSE=6.702832e+08 \n",
      "\n"
     ]
    }
   ],
   "source": [
    "summary(fit)"
   ]
  },
  {
   "cell_type": "code",
   "execution_count": 25,
   "metadata": {},
   "outputs": [
    {
     "data": {
      "text/html": [
       "16602.892705894"
      ],
      "text/latex": [
       "16602.892705894"
      ],
      "text/markdown": [
       "16602.892705894"
      ],
      "text/plain": [
       "[1] 16602.89"
      ]
     },
     "metadata": {},
     "output_type": "display_data"
    }
   ],
   "source": [
    "p = predict(fit, test)\n",
    "error = (p-test[6])\n",
    "mean(as.matrix(error)^2)^.5"
   ]
  },
  {
   "cell_type": "markdown",
   "metadata": {},
   "source": [
    "## Random forest\n",
    "\n",
    "crashes computer uses all ram"
   ]
  },
  {
   "cell_type": "markdown",
   "metadata": {},
   "source": [
    "## Extended liner Model"
   ]
  },
  {
   "cell_type": "code",
   "execution_count": 29,
   "metadata": {},
   "outputs": [],
   "source": [
    "model_ext<- lm(price ~ square + livingRoom + drawingRoom + kitchen + bathRoom + floor + buildingType + \n",
    "             constructionTime + renovationCondition + buildingStructure + elevator+ subway+ district , data = train )"
   ]
  },
  {
   "cell_type": "code",
   "execution_count": 30,
   "metadata": {
    "scrolled": true
   },
   "outputs": [
    {
     "data": {
      "text/plain": [
       "\n",
       "Call:\n",
       "lm(formula = price ~ square + livingRoom + drawingRoom + kitchen + \n",
       "    bathRoom + floor + buildingType + constructionTime + renovationCondition + \n",
       "    buildingStructure + elevator + subway + district, data = train)\n",
       "\n",
       "Residuals:\n",
       "   Min     1Q Median     3Q    Max \n",
       "-76950 -10704  -2524   8013 121426 \n",
       "\n",
       "Coefficients:\n",
       "                                  Estimate Std. Error  t value Pr(>|t|)    \n",
       "(Intercept)                     267944.828  11922.901   22.473  < 2e-16 ***\n",
       "square                             -86.434      1.995  -43.335  < 2e-16 ***\n",
       "livingRoom                        1198.625     70.207   17.073  < 2e-16 ***\n",
       "drawingRoom                       -217.897     84.272   -2.586  0.00972 ** \n",
       "kitchen                           4470.811    350.694   12.748  < 2e-16 ***\n",
       "bathRoom                          3131.557    117.538   26.643  < 2e-16 ***\n",
       "floor                              140.935      8.385   16.809  < 2e-16 ***\n",
       "buildingTypePlate               -22400.582   3843.205   -5.829 5.60e-09 ***\n",
       "buildingTypePlate/Tower         -24953.302   3844.813   -6.490 8.59e-11 ***\n",
       "buildingTypeTower               -28519.750   3845.252   -7.417 1.20e-13 ***\n",
       "constructionTime                  -104.893      5.656  -18.546  < 2e-16 ***\n",
       "renovationConditionOther        -14477.141     78.207 -185.114  < 2e-16 ***\n",
       "renovationConditionRough         -3780.559    265.445  -14.242  < 2e-16 ***\n",
       "renovationConditionSimplicit     -1701.798     88.811  -19.162  < 2e-16 ***\n",
       "buildingStructureBrick/Wood      25595.601   3119.939    8.204 2.34e-16 ***\n",
       "buildingStructureMixed             962.862    167.210    5.758 8.50e-09 ***\n",
       "buildingStructureSteel            1294.942   1447.367    0.895  0.37095    \n",
       "buildingStructureSteel/Concrete   2027.200    204.998    9.889  < 2e-16 ***\n",
       "buildingStructureUnavailable      5427.944   4321.119    1.256  0.20907    \n",
       "elevatorNo_elevator              -3320.213    150.759  -22.023  < 2e-16 ***\n",
       "subwayNo_Subway                  -3457.939     73.266  -47.197  < 2e-16 ***\n",
       "districtChaoYang                 11386.219    124.613   91.372  < 2e-16 ***\n",
       "districtDaXing                     542.732    398.133    1.363  0.17282    \n",
       "districtDongCheng                28323.329    184.400  153.597  < 2e-16 ***\n",
       "districtFangShang                -5999.708    371.502  -16.150  < 2e-16 ***\n",
       "districtFaXing                     -94.814    181.470   -0.522  0.60134    \n",
       "districtFengTai                   6996.849    153.779   45.499  < 2e-16 ***\n",
       "districtHaiDian                  23681.238    144.364  164.039  < 2e-16 ***\n",
       "districtMenTouGou                -3991.399    216.708  -18.418  < 2e-16 ***\n",
       "districtShiJingShan               5206.450    210.067   24.785  < 2e-16 ***\n",
       "districtShunYi                   -5200.158    479.425  -10.847  < 2e-16 ***\n",
       "districtTongZhou                 -2074.420    192.740  -10.763  < 2e-16 ***\n",
       "districtXiCheng                  34991.721    156.555  223.511  < 2e-16 ***\n",
       "---\n",
       "Signif. codes:  0 ‘***’ 0.001 ‘**’ 0.01 ‘*’ 0.05 ‘.’ 0.1 ‘ ’ 1\n",
       "\n",
       "Residual standard error: 16140 on 237047 degrees of freedom\n",
       "Multiple R-squared:  0.4429,\tAdjusted R-squared:  0.4428 \n",
       "F-statistic:  5889 on 32 and 237047 DF,  p-value: < 2.2e-16\n"
      ]
     },
     "metadata": {},
     "output_type": "display_data"
    }
   ],
   "source": [
    "summary(model_ext)"
   ]
  },
  {
   "cell_type": "code",
   "execution_count": 31,
   "metadata": {},
   "outputs": [
    {
     "data": {
      "text/html": [
       "16235.0918885638"
      ],
      "text/latex": [
       "16235.0918885638"
      ],
      "text/markdown": [
       "16235.0918885638"
      ],
      "text/plain": [
       "[1] 16235.09"
      ]
     },
     "metadata": {},
     "output_type": "display_data"
    }
   ],
   "source": [
    "p = predict(model_ext, test)\n",
    "error = (p-test[6])\n",
    "mean(as.matrix(error)^2)^.5"
   ]
  },
  {
   "cell_type": "code",
   "execution_count": null,
   "metadata": {},
   "outputs": [],
   "source": []
  }
 ],
 "metadata": {
  "kernelspec": {
   "display_name": "R",
   "language": "R",
   "name": "ir"
  },
  "language_info": {
   "codemirror_mode": "r",
   "file_extension": ".r",
   "mimetype": "text/x-r-source",
   "name": "R",
   "pygments_lexer": "r",
   "version": "3.6.1"
  }
 },
 "nbformat": 4,
 "nbformat_minor": 4
}
