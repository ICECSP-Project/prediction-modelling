{
 "cells": [
  {
   "cell_type": "markdown",
   "metadata": {},
   "source": [
    "# imports"
   ]
  },
  {
   "cell_type": "code",
   "execution_count": 1,
   "metadata": {},
   "outputs": [
    {
     "name": "stderr",
     "output_type": "stream",
     "text": [
      "Registered S3 methods overwritten by 'ggplot2':\n",
      "  method         from \n",
      "  [.quosures     rlang\n",
      "  c.quosures     rlang\n",
      "  print.quosures rlang\n",
      "Registered S3 method overwritten by 'rvest':\n",
      "  method            from\n",
      "  read_xml.response xml2\n",
      "-- Attaching packages --------------------------------------- tidyverse 1.2.1 --\n",
      "v ggplot2 3.1.1       v purrr   0.3.2  \n",
      "v tibble  2.1.1       v dplyr   0.8.0.1\n",
      "v tidyr   0.8.3       v stringr 1.4.0  \n",
      "v readr   1.3.1       v forcats 0.4.0  \n",
      "-- Conflicts ------------------------------------------ tidyverse_conflicts() --\n",
      "x dplyr::filter() masks stats::filter()\n",
      "x dplyr::lag()    masks stats::lag()\n",
      "Warning message:\n",
      "\"package 'Metrics' was built under R version 3.6.3\""
     ]
    }
   ],
   "source": [
    "library(tidyverse)\n",
    "library(dplyr)\n",
    "#install.packages(\"Metrics\")\n",
    "library(Metrics)\n",
    "library(rpart)"
   ]
  },
  {
   "cell_type": "code",
   "execution_count": 2,
   "metadata": {},
   "outputs": [
    {
     "name": "stderr",
     "output_type": "stream",
     "text": [
      "Warning message:\n",
      "\"Missing column names filled in: 'X1' [1]\"Parsed with column specification:\n",
      "cols(\n",
      "  .default = col_double(),\n",
      "  tradeTime = col_date(format = \"\"),\n",
      "  buildingType = col_character(),\n",
      "  renovationCondition = col_character(),\n",
      "  buildingStructure = col_character(),\n",
      "  elevator = col_character(),\n",
      "  fiveYearsProperty = col_character(),\n",
      "  subway = col_character(),\n",
      "  district = col_character()\n",
      ")\n",
      "See spec(...) for full column specifications.\n"
     ]
    }
   ],
   "source": [
    "cl_data <- read_csv(\"../datasets/Dataset 3 Beijing/Datacleaning/cleaned_beijing.csv\")\n",
    "cl_data <- cl_data[ -c(1) ]"
   ]
  },
  {
   "cell_type": "code",
   "execution_count": 3,
   "metadata": {},
   "outputs": [
    {
     "data": {
      "text/html": [
       "<table>\n",
       "<thead><tr><th scope=col>Lng</th><th scope=col>Lat</th><th scope=col>Cid</th><th scope=col>tradeTime</th><th scope=col>DOM</th><th scope=col>followers</th><th scope=col>totalPrice</th><th scope=col>price</th><th scope=col>square</th><th scope=col>livingRoom</th><th scope=col>...</th><th scope=col>buildingType</th><th scope=col>constructionTime</th><th scope=col>renovationCondition</th><th scope=col>buildingStructure</th><th scope=col>ladderRatio</th><th scope=col>elevator</th><th scope=col>fiveYearsProperty</th><th scope=col>subway</th><th scope=col>district</th><th scope=col>communityAverage</th></tr></thead>\n",
       "<tbody>\n",
       "\t<tr><td>116.4755         </td><td>40.01952         </td><td>1.111027e+12     </td><td>2016-08-09       </td><td>1464             </td><td>106              </td><td> 415.0           </td><td>31680            </td><td>131.00           </td><td>2                </td><td>...              </td><td>Tower            </td><td>2005             </td><td>Simplicit        </td><td>Steel/Concrete   </td><td>0.217            </td><td>Has_Elevator     </td><td>Ownership &gt; 5y</td><td>Has_Subway       </td><td>ChaoYang         </td><td>56021            </td></tr>\n",
       "\t<tr><td>116.4539         </td><td>39.88153         </td><td>1.111027e+12     </td><td>2016-07-28       </td><td> 903             </td><td>126              </td><td> 575.0           </td><td>43436            </td><td>132.38           </td><td>2                </td><td>...              </td><td>Tower            </td><td>2004             </td><td>Hardcover        </td><td>Steel/Concrete   </td><td>0.667            </td><td>Has_Elevator     </td><td>Ownership &lt; 5y</td><td>No_Subway        </td><td>ChaoYang         </td><td>71539            </td></tr>\n",
       "\t<tr><td>116.5620         </td><td>39.87714         </td><td>1.111041e+12     </td><td>2016-12-11       </td><td>1271             </td><td> 48              </td><td>1030.0           </td><td>52021            </td><td>198.00           </td><td>3                </td><td>...              </td><td>Plate            </td><td>2005             </td><td>Simplicit        </td><td>Steel/Concrete   </td><td>0.500            </td><td>Has_Elevator     </td><td>Ownership &gt; 5y</td><td>No_Subway        </td><td>ChaoYang         </td><td>48160            </td></tr>\n",
       "\t<tr><td>116.4380                                         </td><td>40.07611                                         </td><td>1.111043e+12                                     </td><td>2016-09-30                                       </td><td> 965                                             </td><td>138                                              </td><td> 297.5                                           </td><td>22202                                            </td><td>134.00                                           </td><td>3                                                </td><td>...                                              </td><td>Tower                                            </td><td>2008                                             </td><td><span style=white-space:pre-wrap>Other    </span></td><td>Steel/Concrete                                   </td><td>0.273                                            </td><td>Has_Elevator                                     </td><td>Ownership &gt; 5y                                </td><td>No_Subway                                        </td><td>ChangPing                                        </td><td>51238                                            </td></tr>\n",
       "\t<tr><td>116.4284                                              </td><td>39.88623                                              </td><td>1.111027e+12                                          </td><td>2016-08-28                                            </td><td> 927                                                  </td><td>286                                                   </td><td> 392.0                                                </td><td>48396                                                 </td><td> 81.00                                                </td><td>2                                                     </td><td>...                                                   </td><td>Plate                                                 </td><td>1960                                                  </td><td><span style=white-space:pre-wrap>Rough    </span>     </td><td><span style=white-space:pre-wrap>Mixed         </span></td><td>0.333                                                 </td><td>No_elevator                                           </td><td>Ownership &lt; 5y                                     </td><td>Has_Subway                                            </td><td>DongCheng                                             </td><td>62588                                                 </td></tr>\n",
       "\t<tr><td>116.4663         </td><td>39.99136         </td><td>1.111027e+12     </td><td>2016-07-22       </td><td> 861             </td><td> 57              </td><td> 275.6           </td><td>52000            </td><td> 53.00           </td><td>1                </td><td>...              </td><td>Plate            </td><td>2005             </td><td>Simplicit        </td><td>Steel/Concrete   </td><td>0.333            </td><td>Has_Elevator     </td><td>Ownership &lt; 5y</td><td>No_Subway        </td><td>ChaoYang         </td><td>67738            </td></tr>\n",
       "</tbody>\n",
       "</table>\n"
      ],
      "text/latex": [
       "\\begin{tabular}{r|llllllllllllllllllllllll}\n",
       " Lng & Lat & Cid & tradeTime & DOM & followers & totalPrice & price & square & livingRoom & ... & buildingType & constructionTime & renovationCondition & buildingStructure & ladderRatio & elevator & fiveYearsProperty & subway & district & communityAverage\\\\\n",
       "\\hline\n",
       "\t 116.4755       & 40.01952       & 1.111027e+12   & 2016-08-09     & 1464           & 106            &  415.0         & 31680          & 131.00         & 2              & ...            & Tower          & 2005           & Simplicit      & Steel/Concrete & 0.217          & Has\\_Elevator & Ownership > 5y & Has\\_Subway   & ChaoYang       & 56021         \\\\\n",
       "\t 116.4539       & 39.88153       & 1.111027e+12   & 2016-07-28     &  903           & 126            &  575.0         & 43436          & 132.38         & 2              & ...            & Tower          & 2004           & Hardcover      & Steel/Concrete & 0.667          & Has\\_Elevator & Ownership < 5y & No\\_Subway    & ChaoYang       & 71539         \\\\\n",
       "\t 116.5620       & 39.87714       & 1.111041e+12   & 2016-12-11     & 1271           &  48            & 1030.0         & 52021          & 198.00         & 3              & ...            & Plate          & 2005           & Simplicit      & Steel/Concrete & 0.500          & Has\\_Elevator & Ownership > 5y & No\\_Subway    & ChaoYang       & 48160         \\\\\n",
       "\t 116.4380       & 40.07611       & 1.111043e+12   & 2016-09-30     &  965           & 138            &  297.5         & 22202          & 134.00         & 3              & ...            & Tower          & 2008           & Other          & Steel/Concrete & 0.273          & Has\\_Elevator & Ownership > 5y & No\\_Subway    & ChangPing      & 51238         \\\\\n",
       "\t 116.4284       & 39.88623       & 1.111027e+12   & 2016-08-28     &  927           & 286            &  392.0         & 48396          &  81.00         & 2              & ...            & Plate          & 1960           & Rough          & Mixed          & 0.333          & No\\_elevator  & Ownership < 5y & Has\\_Subway   & DongCheng      & 62588         \\\\\n",
       "\t 116.4663       & 39.99136       & 1.111027e+12   & 2016-07-22     &  861           &  57            &  275.6         & 52000          &  53.00         & 1              & ...            & Plate          & 2005           & Simplicit      & Steel/Concrete & 0.333          & Has\\_Elevator & Ownership < 5y & No\\_Subway    & ChaoYang       & 67738         \\\\\n",
       "\\end{tabular}\n"
      ],
      "text/markdown": [
       "\n",
       "| Lng | Lat | Cid | tradeTime | DOM | followers | totalPrice | price | square | livingRoom | ... | buildingType | constructionTime | renovationCondition | buildingStructure | ladderRatio | elevator | fiveYearsProperty | subway | district | communityAverage |\n",
       "|---|---|---|---|---|---|---|---|---|---|---|---|---|---|---|---|---|---|---|---|---|\n",
       "| 116.4755       | 40.01952       | 1.111027e+12   | 2016-08-09     | 1464           | 106            |  415.0         | 31680          | 131.00         | 2              | ...            | Tower          | 2005           | Simplicit      | Steel/Concrete | 0.217          | Has_Elevator   | Ownership > 5y | Has_Subway     | ChaoYang       | 56021          |\n",
       "| 116.4539       | 39.88153       | 1.111027e+12   | 2016-07-28     |  903           | 126            |  575.0         | 43436          | 132.38         | 2              | ...            | Tower          | 2004           | Hardcover      | Steel/Concrete | 0.667          | Has_Elevator   | Ownership < 5y | No_Subway      | ChaoYang       | 71539          |\n",
       "| 116.5620       | 39.87714       | 1.111041e+12   | 2016-12-11     | 1271           |  48            | 1030.0         | 52021          | 198.00         | 3              | ...            | Plate          | 2005           | Simplicit      | Steel/Concrete | 0.500          | Has_Elevator   | Ownership > 5y | No_Subway      | ChaoYang       | 48160          |\n",
       "| 116.4380       | 40.07611       | 1.111043e+12   | 2016-09-30     |  965           | 138            |  297.5         | 22202          | 134.00         | 3              | ...            | Tower          | 2008           | Other          | Steel/Concrete | 0.273          | Has_Elevator   | Ownership > 5y | No_Subway      | ChangPing      | 51238          |\n",
       "| 116.4284       | 39.88623       | 1.111027e+12   | 2016-08-28     |  927           | 286            |  392.0         | 48396          |  81.00         | 2              | ...            | Plate          | 1960           | Rough          | Mixed          | 0.333          | No_elevator    | Ownership < 5y | Has_Subway     | DongCheng      | 62588          |\n",
       "| 116.4663       | 39.99136       | 1.111027e+12   | 2016-07-22     |  861           |  57            |  275.6         | 52000          |  53.00         | 1              | ...            | Plate          | 2005           | Simplicit      | Steel/Concrete | 0.333          | Has_Elevator   | Ownership < 5y | No_Subway      | ChaoYang       | 67738          |\n",
       "\n"
      ],
      "text/plain": [
       "  Lng      Lat      Cid          tradeTime  DOM  followers totalPrice price\n",
       "1 116.4755 40.01952 1.111027e+12 2016-08-09 1464 106        415.0     31680\n",
       "2 116.4539 39.88153 1.111027e+12 2016-07-28  903 126        575.0     43436\n",
       "3 116.5620 39.87714 1.111041e+12 2016-12-11 1271  48       1030.0     52021\n",
       "4 116.4380 40.07611 1.111043e+12 2016-09-30  965 138        297.5     22202\n",
       "5 116.4284 39.88623 1.111027e+12 2016-08-28  927 286        392.0     48396\n",
       "6 116.4663 39.99136 1.111027e+12 2016-07-22  861  57        275.6     52000\n",
       "  square livingRoom ... buildingType constructionTime renovationCondition\n",
       "1 131.00 2          ... Tower        2005             Simplicit          \n",
       "2 132.38 2          ... Tower        2004             Hardcover          \n",
       "3 198.00 3          ... Plate        2005             Simplicit          \n",
       "4 134.00 3          ... Tower        2008             Other              \n",
       "5  81.00 2          ... Plate        1960             Rough              \n",
       "6  53.00 1          ... Plate        2005             Simplicit          \n",
       "  buildingStructure ladderRatio elevator     fiveYearsProperty subway    \n",
       "1 Steel/Concrete    0.217       Has_Elevator Ownership > 5y    Has_Subway\n",
       "2 Steel/Concrete    0.667       Has_Elevator Ownership < 5y    No_Subway \n",
       "3 Steel/Concrete    0.500       Has_Elevator Ownership > 5y    No_Subway \n",
       "4 Steel/Concrete    0.273       Has_Elevator Ownership > 5y    No_Subway \n",
       "5 Mixed             0.333       No_elevator  Ownership < 5y    Has_Subway\n",
       "6 Steel/Concrete    0.333       Has_Elevator Ownership < 5y    No_Subway \n",
       "  district  communityAverage\n",
       "1 ChaoYang  56021           \n",
       "2 ChaoYang  71539           \n",
       "3 ChaoYang  48160           \n",
       "4 ChangPing 51238           \n",
       "5 DongCheng 62588           \n",
       "6 ChaoYang  67738           "
      ]
     },
     "metadata": {},
     "output_type": "display_data"
    }
   ],
   "source": [
    "head(cl_data)"
   ]
  },
  {
   "cell_type": "code",
   "execution_count": 4,
   "metadata": {},
   "outputs": [
    {
     "data": {
      "text/plain": [
       "      Lng             Lat             Cid              tradeTime         \n",
       " Min.   :116.1   Min.   :39.63   Min.   :1.111e+12   Min.   :2002-06-01  \n",
       " 1st Qu.:116.3   1st Qu.:39.89   1st Qu.:1.111e+12   1st Qu.:2013-12-26  \n",
       " Median :116.4   Median :39.93   Median :1.111e+12   Median :2015-09-27  \n",
       " Mean   :116.4   Mean   :39.95   Mean   :1.126e+12   Mean   :2015-04-30  \n",
       " 3rd Qu.:116.5   3rd Qu.:40.00   3rd Qu.:1.111e+12   3rd Qu.:2016-08-12  \n",
       " Max.   :116.7   Max.   :40.25   Max.   :1.185e+14   Max.   :2018-01-28  \n",
       "      DOM            followers         totalPrice         price       \n",
       " Min.   :   1.00   Min.   :   0.00   Min.   :  13.0   Min.   : 10000  \n",
       " 1st Qu.:   7.00   1st Qu.:   0.00   1st Qu.: 206.0   1st Qu.: 28362  \n",
       " Median :   7.00   Median :   5.00   Median : 295.0   Median : 39133  \n",
       " Mean   :  18.54   Mean   :  17.25   Mean   : 350.6   Mean   : 44003  \n",
       " 3rd Qu.:   8.00   3rd Qu.:  19.00   3rd Qu.: 428.0   3rd Qu.: 54348  \n",
       " Max.   :1677.00   Max.   :1143.00   Max.   :4900.0   Max.   :150000  \n",
       "     square         livingRoom    drawingRoom       kitchen      \n",
       " Min.   :  7.37   Min.   :0.00   Min.   :0.000   Min.   :0.0000  \n",
       " 1st Qu.: 57.91   1st Qu.:1.00   1st Qu.:1.000   1st Qu.:1.0000  \n",
       " Median : 73.92   Median :2.00   Median :1.000   Median :1.0000  \n",
       " Mean   : 82.58   Mean   :2.01   Mean   :1.171   Mean   :0.9949  \n",
       " 3rd Qu.: 98.15   3rd Qu.:2.00   3rd Qu.:1.000   3rd Qu.:1.0000  \n",
       " Max.   :640.00   Max.   :8.00   Max.   :5.000   Max.   :3.0000  \n",
       "    bathRoom         floor       buildingType       constructionTime\n",
       " Min.   :0.000   Min.   : 1.00   Length:296350      Min.   :1950    \n",
       " 1st Qu.:1.000   1st Qu.: 6.00   Class :character   1st Qu.:1994    \n",
       " Median :1.000   Median :11.00   Mode  :character   Median :2001    \n",
       " Mean   :1.182   Mean   :13.17                      Mean   :1999    \n",
       " 3rd Qu.:1.000   3rd Qu.:19.00                      3rd Qu.:2006    \n",
       " Max.   :7.000   Max.   :63.00                      Max.   :2016    \n",
       " renovationCondition buildingStructure   ladderRatio       elevator        \n",
       " Length:296350       Length:296350      Min.   :0.0140   Length:296350     \n",
       " Class :character    Class :character   1st Qu.:0.2500   Class :character  \n",
       " Mode  :character    Mode  :character   Median :0.3330   Mode  :character  \n",
       "                                        Mean   :0.3818                     \n",
       "                                        3rd Qu.:0.5000                     \n",
       "                                        Max.   :5.0000                     \n",
       " fiveYearsProperty     subway            district         communityAverage\n",
       " Length:296350      Length:296350      Length:296350      Min.   : 10847  \n",
       " Class :character   Class :character   Class :character   1st Qu.: 46578  \n",
       " Mode  :character   Mode  :character   Mode  :character   Median : 59060  \n",
       "                                                          Mean   : 63745  \n",
       "                                                          3rd Qu.: 75868  \n",
       "                                                          Max.   :183109  "
      ]
     },
     "metadata": {},
     "output_type": "display_data"
    }
   ],
   "source": [
    "summary(cl_data)"
   ]
  },
  {
   "cell_type": "code",
   "execution_count": 5,
   "metadata": {
    "scrolled": true
   },
   "outputs": [
    {
     "data": {
      "text/html": [
       "<ol class=list-inline>\n",
       "\t<li>2005</li>\n",
       "\t<li>2004</li>\n",
       "\t<li>2008</li>\n",
       "\t<li>1960</li>\n",
       "\t<li>1997</li>\n",
       "\t<li>2009</li>\n",
       "\t<li>1991</li>\n",
       "\t<li>2001</li>\n",
       "\t<li>1990</li>\n",
       "\t<li>2011</li>\n",
       "\t<li>2000</li>\n",
       "\t<li>1998</li>\n",
       "\t<li>2010</li>\n",
       "\t<li>1996</li>\n",
       "\t<li>1993</li>\n",
       "\t<li>2006</li>\n",
       "\t<li>2002</li>\n",
       "\t<li>2012</li>\n",
       "\t<li>1989</li>\n",
       "\t<li>2003</li>\n",
       "\t<li>2007</li>\n",
       "\t<li>1994</li>\n",
       "\t<li>1984</li>\n",
       "\t<li>1992</li>\n",
       "\t<li>2014</li>\n",
       "\t<li>1985</li>\n",
       "\t<li>1999</li>\n",
       "\t<li>1979</li>\n",
       "\t<li>1981</li>\n",
       "\t<li>1976</li>\n",
       "\t<li>1982</li>\n",
       "\t<li>1975</li>\n",
       "\t<li>1983</li>\n",
       "\t<li>1986</li>\n",
       "\t<li>1995</li>\n",
       "\t<li>1965</li>\n",
       "\t<li>2013</li>\n",
       "\t<li>1988</li>\n",
       "\t<li>1987</li>\n",
       "\t<li>2015</li>\n",
       "\t<li>1955</li>\n",
       "\t<li>1980</li>\n",
       "\t<li>1978</li>\n",
       "\t<li>1958</li>\n",
       "\t<li>1970</li>\n",
       "\t<li>1956</li>\n",
       "\t<li>1977</li>\n",
       "\t<li>1964</li>\n",
       "\t<li>1963</li>\n",
       "\t<li>1967</li>\n",
       "\t<li>2016</li>\n",
       "\t<li>1974</li>\n",
       "\t<li>1973</li>\n",
       "\t<li>1959</li>\n",
       "\t<li>1954</li>\n",
       "\t<li>1962</li>\n",
       "\t<li>1966</li>\n",
       "\t<li>1957</li>\n",
       "\t<li>1972</li>\n",
       "\t<li>1971</li>\n",
       "\t<li>1953</li>\n",
       "\t<li>1968</li>\n",
       "\t<li>1961</li>\n",
       "\t<li>1950</li>\n",
       "\t<li>1952</li>\n",
       "\t<li>1969</li>\n",
       "</ol>\n"
      ],
      "text/latex": [
       "\\begin{enumerate*}\n",
       "\\item 2005\n",
       "\\item 2004\n",
       "\\item 2008\n",
       "\\item 1960\n",
       "\\item 1997\n",
       "\\item 2009\n",
       "\\item 1991\n",
       "\\item 2001\n",
       "\\item 1990\n",
       "\\item 2011\n",
       "\\item 2000\n",
       "\\item 1998\n",
       "\\item 2010\n",
       "\\item 1996\n",
       "\\item 1993\n",
       "\\item 2006\n",
       "\\item 2002\n",
       "\\item 2012\n",
       "\\item 1989\n",
       "\\item 2003\n",
       "\\item 2007\n",
       "\\item 1994\n",
       "\\item 1984\n",
       "\\item 1992\n",
       "\\item 2014\n",
       "\\item 1985\n",
       "\\item 1999\n",
       "\\item 1979\n",
       "\\item 1981\n",
       "\\item 1976\n",
       "\\item 1982\n",
       "\\item 1975\n",
       "\\item 1983\n",
       "\\item 1986\n",
       "\\item 1995\n",
       "\\item 1965\n",
       "\\item 2013\n",
       "\\item 1988\n",
       "\\item 1987\n",
       "\\item 2015\n",
       "\\item 1955\n",
       "\\item 1980\n",
       "\\item 1978\n",
       "\\item 1958\n",
       "\\item 1970\n",
       "\\item 1956\n",
       "\\item 1977\n",
       "\\item 1964\n",
       "\\item 1963\n",
       "\\item 1967\n",
       "\\item 2016\n",
       "\\item 1974\n",
       "\\item 1973\n",
       "\\item 1959\n",
       "\\item 1954\n",
       "\\item 1962\n",
       "\\item 1966\n",
       "\\item 1957\n",
       "\\item 1972\n",
       "\\item 1971\n",
       "\\item 1953\n",
       "\\item 1968\n",
       "\\item 1961\n",
       "\\item 1950\n",
       "\\item 1952\n",
       "\\item 1969\n",
       "\\end{enumerate*}\n"
      ],
      "text/markdown": [
       "1. 2005\n",
       "2. 2004\n",
       "3. 2008\n",
       "4. 1960\n",
       "5. 1997\n",
       "6. 2009\n",
       "7. 1991\n",
       "8. 2001\n",
       "9. 1990\n",
       "10. 2011\n",
       "11. 2000\n",
       "12. 1998\n",
       "13. 2010\n",
       "14. 1996\n",
       "15. 1993\n",
       "16. 2006\n",
       "17. 2002\n",
       "18. 2012\n",
       "19. 1989\n",
       "20. 2003\n",
       "21. 2007\n",
       "22. 1994\n",
       "23. 1984\n",
       "24. 1992\n",
       "25. 2014\n",
       "26. 1985\n",
       "27. 1999\n",
       "28. 1979\n",
       "29. 1981\n",
       "30. 1976\n",
       "31. 1982\n",
       "32. 1975\n",
       "33. 1983\n",
       "34. 1986\n",
       "35. 1995\n",
       "36. 1965\n",
       "37. 2013\n",
       "38. 1988\n",
       "39. 1987\n",
       "40. 2015\n",
       "41. 1955\n",
       "42. 1980\n",
       "43. 1978\n",
       "44. 1958\n",
       "45. 1970\n",
       "46. 1956\n",
       "47. 1977\n",
       "48. 1964\n",
       "49. 1963\n",
       "50. 1967\n",
       "51. 2016\n",
       "52. 1974\n",
       "53. 1973\n",
       "54. 1959\n",
       "55. 1954\n",
       "56. 1962\n",
       "57. 1966\n",
       "58. 1957\n",
       "59. 1972\n",
       "60. 1971\n",
       "61. 1953\n",
       "62. 1968\n",
       "63. 1961\n",
       "64. 1950\n",
       "65. 1952\n",
       "66. 1969\n",
       "\n",
       "\n"
      ],
      "text/plain": [
       " [1] 2005 2004 2008 1960 1997 2009 1991 2001 1990 2011 2000 1998 2010 1996 1993\n",
       "[16] 2006 2002 2012 1989 2003 2007 1994 1984 1992 2014 1985 1999 1979 1981 1976\n",
       "[31] 1982 1975 1983 1986 1995 1965 2013 1988 1987 2015 1955 1980 1978 1958 1970\n",
       "[46] 1956 1977 1964 1963 1967 2016 1974 1973 1959 1954 1962 1966 1957 1972 1971\n",
       "[61] 1953 1968 1961 1950 1952 1969"
      ]
     },
     "metadata": {},
     "output_type": "display_data"
    }
   ],
   "source": [
    "unique(cl_data$constructionTime)"
   ]
  },
  {
   "cell_type": "code",
   "execution_count": null,
   "metadata": {},
   "outputs": [],
   "source": []
  },
  {
   "cell_type": "markdown",
   "metadata": {},
   "source": [
    "removing  Cid and total price. cid has too many factors (computer crashes when trained using as factor) "
   ]
  },
  {
   "cell_type": "code",
   "execution_count": 6,
   "metadata": {},
   "outputs": [],
   "source": [
    "data = cl_data[-c(3,7)]"
   ]
  },
  {
   "cell_type": "markdown",
   "metadata": {},
   "source": [
    "# Data After Modifiation"
   ]
  },
  {
   "cell_type": "code",
   "execution_count": 7,
   "metadata": {},
   "outputs": [
    {
     "data": {
      "text/html": [
       "<table>\n",
       "<thead><tr><th scope=col>Lng</th><th scope=col>Lat</th><th scope=col>tradeTime</th><th scope=col>DOM</th><th scope=col>followers</th><th scope=col>price</th><th scope=col>square</th><th scope=col>livingRoom</th><th scope=col>drawingRoom</th><th scope=col>kitchen</th><th scope=col>...</th><th scope=col>buildingType</th><th scope=col>constructionTime</th><th scope=col>renovationCondition</th><th scope=col>buildingStructure</th><th scope=col>ladderRatio</th><th scope=col>elevator</th><th scope=col>fiveYearsProperty</th><th scope=col>subway</th><th scope=col>district</th><th scope=col>communityAverage</th></tr></thead>\n",
       "<tbody>\n",
       "\t<tr><td>116.4755         </td><td>40.01952         </td><td>2016-08-09       </td><td>1464             </td><td>106              </td><td>31680            </td><td>131.00           </td><td>2                </td><td>1                </td><td>1                </td><td>...              </td><td>Tower            </td><td>2005             </td><td>Simplicit        </td><td>Steel/Concrete   </td><td>0.217            </td><td>Has_Elevator     </td><td>Ownership &gt; 5y</td><td>Has_Subway       </td><td>ChaoYang         </td><td>56021            </td></tr>\n",
       "\t<tr><td>116.4539         </td><td>39.88153         </td><td>2016-07-28       </td><td> 903             </td><td>126              </td><td>43436            </td><td>132.38           </td><td>2                </td><td>2                </td><td>1                </td><td>...              </td><td>Tower            </td><td>2004             </td><td>Hardcover        </td><td>Steel/Concrete   </td><td>0.667            </td><td>Has_Elevator     </td><td>Ownership &lt; 5y</td><td>No_Subway        </td><td>ChaoYang         </td><td>71539            </td></tr>\n",
       "\t<tr><td>116.5620         </td><td>39.87714         </td><td>2016-12-11       </td><td>1271             </td><td> 48              </td><td>52021            </td><td>198.00           </td><td>3                </td><td>2                </td><td>1                </td><td>...              </td><td>Plate            </td><td>2005             </td><td>Simplicit        </td><td>Steel/Concrete   </td><td>0.500            </td><td>Has_Elevator     </td><td>Ownership &gt; 5y</td><td>No_Subway        </td><td>ChaoYang         </td><td>48160            </td></tr>\n",
       "\t<tr><td>116.4380                                         </td><td>40.07611                                         </td><td>2016-09-30                                       </td><td> 965                                             </td><td>138                                              </td><td>22202                                            </td><td>134.00                                           </td><td>3                                                </td><td>1                                                </td><td>1                                                </td><td>...                                              </td><td>Tower                                            </td><td>2008                                             </td><td><span style=white-space:pre-wrap>Other    </span></td><td>Steel/Concrete                                   </td><td>0.273                                            </td><td>Has_Elevator                                     </td><td>Ownership &gt; 5y                                </td><td>No_Subway                                        </td><td>ChangPing                                        </td><td>51238                                            </td></tr>\n",
       "\t<tr><td>116.4284                                              </td><td>39.88623                                              </td><td>2016-08-28                                            </td><td> 927                                                  </td><td>286                                                   </td><td>48396                                                 </td><td> 81.00                                                </td><td>2                                                     </td><td>1                                                     </td><td>1                                                     </td><td>...                                                   </td><td>Plate                                                 </td><td>1960                                                  </td><td><span style=white-space:pre-wrap>Rough    </span>     </td><td><span style=white-space:pre-wrap>Mixed         </span></td><td>0.333                                                 </td><td>No_elevator                                           </td><td>Ownership &lt; 5y                                     </td><td>Has_Subway                                            </td><td>DongCheng                                             </td><td>62588                                                 </td></tr>\n",
       "\t<tr><td>116.4663         </td><td>39.99136         </td><td>2016-07-22       </td><td> 861             </td><td> 57              </td><td>52000            </td><td> 53.00           </td><td>1                </td><td>0                </td><td>1                </td><td>...              </td><td>Plate            </td><td>2005             </td><td>Simplicit        </td><td>Steel/Concrete   </td><td>0.333            </td><td>Has_Elevator     </td><td>Ownership &lt; 5y</td><td>No_Subway        </td><td>ChaoYang         </td><td>67738            </td></tr>\n",
       "</tbody>\n",
       "</table>\n"
      ],
      "text/latex": [
       "\\begin{tabular}{r|llllllllllllllllllllll}\n",
       " Lng & Lat & tradeTime & DOM & followers & price & square & livingRoom & drawingRoom & kitchen & ... & buildingType & constructionTime & renovationCondition & buildingStructure & ladderRatio & elevator & fiveYearsProperty & subway & district & communityAverage\\\\\n",
       "\\hline\n",
       "\t 116.4755       & 40.01952       & 2016-08-09     & 1464           & 106            & 31680          & 131.00         & 2              & 1              & 1              & ...            & Tower          & 2005           & Simplicit      & Steel/Concrete & 0.217          & Has\\_Elevator & Ownership > 5y & Has\\_Subway   & ChaoYang       & 56021         \\\\\n",
       "\t 116.4539       & 39.88153       & 2016-07-28     &  903           & 126            & 43436          & 132.38         & 2              & 2              & 1              & ...            & Tower          & 2004           & Hardcover      & Steel/Concrete & 0.667          & Has\\_Elevator & Ownership < 5y & No\\_Subway    & ChaoYang       & 71539         \\\\\n",
       "\t 116.5620       & 39.87714       & 2016-12-11     & 1271           &  48            & 52021          & 198.00         & 3              & 2              & 1              & ...            & Plate          & 2005           & Simplicit      & Steel/Concrete & 0.500          & Has\\_Elevator & Ownership > 5y & No\\_Subway    & ChaoYang       & 48160         \\\\\n",
       "\t 116.4380       & 40.07611       & 2016-09-30     &  965           & 138            & 22202          & 134.00         & 3              & 1              & 1              & ...            & Tower          & 2008           & Other          & Steel/Concrete & 0.273          & Has\\_Elevator & Ownership > 5y & No\\_Subway    & ChangPing      & 51238         \\\\\n",
       "\t 116.4284       & 39.88623       & 2016-08-28     &  927           & 286            & 48396          &  81.00         & 2              & 1              & 1              & ...            & Plate          & 1960           & Rough          & Mixed          & 0.333          & No\\_elevator  & Ownership < 5y & Has\\_Subway   & DongCheng      & 62588         \\\\\n",
       "\t 116.4663       & 39.99136       & 2016-07-22     &  861           &  57            & 52000          &  53.00         & 1              & 0              & 1              & ...            & Plate          & 2005           & Simplicit      & Steel/Concrete & 0.333          & Has\\_Elevator & Ownership < 5y & No\\_Subway    & ChaoYang       & 67738         \\\\\n",
       "\\end{tabular}\n"
      ],
      "text/markdown": [
       "\n",
       "| Lng | Lat | tradeTime | DOM | followers | price | square | livingRoom | drawingRoom | kitchen | ... | buildingType | constructionTime | renovationCondition | buildingStructure | ladderRatio | elevator | fiveYearsProperty | subway | district | communityAverage |\n",
       "|---|---|---|---|---|---|---|---|---|---|---|---|---|---|---|---|---|---|---|---|---|\n",
       "| 116.4755       | 40.01952       | 2016-08-09     | 1464           | 106            | 31680          | 131.00         | 2              | 1              | 1              | ...            | Tower          | 2005           | Simplicit      | Steel/Concrete | 0.217          | Has_Elevator   | Ownership > 5y | Has_Subway     | ChaoYang       | 56021          |\n",
       "| 116.4539       | 39.88153       | 2016-07-28     |  903           | 126            | 43436          | 132.38         | 2              | 2              | 1              | ...            | Tower          | 2004           | Hardcover      | Steel/Concrete | 0.667          | Has_Elevator   | Ownership < 5y | No_Subway      | ChaoYang       | 71539          |\n",
       "| 116.5620       | 39.87714       | 2016-12-11     | 1271           |  48            | 52021          | 198.00         | 3              | 2              | 1              | ...            | Plate          | 2005           | Simplicit      | Steel/Concrete | 0.500          | Has_Elevator   | Ownership > 5y | No_Subway      | ChaoYang       | 48160          |\n",
       "| 116.4380       | 40.07611       | 2016-09-30     |  965           | 138            | 22202          | 134.00         | 3              | 1              | 1              | ...            | Tower          | 2008           | Other          | Steel/Concrete | 0.273          | Has_Elevator   | Ownership > 5y | No_Subway      | ChangPing      | 51238          |\n",
       "| 116.4284       | 39.88623       | 2016-08-28     |  927           | 286            | 48396          |  81.00         | 2              | 1              | 1              | ...            | Plate          | 1960           | Rough          | Mixed          | 0.333          | No_elevator    | Ownership < 5y | Has_Subway     | DongCheng      | 62588          |\n",
       "| 116.4663       | 39.99136       | 2016-07-22     |  861           |  57            | 52000          |  53.00         | 1              | 0              | 1              | ...            | Plate          | 2005           | Simplicit      | Steel/Concrete | 0.333          | Has_Elevator   | Ownership < 5y | No_Subway      | ChaoYang       | 67738          |\n",
       "\n"
      ],
      "text/plain": [
       "  Lng      Lat      tradeTime  DOM  followers price square livingRoom\n",
       "1 116.4755 40.01952 2016-08-09 1464 106       31680 131.00 2         \n",
       "2 116.4539 39.88153 2016-07-28  903 126       43436 132.38 2         \n",
       "3 116.5620 39.87714 2016-12-11 1271  48       52021 198.00 3         \n",
       "4 116.4380 40.07611 2016-09-30  965 138       22202 134.00 3         \n",
       "5 116.4284 39.88623 2016-08-28  927 286       48396  81.00 2         \n",
       "6 116.4663 39.99136 2016-07-22  861  57       52000  53.00 1         \n",
       "  drawingRoom kitchen ... buildingType constructionTime renovationCondition\n",
       "1 1           1       ... Tower        2005             Simplicit          \n",
       "2 2           1       ... Tower        2004             Hardcover          \n",
       "3 2           1       ... Plate        2005             Simplicit          \n",
       "4 1           1       ... Tower        2008             Other              \n",
       "5 1           1       ... Plate        1960             Rough              \n",
       "6 0           1       ... Plate        2005             Simplicit          \n",
       "  buildingStructure ladderRatio elevator     fiveYearsProperty subway    \n",
       "1 Steel/Concrete    0.217       Has_Elevator Ownership > 5y    Has_Subway\n",
       "2 Steel/Concrete    0.667       Has_Elevator Ownership < 5y    No_Subway \n",
       "3 Steel/Concrete    0.500       Has_Elevator Ownership > 5y    No_Subway \n",
       "4 Steel/Concrete    0.273       Has_Elevator Ownership > 5y    No_Subway \n",
       "5 Mixed             0.333       No_elevator  Ownership < 5y    Has_Subway\n",
       "6 Steel/Concrete    0.333       Has_Elevator Ownership < 5y    No_Subway \n",
       "  district  communityAverage\n",
       "1 ChaoYang  56021           \n",
       "2 ChaoYang  71539           \n",
       "3 ChaoYang  48160           \n",
       "4 ChangPing 51238           \n",
       "5 DongCheng 62588           \n",
       "6 ChaoYang  67738           "
      ]
     },
     "metadata": {},
     "output_type": "display_data"
    }
   ],
   "source": [
    "head(data)"
   ]
  },
  {
   "cell_type": "code",
   "execution_count": 8,
   "metadata": {},
   "outputs": [
    {
     "data": {
      "text/html": [
       "<ol class=list-inline>\n",
       "\t<li>'Lng'</li>\n",
       "\t<li>'Lat'</li>\n",
       "\t<li>'tradeTime'</li>\n",
       "\t<li>'DOM'</li>\n",
       "\t<li>'followers'</li>\n",
       "\t<li>'price'</li>\n",
       "\t<li>'square'</li>\n",
       "\t<li>'livingRoom'</li>\n",
       "\t<li>'drawingRoom'</li>\n",
       "\t<li>'kitchen'</li>\n",
       "\t<li>'bathRoom'</li>\n",
       "\t<li>'floor'</li>\n",
       "\t<li>'buildingType'</li>\n",
       "\t<li>'constructionTime'</li>\n",
       "\t<li>'renovationCondition'</li>\n",
       "\t<li>'buildingStructure'</li>\n",
       "\t<li>'ladderRatio'</li>\n",
       "\t<li>'elevator'</li>\n",
       "\t<li>'fiveYearsProperty'</li>\n",
       "\t<li>'subway'</li>\n",
       "\t<li>'district'</li>\n",
       "\t<li>'communityAverage'</li>\n",
       "</ol>\n"
      ],
      "text/latex": [
       "\\begin{enumerate*}\n",
       "\\item 'Lng'\n",
       "\\item 'Lat'\n",
       "\\item 'tradeTime'\n",
       "\\item 'DOM'\n",
       "\\item 'followers'\n",
       "\\item 'price'\n",
       "\\item 'square'\n",
       "\\item 'livingRoom'\n",
       "\\item 'drawingRoom'\n",
       "\\item 'kitchen'\n",
       "\\item 'bathRoom'\n",
       "\\item 'floor'\n",
       "\\item 'buildingType'\n",
       "\\item 'constructionTime'\n",
       "\\item 'renovationCondition'\n",
       "\\item 'buildingStructure'\n",
       "\\item 'ladderRatio'\n",
       "\\item 'elevator'\n",
       "\\item 'fiveYearsProperty'\n",
       "\\item 'subway'\n",
       "\\item 'district'\n",
       "\\item 'communityAverage'\n",
       "\\end{enumerate*}\n"
      ],
      "text/markdown": [
       "1. 'Lng'\n",
       "2. 'Lat'\n",
       "3. 'tradeTime'\n",
       "4. 'DOM'\n",
       "5. 'followers'\n",
       "6. 'price'\n",
       "7. 'square'\n",
       "8. 'livingRoom'\n",
       "9. 'drawingRoom'\n",
       "10. 'kitchen'\n",
       "11. 'bathRoom'\n",
       "12. 'floor'\n",
       "13. 'buildingType'\n",
       "14. 'constructionTime'\n",
       "15. 'renovationCondition'\n",
       "16. 'buildingStructure'\n",
       "17. 'ladderRatio'\n",
       "18. 'elevator'\n",
       "19. 'fiveYearsProperty'\n",
       "20. 'subway'\n",
       "21. 'district'\n",
       "22. 'communityAverage'\n",
       "\n",
       "\n"
      ],
      "text/plain": [
       " [1] \"Lng\"                 \"Lat\"                 \"tradeTime\"          \n",
       " [4] \"DOM\"                 \"followers\"           \"price\"              \n",
       " [7] \"square\"              \"livingRoom\"          \"drawingRoom\"        \n",
       "[10] \"kitchen\"             \"bathRoom\"            \"floor\"              \n",
       "[13] \"buildingType\"        \"constructionTime\"    \"renovationCondition\"\n",
       "[16] \"buildingStructure\"   \"ladderRatio\"         \"elevator\"           \n",
       "[19] \"fiveYearsProperty\"   \"subway\"              \"district\"           \n",
       "[22] \"communityAverage\"   "
      ]
     },
     "metadata": {},
     "output_type": "display_data"
    }
   ],
   "source": [
    "colnames(data)"
   ]
  },
  {
   "cell_type": "code",
   "execution_count": 9,
   "metadata": {},
   "outputs": [
    {
     "name": "stdout",
     "output_type": "stream",
     "text": [
      "Classes 'tbl_df', 'tbl' and 'data.frame':\t296350 obs. of  22 variables:\n",
      " $ Lng                : num  116 116 117 116 116 ...\n",
      " $ Lat                : num  40 39.9 39.9 40.1 39.9 ...\n",
      " $ tradeTime          : Date, format: \"2016-08-09\" \"2016-07-28\" ...\n",
      " $ DOM                : num  1464 903 1271 965 927 ...\n",
      " $ followers          : num  106 126 48 138 286 57 167 138 218 134 ...\n",
      " $ price              : num  31680 43436 52021 22202 48396 ...\n",
      " $ square             : num  131 132 198 134 81 ...\n",
      " $ livingRoom         : num  2 2 3 3 2 1 2 3 1 1 ...\n",
      " $ drawingRoom        : num  1 2 2 1 1 0 1 2 0 0 ...\n",
      " $ kitchen            : num  1 1 1 1 1 1 1 1 1 0 ...\n",
      " $ bathRoom           : num  1 2 3 1 1 1 1 2 1 0 ...\n",
      " $ floor              : num  26 22 4 21 6 8 6 22 10 23 ...\n",
      " $ buildingType       : chr  \"Tower\" \"Tower\" \"Plate\" \"Tower\" ...\n",
      " $ constructionTime   : num  2005 2004 2005 2008 1960 ...\n",
      " $ renovationCondition: chr  \"Simplicit\" \"Hardcover\" \"Simplicit\" \"Other\" ...\n",
      " $ buildingStructure  : chr  \"Steel/Concrete\" \"Steel/Concrete\" \"Steel/Concrete\" \"Steel/Concrete\" ...\n",
      " $ ladderRatio        : num  0.217 0.667 0.5 0.273 0.333 0.333 0.5 0.667 0.333 0.308 ...\n",
      " $ elevator           : chr  \"Has_Elevator\" \"Has_Elevator\" \"Has_Elevator\" \"Has_Elevator\" ...\n",
      " $ fiveYearsProperty  : chr  \"Ownership > 5y\" \"Ownership < 5y\" \"Ownership > 5y\" \"Ownership > 5y\" ...\n",
      " $ subway             : chr  \"Has_Subway\" \"No_Subway\" \"No_Subway\" \"No_Subway\" ...\n",
      " $ district           : chr  \"ChaoYang\" \"ChaoYang\" \"ChaoYang\" \"ChangPing\" ...\n",
      " $ communityAverage   : num  56021 71539 48160 51238 62588 ...\n"
     ]
    }
   ],
   "source": [
    "str(data)"
   ]
  },
  {
   "cell_type": "markdown",
   "metadata": {},
   "source": [
    "# Runing an analysis of variabce to see the significat factors"
   ]
  },
  {
   "cell_type": "code",
   "execution_count": 10,
   "metadata": {},
   "outputs": [],
   "source": [
    "anova <- aov( price ~ . , data = data )"
   ]
  },
  {
   "cell_type": "code",
   "execution_count": 11,
   "metadata": {},
   "outputs": [
    {
     "data": {
      "text/plain": [
       "                        Df    Sum Sq   Mean Sq  F value Pr(>F)    \n",
       "Lng                      1 3.362e+12 3.362e+12  35190.1 <2e-16 ***\n",
       "Lat                      1 2.696e+11 2.696e+11   2822.3 <2e-16 ***\n",
       "tradeTime                1 3.956e+13 3.956e+13 414057.9 <2e-16 ***\n",
       "DOM                      1 9.809e+11 9.809e+11  10266.3 <2e-16 ***\n",
       "followers                1 1.049e+10 1.049e+10    109.8 <2e-16 ***\n",
       "square                   1 3.485e+12 3.485e+12  36475.2 <2e-16 ***\n",
       "livingRoom               1 3.904e+11 3.904e+11   4086.1 <2e-16 ***\n",
       "drawingRoom              1 5.909e+10 5.909e+10    618.4 <2e-16 ***\n",
       "kitchen                  1 1.609e+11 1.609e+11   1683.8 <2e-16 ***\n",
       "bathRoom                 1 4.947e+11 4.947e+11   5178.2 <2e-16 ***\n",
       "floor                    1 5.533e+11 5.533e+11   5791.1 <2e-16 ***\n",
       "buildingType             3 5.894e+11 1.965e+11   2056.5 <2e-16 ***\n",
       "constructionTime         1 5.432e+12 5.432e+12  56851.2 <2e-16 ***\n",
       "renovationCondition      3 1.355e+12 4.517e+11   4727.3 <2e-16 ***\n",
       "buildingStructure        5 1.086e+12 2.172e+11   2273.5 <2e-16 ***\n",
       "ladderRatio              1 3.749e+10 3.749e+10    392.4 <2e-16 ***\n",
       "elevator                 1 6.238e+11 6.238e+11   6529.0 <2e-16 ***\n",
       "fiveYearsProperty        1 4.374e+10 4.374e+10    457.8 <2e-16 ***\n",
       "subway                   1 3.756e+12 3.756e+12  39309.8 <2e-16 ***\n",
       "district                12 3.167e+13 2.639e+12  27626.5 <2e-16 ***\n",
       "communityAverage         1 1.693e+13 1.693e+13 177151.3 <2e-16 ***\n",
       "Residuals           296309 2.831e+13 9.554e+07                    \n",
       "---\n",
       "Signif. codes:  0 '***' 0.001 '**' 0.01 '*' 0.05 '.' 0.1 ' ' 1"
      ]
     },
     "metadata": {},
     "output_type": "display_data"
    }
   ],
   "source": [
    "summary(anova)"
   ]
  },
  {
   "cell_type": "markdown",
   "metadata": {},
   "source": [
    "# Spliting Data"
   ]
  },
  {
   "cell_type": "code",
   "execution_count": 12,
   "metadata": {},
   "outputs": [],
   "source": [
    "train_index <- sample(1:nrow(data), 0.8 * nrow(data))\n",
    "test_index <- setdiff(1:nrow(data), train_index)\n",
    "\n",
    "# Build X_train, y_train, X_test, y_test\n",
    "train <- data[train_index,]\n",
    "\n",
    "\n",
    "test <- data[test_index,]\n"
   ]
  },
  {
   "cell_type": "markdown",
   "metadata": {},
   "source": [
    "# Model creation"
   ]
  },
  {
   "cell_type": "markdown",
   "metadata": {},
   "source": [
    "## model with linercombiantion of all facotors"
   ]
  },
  {
   "cell_type": "code",
   "execution_count": 13,
   "metadata": {},
   "outputs": [],
   "source": [
    "model <- lm(price ~ . , data = train )"
   ]
  },
  {
   "cell_type": "code",
   "execution_count": 14,
   "metadata": {
    "scrolled": true
   },
   "outputs": [
    {
     "data": {
      "text/plain": [
       "\n",
       "Call:\n",
       "lm(formula = price ~ ., data = train)\n",
       "\n",
       "Residuals:\n",
       "   Min     1Q Median     3Q    Max \n",
       "-90497  -6055   -600   5426 142777 \n",
       "\n",
       "Coefficients:\n",
       "                                  Estimate Std. Error t value Pr(>|t|)    \n",
       "(Intercept)                      2.686e+05  5.809e+04   4.624 3.77e-06 ***\n",
       "Lng                             -3.208e+03  4.357e+02  -7.362 1.82e-13 ***\n",
       "Lat                             -3.686e+03  4.996e+02  -7.379 1.61e-13 ***\n",
       "tradeTime                        2.262e+01  5.154e-02 438.770  < 2e-16 ***\n",
       "DOM                              3.592e+01  6.316e-01  56.874  < 2e-16 ***\n",
       "followers                        8.755e+00  7.030e-01  12.453  < 2e-16 ***\n",
       "square                          -6.056e+01  1.236e+00 -48.999  < 2e-16 ***\n",
       "livingRoom                       1.122e+02  4.270e+01   2.629  0.00857 ** \n",
       "drawingRoom                      1.222e+03  5.139e+01  23.779  < 2e-16 ***\n",
       "kitchen                         -8.828e+02  2.130e+02  -4.145 3.40e-05 ***\n",
       "bathRoom                         1.060e+03  7.128e+01  14.874  < 2e-16 ***\n",
       "floor                           -7.748e+01  5.166e+00 -14.998  < 2e-16 ***\n",
       "buildingTypePlate               -1.408e+04  2.219e+03  -6.347 2.20e-10 ***\n",
       "buildingTypePlate/Tower         -1.453e+04  2.220e+03  -6.544 6.00e-11 ***\n",
       "buildingTypeTower               -1.413e+04  2.220e+03  -6.362 1.99e-10 ***\n",
       "constructionTime                -5.286e+01  3.491e+00 -15.141  < 2e-16 ***\n",
       "renovationConditionOther         5.942e+03  6.327e+01  93.909  < 2e-16 ***\n",
       "renovationConditionRough        -2.562e+03  1.602e+02 -15.991  < 2e-16 ***\n",
       "renovationConditionSimplicit    -9.454e+02  5.391e+01 -17.536  < 2e-16 ***\n",
       "buildingStructureBrick/Wood      1.312e+04  1.913e+03   6.859 6.95e-12 ***\n",
       "buildingStructureMixed           5.269e+02  1.009e+02   5.224 1.76e-07 ***\n",
       "buildingStructureSteel           8.669e+02  8.835e+02   0.981  0.32648    \n",
       "buildingStructureSteel/Concrete  2.623e+02  1.241e+02   2.113  0.03457 *  \n",
       "buildingStructureUnavailable    -4.425e+03  2.715e+03  -1.630  0.10313    \n",
       "ladderRatio                      2.012e+03  1.392e+02  14.461  < 2e-16 ***\n",
       "elevatorNo_elevator             -1.378e+03  9.183e+01 -15.006  < 2e-16 ***\n",
       "fiveYearsPropertyOwnership > 5y  1.497e+03  4.481e+01  33.414  < 2e-16 ***\n",
       "subwayNo_Subway                 -8.027e+02  4.541e+01 -17.674  < 2e-16 ***\n",
       "districtChaoYang                 1.409e+03  1.192e+02  11.818  < 2e-16 ***\n",
       "districtDaXing                  -4.066e+03  2.837e+02 -14.335  < 2e-16 ***\n",
       "districtDongCheng                6.854e+02  1.651e+02   4.153 3.29e-05 ***\n",
       "districtFangShang               -7.653e+03  3.010e+02 -25.426  < 2e-16 ***\n",
       "districtFaXing                  -1.045e+03  1.941e+02  -5.381 7.43e-08 ***\n",
       "districtFengTai                  7.944e+02  1.520e+02   5.226 1.74e-07 ***\n",
       "districtHaiDian                  2.395e+03  1.216e+02  19.704  < 2e-16 ***\n",
       "districtMenTouGou                5.190e+01  1.773e+02   0.293  0.76968    \n",
       "districtShiJingShan              1.067e+03  1.749e+02   6.102 1.05e-09 ***\n",
       "districtShunYi                   3.395e+03  3.299e+02  10.291  < 2e-16 ***\n",
       "districtTongZhou                 5.683e+02  1.877e+02   3.027  0.00247 ** \n",
       "districtXiCheng                 -3.394e+02  1.671e+02  -2.031  0.04225 *  \n",
       "communityAverage                 6.475e-01  1.721e-03 376.208  < 2e-16 ***\n",
       "---\n",
       "Signif. codes:  0 '***' 0.001 '**' 0.01 '*' 0.05 '.' 0.1 ' ' 1\n",
       "\n",
       "Residual standard error: 9776 on 237039 degrees of freedom\n",
       "Multiple R-squared:  0.7966,\tAdjusted R-squared:  0.7965 \n",
       "F-statistic: 2.32e+04 on 40 and 237039 DF,  p-value: < 2.2e-16\n"
      ]
     },
     "metadata": {},
     "output_type": "display_data"
    }
   ],
   "source": [
    "summary(model)"
   ]
  },
  {
   "cell_type": "markdown",
   "metadata": {},
   "source": [
    "mean funtion not working had to imporvised now "
   ]
  },
  {
   "cell_type": "code",
   "execution_count": 15,
   "metadata": {},
   "outputs": [
    {
     "data": {
      "text/html": [
       "9769.75153797473"
      ],
      "text/latex": [
       "9769.75153797473"
      ],
      "text/markdown": [
       "9769.75153797473"
      ],
      "text/plain": [
       "[1] 9769.752"
      ]
     },
     "metadata": {},
     "output_type": "display_data"
    }
   ],
   "source": [
    "p = predict(model, test)\n",
    "error = (p-test[6])\n",
    "mean(as.matrix(error)^2)^.5"
   ]
  },
  {
   "cell_type": "markdown",
   "metadata": {},
   "source": [
    "## model with limited factors for initial testing"
   ]
  },
  {
   "cell_type": "code",
   "execution_count": 16,
   "metadata": {},
   "outputs": [],
   "source": [
    "model_limited <- lm(price ~ square + buildingType +constructionTime + subway + district , data = train )\n"
   ]
  },
  {
   "cell_type": "code",
   "execution_count": 17,
   "metadata": {
    "scrolled": true
   },
   "outputs": [
    {
     "data": {
      "text/plain": [
       "\n",
       "Call:\n",
       "lm(formula = price ~ square + buildingType + constructionTime + \n",
       "    subway + district, data = train)\n",
       "\n",
       "Residuals:\n",
       "   Min     1Q Median     3Q    Max \n",
       "-75171 -11243  -3434   9115 113328 \n",
       "\n",
       "Coefficients:\n",
       "                          Estimate Std. Error t value Pr(>|t|)    \n",
       "(Intercept)              78277.333  10487.504   7.464 8.43e-14 ***\n",
       "square                     -30.529      1.106 -27.615  < 2e-16 ***\n",
       "buildingTypePlate       -36439.404   2973.292 -12.256  < 2e-16 ***\n",
       "buildingTypePlate/Tower -35698.590   2974.534 -12.001  < 2e-16 ***\n",
       "buildingTypeTower       -38477.931   2974.069 -12.938  < 2e-16 ***\n",
       "constructionTime            -3.250      5.056  -0.643 0.520296    \n",
       "subwayNo_Subway          -3811.909     79.318 -48.059  < 2e-16 ***\n",
       "districtChaoYang         12827.732    129.018  99.426  < 2e-16 ***\n",
       "districtDaXing            1540.359    430.662   3.577 0.000348 ***\n",
       "districtDongCheng        29373.899    197.911 148.420  < 2e-16 ***\n",
       "districtFangShang        -1414.345    397.541  -3.558 0.000374 ***\n",
       "districtFaXing            -376.819    195.391  -1.929 0.053790 .  \n",
       "districtFengTai           7790.230    163.539  47.635  < 2e-16 ***\n",
       "districtHaiDian          24443.848    153.690 159.046  < 2e-16 ***\n",
       "districtMenTouGou        -5423.780    234.253 -23.153  < 2e-16 ***\n",
       "districtShiJingShan       5549.843    225.250  24.639  < 2e-16 ***\n",
       "districtShunYi           -3015.087    501.990  -6.006 1.90e-09 ***\n",
       "districtTongZhou         -2164.934    208.306 -10.393  < 2e-16 ***\n",
       "districtXiCheng          36396.710    168.333 216.219  < 2e-16 ***\n",
       "---\n",
       "Signif. codes:  0 '***' 0.001 '**' 0.01 '*' 0.05 '.' 0.1 ' ' 1\n",
       "\n",
       "Residual standard error: 17570 on 237061 degrees of freedom\n",
       "Multiple R-squared:  0.3425,\tAdjusted R-squared:  0.3424 \n",
       "F-statistic:  6859 on 18 and 237061 DF,  p-value: < 2.2e-16\n"
      ]
     },
     "metadata": {},
     "output_type": "display_data"
    }
   ],
   "source": [
    "summary(model_limited)"
   ]
  },
  {
   "cell_type": "code",
   "execution_count": 18,
   "metadata": {},
   "outputs": [
    {
     "data": {
      "text/html": [
       "17660.6989063656"
      ],
      "text/latex": [
       "17660.6989063656"
      ],
      "text/markdown": [
       "17660.6989063656"
      ],
      "text/plain": [
       "[1] 17660.7"
      ]
     },
     "metadata": {},
     "output_type": "display_data"
    }
   ],
   "source": [
    "p = predict(model_limited, test)\n",
    "error = (p-test[6])\n",
    "mean(as.matrix(error)^2)^.5"
   ]
  },
  {
   "cell_type": "markdown",
   "metadata": {},
   "source": [
    "'price'\n",
    "'square'\n",
    "'livingRoom'\n",
    "'drawingRoom'\n",
    "'kitchen'\n",
    "'bathRoom'\n",
    "'floor'\n",
    "'buildingType'\n",
    "'constructionTime'\n",
    "'renovationCondition'\n",
    "'buildingStructure'\n",
    "'ladderRatio'\n",
    "'elevator'\n",
    "'fiveYearsProperty'\n",
    "'subway'\n",
    "'district'## tree model"
   ]
  },
  {
   "cell_type": "code",
   "execution_count": 19,
   "metadata": {},
   "outputs": [],
   "source": [
    "fit <- rpart(price ~ square + livingRoom + drawingRoom + kitchen + bathRoom + floor + buildingType + \n",
    "             constructionTime + renovationCondition + buildingStructure + elevator+ subway+ district, data = train ,method=\"anova\")"
   ]
  },
  {
   "cell_type": "code",
   "execution_count": 20,
   "metadata": {
    "scrolled": true
   },
   "outputs": [
    {
     "name": "stdout",
     "output_type": "stream",
     "text": [
      "Call:\n",
      "rpart(formula = price ~ square + livingRoom + drawingRoom + kitchen + \n",
      "    bathRoom + floor + buildingType + constructionTime + renovationCondition + \n",
      "    buildingStructure + elevator + subway + district, data = train, \n",
      "    method = \"anova\")\n",
      "  n= 237080 \n",
      "\n",
      "          CP nsplit rel error    xerror        xstd\n",
      "1 0.23980338      0 1.0000000 1.0000042 0.004166674\n",
      "2 0.06286745      1 0.7601966 0.7602083 0.002945616\n",
      "3 0.05515125      2 0.6973292 0.6973434 0.002807699\n",
      "4 0.03627643      3 0.6421779 0.6421946 0.002664773\n",
      "5 0.01387834      4 0.6059015 0.6059226 0.002610417\n",
      "6 0.01121155      5 0.5920231 0.5920507 0.002519412\n",
      "7 0.01000000      6 0.5808116 0.5808424 0.002516809\n",
      "\n",
      "Variable importance\n",
      "           district renovationCondition   buildingStructure              subway \n",
      "                 68                  22                   2                   2 \n",
      "              floor            elevator        buildingType    constructionTime \n",
      "                  2                   1                   1                   1 \n",
      "\n",
      "Node number 1: 237080 observations,    complexity param=0.2398034\n",
      "  mean=43975.23, MSE=4.696693e+08 \n",
      "  left son=2 (172797 obs) right son=3 (64283 obs)\n",
      "  Primary splits:\n",
      "      district            splits as  LLLRLLLRLLLLR, improve=0.23980340, (0 missing)\n",
      "      renovationCondition splits as  RLRR, improve=0.09539608, (0 missing)\n",
      "      constructionTime    < 1992.5 to the right, improve=0.05722694, (0 missing)\n",
      "      subway              splits as  RL, improve=0.05318573, (0 missing)\n",
      "      square              < 78.815 to the right, improve=0.03734943, (0 missing)\n",
      "  Surrogate splits:\n",
      "      constructionTime  < 1980.5 to the right, agree=0.732, adj=0.012, (0 split)\n",
      "      square            < 31.935 to the right, agree=0.731, adj=0.007, (0 split)\n",
      "      floor             < 1.5    to the right, agree=0.729, adj=0.001, (0 split)\n",
      "      buildingType      splits as  RLLL,       agree=0.729, adj=0.001, (0 split)\n",
      "      buildingStructure splits as  LRLLLL,     agree=0.729, adj=0.001, (0 split)\n",
      "\n",
      "Node number 2: 172797 observations,    complexity param=0.06286745\n",
      "  mean=37502.26, MSE=2.575187e+08 \n",
      "  left son=4 (69981 obs) right son=5 (102816 obs)\n",
      "  Primary splits:\n",
      "      district            splits as  LRL-LLR-LLLL-, improve=0.15731420, (0 missing)\n",
      "      renovationCondition splits as  RLRR, improve=0.11889980, (0 missing)\n",
      "      subway              splits as  RL, improve=0.04453839, (0 missing)\n",
      "      buildingStructure   splits as  LLLLRL, improve=0.04383897, (0 missing)\n",
      "      floor               < 11.5   to the left,  improve=0.03558484, (0 missing)\n",
      "  Surrogate splits:\n",
      "      buildingStructure splits as  RLLRRL,     agree=0.666, adj=0.174, (0 split)\n",
      "      subway            splits as  RL,         agree=0.650, adj=0.136, (0 split)\n",
      "      floor             < 11.5   to the left,  agree=0.643, adj=0.118, (0 split)\n",
      "      elevator          splits as  RL,         agree=0.638, adj=0.105, (0 split)\n",
      "      buildingType      splits as  -LRR,       agree=0.624, adj=0.073, (0 split)\n",
      "\n",
      "Node number 3: 64283 observations,    complexity param=0.05515125\n",
      "  mean=61375.01, MSE=6.245635e+08 \n",
      "  left son=6 (23382 obs) right son=7 (40901 obs)\n",
      "  Primary splits:\n",
      "      renovationCondition splits as  RLRR, improve=0.15295710, (0 missing)\n",
      "      district            splits as  ---R---L----R, improve=0.04503412, (0 missing)\n",
      "      constructionTime    < 1994.5 to the right, improve=0.03508199, (0 missing)\n",
      "      square              < 79.515 to the right, improve=0.01873450, (0 missing)\n",
      "      subway              splits as  RL, improve=0.01632253, (0 missing)\n",
      "  Surrogate splits:\n",
      "      constructionTime  < 2013.5 to the right, agree=0.637, adj=0.001, (0 split)\n",
      "      square            < 15.69  to the left,  agree=0.637, adj=0.001, (0 split)\n",
      "      floor             < 1.5    to the left,  agree=0.637, adj=0.001, (0 split)\n",
      "      buildingType      splits as  LRRR,       agree=0.636, adj=0.001, (0 split)\n",
      "      buildingStructure splits as  RLRRRL,     agree=0.636, adj=0.000, (0 split)\n",
      "\n",
      "Node number 4: 69981 observations,    complexity param=0.01121155\n",
      "  mean=29787.39, MSE=1.413594e+08 \n",
      "  left son=8 (26164 obs) right son=9 (43817 obs)\n",
      "  Primary splits:\n",
      "      renovationCondition splits as  RLRR, improve=0.12619670, (0 missing)\n",
      "      buildingStructure   splits as  LRLLRL, improve=0.04800475, (0 missing)\n",
      "      constructionTime    < 2011.5 to the left,  improve=0.04543321, (0 missing)\n",
      "      elevator            splits as  RL, improve=0.03121660, (0 missing)\n",
      "      district            splits as  L-L-LL--LRLL-, improve=0.03106775, (0 missing)\n",
      "  Surrogate splits:\n",
      "      constructionTime < 1976.5 to the left,  agree=0.626, adj=0, (0 split)\n",
      "      bathRoom         < 0.5    to the left,  agree=0.626, adj=0, (0 split)\n",
      "      square           < 15.265 to the left,  agree=0.626, adj=0, (0 split)\n",
      "      floor            < 2.5    to the left,  agree=0.626, adj=0, (0 split)\n",
      "\n",
      "Node number 5: 102816 observations,    complexity param=0.03627643\n",
      "  mean=42753.33, MSE=2.684966e+08 \n",
      "  left son=10 (36881 obs) right son=11 (65935 obs)\n",
      "  Primary splits:\n",
      "      renovationCondition splits as  RLRR, improve=0.146322800, (0 missing)\n",
      "      subway              splits as  RL, improve=0.019169250, (0 missing)\n",
      "      district            splits as  -R----L------, improve=0.017645640, (0 missing)\n",
      "      constructionTime    < 2011.5 to the left,  improve=0.011311300, (0 missing)\n",
      "      square              < 45.615 to the right, improve=0.003816741, (0 missing)\n",
      "  Surrogate splits:\n",
      "      bathRoom   < 0.5    to the left,  agree=0.641, adj=0, (0 split)\n",
      "      kitchen    < 2.5    to the right, agree=0.641, adj=0, (0 split)\n",
      "      square     < 16.98  to the left,  agree=0.641, adj=0, (0 split)\n",
      "      livingRoom < 0.5    to the left,  agree=0.641, adj=0, (0 split)\n",
      "\n",
      "Node number 6: 23382 observations\n",
      "  mean=48447.97, MSE=4.306875e+08 \n",
      "\n",
      "Node number 7: 40901 observations,    complexity param=0.01387834\n",
      "  mean=68765.06, MSE=5.85253e+08 \n",
      "  left son=14 (26028 obs) right son=15 (14873 obs)\n",
      "  Primary splits:\n",
      "      district         splits as  ---L---L----R, improve=0.06455754, (0 missing)\n",
      "      constructionTime < 1994.5 to the right, improve=0.04439054, (0 missing)\n",
      "      square           < 79.525 to the right, improve=0.02444841, (0 missing)\n",
      "      subway           splits as  RL, improve=0.02067455, (0 missing)\n",
      "      floor            < 20.5   to the right, improve=0.01668130, (0 missing)\n",
      "  Surrogate splits:\n",
      "      constructionTime < 1984.5 to the right, agree=0.661, adj=0.069, (0 split)\n",
      "      square           < 36.285 to the right, agree=0.647, adj=0.030, (0 split)\n",
      "      kitchen          < 0.5    to the right, agree=0.638, adj=0.004, (0 split)\n",
      "      floor            < 3.5    to the right, agree=0.637, adj=0.001, (0 split)\n",
      "\n",
      "Node number 8: 26164 observations\n",
      "  mean=24321.57, MSE=9.526961e+07 \n",
      "\n",
      "Node number 9: 43817 observations\n",
      "  mean=33051.14, MSE=1.403894e+08 \n",
      "\n",
      "Node number 10: 36881 observations\n",
      "  mean=34372.6, MSE=1.635882e+08 \n",
      "\n",
      "Node number 11: 65935 observations\n",
      "  mean=47441.13, MSE=2.65915e+08 \n",
      "\n",
      "Node number 14: 26028 observations\n",
      "  mean=64118.57, MSE=4.788469e+08 \n",
      "\n",
      "Node number 15: 14873 observations\n",
      "  mean=76896.48, MSE=6.675629e+08 \n",
      "\n"
     ]
    }
   ],
   "source": [
    "summary(fit)"
   ]
  },
  {
   "cell_type": "code",
   "execution_count": 21,
   "metadata": {},
   "outputs": [
    {
     "data": {
      "text/html": [
       "16563.5133704194"
      ],
      "text/latex": [
       "16563.5133704194"
      ],
      "text/markdown": [
       "16563.5133704194"
      ],
      "text/plain": [
       "[1] 16563.51"
      ]
     },
     "metadata": {},
     "output_type": "display_data"
    }
   ],
   "source": [
    "p = predict(fit, test)\n",
    "error = (p-test[6])\n",
    "mean(as.matrix(error)^2)^.5"
   ]
  },
  {
   "cell_type": "code",
   "execution_count": 28,
   "metadata": {},
   "outputs": [],
   "source": [
    "save(fit, file = \"models/limited_model.rda\")"
   ]
  },
  {
   "cell_type": "markdown",
   "metadata": {},
   "source": [
    "## Random forest\n",
    "\n",
    "crashes computer uses all ram"
   ]
  },
  {
   "cell_type": "markdown",
   "metadata": {},
   "source": [
    "## Extended liner Model"
   ]
  },
  {
   "cell_type": "code",
   "execution_count": 23,
   "metadata": {},
   "outputs": [],
   "source": [
    "model_ext<- lm(price ~ square + livingRoom + drawingRoom + kitchen + bathRoom + floor + buildingType + \n",
    "             constructionTime + renovationCondition + buildingStructure + elevator+ subway+ district , data = train )"
   ]
  },
  {
   "cell_type": "code",
   "execution_count": 24,
   "metadata": {
    "scrolled": false
   },
   "outputs": [
    {
     "data": {
      "text/plain": [
       "\n",
       "Call:\n",
       "lm(formula = price ~ square + livingRoom + drawingRoom + kitchen + \n",
       "    bathRoom + floor + buildingType + constructionTime + renovationCondition + \n",
       "    buildingStructure + elevator + subway + district, data = train)\n",
       "\n",
       "Residuals:\n",
       "   Min     1Q Median     3Q    Max \n",
       "-81164 -10689  -2521   7984 121451 \n",
       "\n",
       "Coefficients:\n",
       "                                  Estimate Std. Error  t value Pr(>|t|)    \n",
       "(Intercept)                     273608.537  11879.595   23.032  < 2e-16 ***\n",
       "square                             -84.862      1.992  -42.605  < 2e-16 ***\n",
       "livingRoom                        1195.291     70.345   16.992  < 2e-16 ***\n",
       "drawingRoom                       -193.268     84.344   -2.291   0.0219 *  \n",
       "kitchen                           4621.144    351.271   13.156  < 2e-16 ***\n",
       "bathRoom                          3016.804    117.411   25.694  < 2e-16 ***\n",
       "floor                              132.518      8.404   15.768  < 2e-16 ***\n",
       "buildingTypePlate               -27471.663   3665.404   -7.495 6.66e-14 ***\n",
       "buildingTypePlate/Tower         -29892.826   3667.128   -8.152 3.61e-16 ***\n",
       "buildingTypeTower               -33360.534   3667.647   -9.096  < 2e-16 ***\n",
       "constructionTime                  -105.287      5.657  -18.610  < 2e-16 ***\n",
       "renovationConditionOther        -14421.870     78.300 -184.187  < 2e-16 ***\n",
       "renovationConditionRough         -3795.997    264.372  -14.359  < 2e-16 ***\n",
       "renovationConditionSimplicit     -1597.897     88.844  -17.985  < 2e-16 ***\n",
       "buildingStructureBrick/Wood      24456.826   3161.428    7.736 1.03e-14 ***\n",
       "buildingStructureMixed             832.174    166.610    4.995 5.90e-07 ***\n",
       "buildingStructureSteel            3037.442   1459.840    2.081   0.0375 *  \n",
       "buildingStructureSteel/Concrete   1975.792    204.559    9.659  < 2e-16 ***\n",
       "buildingStructureUnavailable      2574.674   4486.142    0.574   0.5660    \n",
       "elevatorNo_elevator              -3232.313    151.015  -21.404  < 2e-16 ***\n",
       "subwayNo_Subway                  -3435.356     73.308  -46.862  < 2e-16 ***\n",
       "districtChaoYang                 11379.648    124.411   91.468  < 2e-16 ***\n",
       "districtDaXing                     484.224    397.172    1.219   0.2228    \n",
       "districtDongCheng                28495.697    184.851  154.155  < 2e-16 ***\n",
       "districtFangShang                -5729.938    368.670  -15.542  < 2e-16 ***\n",
       "districtFaXing                     -35.319    181.412   -0.195   0.8456    \n",
       "districtFengTai                   6980.830    153.858   45.372  < 2e-16 ***\n",
       "districtHaiDian                  23661.268    144.109  164.191  < 2e-16 ***\n",
       "districtMenTouGou                -3965.132    215.814  -18.373  < 2e-16 ***\n",
       "districtShiJingShan               5295.864    210.409   25.169  < 2e-16 ***\n",
       "districtShunYi                   -5328.216    486.792  -10.946  < 2e-16 ***\n",
       "districtTongZhou                 -2100.139    192.716  -10.898  < 2e-16 ***\n",
       "districtXiCheng                  35324.639    156.774  225.322  < 2e-16 ***\n",
       "---\n",
       "Signif. codes:  0 '***' 0.001 '**' 0.01 '*' 0.05 '.' 0.1 ' ' 1\n",
       "\n",
       "Residual standard error: 16150 on 237047 degrees of freedom\n",
       "Multiple R-squared:  0.4445,\tAdjusted R-squared:  0.4445 \n",
       "F-statistic:  5928 on 32 and 237047 DF,  p-value: < 2.2e-16\n"
      ]
     },
     "metadata": {},
     "output_type": "display_data"
    }
   ],
   "source": [
    "summary(model_ext)"
   ]
  },
  {
   "cell_type": "code",
   "execution_count": 25,
   "metadata": {},
   "outputs": [
    {
     "data": {
      "text/html": [
       "16190.0909547996"
      ],
      "text/latex": [
       "16190.0909547996"
      ],
      "text/markdown": [
       "16190.0909547996"
      ],
      "text/plain": [
       "[1] 16190.09"
      ]
     },
     "metadata": {},
     "output_type": "display_data"
    }
   ],
   "source": [
    "p = predict(model_ext, test)\n",
    "error = (p-test[6])\n",
    "mean(as.matrix(error)^2)^.5"
   ]
  },
  {
   "cell_type": "code",
   "execution_count": 27,
   "metadata": {},
   "outputs": [],
   "source": [
    "save(model_ext, file = \"models/extended_model.rda\")"
   ]
  }
 ],
 "metadata": {
  "kernelspec": {
   "display_name": "R",
   "language": "R",
   "name": "ir"
  },
  "language_info": {
   "codemirror_mode": "r",
   "file_extension": ".r",
   "mimetype": "text/x-r-source",
   "name": "R",
   "pygments_lexer": "r",
   "version": "3.6.1"
  }
 },
 "nbformat": 4,
 "nbformat_minor": 4
}
