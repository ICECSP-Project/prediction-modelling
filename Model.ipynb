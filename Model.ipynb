{
 "cells": [
  {
   "cell_type": "markdown",
   "metadata": {},
   "source": [
    "# imports"
   ]
  },
  {
   "cell_type": "code",
   "execution_count": 5,
   "metadata": {},
   "outputs": [
    {
     "name": "stderr",
     "output_type": "stream",
     "text": [
      "\n",
      "Attaching package: ‘data.table’\n",
      "\n",
      "The following objects are masked from ‘package:dplyr’:\n",
      "\n",
      "    between, first, last\n",
      "\n",
      "The following object is masked from ‘package:purrr’:\n",
      "\n",
      "    transpose\n",
      "\n"
     ]
    },
    {
     "ename": "ERROR",
     "evalue": "Error in library(spatstat): there is no package called ‘spatstat’\n",
     "output_type": "error",
     "traceback": [
      "Error in library(spatstat): there is no package called ‘spatstat’\nTraceback:\n",
      "1. library(spatstat)"
     ]
    }
   ],
   "source": [
    "library(tidyverse)\n",
    "library(dplyr)\n",
    "library(data.table)\n",
    "library(spatstat)\n",
    "\n",
    "library(xgboost)\n",
    "library(gbm)\n",
    "\n",
    "library(rpart)\n",
    "library(caret)\n",
    "\n",
    "library(Metrics)"
   ]
  },
  {
   "cell_type": "code",
   "execution_count": 9,
   "metadata": {},
   "outputs": [
    {
     "name": "stderr",
     "output_type": "stream",
     "text": [
      "Warning message:\n",
      "“Missing column names filled in: 'X1' [1]”Parsed with column specification:\n",
      "cols(\n",
      "  .default = col_double(),\n",
      "  tradeTime = col_date(format = \"\"),\n",
      "  buildingType = col_character(),\n",
      "  renovationCondition = col_character(),\n",
      "  buildingStructure = col_character(),\n",
      "  elevator = col_character(),\n",
      "  fiveYearsProperty = col_character(),\n",
      "  subway = col_character(),\n",
      "  district = col_character()\n",
      ")\n",
      "See spec(...) for full column specifications.\n"
     ]
    }
   ],
   "source": [
    "cl_data <- read_csv(\"../datasets/Dataset 3 Beijing/Datacleaning/cleaned_beijing.csv\")\n",
    "#cl_data <- read_csv(\"cleaned_beijing.csv\")\n",
    "cl_data <- cl_data[ -c(1) ]"
   ]
  },
  {
   "cell_type": "code",
   "execution_count": 10,
   "metadata": {},
   "outputs": [
    {
     "data": {
      "text/html": [
       "<table>\n",
       "<thead><tr><th scope=col>Lng</th><th scope=col>Lat</th><th scope=col>Cid</th><th scope=col>tradeTime</th><th scope=col>DOM</th><th scope=col>followers</th><th scope=col>totalPrice</th><th scope=col>price</th><th scope=col>square</th><th scope=col>livingRoom</th><th scope=col>...</th><th scope=col>buildingType</th><th scope=col>constructionTime</th><th scope=col>renovationCondition</th><th scope=col>buildingStructure</th><th scope=col>ladderRatio</th><th scope=col>elevator</th><th scope=col>fiveYearsProperty</th><th scope=col>subway</th><th scope=col>district</th><th scope=col>communityAverage</th></tr></thead>\n",
       "<tbody>\n",
       "\t<tr><td>116.4755         </td><td>40.01952         </td><td>1.111027e+12     </td><td>2016-08-09       </td><td>1464             </td><td>106              </td><td> 415.0           </td><td>31680            </td><td>131.00           </td><td>2                </td><td>...              </td><td>Tower            </td><td>2005             </td><td>Simplicit        </td><td>Steel/Concrete   </td><td>0.217            </td><td>Has_Elevator     </td><td>Ownership &gt; 5y</td><td>Has_Subway       </td><td>ChaoYang         </td><td>56021            </td></tr>\n",
       "\t<tr><td>116.4539         </td><td>39.88153         </td><td>1.111027e+12     </td><td>2016-07-28       </td><td> 903             </td><td>126              </td><td> 575.0           </td><td>43436            </td><td>132.38           </td><td>2                </td><td>...              </td><td>Tower            </td><td>2004             </td><td>Hardcover        </td><td>Steel/Concrete   </td><td>0.667            </td><td>Has_Elevator     </td><td>Ownership &lt; 5y</td><td>No_Subway        </td><td>ChaoYang         </td><td>71539            </td></tr>\n",
       "\t<tr><td>116.5620         </td><td>39.87714         </td><td>1.111041e+12     </td><td>2016-12-11       </td><td>1271             </td><td> 48              </td><td>1030.0           </td><td>52021            </td><td>198.00           </td><td>3                </td><td>...              </td><td>Plate            </td><td>2005             </td><td>Simplicit        </td><td>Steel/Concrete   </td><td>0.500            </td><td>Has_Elevator     </td><td>Ownership &gt; 5y</td><td>No_Subway        </td><td>ChaoYang         </td><td>48160            </td></tr>\n",
       "\t<tr><td>116.4380                                         </td><td>40.07611                                         </td><td>1.111043e+12                                     </td><td>2016-09-30                                       </td><td> 965                                             </td><td>138                                              </td><td> 297.5                                           </td><td>22202                                            </td><td>134.00                                           </td><td>3                                                </td><td>...                                              </td><td>Tower                                            </td><td>2008                                             </td><td><span style=white-space:pre-wrap>Other    </span></td><td>Steel/Concrete                                   </td><td>0.273                                            </td><td>Has_Elevator                                     </td><td>Ownership &gt; 5y                                </td><td>No_Subway                                        </td><td>ChangPing                                        </td><td>51238                                            </td></tr>\n",
       "\t<tr><td>116.4284                                              </td><td>39.88623                                              </td><td>1.111027e+12                                          </td><td>2016-08-28                                            </td><td> 927                                                  </td><td>286                                                   </td><td> 392.0                                                </td><td>48396                                                 </td><td> 81.00                                                </td><td>2                                                     </td><td>...                                                   </td><td>Plate                                                 </td><td>1960                                                  </td><td><span style=white-space:pre-wrap>Rough    </span>     </td><td><span style=white-space:pre-wrap>Mixed         </span></td><td>0.333                                                 </td><td>No_elevator                                           </td><td>Ownership &lt; 5y                                     </td><td>Has_Subway                                            </td><td>DongCheng                                             </td><td>62588                                                 </td></tr>\n",
       "\t<tr><td>116.4663         </td><td>39.99136         </td><td>1.111027e+12     </td><td>2016-07-22       </td><td> 861             </td><td> 57              </td><td> 275.6           </td><td>52000            </td><td> 53.00           </td><td>1                </td><td>...              </td><td>Plate            </td><td>2005             </td><td>Simplicit        </td><td>Steel/Concrete   </td><td>0.333            </td><td>Has_Elevator     </td><td>Ownership &lt; 5y</td><td>No_Subway        </td><td>ChaoYang         </td><td>67738            </td></tr>\n",
       "</tbody>\n",
       "</table>\n"
      ],
      "text/latex": [
       "\\begin{tabular}{r|llllllllllllllllllllllll}\n",
       " Lng & Lat & Cid & tradeTime & DOM & followers & totalPrice & price & square & livingRoom & ... & buildingType & constructionTime & renovationCondition & buildingStructure & ladderRatio & elevator & fiveYearsProperty & subway & district & communityAverage\\\\\n",
       "\\hline\n",
       "\t 116.4755       & 40.01952       & 1.111027e+12   & 2016-08-09     & 1464           & 106            &  415.0         & 31680          & 131.00         & 2              & ...            & Tower          & 2005           & Simplicit      & Steel/Concrete & 0.217          & Has\\_Elevator & Ownership > 5y & Has\\_Subway   & ChaoYang       & 56021         \\\\\n",
       "\t 116.4539       & 39.88153       & 1.111027e+12   & 2016-07-28     &  903           & 126            &  575.0         & 43436          & 132.38         & 2              & ...            & Tower          & 2004           & Hardcover      & Steel/Concrete & 0.667          & Has\\_Elevator & Ownership < 5y & No\\_Subway    & ChaoYang       & 71539         \\\\\n",
       "\t 116.5620       & 39.87714       & 1.111041e+12   & 2016-12-11     & 1271           &  48            & 1030.0         & 52021          & 198.00         & 3              & ...            & Plate          & 2005           & Simplicit      & Steel/Concrete & 0.500          & Has\\_Elevator & Ownership > 5y & No\\_Subway    & ChaoYang       & 48160         \\\\\n",
       "\t 116.4380       & 40.07611       & 1.111043e+12   & 2016-09-30     &  965           & 138            &  297.5         & 22202          & 134.00         & 3              & ...            & Tower          & 2008           & Other          & Steel/Concrete & 0.273          & Has\\_Elevator & Ownership > 5y & No\\_Subway    & ChangPing      & 51238         \\\\\n",
       "\t 116.4284       & 39.88623       & 1.111027e+12   & 2016-08-28     &  927           & 286            &  392.0         & 48396          &  81.00         & 2              & ...            & Plate          & 1960           & Rough          & Mixed          & 0.333          & No\\_elevator  & Ownership < 5y & Has\\_Subway   & DongCheng      & 62588         \\\\\n",
       "\t 116.4663       & 39.99136       & 1.111027e+12   & 2016-07-22     &  861           &  57            &  275.6         & 52000          &  53.00         & 1              & ...            & Plate          & 2005           & Simplicit      & Steel/Concrete & 0.333          & Has\\_Elevator & Ownership < 5y & No\\_Subway    & ChaoYang       & 67738         \\\\\n",
       "\\end{tabular}\n"
      ],
      "text/markdown": [
       "\n",
       "| Lng | Lat | Cid | tradeTime | DOM | followers | totalPrice | price | square | livingRoom | ... | buildingType | constructionTime | renovationCondition | buildingStructure | ladderRatio | elevator | fiveYearsProperty | subway | district | communityAverage |\n",
       "|---|---|---|---|---|---|---|---|---|---|---|---|---|---|---|---|---|---|---|---|---|\n",
       "| 116.4755       | 40.01952       | 1.111027e+12   | 2016-08-09     | 1464           | 106            |  415.0         | 31680          | 131.00         | 2              | ...            | Tower          | 2005           | Simplicit      | Steel/Concrete | 0.217          | Has_Elevator   | Ownership > 5y | Has_Subway     | ChaoYang       | 56021          |\n",
       "| 116.4539       | 39.88153       | 1.111027e+12   | 2016-07-28     |  903           | 126            |  575.0         | 43436          | 132.38         | 2              | ...            | Tower          | 2004           | Hardcover      | Steel/Concrete | 0.667          | Has_Elevator   | Ownership < 5y | No_Subway      | ChaoYang       | 71539          |\n",
       "| 116.5620       | 39.87714       | 1.111041e+12   | 2016-12-11     | 1271           |  48            | 1030.0         | 52021          | 198.00         | 3              | ...            | Plate          | 2005           | Simplicit      | Steel/Concrete | 0.500          | Has_Elevator   | Ownership > 5y | No_Subway      | ChaoYang       | 48160          |\n",
       "| 116.4380       | 40.07611       | 1.111043e+12   | 2016-09-30     |  965           | 138            |  297.5         | 22202          | 134.00         | 3              | ...            | Tower          | 2008           | Other          | Steel/Concrete | 0.273          | Has_Elevator   | Ownership > 5y | No_Subway      | ChangPing      | 51238          |\n",
       "| 116.4284       | 39.88623       | 1.111027e+12   | 2016-08-28     |  927           | 286            |  392.0         | 48396          |  81.00         | 2              | ...            | Plate          | 1960           | Rough          | Mixed          | 0.333          | No_elevator    | Ownership < 5y | Has_Subway     | DongCheng      | 62588          |\n",
       "| 116.4663       | 39.99136       | 1.111027e+12   | 2016-07-22     |  861           |  57            |  275.6         | 52000          |  53.00         | 1              | ...            | Plate          | 2005           | Simplicit      | Steel/Concrete | 0.333          | Has_Elevator   | Ownership < 5y | No_Subway      | ChaoYang       | 67738          |\n",
       "\n"
      ],
      "text/plain": [
       "  Lng      Lat      Cid          tradeTime  DOM  followers totalPrice price\n",
       "1 116.4755 40.01952 1.111027e+12 2016-08-09 1464 106        415.0     31680\n",
       "2 116.4539 39.88153 1.111027e+12 2016-07-28  903 126        575.0     43436\n",
       "3 116.5620 39.87714 1.111041e+12 2016-12-11 1271  48       1030.0     52021\n",
       "4 116.4380 40.07611 1.111043e+12 2016-09-30  965 138        297.5     22202\n",
       "5 116.4284 39.88623 1.111027e+12 2016-08-28  927 286        392.0     48396\n",
       "6 116.4663 39.99136 1.111027e+12 2016-07-22  861  57        275.6     52000\n",
       "  square livingRoom ... buildingType constructionTime renovationCondition\n",
       "1 131.00 2          ... Tower        2005             Simplicit          \n",
       "2 132.38 2          ... Tower        2004             Hardcover          \n",
       "3 198.00 3          ... Plate        2005             Simplicit          \n",
       "4 134.00 3          ... Tower        2008             Other              \n",
       "5  81.00 2          ... Plate        1960             Rough              \n",
       "6  53.00 1          ... Plate        2005             Simplicit          \n",
       "  buildingStructure ladderRatio elevator     fiveYearsProperty subway    \n",
       "1 Steel/Concrete    0.217       Has_Elevator Ownership > 5y    Has_Subway\n",
       "2 Steel/Concrete    0.667       Has_Elevator Ownership < 5y    No_Subway \n",
       "3 Steel/Concrete    0.500       Has_Elevator Ownership > 5y    No_Subway \n",
       "4 Steel/Concrete    0.273       Has_Elevator Ownership > 5y    No_Subway \n",
       "5 Mixed             0.333       No_elevator  Ownership < 5y    Has_Subway\n",
       "6 Steel/Concrete    0.333       Has_Elevator Ownership < 5y    No_Subway \n",
       "  district  communityAverage\n",
       "1 ChaoYang  56021           \n",
       "2 ChaoYang  71539           \n",
       "3 ChaoYang  48160           \n",
       "4 ChangPing 51238           \n",
       "5 DongCheng 62588           \n",
       "6 ChaoYang  67738           "
      ]
     },
     "metadata": {},
     "output_type": "display_data"
    }
   ],
   "source": [
    "head(cl_data)"
   ]
  },
  {
   "cell_type": "code",
   "execution_count": 11,
   "metadata": {},
   "outputs": [
    {
     "data": {
      "text/plain": [
       "      Lng             Lat             Cid              tradeTime         \n",
       " Min.   :116.1   Min.   :39.63   Min.   :1.111e+12   Min.   :2002-06-01  \n",
       " 1st Qu.:116.3   1st Qu.:39.89   1st Qu.:1.111e+12   1st Qu.:2013-12-26  \n",
       " Median :116.4   Median :39.93   Median :1.111e+12   Median :2015-09-27  \n",
       " Mean   :116.4   Mean   :39.95   Mean   :1.126e+12   Mean   :2015-04-30  \n",
       " 3rd Qu.:116.5   3rd Qu.:40.00   3rd Qu.:1.111e+12   3rd Qu.:2016-08-12  \n",
       " Max.   :116.7   Max.   :40.25   Max.   :1.185e+14   Max.   :2018-01-28  \n",
       "      DOM            followers         totalPrice         price       \n",
       " Min.   :   1.00   Min.   :   0.00   Min.   :  13.0   Min.   : 10000  \n",
       " 1st Qu.:   7.00   1st Qu.:   0.00   1st Qu.: 206.0   1st Qu.: 28362  \n",
       " Median :   7.00   Median :   5.00   Median : 295.0   Median : 39132  \n",
       " Mean   :  18.54   Mean   :  17.25   Mean   : 350.6   Mean   : 44003  \n",
       " 3rd Qu.:   8.00   3rd Qu.:  19.00   3rd Qu.: 428.0   3rd Qu.: 54348  \n",
       " Max.   :1677.00   Max.   :1143.00   Max.   :4900.0   Max.   :150000  \n",
       "     square         livingRoom    drawingRoom       kitchen      \n",
       " Min.   :  7.37   Min.   :0.00   Min.   :0.000   Min.   :0.0000  \n",
       " 1st Qu.: 57.91   1st Qu.:1.00   1st Qu.:1.000   1st Qu.:1.0000  \n",
       " Median : 73.92   Median :2.00   Median :1.000   Median :1.0000  \n",
       " Mean   : 82.58   Mean   :2.01   Mean   :1.171   Mean   :0.9949  \n",
       " 3rd Qu.: 98.15   3rd Qu.:2.00   3rd Qu.:1.000   3rd Qu.:1.0000  \n",
       " Max.   :640.00   Max.   :8.00   Max.   :5.000   Max.   :3.0000  \n",
       "    bathRoom         floor       buildingType       constructionTime\n",
       " Min.   :0.000   Min.   : 1.00   Length:296350      Min.   :1950    \n",
       " 1st Qu.:1.000   1st Qu.: 6.00   Class :character   1st Qu.:1994    \n",
       " Median :1.000   Median :11.00   Mode  :character   Median :2001    \n",
       " Mean   :1.182   Mean   :13.17                      Mean   :1999    \n",
       " 3rd Qu.:1.000   3rd Qu.:19.00                      3rd Qu.:2006    \n",
       " Max.   :7.000   Max.   :63.00                      Max.   :2016    \n",
       " renovationCondition buildingStructure   ladderRatio       elevator        \n",
       " Length:296350       Length:296350      Min.   :0.0140   Length:296350     \n",
       " Class :character    Class :character   1st Qu.:0.2500   Class :character  \n",
       " Mode  :character    Mode  :character   Median :0.3330   Mode  :character  \n",
       "                                        Mean   :0.3818                     \n",
       "                                        3rd Qu.:0.5000                     \n",
       "                                        Max.   :5.0000                     \n",
       " fiveYearsProperty     subway            district         communityAverage\n",
       " Length:296350      Length:296350      Length:296350      Min.   : 10847  \n",
       " Class :character   Class :character   Class :character   1st Qu.: 46578  \n",
       " Mode  :character   Mode  :character   Mode  :character   Median : 59060  \n",
       "                                                          Mean   : 63745  \n",
       "                                                          3rd Qu.: 75868  \n",
       "                                                          Max.   :183109  "
      ]
     },
     "metadata": {},
     "output_type": "display_data"
    }
   ],
   "source": [
    "summary(cl_data)"
   ]
  },
  {
   "cell_type": "code",
   "execution_count": 12,
   "metadata": {
    "scrolled": true
   },
   "outputs": [
    {
     "data": {
      "text/html": [
       "<ol class=list-inline>\n",
       "\t<li>2005</li>\n",
       "\t<li>2004</li>\n",
       "\t<li>2008</li>\n",
       "\t<li>1960</li>\n",
       "\t<li>1997</li>\n",
       "\t<li>2009</li>\n",
       "\t<li>1991</li>\n",
       "\t<li>2001</li>\n",
       "\t<li>1990</li>\n",
       "\t<li>2011</li>\n",
       "\t<li>2000</li>\n",
       "\t<li>1998</li>\n",
       "\t<li>2010</li>\n",
       "\t<li>1996</li>\n",
       "\t<li>1993</li>\n",
       "\t<li>2006</li>\n",
       "\t<li>2002</li>\n",
       "\t<li>2012</li>\n",
       "\t<li>1989</li>\n",
       "\t<li>2003</li>\n",
       "\t<li>2007</li>\n",
       "\t<li>1994</li>\n",
       "\t<li>1984</li>\n",
       "\t<li>1992</li>\n",
       "\t<li>2014</li>\n",
       "\t<li>1985</li>\n",
       "\t<li>1999</li>\n",
       "\t<li>1979</li>\n",
       "\t<li>1981</li>\n",
       "\t<li>1976</li>\n",
       "\t<li>1982</li>\n",
       "\t<li>1975</li>\n",
       "\t<li>1983</li>\n",
       "\t<li>1986</li>\n",
       "\t<li>1995</li>\n",
       "\t<li>1965</li>\n",
       "\t<li>2013</li>\n",
       "\t<li>1988</li>\n",
       "\t<li>1987</li>\n",
       "\t<li>2015</li>\n",
       "\t<li>1955</li>\n",
       "\t<li>1980</li>\n",
       "\t<li>1978</li>\n",
       "\t<li>1958</li>\n",
       "\t<li>1970</li>\n",
       "\t<li>1956</li>\n",
       "\t<li>1977</li>\n",
       "\t<li>1964</li>\n",
       "\t<li>1963</li>\n",
       "\t<li>1967</li>\n",
       "\t<li>2016</li>\n",
       "\t<li>1974</li>\n",
       "\t<li>1973</li>\n",
       "\t<li>1959</li>\n",
       "\t<li>1954</li>\n",
       "\t<li>1962</li>\n",
       "\t<li>1966</li>\n",
       "\t<li>1957</li>\n",
       "\t<li>1972</li>\n",
       "\t<li>1971</li>\n",
       "\t<li>1953</li>\n",
       "\t<li>1968</li>\n",
       "\t<li>1961</li>\n",
       "\t<li>1950</li>\n",
       "\t<li>1952</li>\n",
       "\t<li>1969</li>\n",
       "</ol>\n"
      ],
      "text/latex": [
       "\\begin{enumerate*}\n",
       "\\item 2005\n",
       "\\item 2004\n",
       "\\item 2008\n",
       "\\item 1960\n",
       "\\item 1997\n",
       "\\item 2009\n",
       "\\item 1991\n",
       "\\item 2001\n",
       "\\item 1990\n",
       "\\item 2011\n",
       "\\item 2000\n",
       "\\item 1998\n",
       "\\item 2010\n",
       "\\item 1996\n",
       "\\item 1993\n",
       "\\item 2006\n",
       "\\item 2002\n",
       "\\item 2012\n",
       "\\item 1989\n",
       "\\item 2003\n",
       "\\item 2007\n",
       "\\item 1994\n",
       "\\item 1984\n",
       "\\item 1992\n",
       "\\item 2014\n",
       "\\item 1985\n",
       "\\item 1999\n",
       "\\item 1979\n",
       "\\item 1981\n",
       "\\item 1976\n",
       "\\item 1982\n",
       "\\item 1975\n",
       "\\item 1983\n",
       "\\item 1986\n",
       "\\item 1995\n",
       "\\item 1965\n",
       "\\item 2013\n",
       "\\item 1988\n",
       "\\item 1987\n",
       "\\item 2015\n",
       "\\item 1955\n",
       "\\item 1980\n",
       "\\item 1978\n",
       "\\item 1958\n",
       "\\item 1970\n",
       "\\item 1956\n",
       "\\item 1977\n",
       "\\item 1964\n",
       "\\item 1963\n",
       "\\item 1967\n",
       "\\item 2016\n",
       "\\item 1974\n",
       "\\item 1973\n",
       "\\item 1959\n",
       "\\item 1954\n",
       "\\item 1962\n",
       "\\item 1966\n",
       "\\item 1957\n",
       "\\item 1972\n",
       "\\item 1971\n",
       "\\item 1953\n",
       "\\item 1968\n",
       "\\item 1961\n",
       "\\item 1950\n",
       "\\item 1952\n",
       "\\item 1969\n",
       "\\end{enumerate*}\n"
      ],
      "text/markdown": [
       "1. 2005\n",
       "2. 2004\n",
       "3. 2008\n",
       "4. 1960\n",
       "5. 1997\n",
       "6. 2009\n",
       "7. 1991\n",
       "8. 2001\n",
       "9. 1990\n",
       "10. 2011\n",
       "11. 2000\n",
       "12. 1998\n",
       "13. 2010\n",
       "14. 1996\n",
       "15. 1993\n",
       "16. 2006\n",
       "17. 2002\n",
       "18. 2012\n",
       "19. 1989\n",
       "20. 2003\n",
       "21. 2007\n",
       "22. 1994\n",
       "23. 1984\n",
       "24. 1992\n",
       "25. 2014\n",
       "26. 1985\n",
       "27. 1999\n",
       "28. 1979\n",
       "29. 1981\n",
       "30. 1976\n",
       "31. 1982\n",
       "32. 1975\n",
       "33. 1983\n",
       "34. 1986\n",
       "35. 1995\n",
       "36. 1965\n",
       "37. 2013\n",
       "38. 1988\n",
       "39. 1987\n",
       "40. 2015\n",
       "41. 1955\n",
       "42. 1980\n",
       "43. 1978\n",
       "44. 1958\n",
       "45. 1970\n",
       "46. 1956\n",
       "47. 1977\n",
       "48. 1964\n",
       "49. 1963\n",
       "50. 1967\n",
       "51. 2016\n",
       "52. 1974\n",
       "53. 1973\n",
       "54. 1959\n",
       "55. 1954\n",
       "56. 1962\n",
       "57. 1966\n",
       "58. 1957\n",
       "59. 1972\n",
       "60. 1971\n",
       "61. 1953\n",
       "62. 1968\n",
       "63. 1961\n",
       "64. 1950\n",
       "65. 1952\n",
       "66. 1969\n",
       "\n",
       "\n"
      ],
      "text/plain": [
       " [1] 2005 2004 2008 1960 1997 2009 1991 2001 1990 2011 2000 1998 2010 1996 1993\n",
       "[16] 2006 2002 2012 1989 2003 2007 1994 1984 1992 2014 1985 1999 1979 1981 1976\n",
       "[31] 1982 1975 1983 1986 1995 1965 2013 1988 1987 2015 1955 1980 1978 1958 1970\n",
       "[46] 1956 1977 1964 1963 1967 2016 1974 1973 1959 1954 1962 1966 1957 1972 1971\n",
       "[61] 1953 1968 1961 1950 1952 1969"
      ]
     },
     "metadata": {},
     "output_type": "display_data"
    }
   ],
   "source": [
    "unique(cl_data$constructionTime)"
   ]
  },
  {
   "cell_type": "markdown",
   "metadata": {},
   "source": [
    "removing  Cid and price. cid has too many factors (computer crashes when trained using as factor) "
   ]
  },
  {
   "cell_type": "code",
   "execution_count": 13,
   "metadata": {},
   "outputs": [],
   "source": [
    "data = cl_data[-c(3,8)]"
   ]
  },
  {
   "cell_type": "markdown",
   "metadata": {},
   "source": [
    "# Data After Modifiation"
   ]
  },
  {
   "cell_type": "code",
   "execution_count": 14,
   "metadata": {},
   "outputs": [
    {
     "data": {
      "text/html": [
       "<table>\n",
       "<thead><tr><th scope=col>Lng</th><th scope=col>Lat</th><th scope=col>tradeTime</th><th scope=col>DOM</th><th scope=col>followers</th><th scope=col>totalPrice</th><th scope=col>square</th><th scope=col>livingRoom</th><th scope=col>drawingRoom</th><th scope=col>kitchen</th><th scope=col>...</th><th scope=col>buildingType</th><th scope=col>constructionTime</th><th scope=col>renovationCondition</th><th scope=col>buildingStructure</th><th scope=col>ladderRatio</th><th scope=col>elevator</th><th scope=col>fiveYearsProperty</th><th scope=col>subway</th><th scope=col>district</th><th scope=col>communityAverage</th></tr></thead>\n",
       "<tbody>\n",
       "\t<tr><td>116.4755         </td><td>40.01952         </td><td>2016-08-09       </td><td>1464             </td><td>106              </td><td> 415.0           </td><td>131.00           </td><td>2                </td><td>1                </td><td>1                </td><td>...              </td><td>Tower            </td><td>2005             </td><td>Simplicit        </td><td>Steel/Concrete   </td><td>0.217            </td><td>Has_Elevator     </td><td>Ownership &gt; 5y</td><td>Has_Subway       </td><td>ChaoYang         </td><td>56021            </td></tr>\n",
       "\t<tr><td>116.4539         </td><td>39.88153         </td><td>2016-07-28       </td><td> 903             </td><td>126              </td><td> 575.0           </td><td>132.38           </td><td>2                </td><td>2                </td><td>1                </td><td>...              </td><td>Tower            </td><td>2004             </td><td>Hardcover        </td><td>Steel/Concrete   </td><td>0.667            </td><td>Has_Elevator     </td><td>Ownership &lt; 5y</td><td>No_Subway        </td><td>ChaoYang         </td><td>71539            </td></tr>\n",
       "\t<tr><td>116.5620         </td><td>39.87714         </td><td>2016-12-11       </td><td>1271             </td><td> 48              </td><td>1030.0           </td><td>198.00           </td><td>3                </td><td>2                </td><td>1                </td><td>...              </td><td>Plate            </td><td>2005             </td><td>Simplicit        </td><td>Steel/Concrete   </td><td>0.500            </td><td>Has_Elevator     </td><td>Ownership &gt; 5y</td><td>No_Subway        </td><td>ChaoYang         </td><td>48160            </td></tr>\n",
       "\t<tr><td>116.4380                                         </td><td>40.07611                                         </td><td>2016-09-30                                       </td><td> 965                                             </td><td>138                                              </td><td> 297.5                                           </td><td>134.00                                           </td><td>3                                                </td><td>1                                                </td><td>1                                                </td><td>...                                              </td><td>Tower                                            </td><td>2008                                             </td><td><span style=white-space:pre-wrap>Other    </span></td><td>Steel/Concrete                                   </td><td>0.273                                            </td><td>Has_Elevator                                     </td><td>Ownership &gt; 5y                                </td><td>No_Subway                                        </td><td>ChangPing                                        </td><td>51238                                            </td></tr>\n",
       "\t<tr><td>116.4284                                              </td><td>39.88623                                              </td><td>2016-08-28                                            </td><td> 927                                                  </td><td>286                                                   </td><td> 392.0                                                </td><td> 81.00                                                </td><td>2                                                     </td><td>1                                                     </td><td>1                                                     </td><td>...                                                   </td><td>Plate                                                 </td><td>1960                                                  </td><td><span style=white-space:pre-wrap>Rough    </span>     </td><td><span style=white-space:pre-wrap>Mixed         </span></td><td>0.333                                                 </td><td>No_elevator                                           </td><td>Ownership &lt; 5y                                     </td><td>Has_Subway                                            </td><td>DongCheng                                             </td><td>62588                                                 </td></tr>\n",
       "\t<tr><td>116.4663         </td><td>39.99136         </td><td>2016-07-22       </td><td> 861             </td><td> 57              </td><td> 275.6           </td><td> 53.00           </td><td>1                </td><td>0                </td><td>1                </td><td>...              </td><td>Plate            </td><td>2005             </td><td>Simplicit        </td><td>Steel/Concrete   </td><td>0.333            </td><td>Has_Elevator     </td><td>Ownership &lt; 5y</td><td>No_Subway        </td><td>ChaoYang         </td><td>67738            </td></tr>\n",
       "</tbody>\n",
       "</table>\n"
      ],
      "text/latex": [
       "\\begin{tabular}{r|llllllllllllllllllllll}\n",
       " Lng & Lat & tradeTime & DOM & followers & totalPrice & square & livingRoom & drawingRoom & kitchen & ... & buildingType & constructionTime & renovationCondition & buildingStructure & ladderRatio & elevator & fiveYearsProperty & subway & district & communityAverage\\\\\n",
       "\\hline\n",
       "\t 116.4755       & 40.01952       & 2016-08-09     & 1464           & 106            &  415.0         & 131.00         & 2              & 1              & 1              & ...            & Tower          & 2005           & Simplicit      & Steel/Concrete & 0.217          & Has\\_Elevator & Ownership > 5y & Has\\_Subway   & ChaoYang       & 56021         \\\\\n",
       "\t 116.4539       & 39.88153       & 2016-07-28     &  903           & 126            &  575.0         & 132.38         & 2              & 2              & 1              & ...            & Tower          & 2004           & Hardcover      & Steel/Concrete & 0.667          & Has\\_Elevator & Ownership < 5y & No\\_Subway    & ChaoYang       & 71539         \\\\\n",
       "\t 116.5620       & 39.87714       & 2016-12-11     & 1271           &  48            & 1030.0         & 198.00         & 3              & 2              & 1              & ...            & Plate          & 2005           & Simplicit      & Steel/Concrete & 0.500          & Has\\_Elevator & Ownership > 5y & No\\_Subway    & ChaoYang       & 48160         \\\\\n",
       "\t 116.4380       & 40.07611       & 2016-09-30     &  965           & 138            &  297.5         & 134.00         & 3              & 1              & 1              & ...            & Tower          & 2008           & Other          & Steel/Concrete & 0.273          & Has\\_Elevator & Ownership > 5y & No\\_Subway    & ChangPing      & 51238         \\\\\n",
       "\t 116.4284       & 39.88623       & 2016-08-28     &  927           & 286            &  392.0         &  81.00         & 2              & 1              & 1              & ...            & Plate          & 1960           & Rough          & Mixed          & 0.333          & No\\_elevator  & Ownership < 5y & Has\\_Subway   & DongCheng      & 62588         \\\\\n",
       "\t 116.4663       & 39.99136       & 2016-07-22     &  861           &  57            &  275.6         &  53.00         & 1              & 0              & 1              & ...            & Plate          & 2005           & Simplicit      & Steel/Concrete & 0.333          & Has\\_Elevator & Ownership < 5y & No\\_Subway    & ChaoYang       & 67738         \\\\\n",
       "\\end{tabular}\n"
      ],
      "text/markdown": [
       "\n",
       "| Lng | Lat | tradeTime | DOM | followers | totalPrice | square | livingRoom | drawingRoom | kitchen | ... | buildingType | constructionTime | renovationCondition | buildingStructure | ladderRatio | elevator | fiveYearsProperty | subway | district | communityAverage |\n",
       "|---|---|---|---|---|---|---|---|---|---|---|---|---|---|---|---|---|---|---|---|---|\n",
       "| 116.4755       | 40.01952       | 2016-08-09     | 1464           | 106            |  415.0         | 131.00         | 2              | 1              | 1              | ...            | Tower          | 2005           | Simplicit      | Steel/Concrete | 0.217          | Has_Elevator   | Ownership > 5y | Has_Subway     | ChaoYang       | 56021          |\n",
       "| 116.4539       | 39.88153       | 2016-07-28     |  903           | 126            |  575.0         | 132.38         | 2              | 2              | 1              | ...            | Tower          | 2004           | Hardcover      | Steel/Concrete | 0.667          | Has_Elevator   | Ownership < 5y | No_Subway      | ChaoYang       | 71539          |\n",
       "| 116.5620       | 39.87714       | 2016-12-11     | 1271           |  48            | 1030.0         | 198.00         | 3              | 2              | 1              | ...            | Plate          | 2005           | Simplicit      | Steel/Concrete | 0.500          | Has_Elevator   | Ownership > 5y | No_Subway      | ChaoYang       | 48160          |\n",
       "| 116.4380       | 40.07611       | 2016-09-30     |  965           | 138            |  297.5         | 134.00         | 3              | 1              | 1              | ...            | Tower          | 2008           | Other          | Steel/Concrete | 0.273          | Has_Elevator   | Ownership > 5y | No_Subway      | ChangPing      | 51238          |\n",
       "| 116.4284       | 39.88623       | 2016-08-28     |  927           | 286            |  392.0         |  81.00         | 2              | 1              | 1              | ...            | Plate          | 1960           | Rough          | Mixed          | 0.333          | No_elevator    | Ownership < 5y | Has_Subway     | DongCheng      | 62588          |\n",
       "| 116.4663       | 39.99136       | 2016-07-22     |  861           |  57            |  275.6         |  53.00         | 1              | 0              | 1              | ...            | Plate          | 2005           | Simplicit      | Steel/Concrete | 0.333          | Has_Elevator   | Ownership < 5y | No_Subway      | ChaoYang       | 67738          |\n",
       "\n"
      ],
      "text/plain": [
       "  Lng      Lat      tradeTime  DOM  followers totalPrice square livingRoom\n",
       "1 116.4755 40.01952 2016-08-09 1464 106        415.0     131.00 2         \n",
       "2 116.4539 39.88153 2016-07-28  903 126        575.0     132.38 2         \n",
       "3 116.5620 39.87714 2016-12-11 1271  48       1030.0     198.00 3         \n",
       "4 116.4380 40.07611 2016-09-30  965 138        297.5     134.00 3         \n",
       "5 116.4284 39.88623 2016-08-28  927 286        392.0      81.00 2         \n",
       "6 116.4663 39.99136 2016-07-22  861  57        275.6      53.00 1         \n",
       "  drawingRoom kitchen ... buildingType constructionTime renovationCondition\n",
       "1 1           1       ... Tower        2005             Simplicit          \n",
       "2 2           1       ... Tower        2004             Hardcover          \n",
       "3 2           1       ... Plate        2005             Simplicit          \n",
       "4 1           1       ... Tower        2008             Other              \n",
       "5 1           1       ... Plate        1960             Rough              \n",
       "6 0           1       ... Plate        2005             Simplicit          \n",
       "  buildingStructure ladderRatio elevator     fiveYearsProperty subway    \n",
       "1 Steel/Concrete    0.217       Has_Elevator Ownership > 5y    Has_Subway\n",
       "2 Steel/Concrete    0.667       Has_Elevator Ownership < 5y    No_Subway \n",
       "3 Steel/Concrete    0.500       Has_Elevator Ownership > 5y    No_Subway \n",
       "4 Steel/Concrete    0.273       Has_Elevator Ownership > 5y    No_Subway \n",
       "5 Mixed             0.333       No_elevator  Ownership < 5y    Has_Subway\n",
       "6 Steel/Concrete    0.333       Has_Elevator Ownership < 5y    No_Subway \n",
       "  district  communityAverage\n",
       "1 ChaoYang  56021           \n",
       "2 ChaoYang  71539           \n",
       "3 ChaoYang  48160           \n",
       "4 ChangPing 51238           \n",
       "5 DongCheng 62588           \n",
       "6 ChaoYang  67738           "
      ]
     },
     "metadata": {},
     "output_type": "display_data"
    }
   ],
   "source": [
    "head(data)"
   ]
  },
  {
   "cell_type": "code",
   "execution_count": 8,
   "metadata": {},
   "outputs": [
    {
     "data": {
      "text/html": [
       "<ol class=list-inline>\n",
       "\t<li>'Lng'</li>\n",
       "\t<li>'Lat'</li>\n",
       "\t<li>'tradeTime'</li>\n",
       "\t<li>'DOM'</li>\n",
       "\t<li>'followers'</li>\n",
       "\t<li>'price'</li>\n",
       "\t<li>'square'</li>\n",
       "\t<li>'livingRoom'</li>\n",
       "\t<li>'drawingRoom'</li>\n",
       "\t<li>'kitchen'</li>\n",
       "\t<li>'bathRoom'</li>\n",
       "\t<li>'floor'</li>\n",
       "\t<li>'buildingType'</li>\n",
       "\t<li>'constructionTime'</li>\n",
       "\t<li>'renovationCondition'</li>\n",
       "\t<li>'buildingStructure'</li>\n",
       "\t<li>'ladderRatio'</li>\n",
       "\t<li>'elevator'</li>\n",
       "\t<li>'fiveYearsProperty'</li>\n",
       "\t<li>'subway'</li>\n",
       "\t<li>'district'</li>\n",
       "\t<li>'communityAverage'</li>\n",
       "</ol>\n"
      ],
      "text/latex": [
       "\\begin{enumerate*}\n",
       "\\item 'Lng'\n",
       "\\item 'Lat'\n",
       "\\item 'tradeTime'\n",
       "\\item 'DOM'\n",
       "\\item 'followers'\n",
       "\\item 'price'\n",
       "\\item 'square'\n",
       "\\item 'livingRoom'\n",
       "\\item 'drawingRoom'\n",
       "\\item 'kitchen'\n",
       "\\item 'bathRoom'\n",
       "\\item 'floor'\n",
       "\\item 'buildingType'\n",
       "\\item 'constructionTime'\n",
       "\\item 'renovationCondition'\n",
       "\\item 'buildingStructure'\n",
       "\\item 'ladderRatio'\n",
       "\\item 'elevator'\n",
       "\\item 'fiveYearsProperty'\n",
       "\\item 'subway'\n",
       "\\item 'district'\n",
       "\\item 'communityAverage'\n",
       "\\end{enumerate*}\n"
      ],
      "text/markdown": [
       "1. 'Lng'\n",
       "2. 'Lat'\n",
       "3. 'tradeTime'\n",
       "4. 'DOM'\n",
       "5. 'followers'\n",
       "6. 'price'\n",
       "7. 'square'\n",
       "8. 'livingRoom'\n",
       "9. 'drawingRoom'\n",
       "10. 'kitchen'\n",
       "11. 'bathRoom'\n",
       "12. 'floor'\n",
       "13. 'buildingType'\n",
       "14. 'constructionTime'\n",
       "15. 'renovationCondition'\n",
       "16. 'buildingStructure'\n",
       "17. 'ladderRatio'\n",
       "18. 'elevator'\n",
       "19. 'fiveYearsProperty'\n",
       "20. 'subway'\n",
       "21. 'district'\n",
       "22. 'communityAverage'\n",
       "\n",
       "\n"
      ],
      "text/plain": [
       " [1] \"Lng\"                 \"Lat\"                 \"tradeTime\"          \n",
       " [4] \"DOM\"                 \"followers\"           \"price\"              \n",
       " [7] \"square\"              \"livingRoom\"          \"drawingRoom\"        \n",
       "[10] \"kitchen\"             \"bathRoom\"            \"floor\"              \n",
       "[13] \"buildingType\"        \"constructionTime\"    \"renovationCondition\"\n",
       "[16] \"buildingStructure\"   \"ladderRatio\"         \"elevator\"           \n",
       "[19] \"fiveYearsProperty\"   \"subway\"              \"district\"           \n",
       "[22] \"communityAverage\"   "
      ]
     },
     "metadata": {},
     "output_type": "display_data"
    }
   ],
   "source": [
    "colnames(data)"
   ]
  },
  {
   "cell_type": "code",
   "execution_count": 15,
   "metadata": {},
   "outputs": [
    {
     "name": "stdout",
     "output_type": "stream",
     "text": [
      "Classes ‘tbl_df’, ‘tbl’ and 'data.frame':\t296350 obs. of  22 variables:\n",
      " $ Lng                : num  116 116 117 116 116 ...\n",
      " $ Lat                : num  40 39.9 39.9 40.1 39.9 ...\n",
      " $ tradeTime          : Date, format: \"2016-08-09\" \"2016-07-28\" ...\n",
      " $ DOM                : num  1464 903 1271 965 927 ...\n",
      " $ followers          : num  106 126 48 138 286 57 167 138 218 134 ...\n",
      " $ totalPrice         : num  415 575 1030 298 392 ...\n",
      " $ square             : num  131 132 198 134 81 ...\n",
      " $ livingRoom         : num  2 2 3 3 2 1 2 3 1 1 ...\n",
      " $ drawingRoom        : num  1 2 2 1 1 0 1 2 0 0 ...\n",
      " $ kitchen            : num  1 1 1 1 1 1 1 1 1 0 ...\n",
      " $ bathRoom           : num  1 2 3 1 1 1 1 2 1 0 ...\n",
      " $ floor              : num  26 22 4 21 6 8 6 22 10 23 ...\n",
      " $ buildingType       : chr  \"Tower\" \"Tower\" \"Plate\" \"Tower\" ...\n",
      " $ constructionTime   : num  2005 2004 2005 2008 1960 ...\n",
      " $ renovationCondition: chr  \"Simplicit\" \"Hardcover\" \"Simplicit\" \"Other\" ...\n",
      " $ buildingStructure  : chr  \"Steel/Concrete\" \"Steel/Concrete\" \"Steel/Concrete\" \"Steel/Concrete\" ...\n",
      " $ ladderRatio        : num  0.217 0.667 0.5 0.273 0.333 0.333 0.5 0.667 0.333 0.308 ...\n",
      " $ elevator           : chr  \"Has_Elevator\" \"Has_Elevator\" \"Has_Elevator\" \"Has_Elevator\" ...\n",
      " $ fiveYearsProperty  : chr  \"Ownership > 5y\" \"Ownership < 5y\" \"Ownership > 5y\" \"Ownership > 5y\" ...\n",
      " $ subway             : chr  \"Has_Subway\" \"No_Subway\" \"No_Subway\" \"No_Subway\" ...\n",
      " $ district           : chr  \"ChaoYang\" \"ChaoYang\" \"ChaoYang\" \"ChangPing\" ...\n",
      " $ communityAverage   : num  56021 71539 48160 51238 62588 ...\n"
     ]
    }
   ],
   "source": [
    "str(data)"
   ]
  },
  {
   "cell_type": "markdown",
   "metadata": {},
   "source": [
    "# Runing an analysis of variabce to see the significat factors"
   ]
  },
  {
   "cell_type": "code",
   "execution_count": 16,
   "metadata": {},
   "outputs": [],
   "source": [
    "anova <- aov( totalPrice ~ . , data = data )"
   ]
  },
  {
   "cell_type": "code",
   "execution_count": 17,
   "metadata": {},
   "outputs": [
    {
     "data": {
      "text/plain": [
       "                        Df    Sum Sq   Mean Sq   F value   Pr(>F)    \n",
       "Lng                      1 8.126e+07 8.126e+07 7.902e+03  < 2e-16 ***\n",
       "Lat                      1 7.025e+06 7.025e+06 6.831e+02  < 2e-16 ***\n",
       "tradeTime                1 2.484e+09 2.484e+09 2.416e+05  < 2e-16 ***\n",
       "DOM                      1 2.099e+08 2.099e+08 2.041e+04  < 2e-16 ***\n",
       "followers                1 6.227e+07 6.227e+07 6.055e+03  < 2e-16 ***\n",
       "square                   1 4.734e+09 4.734e+09 4.603e+05  < 2e-16 ***\n",
       "livingRoom               1 7.230e+06 7.230e+06 7.031e+02  < 2e-16 ***\n",
       "drawingRoom              1 4.820e+02 4.820e+02 4.700e-02    0.829    \n",
       "kitchen                  1 1.713e+07 1.713e+07 1.666e+03  < 2e-16 ***\n",
       "bathRoom                 1 1.284e+07 1.284e+07 1.248e+03  < 2e-16 ***\n",
       "floor                    1 7.971e+07 7.971e+07 7.751e+03  < 2e-16 ***\n",
       "buildingType             3 2.569e+07 8.563e+06 8.327e+02  < 2e-16 ***\n",
       "constructionTime         1 2.743e+08 2.743e+08 2.667e+04  < 2e-16 ***\n",
       "renovationCondition      3 9.563e+07 3.188e+07 3.100e+03  < 2e-16 ***\n",
       "buildingStructure        5 1.418e+08 2.835e+07 2.757e+03  < 2e-16 ***\n",
       "ladderRatio              1 2.268e+07 2.268e+07 2.205e+03  < 2e-16 ***\n",
       "elevator                 1 3.017e+07 3.017e+07 2.934e+03  < 2e-16 ***\n",
       "fiveYearsProperty        1 5.537e+05 5.537e+05 5.384e+01 2.18e-13 ***\n",
       "subway                   1 2.418e+08 2.418e+08 2.352e+04  < 2e-16 ***\n",
       "district                12 2.063e+09 1.719e+08 1.672e+04  < 2e-16 ***\n",
       "communityAverage         1 1.237e+09 1.237e+09 1.203e+05  < 2e-16 ***\n",
       "Residuals           296309 3.047e+09 1.028e+04                       \n",
       "---\n",
       "Signif. codes:  0 ‘***’ 0.001 ‘**’ 0.01 ‘*’ 0.05 ‘.’ 0.1 ‘ ’ 1"
      ]
     },
     "metadata": {},
     "output_type": "display_data"
    }
   ],
   "source": [
    "summary(anova)"
   ]
  },
  {
   "cell_type": "markdown",
   "metadata": {},
   "source": [
    "# Spliting Data"
   ]
  },
  {
   "cell_type": "code",
   "execution_count": 19,
   "metadata": {},
   "outputs": [
    {
     "data": {
      "text/html": [
       "<ol class=list-inline>\n",
       "\t<li>192629</li>\n",
       "\t<li>22</li>\n",
       "</ol>\n"
      ],
      "text/latex": [
       "\\begin{enumerate*}\n",
       "\\item 192629\n",
       "\\item 22\n",
       "\\end{enumerate*}\n"
      ],
      "text/markdown": [
       "1. 192629\n",
       "2. 22\n",
       "\n",
       "\n"
      ],
      "text/plain": [
       "[1] 192629     22"
      ]
     },
     "metadata": {},
     "output_type": "display_data"
    },
    {
     "data": {
      "text/html": [
       "<ol class=list-inline>\n",
       "\t<li>103721</li>\n",
       "\t<li>22</li>\n",
       "</ol>\n"
      ],
      "text/latex": [
       "\\begin{enumerate*}\n",
       "\\item 103721\n",
       "\\item 22\n",
       "\\end{enumerate*}\n"
      ],
      "text/markdown": [
       "1. 103721\n",
       "2. 22\n",
       "\n",
       "\n"
      ],
      "text/plain": [
       "[1] 103721     22"
      ]
     },
     "metadata": {},
     "output_type": "display_data"
    }
   ],
   "source": [
    "set.seed(193)\n",
    "inTrain = createDataPartition(data$totalPrice, p = 0.65, list = F)\n",
    "\n",
    "training = data[inTrain,]\n",
    "testing = data[-inTrain,]\n",
    "\n",
    "dim(training); dim(testing)"
   ]
  },
  {
   "cell_type": "markdown",
   "metadata": {},
   "source": [
    "# Model creation"
   ]
  },
  {
   "cell_type": "markdown",
   "metadata": {},
   "source": [
    "## model with linercombiantion of all facotors"
   ]
  },
  {
   "cell_type": "code",
   "execution_count": 20,
   "metadata": {},
   "outputs": [],
   "source": [
    "model <- lm(totalPrice ~ . , data = training )"
   ]
  },
  {
   "cell_type": "code",
   "execution_count": 21,
   "metadata": {},
   "outputs": [
    {
     "data": {
      "text/plain": [
       "\n",
       "Call:\n",
       "lm(formula = totalPrice ~ ., data = training)\n",
       "\n",
       "Residuals:\n",
       "     Min       1Q   Median       3Q      Max \n",
       "-1127.70   -52.89    -6.66    46.05  2874.40 \n",
       "\n",
       "Coefficients:\n",
       "                                  Estimate Std. Error t value Pr(>|t|)    \n",
       "(Intercept)                      7.664e+03  6.702e+02  11.435  < 2e-16 ***\n",
       "Lng                             -9.570e+01  5.024e+00 -19.050  < 2e-16 ***\n",
       "Lat                             -1.744e+01  5.763e+00  -3.027 0.002471 ** \n",
       "tradeTime                        1.744e-01  5.945e-04 293.295  < 2e-16 ***\n",
       "DOM                              4.095e-01  7.261e-03  56.392  < 2e-16 ***\n",
       "followers                        2.674e-03  8.013e-03   0.334 0.738608    \n",
       "square                           3.967e+00  1.426e-02 278.158  < 2e-16 ***\n",
       "livingRoom                      -5.237e-02  4.907e-01  -0.107 0.915012    \n",
       "drawingRoom                     -1.454e+00  5.933e-01  -2.451 0.014246 *  \n",
       "kitchen                          9.782e+00  2.469e+00   3.962 7.44e-05 ***\n",
       "bathRoom                        -5.961e+00  8.223e-01  -7.249 4.22e-13 ***\n",
       "floor                           -6.990e-01  5.940e-02 -11.768  < 2e-16 ***\n",
       "buildingTypePlate                1.008e+02  2.551e+01   3.953 7.73e-05 ***\n",
       "buildingTypePlate/Tower          9.441e+01  2.552e+01   3.699 0.000217 ***\n",
       "buildingTypeTower                9.425e+01  2.553e+01   3.692 0.000223 ***\n",
       "constructionTime                 3.924e-01  4.024e-02   9.750  < 2e-16 ***\n",
       "renovationConditionOther         4.211e+01  7.304e-01  57.649  < 2e-16 ***\n",
       "renovationConditionRough        -3.297e+01  1.851e+00 -17.810  < 2e-16 ***\n",
       "renovationConditionSimplicit    -1.427e+01  6.225e-01 -22.930  < 2e-16 ***\n",
       "buildingStructureBrick/Wood     -3.030e+00  2.159e+01  -0.140 0.888377    \n",
       "buildingStructureMixed           6.631e+00  1.174e+00   5.648 1.62e-08 ***\n",
       "buildingStructureSteel          -3.405e-01  1.055e+01  -0.032 0.974252    \n",
       "buildingStructureSteel/Concrete  1.826e+01  1.440e+00  12.683  < 2e-16 ***\n",
       "buildingStructureUnavailable    -3.197e+01  2.940e+01  -1.087 0.276894    \n",
       "ladderRatio                      5.337e+01  1.589e+00  33.588  < 2e-16 ***\n",
       "elevatorNo_elevator             -7.908e+00  1.056e+00  -7.488 7.03e-14 ***\n",
       "fiveYearsPropertyOwnership > 5y  8.858e+00  5.176e-01  17.112  < 2e-16 ***\n",
       "subwayNo_Subway                 -5.622e+00  5.247e-01 -10.715  < 2e-16 ***\n",
       "districtChaoYang                 5.793e+01  1.374e+00  42.160  < 2e-16 ***\n",
       "districtDaXing                   4.340e+00  3.306e+00   1.313 0.189296    \n",
       "districtDongCheng                1.674e+01  1.900e+00   8.812  < 2e-16 ***\n",
       "districtFangShang               -5.855e+01  3.485e+00 -16.803  < 2e-16 ***\n",
       "districtFaXing                   2.349e+01  2.238e+00  10.495  < 2e-16 ***\n",
       "districtFengTai                  4.534e+01  1.754e+00  25.851  < 2e-16 ***\n",
       "districtHaiDian                  3.971e+01  1.405e+00  28.274  < 2e-16 ***\n",
       "districtMenTouGou                3.225e+01  2.043e+00  15.788  < 2e-16 ***\n",
       "districtShiJingShan              5.144e+01  2.018e+00  25.490  < 2e-16 ***\n",
       "districtShunYi                   4.522e+01  3.794e+00  11.920  < 2e-16 ***\n",
       "districtTongZhou                 4.801e+01  2.167e+00  22.149  < 2e-16 ***\n",
       "districtXiCheng                 -8.658e+00  1.928e+00  -4.491 7.09e-06 ***\n",
       "communityAverage                 5.533e-03  1.984e-05 278.817  < 2e-16 ***\n",
       "---\n",
       "Signif. codes:  0 ‘***’ 0.001 ‘**’ 0.01 ‘*’ 0.05 ‘.’ 0.1 ‘ ’ 1\n",
       "\n",
       "Residual standard error: 101.7 on 192588 degrees of freedom\n",
       "Multiple R-squared:  0.794,\tAdjusted R-squared:  0.7939 \n",
       "F-statistic: 1.855e+04 on 40 and 192588 DF,  p-value: < 2.2e-16\n"
      ]
     },
     "metadata": {},
     "output_type": "display_data"
    }
   ],
   "source": [
    "summary(model)"
   ]
  },
  {
   "cell_type": "markdown",
   "metadata": {},
   "source": [
    "mean funtion not working had to imporvised now "
   ]
  },
  {
   "cell_type": "code",
   "execution_count": 23,
   "metadata": {},
   "outputs": [
    {
     "data": {
      "text/html": [
       "100.96"
      ],
      "text/latex": [
       "100.96"
      ],
      "text/markdown": [
       "100.96"
      ],
      "text/plain": [
       "[1] 100.96"
      ]
     },
     "metadata": {},
     "output_type": "display_data"
    }
   ],
   "source": [
    "pred = predict(model, testing)\n",
    "error = sqrt(sum((pred-testing[\"totalPrice\"])^2)/length(pred))\n",
    "round(error,2)"
   ]
  },
  {
   "cell_type": "markdown",
   "metadata": {},
   "source": [
    "## model with limited factors for initial testing"
   ]
  },
  {
   "cell_type": "code",
   "execution_count": 24,
   "metadata": {},
   "outputs": [],
   "source": [
    "model_limited <- lm(totalPrice ~ square + buildingType +constructionTime + subway + district , data = training )\n"
   ]
  },
  {
   "cell_type": "code",
   "execution_count": 25,
   "metadata": {},
   "outputs": [
    {
     "data": {
      "text/plain": [
       "\n",
       "Call:\n",
       "lm(formula = totalPrice ~ square + buildingType + constructionTime + \n",
       "    subway + district, data = training)\n",
       "\n",
       "Residuals:\n",
       "    Min      1Q  Median      3Q     Max \n",
       "-1141.9   -93.6   -19.9    73.8  3226.3 \n",
       "\n",
       "Coefficients:\n",
       "                          Estimate Std. Error t value Pr(>|t|)    \n",
       "(Intercept)             -2.294e+03  1.031e+02 -22.247  < 2e-16 ***\n",
       "square                   4.056e+00  1.093e-02 370.933  < 2e-16 ***\n",
       "buildingTypePlate        1.892e+01  2.732e+01   0.693 0.488485    \n",
       "buildingTypePlate/Tower  2.586e+01  2.733e+01   0.946 0.343990    \n",
       "buildingTypeTower       -3.572e+00  2.733e+01  -0.131 0.896010    \n",
       "constructionTime         1.086e+00  5.002e-02  21.709  < 2e-16 ***\n",
       "subwayNo_Subway         -3.323e+01  7.858e-01 -42.283  < 2e-16 ***\n",
       "districtChaoYang         1.500e+02  1.277e+00 117.435  < 2e-16 ***\n",
       "districtDaXing           3.817e+01  4.322e+00   8.832  < 2e-16 ***\n",
       "districtDongCheng        2.577e+02  1.950e+00 132.171  < 2e-16 ***\n",
       "districtFangShang        4.616e-01  3.955e+00   0.117 0.907092    \n",
       "districtFaXing           2.403e+01  1.930e+00  12.448  < 2e-16 ***\n",
       "districtFengTai          1.067e+02  1.618e+00  65.963  < 2e-16 ***\n",
       "districtHaiDian          2.343e+02  1.523e+00 153.790  < 2e-16 ***\n",
       "districtMenTouGou       -2.898e+01  2.316e+00 -12.511  < 2e-16 ***\n",
       "districtShiJingShan      1.028e+02  2.229e+00  46.131  < 2e-16 ***\n",
       "districtShunYi           8.935e+00  4.945e+00   1.807 0.070817 .  \n",
       "districtTongZhou         7.283e+00  2.069e+00   3.520 0.000432 ***\n",
       "districtXiCheng          3.033e+02  1.665e+00 182.174  < 2e-16 ***\n",
       "---\n",
       "Signif. codes:  0 ‘***’ 0.001 ‘**’ 0.01 ‘*’ 0.05 ‘.’ 0.1 ‘ ’ 1\n",
       "\n",
       "Residual standard error: 156.7 on 192610 degrees of freedom\n",
       "Multiple R-squared:  0.5102,\tAdjusted R-squared:  0.5101 \n",
       "F-statistic: 1.114e+04 on 18 and 192610 DF,  p-value: < 2.2e-16\n"
      ]
     },
     "metadata": {},
     "output_type": "display_data"
    }
   ],
   "source": [
    "summary(model_limited)"
   ]
  },
  {
   "cell_type": "code",
   "execution_count": 27,
   "metadata": {},
   "outputs": [
    {
     "data": {
      "text/html": [
       "156.35"
      ],
      "text/latex": [
       "156.35"
      ],
      "text/markdown": [
       "156.35"
      ],
      "text/plain": [
       "[1] 156.35"
      ]
     },
     "metadata": {},
     "output_type": "display_data"
    }
   ],
   "source": [
    "pred = predict(model_limited, testing)\n",
    "error = sqrt(sum((pred-testing[\"totalPrice\"])^2)/length(pred))\n",
    "round(error,2)"
   ]
  },
  {
   "cell_type": "markdown",
   "metadata": {},
   "source": [
    "'price'\n",
    "'square'\n",
    "'livingRoom'\n",
    "'drawingRoom'\n",
    "'kitchen'\n",
    "'bathRoom'\n",
    "'floor'\n",
    "'buildingType'\n",
    "'constructionTime'\n",
    "'renovationCondition'\n",
    "'buildingStructure'\n",
    "'ladderRatio'\n",
    "'elevator'\n",
    "'fiveYearsProperty'\n",
    "'subway'\n",
    "'district'## tree model"
   ]
  },
  {
   "cell_type": "code",
   "execution_count": 28,
   "metadata": {},
   "outputs": [],
   "source": [
    "fit <- rpart(totalPrice ~ square + livingRoom + drawingRoom + kitchen + bathRoom + floor + buildingType + \n",
    "             constructionTime + renovationCondition + buildingStructure + elevator+ subway+ district, \n",
    "             data = training ,method=\"anova\", control = list(minsplit = 10, maxdepth = 12, xval = 10))"
   ]
  },
  {
   "cell_type": "code",
   "execution_count": 29,
   "metadata": {
    "scrolled": true
   },
   "outputs": [
    {
     "name": "stdout",
     "output_type": "stream",
     "text": [
      "Call:\n",
      "rpart(formula = totalPrice ~ square + livingRoom + drawingRoom + \n",
      "    kitchen + bathRoom + floor + buildingType + constructionTime + \n",
      "    renovationCondition + buildingStructure + elevator + subway + \n",
      "    district, data = training, method = \"anova\", control = list(minsplit = 10, \n",
      "    maxdepth = 12, xval = 10))\n",
      "  n= 192629 \n",
      "\n",
      "           CP nsplit rel error    xerror        xstd\n",
      "1  0.19444386      0 1.0000000 1.0000126 0.010360217\n",
      "2  0.06532458      1 0.8055561 0.8072217 0.007835097\n",
      "3  0.05450819      2 0.7402316 0.7413303 0.006946790\n",
      "4  0.04503910      3 0.6857234 0.6774442 0.006789571\n",
      "5  0.03684910      4 0.6406843 0.6452383 0.006744292\n",
      "6  0.03538707      5 0.6038352 0.6177287 0.005977305\n",
      "7  0.02364110      6 0.5684481 0.5689824 0.004986173\n",
      "8  0.01245524      7 0.5448070 0.5457148 0.004934091\n",
      "9  0.01210363      8 0.5323518 0.5358667 0.004906272\n",
      "10 0.01206601      9 0.5202481 0.5289836 0.004892550\n",
      "11 0.01026591     10 0.5081821 0.5119416 0.004812869\n",
      "12 0.01000000     11 0.4979162 0.5025617 0.004808089\n",
      "\n",
      "Variable importance\n",
      "             square            district          livingRoom renovationCondition \n",
      "                 40                  20                   9                   6 \n",
      "           bathRoom   buildingStructure         drawingRoom            elevator \n",
      "                  5                   5                   3                   3 \n",
      "              floor    constructionTime        buildingType              subway \n",
      "                  3                   3                   2                   1 \n",
      "\n",
      "Node number 1: 192629 observations,    complexity param=0.1944439\n",
      "  mean=350.6338, MSE=50148.47 \n",
      "  left son=2 (174385 obs) right son=3 (18244 obs)\n",
      "  Primary splits:\n",
      "      square      < 130.805 to the left,  improve=0.19444390, (0 missing)\n",
      "      bathRoom    < 1.5     to the left,  improve=0.15946790, (0 missing)\n",
      "      livingRoom  < 2.5     to the left,  improve=0.13882430, (0 missing)\n",
      "      drawingRoom < 1.5     to the left,  improve=0.09108865, (0 missing)\n",
      "      district    splits as  LRLRLLLRLLLLR, improve=0.07894773, (0 missing)\n",
      "  Surrogate splits:\n",
      "      livingRoom  < 3.5     to the left,  agree=0.921, adj=0.171, (0 split)\n",
      "      bathRoom    < 2.5     to the left,  agree=0.914, adj=0.094, (0 split)\n",
      "      drawingRoom < 2.5     to the left,  agree=0.907, adj=0.019, (0 split)\n",
      "      kitchen     < 1.5     to the left,  agree=0.906, adj=0.002, (0 split)\n",
      "\n",
      "Node number 2: 174385 observations,    complexity param=0.05450819\n",
      "  mean=318.6941, MSE=28356.39 \n",
      "  left son=4 (125560 obs) right son=5 (48825 obs)\n",
      "  Primary splits:\n",
      "      district            splits as  LLLRLLLRLLLLR, improve=0.10648320, (0 missing)\n",
      "      square              < 72.255  to the left,  improve=0.10511650, (0 missing)\n",
      "      renovationCondition splits as  RLRR, improve=0.08612618, (0 missing)\n",
      "      livingRoom          < 1.5     to the left,  improve=0.07957573, (0 missing)\n",
      "      bathRoom            < 1.5     to the left,  improve=0.04226765, (0 missing)\n",
      "  Surrogate splits:\n",
      "      constructionTime  < 1980.5  to the right, agree=0.724, adj=0.013, (0 split)\n",
      "      square            < 31.96   to the right, agree=0.722, adj=0.007, (0 split)\n",
      "      floor             < 3.5     to the right, agree=0.720, adj=0.001, (0 split)\n",
      "      buildingType      splits as  RLLL,        agree=0.720, adj=0.001, (0 split)\n",
      "      buildingStructure splits as  LRLLLL,      agree=0.720, adj=0.001, (0 split)\n",
      "\n",
      "Node number 3: 18244 observations,    complexity param=0.06532458\n",
      "  mean=655.9294, MSE=155491.2 \n",
      "  left son=6 (7228 obs) right son=7 (11016 obs)\n",
      "  Primary splits:\n",
      "      district          splits as  LRLRLLLRLRLLR, improve=0.22244880, (0 missing)\n",
      "      square            < 210.23  to the left,  improve=0.12961160, (0 missing)\n",
      "      buildingStructure splits as  LRLRRL, improve=0.10920770, (0 missing)\n",
      "      elevator          splits as  RL, improve=0.07031990, (0 missing)\n",
      "      bathRoom          < 2.5     to the left,  improve=0.06963356, (0 missing)\n",
      "  Surrogate splits:\n",
      "      buildingStructure splits as  LRLLRL,      agree=0.758, adj=0.388, (0 split)\n",
      "      elevator          splits as  RL,          agree=0.709, adj=0.264, (0 split)\n",
      "      floor             < 7.5     to the left,  agree=0.691, adj=0.221, (0 split)\n",
      "      buildingType      splits as  -LRR,        agree=0.640, adj=0.091, (0 split)\n",
      "      subway            splits as  RL,          agree=0.629, adj=0.065, (0 split)\n",
      "\n",
      "Node number 4: 125560 observations,    complexity param=0.0450391\n",
      "  mean=284.4282, MSE=20170.08 \n",
      "  left son=8 (65791 obs) right son=9 (59769 obs)\n",
      "  Primary splits:\n",
      "      square              < 75.935  to the left,  improve=0.17179480, (0 missing)\n",
      "      renovationCondition splits as  RLRR,        improve=0.09199292, (0 missing)\n",
      "      livingRoom          < 1.5     to the left,  improve=0.08436459, (0 missing)\n",
      "      bathRoom            < 1.5     to the left,  improve=0.07429988, (0 missing)\n",
      "      elevator            splits as  RL,          improve=0.06255889, (0 missing)\n",
      "  Surrogate splits:\n",
      "      livingRoom       < 1.5     to the left,  agree=0.718, adj=0.408, (0 split)\n",
      "      constructionTime < 1997.5  to the left,  agree=0.698, adj=0.366, (0 split)\n",
      "      drawingRoom      < 1.5     to the left,  agree=0.688, adj=0.345, (0 split)\n",
      "      bathRoom         < 1.5     to the left,  agree=0.621, adj=0.203, (0 split)\n",
      "      district         splits as  RLL-RRL-RLRR-, agree=0.617, adj=0.195, (0 split)\n",
      "\n",
      "Node number 5: 48825 observations,    complexity param=0.03538707\n",
      "  mean=406.8133, MSE=38624.12 \n",
      "  left son=10 (30548 obs) right son=11 (18277 obs)\n",
      "  Primary splits:\n",
      "      square              < 69.395  to the left,  improve=0.18126880, (0 missing)\n",
      "      livingRoom          < 1.5     to the left,  improve=0.12741290, (0 missing)\n",
      "      renovationCondition splits as  RLRR,        improve=0.11071450, (0 missing)\n",
      "      bathRoom            < 1.5     to the left,  improve=0.05345026, (0 missing)\n",
      "      drawingRoom         < 1.5     to the left,  improve=0.04848582, (0 missing)\n",
      "  Surrogate splits:\n",
      "      livingRoom       < 2.5     to the left,  agree=0.740, adj=0.305, (0 split)\n",
      "      drawingRoom      < 1.5     to the left,  agree=0.702, adj=0.205, (0 split)\n",
      "      constructionTime < 1997.5  to the left,  agree=0.685, adj=0.159, (0 split)\n",
      "      bathRoom         < 1.5     to the left,  agree=0.671, adj=0.121, (0 split)\n",
      "      floor            < 20.5    to the left,  agree=0.636, adj=0.028, (0 split)\n",
      "\n",
      "Node number 6: 7228 observations\n",
      "  mean=426.3299, MSE=37590.76 \n",
      "\n",
      "Node number 7: 11016 observations,    complexity param=0.0368491\n",
      "  mean=806.578, MSE=175566.2 \n",
      "  left son=14 (10060 obs) right son=15 (956 obs)\n",
      "  Primary splits:\n",
      "      square              < 216.665 to the left,  improve=0.18405230, (0 missing)\n",
      "      bathRoom            < 2.5     to the left,  improve=0.10323630, (0 missing)\n",
      "      livingRoom          < 3.5     to the left,  improve=0.08191408, (0 missing)\n",
      "      renovationCondition splits as  RLRR, improve=0.07234130, (0 missing)\n",
      "      district            splits as  -L-R---R-L--R, improve=0.03824584, (0 missing)\n",
      "  Surrogate splits:\n",
      "      bathRoom    < 3.5     to the left,  agree=0.922, adj=0.101, (0 split)\n",
      "      livingRoom  < 4.5     to the left,  agree=0.922, adj=0.098, (0 split)\n",
      "      drawingRoom < 2.5     to the left,  agree=0.914, adj=0.014, (0 split)\n",
      "      floor       < 2.5     to the right, agree=0.913, adj=0.003, (0 split)\n",
      "\n",
      "Node number 8: 65791 observations\n",
      "  mean=228.3217, MSE=9616.023 \n",
      "\n",
      "Node number 9: 59769 observations,    complexity param=0.0236411\n",
      "  mean=346.1878, MSE=24508.15 \n",
      "  left son=18 (27656 obs) right son=19 (32113 obs)\n",
      "  Primary splits:\n",
      "      district            splits as  LRL-LLR-LRLL-, improve=0.15590510, (0 missing)\n",
      "      renovationCondition splits as  RLRR, improve=0.11088170, (0 missing)\n",
      "      buildingStructure   splits as  L-LRRL, improve=0.10218690, (0 missing)\n",
      "      elevator            splits as  RL, improve=0.09296339, (0 missing)\n",
      "      floor               < 7.5     to the left,  improve=0.08929175, (0 missing)\n",
      "  Surrogate splits:\n",
      "      buildingStructure splits as  L-LRRL,      agree=0.733, adj=0.424, (0 split)\n",
      "      floor             < 11.5    to the left,  agree=0.730, adj=0.416, (0 split)\n",
      "      buildingType      splits as  -LRR,        agree=0.719, adj=0.393, (0 split)\n",
      "      elevator          splits as  RL,          agree=0.719, adj=0.393, (0 split)\n",
      "      subway            splits as  RL,          agree=0.607, adj=0.151, (0 split)\n",
      "\n",
      "Node number 10: 30548 observations,    complexity param=0.01026591\n",
      "  mean=342.0913, MSE=21420.65 \n",
      "  left son=20 (11034 obs) right son=21 (19514 obs)\n",
      "  Primary splits:\n",
      "      renovationCondition splits as  RLRR,        improve=0.15155190, (0 missing)\n",
      "      livingRoom          < 1.5     to the left,  improve=0.09085525, (0 missing)\n",
      "      square              < 49.685  to the left,  improve=0.08573624, (0 missing)\n",
      "      constructionTime    < 2003.5  to the right, improve=0.03255670, (0 missing)\n",
      "      drawingRoom         < 0.5     to the left,  improve=0.02065527, (0 missing)\n",
      "  Surrogate splits:\n",
      "      floor             < 1.5     to the left,  agree=0.640, adj=0.002, (0 split)\n",
      "      square            < 18.735  to the left,  agree=0.639, adj=0.002, (0 split)\n",
      "      buildingType      splits as  LRRR,        agree=0.639, adj=0.002, (0 split)\n",
      "      buildingStructure splits as  RLRRRR,      agree=0.639, adj=0.001, (0 split)\n",
      "      constructionTime  < 2013.5  to the right, agree=0.639, adj=0.001, (0 split)\n",
      "\n",
      "Node number 11: 18277 observations,    complexity param=0.01245524\n",
      "  mean=514.989, MSE=48674.49 \n",
      "  left son=22 (6743 obs) right son=23 (11534 obs)\n",
      "  Primary splits:\n",
      "      renovationCondition splits as  RLRR, improve=0.13524620, (0 missing)\n",
      "      square              < 94.455  to the left,  improve=0.07038542, (0 missing)\n",
      "      district            splits as  ---R---L----R, improve=0.03384322, (0 missing)\n",
      "      bathRoom            < 1.5     to the left,  improve=0.03280206, (0 missing)\n",
      "      livingRoom          < 2.5     to the left,  improve=0.02728516, (0 missing)\n",
      "  Surrogate splits:\n",
      "      constructionTime < 2013.5  to the right, agree=0.631, adj=0.001, (0 split)\n",
      "      livingRoom       < 4.5     to the right, agree=0.631, adj=0.000, (0 split)\n",
      "      square           < 130.575 to the right, agree=0.631, adj=0.000, (0 split)\n",
      "      floor            < 3.5     to the left,  agree=0.631, adj=0.000, (0 split)\n",
      "      bathRoom         < 0.5     to the left,  agree=0.631, adj=0.000, (0 split)\n",
      "\n",
      "Node number 14: 10060 observations,    complexity param=0.01206601\n",
      "  mean=751.1638, MSE=114947.9 \n",
      "  left son=28 (3605 obs) right son=29 (6455 obs)\n",
      "  Primary splits:\n",
      "      renovationCondition splits as  RLRR, improve=0.10079610, (0 missing)\n",
      "      square              < 163.715 to the left,  improve=0.09126164, (0 missing)\n",
      "      district            splits as  -L-R---R-L--R, improve=0.05052260, (0 missing)\n",
      "      constructionTime    < 2009.5  to the left,  improve=0.02620103, (0 missing)\n",
      "      buildingType        splits as  -RRL, improve=0.02063545, (0 missing)\n",
      "  Surrogate splits:\n",
      "      livingRoom  < 1.5     to the left,  agree=0.643, adj=0.003, (0 split)\n",
      "      square      < 215.325 to the right, agree=0.642, adj=0.002, (0 split)\n",
      "      drawingRoom < 0.5     to the left,  agree=0.642, adj=0.002, (0 split)\n",
      "      floor       < 2       to the left,  agree=0.642, adj=0.001, (0 split)\n",
      "      bathRoom    < 3.5     to the right, agree=0.642, adj=0.000, (0 split)\n",
      "\n",
      "Node number 15: 956 observations\n",
      "  mean=1389.702, MSE=441105.9 \n",
      "\n",
      "Node number 18: 27656 observations\n",
      "  mean=279.579, MSE=12218.09 \n",
      "\n",
      "Node number 19: 32113 observations,    complexity param=0.01210363\n",
      "  mean=403.5518, MSE=27980.88 \n",
      "  left son=38 (11584 obs) right son=39 (20529 obs)\n",
      "  Primary splits:\n",
      "      renovationCondition splits as  RLRR,        improve=0.13012250, (0 missing)\n",
      "      square              < 104.895 to the left,  improve=0.08798474, (0 missing)\n",
      "      bathRoom            < 1.5     to the left,  improve=0.06285341, (0 missing)\n",
      "      elevator            splits as  RL,          improve=0.02605882, (0 missing)\n",
      "      floor               < 6.5     to the left,  improve=0.02466752, (0 missing)\n",
      "  Surrogate splits:\n",
      "      bathRoom   < 0.5     to the left,  agree=0.640, adj=0.001, (0 split)\n",
      "      square     < 130.605 to the right, agree=0.639, adj=0.000, (0 split)\n",
      "      livingRoom < 0.5     to the left,  agree=0.639, adj=0.000, (0 split)\n",
      "\n",
      "Node number 20: 11034 observations\n",
      "  mean=266.3202, MSE=14284.46 \n",
      "\n",
      "Node number 21: 19514 observations\n",
      "  mean=384.9353, MSE=20373.78 \n",
      "\n",
      "Node number 22: 6743 observations\n",
      "  mean=408.874, MSE=32593.71 \n",
      "\n",
      "Node number 23: 11534 observations\n",
      "  mean=577.0259, MSE=47644.02 \n",
      "\n",
      "Node number 28: 3605 observations\n",
      "  mean=607.1288, MSE=80163.44 \n",
      "\n",
      "Node number 29: 6455 observations\n",
      "  mean=831.6047, MSE=116317.4 \n",
      "\n",
      "Node number 38: 11584 observations\n",
      "  mean=323.2248, MSE=16396.91 \n",
      "\n",
      "Node number 39: 20529 observations\n",
      "  mean=448.8783, MSE=28821.99 \n",
      "\n"
     ]
    }
   ],
   "source": [
    "summary(fit)"
   ]
  },
  {
   "cell_type": "code",
   "execution_count": 30,
   "metadata": {},
   "outputs": [
    {
     "data": {
      "text/html": [
       "158.46"
      ],
      "text/latex": [
       "158.46"
      ],
      "text/markdown": [
       "158.46"
      ],
      "text/plain": [
       "[1] 158.46"
      ]
     },
     "metadata": {},
     "output_type": "display_data"
    }
   ],
   "source": [
    "pred = predict(fit, testing)\n",
    "error = sqrt(sum((pred-testing[\"totalPrice\"])^2)/length(pred))\n",
    "round(error,2)"
   ]
  },
  {
   "cell_type": "code",
   "execution_count": 22,
   "metadata": {},
   "outputs": [],
   "source": [
    "save(fit, file = \"models/limited_model.rda\")\n",
    "save(fit, file = \"../house-price-prediction-app/shinyApp/models/limited_model.rda\")"
   ]
  },
  {
   "cell_type": "markdown",
   "metadata": {},
   "source": [
    "## Random forest\n",
    "\n",
    "crashes computer uses all ram"
   ]
  },
  {
   "cell_type": "markdown",
   "metadata": {},
   "source": [
    "## Feature analysis"
   ]
  },
  {
   "cell_type": "code",
   "execution_count": 23,
   "metadata": {
    "scrolled": true
   },
   "outputs": [
    {
     "data": {
      "text/plain": [
       "   Min. 1st Qu.  Median    Mean 3rd Qu.    Max. \n",
       "   7.37   57.96   74.04   82.65   98.27  640.00 "
      ]
     },
     "metadata": {},
     "output_type": "display_data"
    },
    {
     "data": {
      "text/html": [
       "'numeric'"
      ],
      "text/latex": [
       "'numeric'"
      ],
      "text/markdown": [
       "'numeric'"
      ],
      "text/plain": [
       "[1] \"numeric\""
      ]
     },
     "metadata": {},
     "output_type": "display_data"
    },
    {
     "data": {
      "text/html": [
       "16147"
      ],
      "text/latex": [
       "16147"
      ],
      "text/markdown": [
       "16147"
      ],
      "text/plain": [
       "[1] 16147"
      ]
     },
     "metadata": {},
     "output_type": "display_data"
    }
   ],
   "source": [
    "summary(training$square); class(training$square); length(unique(training$square))"
   ]
  },
  {
   "cell_type": "code",
   "execution_count": 24,
   "metadata": {},
   "outputs": [
    {
     "data": {
      "text/html": [
       "<ol class=list-inline>\n",
       "\t<li>3</li>\n",
       "\t<li>1</li>\n",
       "\t<li>2</li>\n",
       "\t<li>4</li>\n",
       "\t<li>5</li>\n",
       "\t<li>6</li>\n",
       "\t<li>7</li>\n",
       "\t<li>0</li>\n",
       "\t<li>8</li>\n",
       "</ol>\n"
      ],
      "text/latex": [
       "\\begin{enumerate*}\n",
       "\\item 3\n",
       "\\item 1\n",
       "\\item 2\n",
       "\\item 4\n",
       "\\item 5\n",
       "\\item 6\n",
       "\\item 7\n",
       "\\item 0\n",
       "\\item 8\n",
       "\\end{enumerate*}\n"
      ],
      "text/markdown": [
       "1. 3\n",
       "2. 1\n",
       "3. 2\n",
       "4. 4\n",
       "5. 5\n",
       "6. 6\n",
       "7. 7\n",
       "8. 0\n",
       "9. 8\n",
       "\n",
       "\n"
      ],
      "text/plain": [
       "[1] 3 1 2 4 5 6 7 0 8"
      ]
     },
     "metadata": {},
     "output_type": "display_data"
    },
    {
     "data": {
      "text/html": [
       "'numeric'"
      ],
      "text/latex": [
       "'numeric'"
      ],
      "text/markdown": [
       "'numeric'"
      ],
      "text/plain": [
       "[1] \"numeric\""
      ]
     },
     "metadata": {},
     "output_type": "display_data"
    }
   ],
   "source": [
    "unique(training$livingRoom); class(training$livingRoom)"
   ]
  },
  {
   "cell_type": "code",
   "execution_count": 25,
   "metadata": {},
   "outputs": [
    {
     "data": {
      "text/html": [
       "<ol class=list-inline>\n",
       "\t<li>2</li>\n",
       "\t<li>1</li>\n",
       "\t<li>0</li>\n",
       "\t<li>4</li>\n",
       "\t<li>3</li>\n",
       "\t<li>5</li>\n",
       "</ol>\n"
      ],
      "text/latex": [
       "\\begin{enumerate*}\n",
       "\\item 2\n",
       "\\item 1\n",
       "\\item 0\n",
       "\\item 4\n",
       "\\item 3\n",
       "\\item 5\n",
       "\\end{enumerate*}\n"
      ],
      "text/markdown": [
       "1. 2\n",
       "2. 1\n",
       "3. 0\n",
       "4. 4\n",
       "5. 3\n",
       "6. 5\n",
       "\n",
       "\n"
      ],
      "text/plain": [
       "[1] 2 1 0 4 3 5"
      ]
     },
     "metadata": {},
     "output_type": "display_data"
    },
    {
     "data": {
      "text/html": [
       "'numeric'"
      ],
      "text/latex": [
       "'numeric'"
      ],
      "text/markdown": [
       "'numeric'"
      ],
      "text/plain": [
       "[1] \"numeric\""
      ]
     },
     "metadata": {},
     "output_type": "display_data"
    }
   ],
   "source": [
    "unique(training$drawingRoom); class(training$drawingRoom)"
   ]
  },
  {
   "cell_type": "code",
   "execution_count": 26,
   "metadata": {},
   "outputs": [
    {
     "data": {
      "text/html": [
       "<ol class=list-inline>\n",
       "\t<li>1</li>\n",
       "\t<li>0</li>\n",
       "\t<li>2</li>\n",
       "\t<li>3</li>\n",
       "</ol>\n"
      ],
      "text/latex": [
       "\\begin{enumerate*}\n",
       "\\item 1\n",
       "\\item 0\n",
       "\\item 2\n",
       "\\item 3\n",
       "\\end{enumerate*}\n"
      ],
      "text/markdown": [
       "1. 1\n",
       "2. 0\n",
       "3. 2\n",
       "4. 3\n",
       "\n",
       "\n"
      ],
      "text/plain": [
       "[1] 1 0 2 3"
      ]
     },
     "metadata": {},
     "output_type": "display_data"
    },
    {
     "data": {
      "text/html": [
       "'numeric'"
      ],
      "text/latex": [
       "'numeric'"
      ],
      "text/markdown": [
       "'numeric'"
      ],
      "text/plain": [
       "[1] \"numeric\""
      ]
     },
     "metadata": {},
     "output_type": "display_data"
    }
   ],
   "source": [
    "unique(training$kitchen); class(training$kitchen)"
   ]
  },
  {
   "cell_type": "code",
   "execution_count": 27,
   "metadata": {},
   "outputs": [
    {
     "data": {
      "text/html": [
       "<ol class=list-inline>\n",
       "\t<li>3</li>\n",
       "\t<li>1</li>\n",
       "\t<li>2</li>\n",
       "\t<li>0</li>\n",
       "\t<li>4</li>\n",
       "\t<li>5</li>\n",
       "\t<li>6</li>\n",
       "\t<li>7</li>\n",
       "</ol>\n"
      ],
      "text/latex": [
       "\\begin{enumerate*}\n",
       "\\item 3\n",
       "\\item 1\n",
       "\\item 2\n",
       "\\item 0\n",
       "\\item 4\n",
       "\\item 5\n",
       "\\item 6\n",
       "\\item 7\n",
       "\\end{enumerate*}\n"
      ],
      "text/markdown": [
       "1. 3\n",
       "2. 1\n",
       "3. 2\n",
       "4. 0\n",
       "5. 4\n",
       "6. 5\n",
       "7. 6\n",
       "8. 7\n",
       "\n",
       "\n"
      ],
      "text/plain": [
       "[1] 3 1 2 0 4 5 6 7"
      ]
     },
     "metadata": {},
     "output_type": "display_data"
    },
    {
     "data": {
      "text/html": [
       "'numeric'"
      ],
      "text/latex": [
       "'numeric'"
      ],
      "text/markdown": [
       "'numeric'"
      ],
      "text/plain": [
       "[1] \"numeric\""
      ]
     },
     "metadata": {},
     "output_type": "display_data"
    }
   ],
   "source": [
    "unique(training$bathRoom); class(training$bathRoom)"
   ]
  },
  {
   "cell_type": "code",
   "execution_count": 28,
   "metadata": {},
   "outputs": [
    {
     "data": {
      "text/plain": [
       "   Min. 1st Qu.  Median    Mean 3rd Qu.    Max. \n",
       "   1.00    6.00   11.00   13.17   19.00   57.00 "
      ]
     },
     "metadata": {},
     "output_type": "display_data"
    },
    {
     "data": {
      "text/html": [
       "'numeric'"
      ],
      "text/latex": [
       "'numeric'"
      ],
      "text/markdown": [
       "'numeric'"
      ],
      "text/plain": [
       "[1] \"numeric\""
      ]
     },
     "metadata": {},
     "output_type": "display_data"
    }
   ],
   "source": [
    "summary(training$floor); class(training$floor)"
   ]
  },
  {
   "cell_type": "code",
   "execution_count": 29,
   "metadata": {},
   "outputs": [
    {
     "data": {
      "text/html": [
       "<ol class=list-inline>\n",
       "\t<li>'Plate'</li>\n",
       "\t<li>'Tower'</li>\n",
       "\t<li>'Plate/Tower'</li>\n",
       "\t<li>'Bungalow'</li>\n",
       "</ol>\n"
      ],
      "text/latex": [
       "\\begin{enumerate*}\n",
       "\\item 'Plate'\n",
       "\\item 'Tower'\n",
       "\\item 'Plate/Tower'\n",
       "\\item 'Bungalow'\n",
       "\\end{enumerate*}\n"
      ],
      "text/markdown": [
       "1. 'Plate'\n",
       "2. 'Tower'\n",
       "3. 'Plate/Tower'\n",
       "4. 'Bungalow'\n",
       "\n",
       "\n"
      ],
      "text/plain": [
       "[1] \"Plate\"       \"Tower\"       \"Plate/Tower\" \"Bungalow\"   "
      ]
     },
     "metadata": {},
     "output_type": "display_data"
    },
    {
     "data": {
      "text/html": [
       "'character'"
      ],
      "text/latex": [
       "'character'"
      ],
      "text/markdown": [
       "'character'"
      ],
      "text/plain": [
       "[1] \"character\""
      ]
     },
     "metadata": {},
     "output_type": "display_data"
    }
   ],
   "source": [
    "unique(training$buildingType); class(training$buildingType)"
   ]
  },
  {
   "cell_type": "code",
   "execution_count": 30,
   "metadata": {},
   "outputs": [
    {
     "data": {
      "text/html": [
       "<ol class=list-inline>\n",
       "\t<li>'Steel/Concrete'</li>\n",
       "\t<li>'Mixed'</li>\n",
       "\t<li>'Brick/Concrete'</li>\n",
       "\t<li>'Steel'</li>\n",
       "\t<li>'Unavailable'</li>\n",
       "\t<li>'Brick/Wood'</li>\n",
       "</ol>\n"
      ],
      "text/latex": [
       "\\begin{enumerate*}\n",
       "\\item 'Steel/Concrete'\n",
       "\\item 'Mixed'\n",
       "\\item 'Brick/Concrete'\n",
       "\\item 'Steel'\n",
       "\\item 'Unavailable'\n",
       "\\item 'Brick/Wood'\n",
       "\\end{enumerate*}\n"
      ],
      "text/markdown": [
       "1. 'Steel/Concrete'\n",
       "2. 'Mixed'\n",
       "3. 'Brick/Concrete'\n",
       "4. 'Steel'\n",
       "5. 'Unavailable'\n",
       "6. 'Brick/Wood'\n",
       "\n",
       "\n"
      ],
      "text/plain": [
       "[1] \"Steel/Concrete\" \"Mixed\"          \"Brick/Concrete\" \"Steel\"         \n",
       "[5] \"Unavailable\"    \"Brick/Wood\"    "
      ]
     },
     "metadata": {},
     "output_type": "display_data"
    },
    {
     "data": {
      "text/html": [
       "'character'"
      ],
      "text/latex": [
       "'character'"
      ],
      "text/markdown": [
       "'character'"
      ],
      "text/plain": [
       "[1] \"character\""
      ]
     },
     "metadata": {},
     "output_type": "display_data"
    }
   ],
   "source": [
    "unique(training$buildingStructure); class(training$buildingStructure)"
   ]
  },
  {
   "cell_type": "code",
   "execution_count": 31,
   "metadata": {},
   "outputs": [
    {
     "data": {
      "text/plain": [
       "   Min. 1st Qu.  Median    Mean 3rd Qu.    Max. \n",
       "   1950    1994    2001    1999    2006    2016 "
      ]
     },
     "metadata": {},
     "output_type": "display_data"
    },
    {
     "data": {
      "text/html": [
       "'numeric'"
      ],
      "text/latex": [
       "'numeric'"
      ],
      "text/markdown": [
       "'numeric'"
      ],
      "text/plain": [
       "[1] \"numeric\""
      ]
     },
     "metadata": {},
     "output_type": "display_data"
    }
   ],
   "source": [
    "summary(training$constructionTime); class(training$constructionTime)"
   ]
  },
  {
   "cell_type": "code",
   "execution_count": 32,
   "metadata": {},
   "outputs": [
    {
     "data": {
      "text/html": [
       "<ol class=list-inline>\n",
       "\t<li>'Simplicit'</li>\n",
       "\t<li>'Other'</li>\n",
       "\t<li>'Hardcover'</li>\n",
       "\t<li>'Rough'</li>\n",
       "</ol>\n"
      ],
      "text/latex": [
       "\\begin{enumerate*}\n",
       "\\item 'Simplicit'\n",
       "\\item 'Other'\n",
       "\\item 'Hardcover'\n",
       "\\item 'Rough'\n",
       "\\end{enumerate*}\n"
      ],
      "text/markdown": [
       "1. 'Simplicit'\n",
       "2. 'Other'\n",
       "3. 'Hardcover'\n",
       "4. 'Rough'\n",
       "\n",
       "\n"
      ],
      "text/plain": [
       "[1] \"Simplicit\" \"Other\"     \"Hardcover\" \"Rough\"    "
      ]
     },
     "metadata": {},
     "output_type": "display_data"
    },
    {
     "data": {
      "text/html": [
       "'character'"
      ],
      "text/latex": [
       "'character'"
      ],
      "text/markdown": [
       "'character'"
      ],
      "text/plain": [
       "[1] \"character\""
      ]
     },
     "metadata": {},
     "output_type": "display_data"
    }
   ],
   "source": [
    "unique(training$renovationCondition); class(training$renovationCondition)"
   ]
  },
  {
   "cell_type": "code",
   "execution_count": 33,
   "metadata": {
    "scrolled": true
   },
   "outputs": [
    {
     "data": {
      "text/html": [
       "<ol class=list-inline>\n",
       "\t<li>'Has_Elevator'</li>\n",
       "\t<li>'No_elevator'</li>\n",
       "</ol>\n"
      ],
      "text/latex": [
       "\\begin{enumerate*}\n",
       "\\item 'Has\\_Elevator'\n",
       "\\item 'No\\_elevator'\n",
       "\\end{enumerate*}\n"
      ],
      "text/markdown": [
       "1. 'Has_Elevator'\n",
       "2. 'No_elevator'\n",
       "\n",
       "\n"
      ],
      "text/plain": [
       "[1] \"Has_Elevator\" \"No_elevator\" "
      ]
     },
     "metadata": {},
     "output_type": "display_data"
    },
    {
     "data": {
      "text/html": [
       "'character'"
      ],
      "text/latex": [
       "'character'"
      ],
      "text/markdown": [
       "'character'"
      ],
      "text/plain": [
       "[1] \"character\""
      ]
     },
     "metadata": {},
     "output_type": "display_data"
    }
   ],
   "source": [
    "unique(training$elevator); class(training$elevator)"
   ]
  },
  {
   "cell_type": "code",
   "execution_count": 34,
   "metadata": {},
   "outputs": [
    {
     "data": {
      "text/html": [
       "<ol class=list-inline>\n",
       "\t<li>'No_Subway'</li>\n",
       "\t<li>'Has_Subway'</li>\n",
       "</ol>\n"
      ],
      "text/latex": [
       "\\begin{enumerate*}\n",
       "\\item 'No\\_Subway'\n",
       "\\item 'Has\\_Subway'\n",
       "\\end{enumerate*}\n"
      ],
      "text/markdown": [
       "1. 'No_Subway'\n",
       "2. 'Has_Subway'\n",
       "\n",
       "\n"
      ],
      "text/plain": [
       "[1] \"No_Subway\"  \"Has_Subway\""
      ]
     },
     "metadata": {},
     "output_type": "display_data"
    },
    {
     "data": {
      "text/html": [
       "'character'"
      ],
      "text/latex": [
       "'character'"
      ],
      "text/markdown": [
       "'character'"
      ],
      "text/plain": [
       "[1] \"character\""
      ]
     },
     "metadata": {},
     "output_type": "display_data"
    }
   ],
   "source": [
    "unique(training$subway); class(training$subway)"
   ]
  },
  {
   "cell_type": "code",
   "execution_count": 35,
   "metadata": {
    "scrolled": true
   },
   "outputs": [
    {
     "data": {
      "text/html": [
       "<ol class=list-inline>\n",
       "\t<li>'ChaoYang'</li>\n",
       "\t<li>'ChangPing'</li>\n",
       "\t<li>'DongCheng'</li>\n",
       "\t<li>'MenTouGou'</li>\n",
       "\t<li>'FengTai'</li>\n",
       "\t<li>'HaiDian'</li>\n",
       "\t<li>'XiCheng'</li>\n",
       "\t<li>'FaXing'</li>\n",
       "\t<li>'FangShang'</li>\n",
       "\t<li>'DaXing'</li>\n",
       "\t<li>'ShiJingShan'</li>\n",
       "\t<li>'ShunYi'</li>\n",
       "\t<li>'TongZhou'</li>\n",
       "</ol>\n"
      ],
      "text/latex": [
       "\\begin{enumerate*}\n",
       "\\item 'ChaoYang'\n",
       "\\item 'ChangPing'\n",
       "\\item 'DongCheng'\n",
       "\\item 'MenTouGou'\n",
       "\\item 'FengTai'\n",
       "\\item 'HaiDian'\n",
       "\\item 'XiCheng'\n",
       "\\item 'FaXing'\n",
       "\\item 'FangShang'\n",
       "\\item 'DaXing'\n",
       "\\item 'ShiJingShan'\n",
       "\\item 'ShunYi'\n",
       "\\item 'TongZhou'\n",
       "\\end{enumerate*}\n"
      ],
      "text/markdown": [
       "1. 'ChaoYang'\n",
       "2. 'ChangPing'\n",
       "3. 'DongCheng'\n",
       "4. 'MenTouGou'\n",
       "5. 'FengTai'\n",
       "6. 'HaiDian'\n",
       "7. 'XiCheng'\n",
       "8. 'FaXing'\n",
       "9. 'FangShang'\n",
       "10. 'DaXing'\n",
       "11. 'ShiJingShan'\n",
       "12. 'ShunYi'\n",
       "13. 'TongZhou'\n",
       "\n",
       "\n"
      ],
      "text/plain": [
       " [1] \"ChaoYang\"    \"ChangPing\"   \"DongCheng\"   \"MenTouGou\"   \"FengTai\"    \n",
       " [6] \"HaiDian\"     \"XiCheng\"     \"FaXing\"      \"FangShang\"   \"DaXing\"     \n",
       "[11] \"ShiJingShan\" \"ShunYi\"      \"TongZhou\"   "
      ]
     },
     "metadata": {},
     "output_type": "display_data"
    },
    {
     "data": {
      "text/html": [
       "'character'"
      ],
      "text/latex": [
       "'character'"
      ],
      "text/markdown": [
       "'character'"
      ],
      "text/plain": [
       "[1] \"character\""
      ]
     },
     "metadata": {},
     "output_type": "display_data"
    }
   ],
   "source": [
    "unique(training$district); class(training$district)"
   ]
  },
  {
   "cell_type": "markdown",
   "metadata": {},
   "source": [
    "## Extended liner Model"
   ]
  },
  {
   "cell_type": "code",
   "execution_count": 31,
   "metadata": {},
   "outputs": [
    {
     "name": "stdout",
     "output_type": "stream",
     "text": [
      "Classes ‘tbl_df’, ‘tbl’ and 'data.frame':\t296350 obs. of  22 variables:\n",
      " $ Lng                : num  116 116 117 116 116 ...\n",
      " $ Lat                : num  40 39.9 39.9 40.1 39.9 ...\n",
      " $ tradeTime          : Date, format: \"2016-08-09\" \"2016-07-28\" ...\n",
      " $ DOM                : num  1464 903 1271 965 927 ...\n",
      " $ followers          : num  106 126 48 138 286 57 167 138 218 134 ...\n",
      " $ totalPrice         : num  415 575 1030 298 392 ...\n",
      " $ square             : num  131 132 198 134 81 ...\n",
      " $ livingRoom         : num  2 2 3 3 2 1 2 3 1 1 ...\n",
      " $ drawingRoom        : num  1 2 2 1 1 0 1 2 0 0 ...\n",
      " $ kitchen            : num  1 1 1 1 1 1 1 1 1 0 ...\n",
      " $ bathRoom           : num  1 2 3 1 1 1 1 2 1 0 ...\n",
      " $ floor              : num  26 22 4 21 6 8 6 22 10 23 ...\n",
      " $ buildingType       : chr  \"Tower\" \"Tower\" \"Plate\" \"Tower\" ...\n",
      " $ constructionTime   : num  2005 2004 2005 2008 1960 ...\n",
      " $ renovationCondition: chr  \"Simplicit\" \"Hardcover\" \"Simplicit\" \"Other\" ...\n",
      " $ buildingStructure  : chr  \"Steel/Concrete\" \"Steel/Concrete\" \"Steel/Concrete\" \"Steel/Concrete\" ...\n",
      " $ ladderRatio        : num  0.217 0.667 0.5 0.273 0.333 0.333 0.5 0.667 0.333 0.308 ...\n",
      " $ elevator           : chr  \"Has_Elevator\" \"Has_Elevator\" \"Has_Elevator\" \"Has_Elevator\" ...\n",
      " $ fiveYearsProperty  : chr  \"Ownership > 5y\" \"Ownership < 5y\" \"Ownership > 5y\" \"Ownership > 5y\" ...\n",
      " $ subway             : chr  \"Has_Subway\" \"No_Subway\" \"No_Subway\" \"No_Subway\" ...\n",
      " $ district           : chr  \"ChaoYang\" \"ChaoYang\" \"ChaoYang\" \"ChangPing\" ...\n",
      " $ communityAverage   : num  56021 71539 48160 51238 62588 ...\n"
     ]
    }
   ],
   "source": [
    "str(data)"
   ]
  },
  {
   "cell_type": "code",
   "execution_count": 32,
   "metadata": {},
   "outputs": [],
   "source": [
    "model_ext<- lm(totalPrice ~ square + livingRoom + drawingRoom + kitchen + bathRoom + floor + buildingType + \n",
    "             constructionTime + renovationCondition + buildingStructure + elevator+ subway+ district , data = training )"
   ]
  },
  {
   "cell_type": "code",
   "execution_count": 33,
   "metadata": {},
   "outputs": [
    {
     "data": {
      "text/plain": [
       "\n",
       "Call:\n",
       "lm(formula = totalPrice ~ square + livingRoom + drawingRoom + \n",
       "    kitchen + bathRoom + floor + buildingType + constructionTime + \n",
       "    renovationCondition + buildingStructure + elevator + subway + \n",
       "    district, data = training)\n",
       "\n",
       "Residuals:\n",
       "    Min      1Q  Median      3Q     Max \n",
       "-1012.2   -87.5   -15.7    67.0  3254.2 \n",
       "\n",
       "Coefficients:\n",
       "                                  Estimate Std. Error  t value Pr(>|t|)    \n",
       "(Intercept)                       71.22609  119.17525    0.598 0.550069    \n",
       "square                             3.82210    0.02005  190.634  < 2e-16 ***\n",
       "livingRoom                         9.20608    0.70442   13.069  < 2e-16 ***\n",
       "drawingRoom                      -11.23782    0.84862  -13.242  < 2e-16 ***\n",
       "kitchen                           54.34375    3.54777   15.318  < 2e-16 ***\n",
       "bathRoom                           9.72459    1.18009    8.241  < 2e-16 ***\n",
       "floor                              1.22462    0.08425   14.536  < 2e-16 ***\n",
       "buildingTypePlate                 23.16183   36.73008    0.631 0.528306    \n",
       "buildingTypePlate/Tower           -2.53051   36.74659   -0.069 0.945098    \n",
       "buildingTypeTower                -40.00639   36.75123   -1.089 0.276344    \n",
       "constructionTime                  -0.10254    0.05682   -1.805 0.071149 .  \n",
       "renovationConditionOther        -117.20917    0.78667 -148.993  < 2e-16 ***\n",
       "renovationConditionRough         -42.08229    2.66169  -15.810  < 2e-16 ***\n",
       "renovationConditionSimplicit     -20.21531    0.89375  -22.619  < 2e-16 ***\n",
       "buildingStructureBrick/Wood      110.52208   31.07578    3.557 0.000376 ***\n",
       "buildingStructureMixed             8.36087    1.68977    4.948 7.51e-07 ***\n",
       "buildingStructureSteel             0.80593   15.18792    0.053 0.957681    \n",
       "buildingStructureSteel/Concrete   31.62029    2.06824   15.288  < 2e-16 ***\n",
       "buildingStructureUnavailable      37.49675   42.33486    0.886 0.375771    \n",
       "elevatorNo_elevator              -23.63455    1.51337  -15.617  < 2e-16 ***\n",
       "subwayNo_Subway                  -29.36899    0.73806  -39.792  < 2e-16 ***\n",
       "districtChaoYang                 134.93341    1.25158  107.810  < 2e-16 ***\n",
       "districtDaXing                    26.98827    4.04892    6.666 2.64e-11 ***\n",
       "districtDongCheng                248.11227    1.85086  134.053  < 2e-16 ***\n",
       "districtFangShang                -39.45636    3.72659  -10.588  < 2e-16 ***\n",
       "districtFaXing                    27.98925    1.82060   15.374  < 2e-16 ***\n",
       "districtFengTai                   97.75960    1.54593   63.237  < 2e-16 ***\n",
       "districtHaiDian                  225.35131    1.45077  155.332  < 2e-16 ***\n",
       "districtMenTouGou                -15.99354    2.16824   -7.376 1.63e-13 ***\n",
       "districtShiJingShan               98.22891    2.11412   46.463  < 2e-16 ***\n",
       "districtShunYi                    -5.39819    4.87459   -1.107 0.268116    \n",
       "districtTongZhou                   7.28016    1.94482    3.743 0.000182 ***\n",
       "districtXiCheng                  293.80411    1.57516  186.523  < 2e-16 ***\n",
       "---\n",
       "Signif. codes:  0 ‘***’ 0.001 ‘**’ 0.01 ‘*’ 0.05 ‘.’ 0.1 ‘ ’ 1\n",
       "\n",
       "Residual standard error: 146.4 on 192596 degrees of freedom\n",
       "Multiple R-squared:  0.5729,\tAdjusted R-squared:  0.5728 \n",
       "F-statistic:  8072 on 32 and 192596 DF,  p-value: < 2.2e-16\n"
      ]
     },
     "metadata": {},
     "output_type": "display_data"
    }
   ],
   "source": [
    "summary(model_ext)"
   ]
  },
  {
   "cell_type": "code",
   "execution_count": 34,
   "metadata": {},
   "outputs": [
    {
     "data": {
      "text/html": [
       "145.97"
      ],
      "text/latex": [
       "145.97"
      ],
      "text/markdown": [
       "145.97"
      ],
      "text/plain": [
       "[1] 145.97"
      ]
     },
     "metadata": {},
     "output_type": "display_data"
    }
   ],
   "source": [
    "pred = predict(model_ext, testing)\n",
    "error = sqrt(sum((pred-testing[\"totalPrice\"])^2)/length(pred))\n",
    "round(error,2)"
   ]
  },
  {
   "cell_type": "code",
   "execution_count": 40,
   "metadata": {},
   "outputs": [],
   "source": [
    "save(model_ext, file = \"models/extended_model.rda\")\n",
    "save(model_ext, file = \"../house-price-prediction-app/shinyApp/models/extended_model.rda\")"
   ]
  },
  {
   "cell_type": "markdown",
   "metadata": {},
   "source": [
    "## converting some (num) columns to factors"
   ]
  },
  {
   "cell_type": "code",
   "execution_count": 35,
   "metadata": {},
   "outputs": [
    {
     "name": "stdout",
     "output_type": "stream",
     "text": [
      "Classes ‘tbl_df’, ‘tbl’ and 'data.frame':\t296350 obs. of  22 variables:\n",
      " $ Lng                : num  116 116 117 116 116 ...\n",
      " $ Lat                : num  40 39.9 39.9 40.1 39.9 ...\n",
      " $ tradeTime          : Date, format: \"2016-08-09\" \"2016-07-28\" ...\n",
      " $ DOM                : num  1464 903 1271 965 927 ...\n",
      " $ followers          : num  106 126 48 138 286 57 167 138 218 134 ...\n",
      " $ totalPrice         : num  415 575 1030 298 392 ...\n",
      " $ square             : num  131 132 198 134 81 ...\n",
      " $ livingRoom         : num  2 2 3 3 2 1 2 3 1 1 ...\n",
      " $ drawingRoom        : num  1 2 2 1 1 0 1 2 0 0 ...\n",
      " $ kitchen            : num  1 1 1 1 1 1 1 1 1 0 ...\n",
      " $ bathRoom           : num  1 2 3 1 1 1 1 2 1 0 ...\n",
      " $ floor              : num  26 22 4 21 6 8 6 22 10 23 ...\n",
      " $ buildingType       : chr  \"Tower\" \"Tower\" \"Plate\" \"Tower\" ...\n",
      " $ constructionTime   : num  2005 2004 2005 2008 1960 ...\n",
      " $ renovationCondition: chr  \"Simplicit\" \"Hardcover\" \"Simplicit\" \"Other\" ...\n",
      " $ buildingStructure  : chr  \"Steel/Concrete\" \"Steel/Concrete\" \"Steel/Concrete\" \"Steel/Concrete\" ...\n",
      " $ ladderRatio        : num  0.217 0.667 0.5 0.273 0.333 0.333 0.5 0.667 0.333 0.308 ...\n",
      " $ elevator           : chr  \"Has_Elevator\" \"Has_Elevator\" \"Has_Elevator\" \"Has_Elevator\" ...\n",
      " $ fiveYearsProperty  : chr  \"Ownership > 5y\" \"Ownership < 5y\" \"Ownership > 5y\" \"Ownership > 5y\" ...\n",
      " $ subway             : chr  \"Has_Subway\" \"No_Subway\" \"No_Subway\" \"No_Subway\" ...\n",
      " $ district           : chr  \"ChaoYang\" \"ChaoYang\" \"ChaoYang\" \"ChangPing\" ...\n",
      " $ communityAverage   : num  56021 71539 48160 51238 62588 ...\n"
     ]
    }
   ],
   "source": [
    "str(data)"
   ]
  },
  {
   "cell_type": "code",
   "execution_count": 36,
   "metadata": {},
   "outputs": [],
   "source": [
    "data$livingRoom <- as.factor(data$livingRoom)\n",
    "data$drawingRoom <- as.factor(data$drawingRoom)\n",
    "data$kitchen <- as.factor(data$kitchen)\n",
    "data$bathRoom <- as.factor(data$bathRoom)\n",
    "data$floor <- as.factor(data$floor) # this might cause problems "
   ]
  },
  {
   "cell_type": "code",
   "execution_count": 37,
   "metadata": {},
   "outputs": [
    {
     "name": "stdout",
     "output_type": "stream",
     "text": [
      "Classes ‘tbl_df’, ‘tbl’ and 'data.frame':\t296350 obs. of  22 variables:\n",
      " $ Lng                : num  116 116 117 116 116 ...\n",
      " $ Lat                : num  40 39.9 39.9 40.1 39.9 ...\n",
      " $ tradeTime          : Date, format: \"2016-08-09\" \"2016-07-28\" ...\n",
      " $ DOM                : num  1464 903 1271 965 927 ...\n",
      " $ followers          : num  106 126 48 138 286 57 167 138 218 134 ...\n",
      " $ totalPrice         : num  415 575 1030 298 392 ...\n",
      " $ square             : num  131 132 198 134 81 ...\n",
      " $ livingRoom         : Factor w/ 9 levels \"0\",\"1\",\"2\",\"3\",..: 3 3 4 4 3 2 3 4 2 2 ...\n",
      " $ drawingRoom        : Factor w/ 6 levels \"0\",\"1\",\"2\",\"3\",..: 2 3 3 2 2 1 2 3 1 1 ...\n",
      " $ kitchen            : Factor w/ 4 levels \"0\",\"1\",\"2\",\"3\": 2 2 2 2 2 2 2 2 2 1 ...\n",
      " $ bathRoom           : Factor w/ 8 levels \"0\",\"1\",\"2\",\"3\",..: 2 3 4 2 2 2 2 3 2 1 ...\n",
      " $ floor              : Factor w/ 40 levels \"1\",\"2\",\"3\",\"4\",..: 26 22 4 21 6 8 6 22 10 23 ...\n",
      " $ buildingType       : chr  \"Tower\" \"Tower\" \"Plate\" \"Tower\" ...\n",
      " $ constructionTime   : num  2005 2004 2005 2008 1960 ...\n",
      " $ renovationCondition: chr  \"Simplicit\" \"Hardcover\" \"Simplicit\" \"Other\" ...\n",
      " $ buildingStructure  : chr  \"Steel/Concrete\" \"Steel/Concrete\" \"Steel/Concrete\" \"Steel/Concrete\" ...\n",
      " $ ladderRatio        : num  0.217 0.667 0.5 0.273 0.333 0.333 0.5 0.667 0.333 0.308 ...\n",
      " $ elevator           : chr  \"Has_Elevator\" \"Has_Elevator\" \"Has_Elevator\" \"Has_Elevator\" ...\n",
      " $ fiveYearsProperty  : chr  \"Ownership > 5y\" \"Ownership < 5y\" \"Ownership > 5y\" \"Ownership > 5y\" ...\n",
      " $ subway             : chr  \"Has_Subway\" \"No_Subway\" \"No_Subway\" \"No_Subway\" ...\n",
      " $ district           : chr  \"ChaoYang\" \"ChaoYang\" \"ChaoYang\" \"ChangPing\" ...\n",
      " $ communityAverage   : num  56021 71539 48160 51238 62588 ...\n"
     ]
    }
   ],
   "source": [
    "str(data)"
   ]
  },
  {
   "cell_type": "code",
   "execution_count": 43,
   "metadata": {},
   "outputs": [
    {
     "data": {
      "text/html": [
       "<ol class=list-inline>\n",
       "\t<li>222264</li>\n",
       "\t<li>22</li>\n",
       "</ol>\n"
      ],
      "text/latex": [
       "\\begin{enumerate*}\n",
       "\\item 222264\n",
       "\\item 22\n",
       "\\end{enumerate*}\n"
      ],
      "text/markdown": [
       "1. 222264\n",
       "2. 22\n",
       "\n",
       "\n"
      ],
      "text/plain": [
       "[1] 222264     22"
      ]
     },
     "metadata": {},
     "output_type": "display_data"
    },
    {
     "data": {
      "text/html": [
       "<ol class=list-inline>\n",
       "\t<li>74086</li>\n",
       "\t<li>22</li>\n",
       "</ol>\n"
      ],
      "text/latex": [
       "\\begin{enumerate*}\n",
       "\\item 74086\n",
       "\\item 22\n",
       "\\end{enumerate*}\n"
      ],
      "text/markdown": [
       "1. 74086\n",
       "2. 22\n",
       "\n",
       "\n"
      ],
      "text/plain": [
       "[1] 74086    22"
      ]
     },
     "metadata": {},
     "output_type": "display_data"
    }
   ],
   "source": [
    "set.seed(193)\n",
    "inTrain = createDataPartition(data$totalPrice, p = 0.75, list = F)\n",
    "\n",
    "training = data[inTrain,]\n",
    "testing = data[-inTrain,]\n",
    "\n",
    "dim(training); dim(testing)"
   ]
  },
  {
   "cell_type": "code",
   "execution_count": 44,
   "metadata": {},
   "outputs": [],
   "source": [
    "model <- lm(totalPrice ~ livingRoom + drawingRoom + kitchen + bathRoom + floor + buildingType +\n",
    "            constructionTime + renovationCondition + buildingStructure + elevator+ subway+ district , data = training )"
   ]
  },
  {
   "cell_type": "code",
   "execution_count": 45,
   "metadata": {
    "scrolled": true
   },
   "outputs": [
    {
     "data": {
      "text/plain": [
       "\n",
       "Call:\n",
       "lm(formula = totalPrice ~ livingRoom + drawingRoom + kitchen + \n",
       "    bathRoom + floor + buildingType + constructionTime + renovationCondition + \n",
       "    buildingStructure + elevator + subway + district, data = training)\n",
       "\n",
       "Residuals:\n",
       "    Min      1Q  Median      3Q     Max \n",
       "-1276.9   -92.7   -17.3    67.8  3218.9 \n",
       "\n",
       "Coefficients:\n",
       "                                  Estimate Std. Error  t value Pr(>|t|)    \n",
       "(Intercept)                     -6.342e+03  1.273e+02  -49.806  < 2e-16 ***\n",
       "livingRoom1                     -1.584e+01  4.057e+01   -0.390  0.69624    \n",
       "livingRoom2                      8.154e+01  4.057e+01    2.010  0.04444 *  \n",
       "livingRoom3                      1.656e+02  4.058e+01    4.082 4.47e-05 ***\n",
       "livingRoom4                      2.940e+02  4.066e+01    7.231 4.83e-13 ***\n",
       "livingRoom5                      2.253e+02  4.111e+01    5.481 4.24e-08 ***\n",
       "livingRoom6                      1.377e+02  4.299e+01    3.204  0.00136 ** \n",
       "livingRoom7                      3.739e+02  6.248e+01    5.984 2.18e-09 ***\n",
       "livingRoom8                      1.837e+02  1.623e+02    1.132  0.25767    \n",
       "drawingRoom1                     6.912e+01  1.573e+00   43.947  < 2e-16 ***\n",
       "drawingRoom2                     9.240e+01  1.821e+00   50.740  < 2e-16 ***\n",
       "drawingRoom3                     1.229e+02  7.419e+00   16.571  < 2e-16 ***\n",
       "drawingRoom4                     4.149e+01  3.504e+01    1.184  0.23640    \n",
       "drawingRoom5                    -1.444e+02  1.573e+02   -0.918  0.35880    \n",
       "kitchen1                         4.266e+01  4.590e+00    9.295  < 2e-16 ***\n",
       "kitchen2                         1.421e+02  8.252e+00   17.218  < 2e-16 ***\n",
       "kitchen3                         3.824e+02  4.223e+01    9.055  < 2e-16 ***\n",
       "bathRoom1                       -1.166e+02  8.489e+00  -13.732  < 2e-16 ***\n",
       "bathRoom2                       -1.891e+01  8.571e+00   -2.206  0.02738 *  \n",
       "bathRoom3                        2.504e+02  9.450e+00   26.499  < 2e-16 ***\n",
       "bathRoom4                        5.710e+02  1.412e+01   40.434  < 2e-16 ***\n",
       "bathRoom5                        1.179e+03  3.024e+01   38.978  < 2e-16 ***\n",
       "bathRoom6                       -1.826e+02  9.119e+01   -2.003  0.04521 *  \n",
       "bathRoom7                       -2.422e+02  1.572e+02   -1.541  0.12335    \n",
       "floor2                          -7.621e+01  5.374e+01   -1.418  0.15619    \n",
       "floor3                          -2.507e+01  5.049e+01   -0.497  0.61953    \n",
       "floor4                          -2.788e+01  5.001e+01   -0.557  0.57721    \n",
       "floor5                          -4.860e+01  4.996e+01   -0.973  0.33063    \n",
       "floor6                          -5.897e+01  4.994e+01   -1.181  0.23760    \n",
       "floor7                          -5.132e+01  4.997e+01   -1.027  0.30440    \n",
       "floor8                          -5.277e+01  5.013e+01   -1.053  0.29253    \n",
       "floor9                          -5.933e+01  5.003e+01   -1.186  0.23564    \n",
       "floor10                         -7.363e+01  5.004e+01   -1.471  0.14120    \n",
       "floor11                         -7.814e+01  5.002e+01   -1.562  0.11825    \n",
       "floor12                         -6.824e+01  5.002e+01   -1.364  0.17249    \n",
       "floor13                         -7.626e+01  5.006e+01   -1.523  0.12770    \n",
       "floor14                         -5.910e+01  5.002e+01   -1.182  0.23738    \n",
       "floor15                         -5.060e+01  5.003e+01   -1.011  0.31183    \n",
       "floor16                         -4.985e+01  5.001e+01   -0.997  0.31889    \n",
       "floor17                         -3.715e+01  5.005e+01   -0.742  0.45802    \n",
       "floor18                         -4.901e+01  5.000e+01   -0.980  0.32701    \n",
       "floor19                         -3.334e+01  5.006e+01   -0.666  0.50542    \n",
       "floor20                         -4.363e+01  5.002e+01   -0.872  0.38310    \n",
       "floor21                         -4.404e+01  5.003e+01   -0.880  0.37870    \n",
       "floor22                         -3.060e+01  5.003e+01   -0.612  0.54076    \n",
       "floor23                         -7.936e+00  5.009e+01   -0.158  0.87411    \n",
       "floor24                         -3.686e+01  5.002e+01   -0.737  0.46117    \n",
       "floor25                         -7.591e+00  5.005e+01   -0.152  0.87945    \n",
       "floor26                         -5.420e+00  5.004e+01   -0.108  0.91375    \n",
       "floor27                          6.231e+00  5.006e+01    0.124  0.90094    \n",
       "floor28                         -4.192e+01  5.004e+01   -0.838  0.40218    \n",
       "floor29                         -2.710e+01  5.019e+01   -0.540  0.58925    \n",
       "floor30                          1.749e+01  5.014e+01    0.349  0.72722    \n",
       "floor31                          7.375e+01  5.060e+01    1.457  0.14498    \n",
       "floor32                         -3.506e+01  5.013e+01   -0.699  0.48429    \n",
       "floor33                          1.081e+01  5.059e+01    0.214  0.83080    \n",
       "floor34                         -1.962e+01  5.097e+01   -0.385  0.70033    \n",
       "floor35                          9.340e+02  1.035e+02    9.026  < 2e-16 ***\n",
       "floor36                          7.512e+01  1.217e+02    0.617  0.53711    \n",
       "floor37                          5.315e+01  9.304e+01    0.571  0.56786    \n",
       "floor42                          3.678e+02  5.938e+01    6.193 5.90e-10 ***\n",
       "floor57                          8.230e+02  1.217e+02    6.761 1.38e-11 ***\n",
       "floor63                          9.254e+02  1.654e+02    5.595 2.21e-08 ***\n",
       "buildingTypePlate                1.522e+02  5.104e+01    2.982  0.00287 ** \n",
       "buildingTypePlate/Tower          1.249e+02  5.105e+01    2.446  0.01444 *  \n",
       "buildingTypeTower                8.893e+01  5.105e+01    1.742  0.08153 .  \n",
       "constructionTime                 3.240e+00  5.725e-02   56.590  < 2e-16 ***\n",
       "renovationConditionOther        -1.186e+02  7.855e-01 -150.959  < 2e-16 ***\n",
       "renovationConditionRough        -5.648e+01  2.666e+00  -21.183  < 2e-16 ***\n",
       "renovationConditionSimplicit    -2.302e+01  8.928e-01  -25.787  < 2e-16 ***\n",
       "buildingStructureBrick/Wood      4.632e+01  3.173e+01    1.460  0.14440    \n",
       "buildingStructureMixed           1.086e+01  1.691e+00    6.425 1.32e-10 ***\n",
       "buildingStructureSteel           2.111e+01  1.528e+01    1.382  0.16695    \n",
       "buildingStructureSteel/Concrete  2.626e+01  2.103e+00   12.484  < 2e-16 ***\n",
       "buildingStructureUnavailable     4.450e+01  4.542e+01    0.980  0.32719    \n",
       "elevatorNo_elevator             -5.763e+01  2.223e+00  -25.926  < 2e-16 ***\n",
       "subwayNo_Subway                 -2.980e+01  7.423e-01  -40.139  < 2e-16 ***\n",
       "districtChaoYang                 1.130e+02  1.265e+00   89.323  < 2e-16 ***\n",
       "districtDaXing                   2.838e-01  4.071e+00    0.070  0.94442    \n",
       "districtDongCheng                2.210e+02  1.865e+00  118.506  < 2e-16 ***\n",
       "districtFangShang               -7.088e+01  3.738e+00  -18.964  < 2e-16 ***\n",
       "districtFaXing                  -7.600e+00  1.821e+00   -4.174 3.00e-05 ***\n",
       "districtFengTai                  6.748e+01  1.558e+00   43.325  < 2e-16 ***\n",
       "districtHaiDian                  2.001e+02  1.458e+00  137.229  < 2e-16 ***\n",
       "districtMenTouGou               -2.736e+01  2.183e+00  -12.537  < 2e-16 ***\n",
       "districtShiJingShan              6.889e+01  2.131e+00   32.330  < 2e-16 ***\n",
       "districtShunYi                  -2.631e+01  5.040e+00   -5.220 1.79e-07 ***\n",
       "districtTongZhou                -1.539e+01  1.946e+00   -7.909 2.61e-15 ***\n",
       "districtXiCheng                  2.623e+02  1.580e+00  166.053  < 2e-16 ***\n",
       "---\n",
       "Signif. codes:  0 ‘***’ 0.001 ‘**’ 0.01 ‘*’ 0.05 ‘.’ 0.1 ‘ ’ 1\n",
       "\n",
       "Residual standard error: 156.9 on 222175 degrees of freedom\n",
       "Multiple R-squared:  0.5091,\tAdjusted R-squared:  0.509 \n",
       "F-statistic:  2619 on 88 and 222175 DF,  p-value: < 2.2e-16\n"
      ]
     },
     "metadata": {},
     "output_type": "display_data"
    }
   ],
   "source": [
    "summary(model)"
   ]
  },
  {
   "cell_type": "code",
   "execution_count": 46,
   "metadata": {},
   "outputs": [
    {
     "data": {
      "text/html": [
       "157.63"
      ],
      "text/latex": [
       "157.63"
      ],
      "text/markdown": [
       "157.63"
      ],
      "text/plain": [
       "[1] 157.63"
      ]
     },
     "metadata": {},
     "output_type": "display_data"
    }
   ],
   "source": [
    "pred = predict(model, testing)\n",
    "error = sqrt(sum((pred-testing[\"totalPrice\"])^2)/length(pred))\n",
    "round(error,2)"
   ]
  },
  {
   "cell_type": "markdown",
   "metadata": {},
   "source": [
    "minor perfoamce imporvemnt, even after removing square"
   ]
  },
  {
   "cell_type": "markdown",
   "metadata": {},
   "source": [
    "## Using Gradient Boosting Regression model \n",
    "from xgboost package"
   ]
  },
  {
   "cell_type": "code",
   "execution_count": 47,
   "metadata": {},
   "outputs": [],
   "source": [
    "formula = as.formula(\"totalPrice ~ 'tradeTime'+'DOM'+'square'+'ladderRatio'+\n",
    "               'communityAverage'+'kitchen'+'renovationCondition'+'buildingStructure'+\n",
    "               'fiveYearsProperty'+'subway'+'district'\")"
   ]
  },
  {
   "cell_type": "code",
   "execution_count": 48,
   "metadata": {},
   "outputs": [],
   "source": [
    "s_data = select(cl_data, tradeTime,DOM, square,ladderRatio,\n",
    "               communityAverage, kitchen, renovationCondition, buildingStructure,\n",
    "               fiveYearsProperty, subway,district, totalPrice)"
   ]
  },
  {
   "cell_type": "code",
   "execution_count": 49,
   "metadata": {},
   "outputs": [
    {
     "ename": "ERROR",
     "evalue": "Error in dummify(s_data): could not find function \"dummify\"\n",
     "output_type": "error",
     "traceback": [
      "Error in dummify(s_data): could not find function \"dummify\"\nTraceback:\n",
      "1. as.data.frame(dummify(s_data))"
     ]
    }
   ],
   "source": [
    "s_data_dm = as.data.frame(dummify(s_data))"
   ]
  },
  {
   "cell_type": "code",
   "execution_count": 51,
   "metadata": {},
   "outputs": [
    {
     "data": {
      "text/html": [
       "<table>\n",
       "<thead><tr><th scope=col>tradeTime</th><th scope=col>DOM</th><th scope=col>square</th><th scope=col>ladderRatio</th><th scope=col>communityAverage</th><th scope=col>kitchen</th><th scope=col>renovationCondition.Hardcover</th><th scope=col>renovationCondition.Other</th><th scope=col>renovationCondition.Rough</th><th scope=col>renovationCondition.Simplicit</th><th scope=col>...</th><th scope=col>district.FangShang</th><th scope=col>district.FaXing</th><th scope=col>district.FengTai</th><th scope=col>district.HaiDian</th><th scope=col>district.MenTouGou</th><th scope=col>district.ShiJingShan</th><th scope=col>district.ShunYi</th><th scope=col>district.TongZhou</th><th scope=col>district.XiCheng</th><th scope=col>totalPrice</th></tr></thead>\n",
       "<tbody>\n",
       "\t<tr><td>17022 </td><td>1464  </td><td>131.00</td><td>0.217 </td><td>56021 </td><td>1     </td><td>0     </td><td>0     </td><td>0     </td><td>1     </td><td>...   </td><td>0     </td><td>0     </td><td>0     </td><td>0     </td><td>0     </td><td>0     </td><td>0     </td><td>0     </td><td>0     </td><td> 415.0</td></tr>\n",
       "\t<tr><td>17010 </td><td> 903  </td><td>132.38</td><td>0.667 </td><td>71539 </td><td>1     </td><td>1     </td><td>0     </td><td>0     </td><td>0     </td><td>...   </td><td>0     </td><td>0     </td><td>0     </td><td>0     </td><td>0     </td><td>0     </td><td>0     </td><td>0     </td><td>0     </td><td> 575.0</td></tr>\n",
       "\t<tr><td>17146 </td><td>1271  </td><td>198.00</td><td>0.500 </td><td>48160 </td><td>1     </td><td>0     </td><td>0     </td><td>0     </td><td>1     </td><td>...   </td><td>0     </td><td>0     </td><td>0     </td><td>0     </td><td>0     </td><td>0     </td><td>0     </td><td>0     </td><td>0     </td><td>1030.0</td></tr>\n",
       "\t<tr><td>17074 </td><td> 965  </td><td>134.00</td><td>0.273 </td><td>51238 </td><td>1     </td><td>0     </td><td>1     </td><td>0     </td><td>0     </td><td>...   </td><td>0     </td><td>0     </td><td>0     </td><td>0     </td><td>0     </td><td>0     </td><td>0     </td><td>0     </td><td>0     </td><td> 297.5</td></tr>\n",
       "\t<tr><td>17041 </td><td> 927  </td><td> 81.00</td><td>0.333 </td><td>62588 </td><td>1     </td><td>0     </td><td>0     </td><td>1     </td><td>0     </td><td>...   </td><td>0     </td><td>0     </td><td>0     </td><td>0     </td><td>0     </td><td>0     </td><td>0     </td><td>0     </td><td>0     </td><td> 392.0</td></tr>\n",
       "\t<tr><td>17004 </td><td> 861  </td><td> 53.00</td><td>0.333 </td><td>67738 </td><td>1     </td><td>0     </td><td>0     </td><td>0     </td><td>1     </td><td>...   </td><td>0     </td><td>0     </td><td>0     </td><td>0     </td><td>0     </td><td>0     </td><td>0     </td><td>0     </td><td>0     </td><td> 275.6</td></tr>\n",
       "</tbody>\n",
       "</table>\n"
      ],
      "text/latex": [
       "\\begin{tabular}{r|llllllllllllllllllllllllllllllllll}\n",
       " tradeTime & DOM & square & ladderRatio & communityAverage & kitchen & renovationCondition.Hardcover & renovationCondition.Other & renovationCondition.Rough & renovationCondition.Simplicit & ... & district.FangShang & district.FaXing & district.FengTai & district.HaiDian & district.MenTouGou & district.ShiJingShan & district.ShunYi & district.TongZhou & district.XiCheng & totalPrice\\\\\n",
       "\\hline\n",
       "\t 17022  & 1464   & 131.00 & 0.217  & 56021  & 1      & 0      & 0      & 0      & 1      & ...    & 0      & 0      & 0      & 0      & 0      & 0      & 0      & 0      & 0      &  415.0\\\\\n",
       "\t 17010  &  903   & 132.38 & 0.667  & 71539  & 1      & 1      & 0      & 0      & 0      & ...    & 0      & 0      & 0      & 0      & 0      & 0      & 0      & 0      & 0      &  575.0\\\\\n",
       "\t 17146  & 1271   & 198.00 & 0.500  & 48160  & 1      & 0      & 0      & 0      & 1      & ...    & 0      & 0      & 0      & 0      & 0      & 0      & 0      & 0      & 0      & 1030.0\\\\\n",
       "\t 17074  &  965   & 134.00 & 0.273  & 51238  & 1      & 0      & 1      & 0      & 0      & ...    & 0      & 0      & 0      & 0      & 0      & 0      & 0      & 0      & 0      &  297.5\\\\\n",
       "\t 17041  &  927   &  81.00 & 0.333  & 62588  & 1      & 0      & 0      & 1      & 0      & ...    & 0      & 0      & 0      & 0      & 0      & 0      & 0      & 0      & 0      &  392.0\\\\\n",
       "\t 17004  &  861   &  53.00 & 0.333  & 67738  & 1      & 0      & 0      & 0      & 1      & ...    & 0      & 0      & 0      & 0      & 0      & 0      & 0      & 0      & 0      &  275.6\\\\\n",
       "\\end{tabular}\n"
      ],
      "text/markdown": [
       "\n",
       "| tradeTime | DOM | square | ladderRatio | communityAverage | kitchen | renovationCondition.Hardcover | renovationCondition.Other | renovationCondition.Rough | renovationCondition.Simplicit | ... | district.FangShang | district.FaXing | district.FengTai | district.HaiDian | district.MenTouGou | district.ShiJingShan | district.ShunYi | district.TongZhou | district.XiCheng | totalPrice |\n",
       "|---|---|---|---|---|---|---|---|---|---|---|---|---|---|---|---|---|---|---|---|---|\n",
       "| 17022  | 1464   | 131.00 | 0.217  | 56021  | 1      | 0      | 0      | 0      | 1      | ...    | 0      | 0      | 0      | 0      | 0      | 0      | 0      | 0      | 0      |  415.0 |\n",
       "| 17010  |  903   | 132.38 | 0.667  | 71539  | 1      | 1      | 0      | 0      | 0      | ...    | 0      | 0      | 0      | 0      | 0      | 0      | 0      | 0      | 0      |  575.0 |\n",
       "| 17146  | 1271   | 198.00 | 0.500  | 48160  | 1      | 0      | 0      | 0      | 1      | ...    | 0      | 0      | 0      | 0      | 0      | 0      | 0      | 0      | 0      | 1030.0 |\n",
       "| 17074  |  965   | 134.00 | 0.273  | 51238  | 1      | 0      | 1      | 0      | 0      | ...    | 0      | 0      | 0      | 0      | 0      | 0      | 0      | 0      | 0      |  297.5 |\n",
       "| 17041  |  927   |  81.00 | 0.333  | 62588  | 1      | 0      | 0      | 1      | 0      | ...    | 0      | 0      | 0      | 0      | 0      | 0      | 0      | 0      | 0      |  392.0 |\n",
       "| 17004  |  861   |  53.00 | 0.333  | 67738  | 1      | 0      | 0      | 0      | 1      | ...    | 0      | 0      | 0      | 0      | 0      | 0      | 0      | 0      | 0      |  275.6 |\n",
       "\n"
      ],
      "text/plain": [
       "  tradeTime DOM  square ladderRatio communityAverage kitchen\n",
       "1 17022     1464 131.00 0.217       56021            1      \n",
       "2 17010      903 132.38 0.667       71539            1      \n",
       "3 17146     1271 198.00 0.500       48160            1      \n",
       "4 17074      965 134.00 0.273       51238            1      \n",
       "5 17041      927  81.00 0.333       62588            1      \n",
       "6 17004      861  53.00 0.333       67738            1      \n",
       "  renovationCondition.Hardcover renovationCondition.Other\n",
       "1 0                             0                        \n",
       "2 1                             0                        \n",
       "3 0                             0                        \n",
       "4 0                             1                        \n",
       "5 0                             0                        \n",
       "6 0                             0                        \n",
       "  renovationCondition.Rough renovationCondition.Simplicit ...\n",
       "1 0                         1                             ...\n",
       "2 0                         0                             ...\n",
       "3 0                         1                             ...\n",
       "4 0                         0                             ...\n",
       "5 1                         0                             ...\n",
       "6 0                         1                             ...\n",
       "  district.FangShang district.FaXing district.FengTai district.HaiDian\n",
       "1 0                  0               0                0               \n",
       "2 0                  0               0                0               \n",
       "3 0                  0               0                0               \n",
       "4 0                  0               0                0               \n",
       "5 0                  0               0                0               \n",
       "6 0                  0               0                0               \n",
       "  district.MenTouGou district.ShiJingShan district.ShunYi district.TongZhou\n",
       "1 0                  0                    0               0                \n",
       "2 0                  0                    0               0                \n",
       "3 0                  0                    0               0                \n",
       "4 0                  0                    0               0                \n",
       "5 0                  0                    0               0                \n",
       "6 0                  0                    0               0                \n",
       "  district.XiCheng totalPrice\n",
       "1 0                 415.0    \n",
       "2 0                 575.0    \n",
       "3 0                1030.0    \n",
       "4 0                 297.5    \n",
       "5 0                 392.0    \n",
       "6 0                 275.6    "
      ]
     },
     "metadata": {},
     "output_type": "display_data"
    }
   ],
   "source": [
    "head(s_data_dm)"
   ]
  },
  {
   "cell_type": "code",
   "execution_count": 52,
   "metadata": {},
   "outputs": [
    {
     "data": {
      "text/html": [
       "<ol class=list-inline>\n",
       "\t<li>192629</li>\n",
       "\t<li>34</li>\n",
       "</ol>\n"
      ],
      "text/latex": [
       "\\begin{enumerate*}\n",
       "\\item 192629\n",
       "\\item 34\n",
       "\\end{enumerate*}\n"
      ],
      "text/markdown": [
       "1. 192629\n",
       "2. 34\n",
       "\n",
       "\n"
      ],
      "text/plain": [
       "[1] 192629     34"
      ]
     },
     "metadata": {},
     "output_type": "display_data"
    },
    {
     "data": {
      "text/html": [
       "<ol class=list-inline>\n",
       "\t<li>103721</li>\n",
       "\t<li>34</li>\n",
       "</ol>\n"
      ],
      "text/latex": [
       "\\begin{enumerate*}\n",
       "\\item 103721\n",
       "\\item 34\n",
       "\\end{enumerate*}\n"
      ],
      "text/markdown": [
       "1. 103721\n",
       "2. 34\n",
       "\n",
       "\n"
      ],
      "text/plain": [
       "[1] 103721     34"
      ]
     },
     "metadata": {},
     "output_type": "display_data"
    }
   ],
   "source": [
    "set.seed(193)\n",
    "inTrain = createDataPartition(s_data_dm$totalPrice, p = 0.65, list = F)\n",
    "\n",
    "training = s_data_dm[inTrain,]\n",
    "testing = s_data_dm[-inTrain,]\n",
    "\n",
    "dim(training); dim(testing)"
   ]
  },
  {
   "cell_type": "code",
   "execution_count": 53,
   "metadata": {},
   "outputs": [
    {
     "data": {
      "text/html": [
       "<table>\n",
       "<thead><tr><th></th><th scope=col>tradeTime</th><th scope=col>DOM</th><th scope=col>square</th><th scope=col>ladderRatio</th><th scope=col>communityAverage</th><th scope=col>kitchen</th><th scope=col>renovationCondition.Hardcover</th><th scope=col>renovationCondition.Other</th><th scope=col>renovationCondition.Rough</th><th scope=col>renovationCondition.Simplicit</th><th scope=col>...</th><th scope=col>district.FangShang</th><th scope=col>district.FaXing</th><th scope=col>district.FengTai</th><th scope=col>district.HaiDian</th><th scope=col>district.MenTouGou</th><th scope=col>district.ShiJingShan</th><th scope=col>district.ShunYi</th><th scope=col>district.TongZhou</th><th scope=col>district.XiCheng</th><th scope=col>totalPrice</th></tr></thead>\n",
       "<tbody>\n",
       "\t<tr><th scope=row>1</th><td>17022 </td><td>1464  </td><td>131.00</td><td>0.217 </td><td>56021 </td><td>1     </td><td>0     </td><td>0     </td><td>0     </td><td>1     </td><td>...   </td><td>0     </td><td>0     </td><td>0     </td><td>0     </td><td>0     </td><td>0     </td><td>0     </td><td>0     </td><td>0     </td><td>415.0 </td></tr>\n",
       "\t<tr><th scope=row>2</th><td>17010 </td><td> 903  </td><td>132.38</td><td>0.667 </td><td>71539 </td><td>1     </td><td>1     </td><td>0     </td><td>0     </td><td>0     </td><td>...   </td><td>0     </td><td>0     </td><td>0     </td><td>0     </td><td>0     </td><td>0     </td><td>0     </td><td>0     </td><td>0     </td><td>575.0 </td></tr>\n",
       "\t<tr><th scope=row>4</th><td>17074 </td><td> 965  </td><td>134.00</td><td>0.273 </td><td>51238 </td><td>1     </td><td>0     </td><td>1     </td><td>0     </td><td>0     </td><td>...   </td><td>0     </td><td>0     </td><td>0     </td><td>0     </td><td>0     </td><td>0     </td><td>0     </td><td>0     </td><td>0     </td><td>297.5 </td></tr>\n",
       "\t<tr><th scope=row>7</th><td>16996 </td><td> 851  </td><td> 73.00</td><td>0.500 </td><td>50112 </td><td>1     </td><td>1     </td><td>0     </td><td>0     </td><td>0     </td><td>...   </td><td>0     </td><td>0     </td><td>0     </td><td>0     </td><td>0     </td><td>0     </td><td>0     </td><td>0     </td><td>0     </td><td>275.0 </td></tr>\n",
       "\t<tr><th scope=row>8</th><td>17051 </td><td> 904  </td><td>161.55</td><td>0.667 </td><td>71539 </td><td>1     </td><td>1     </td><td>0     </td><td>0     </td><td>0     </td><td>...   </td><td>0     </td><td>0     </td><td>0     </td><td>0     </td><td>0     </td><td>0     </td><td>0     </td><td>0     </td><td>0     </td><td>800.0 </td></tr>\n",
       "\t<tr><th scope=row>9</th><td>17048 </td><td> 873  </td><td> 48.00</td><td>0.333 </td><td>44235 </td><td>1     </td><td>0     </td><td>1     </td><td>0     </td><td>0     </td><td>...   </td><td>0     </td><td>0     </td><td>0     </td><td>0     </td><td>1     </td><td>0     </td><td>0     </td><td>0     </td><td>0     </td><td>134.0 </td></tr>\n",
       "</tbody>\n",
       "</table>\n"
      ],
      "text/latex": [
       "\\begin{tabular}{r|llllllllllllllllllllllllllllllllll}\n",
       "  & tradeTime & DOM & square & ladderRatio & communityAverage & kitchen & renovationCondition.Hardcover & renovationCondition.Other & renovationCondition.Rough & renovationCondition.Simplicit & ... & district.FangShang & district.FaXing & district.FengTai & district.HaiDian & district.MenTouGou & district.ShiJingShan & district.ShunYi & district.TongZhou & district.XiCheng & totalPrice\\\\\n",
       "\\hline\n",
       "\t1 & 17022  & 1464   & 131.00 & 0.217  & 56021  & 1      & 0      & 0      & 0      & 1      & ...    & 0      & 0      & 0      & 0      & 0      & 0      & 0      & 0      & 0      & 415.0 \\\\\n",
       "\t2 & 17010  &  903   & 132.38 & 0.667  & 71539  & 1      & 1      & 0      & 0      & 0      & ...    & 0      & 0      & 0      & 0      & 0      & 0      & 0      & 0      & 0      & 575.0 \\\\\n",
       "\t4 & 17074  &  965   & 134.00 & 0.273  & 51238  & 1      & 0      & 1      & 0      & 0      & ...    & 0      & 0      & 0      & 0      & 0      & 0      & 0      & 0      & 0      & 297.5 \\\\\n",
       "\t7 & 16996  &  851   &  73.00 & 0.500  & 50112  & 1      & 1      & 0      & 0      & 0      & ...    & 0      & 0      & 0      & 0      & 0      & 0      & 0      & 0      & 0      & 275.0 \\\\\n",
       "\t8 & 17051  &  904   & 161.55 & 0.667  & 71539  & 1      & 1      & 0      & 0      & 0      & ...    & 0      & 0      & 0      & 0      & 0      & 0      & 0      & 0      & 0      & 800.0 \\\\\n",
       "\t9 & 17048  &  873   &  48.00 & 0.333  & 44235  & 1      & 0      & 1      & 0      & 0      & ...    & 0      & 0      & 0      & 0      & 1      & 0      & 0      & 0      & 0      & 134.0 \\\\\n",
       "\\end{tabular}\n"
      ],
      "text/markdown": [
       "\n",
       "| <!--/--> | tradeTime | DOM | square | ladderRatio | communityAverage | kitchen | renovationCondition.Hardcover | renovationCondition.Other | renovationCondition.Rough | renovationCondition.Simplicit | ... | district.FangShang | district.FaXing | district.FengTai | district.HaiDian | district.MenTouGou | district.ShiJingShan | district.ShunYi | district.TongZhou | district.XiCheng | totalPrice |\n",
       "|---|---|---|---|---|---|---|---|---|---|---|---|---|---|---|---|---|---|---|---|---|---|\n",
       "| 1 | 17022  | 1464   | 131.00 | 0.217  | 56021  | 1      | 0      | 0      | 0      | 1      | ...    | 0      | 0      | 0      | 0      | 0      | 0      | 0      | 0      | 0      | 415.0  |\n",
       "| 2 | 17010  |  903   | 132.38 | 0.667  | 71539  | 1      | 1      | 0      | 0      | 0      | ...    | 0      | 0      | 0      | 0      | 0      | 0      | 0      | 0      | 0      | 575.0  |\n",
       "| 4 | 17074  |  965   | 134.00 | 0.273  | 51238  | 1      | 0      | 1      | 0      | 0      | ...    | 0      | 0      | 0      | 0      | 0      | 0      | 0      | 0      | 0      | 297.5  |\n",
       "| 7 | 16996  |  851   |  73.00 | 0.500  | 50112  | 1      | 1      | 0      | 0      | 0      | ...    | 0      | 0      | 0      | 0      | 0      | 0      | 0      | 0      | 0      | 275.0  |\n",
       "| 8 | 17051  |  904   | 161.55 | 0.667  | 71539  | 1      | 1      | 0      | 0      | 0      | ...    | 0      | 0      | 0      | 0      | 0      | 0      | 0      | 0      | 0      | 800.0  |\n",
       "| 9 | 17048  |  873   |  48.00 | 0.333  | 44235  | 1      | 0      | 1      | 0      | 0      | ...    | 0      | 0      | 0      | 0      | 1      | 0      | 0      | 0      | 0      | 134.0  |\n",
       "\n"
      ],
      "text/plain": [
       "  tradeTime DOM  square ladderRatio communityAverage kitchen\n",
       "1 17022     1464 131.00 0.217       56021            1      \n",
       "2 17010      903 132.38 0.667       71539            1      \n",
       "4 17074      965 134.00 0.273       51238            1      \n",
       "7 16996      851  73.00 0.500       50112            1      \n",
       "8 17051      904 161.55 0.667       71539            1      \n",
       "9 17048      873  48.00 0.333       44235            1      \n",
       "  renovationCondition.Hardcover renovationCondition.Other\n",
       "1 0                             0                        \n",
       "2 1                             0                        \n",
       "4 0                             1                        \n",
       "7 1                             0                        \n",
       "8 1                             0                        \n",
       "9 0                             1                        \n",
       "  renovationCondition.Rough renovationCondition.Simplicit ...\n",
       "1 0                         1                             ...\n",
       "2 0                         0                             ...\n",
       "4 0                         0                             ...\n",
       "7 0                         0                             ...\n",
       "8 0                         0                             ...\n",
       "9 0                         0                             ...\n",
       "  district.FangShang district.FaXing district.FengTai district.HaiDian\n",
       "1 0                  0               0                0               \n",
       "2 0                  0               0                0               \n",
       "4 0                  0               0                0               \n",
       "7 0                  0               0                0               \n",
       "8 0                  0               0                0               \n",
       "9 0                  0               0                0               \n",
       "  district.MenTouGou district.ShiJingShan district.ShunYi district.TongZhou\n",
       "1 0                  0                    0               0                \n",
       "2 0                  0                    0               0                \n",
       "4 0                  0                    0               0                \n",
       "7 0                  0                    0               0                \n",
       "8 0                  0                    0               0                \n",
       "9 1                  0                    0               0                \n",
       "  district.XiCheng totalPrice\n",
       "1 0                415.0     \n",
       "2 0                575.0     \n",
       "4 0                297.5     \n",
       "7 0                275.0     \n",
       "8 0                800.0     \n",
       "9 0                134.0     "
      ]
     },
     "metadata": {},
     "output_type": "display_data"
    }
   ],
   "source": [
    "head(training)"
   ]
  },
  {
   "cell_type": "code",
   "execution_count": 54,
   "metadata": {},
   "outputs": [
    {
     "name": "stdout",
     "output_type": "stream",
     "text": [
      "[1] \"Training variables\"\n"
     ]
    },
    {
     "data": {
      "text/html": [
       "<ol class=list-inline>\n",
       "\t<li>192629</li>\n",
       "\t<li>33</li>\n",
       "</ol>\n"
      ],
      "text/latex": [
       "\\begin{enumerate*}\n",
       "\\item 192629\n",
       "\\item 33\n",
       "\\end{enumerate*}\n"
      ],
      "text/markdown": [
       "1. 192629\n",
       "2. 33\n",
       "\n",
       "\n"
      ],
      "text/plain": [
       "[1] 192629     33"
      ]
     },
     "metadata": {},
     "output_type": "display_data"
    },
    {
     "data": {
      "text/html": [
       "192629"
      ],
      "text/latex": [
       "192629"
      ],
      "text/markdown": [
       "192629"
      ],
      "text/plain": [
       "[1] 192629"
      ]
     },
     "metadata": {},
     "output_type": "display_data"
    },
    {
     "name": "stdout",
     "output_type": "stream",
     "text": [
      "[1] \"Testing variables\"\n"
     ]
    },
    {
     "data": {
      "text/html": [
       "<ol class=list-inline>\n",
       "\t<li>103721</li>\n",
       "\t<li>33</li>\n",
       "</ol>\n"
      ],
      "text/latex": [
       "\\begin{enumerate*}\n",
       "\\item 103721\n",
       "\\item 33\n",
       "\\end{enumerate*}\n"
      ],
      "text/markdown": [
       "1. 103721\n",
       "2. 33\n",
       "\n",
       "\n"
      ],
      "text/plain": [
       "[1] 103721     33"
      ]
     },
     "metadata": {},
     "output_type": "display_data"
    },
    {
     "data": {
      "text/html": [
       "103721"
      ],
      "text/latex": [
       "103721"
      ],
      "text/markdown": [
       "103721"
      ],
      "text/plain": [
       "[1] 103721"
      ]
     },
     "metadata": {},
     "output_type": "display_data"
    }
   ],
   "source": [
    "X_train = data.matrix(training[,-34])\n",
    "y_train = training[,34]\n",
    "\n",
    "X_test = data.matrix(testing[,-34])\n",
    "y_test = testing[,34]\n",
    "\n",
    "print(\"Training variables\")\n",
    "dim(X_train); length(y_train)\n",
    "print(\"Testing variables\")\n",
    "dim(X_test); length(y_test)"
   ]
  },
  {
   "cell_type": "code",
   "execution_count": 55,
   "metadata": {},
   "outputs": [
    {
     "data": {
      "text/html": [
       "<table>\n",
       "<thead><tr><th></th><th scope=col>tradeTime</th><th scope=col>DOM</th><th scope=col>square</th><th scope=col>ladderRatio</th><th scope=col>communityAverage</th><th scope=col>kitchen</th><th scope=col>renovationCondition.Hardcover</th><th scope=col>renovationCondition.Other</th><th scope=col>renovationCondition.Rough</th><th scope=col>renovationCondition.Simplicit</th><th scope=col>...</th><th scope=col>district.DongCheng</th><th scope=col>district.FangShang</th><th scope=col>district.FaXing</th><th scope=col>district.FengTai</th><th scope=col>district.HaiDian</th><th scope=col>district.MenTouGou</th><th scope=col>district.ShiJingShan</th><th scope=col>district.ShunYi</th><th scope=col>district.TongZhou</th><th scope=col>district.XiCheng</th></tr></thead>\n",
       "<tbody>\n",
       "\t<tr><th scope=row>3</th><td>17146 </td><td>1271  </td><td>198.00</td><td>0.500 </td><td>48160 </td><td>1     </td><td>0     </td><td>0     </td><td>0     </td><td>1     </td><td>...   </td><td>0     </td><td>0     </td><td>0     </td><td>0     </td><td>0     </td><td>0     </td><td>0     </td><td>0     </td><td>0     </td><td>0     </td></tr>\n",
       "\t<tr><th scope=row>5</th><td>17041 </td><td> 927  </td><td> 81.00</td><td>0.333 </td><td>62588 </td><td>1     </td><td>0     </td><td>0     </td><td>1     </td><td>0     </td><td>...   </td><td>1     </td><td>0     </td><td>0     </td><td>0     </td><td>0     </td><td>0     </td><td>0     </td><td>0     </td><td>0     </td><td>0     </td></tr>\n",
       "\t<tr><th scope=row>6</th><td>17004 </td><td> 861  </td><td> 53.00</td><td>0.333 </td><td>67738 </td><td>1     </td><td>0     </td><td>0     </td><td>0     </td><td>1     </td><td>...   </td><td>0     </td><td>0     </td><td>0     </td><td>0     </td><td>0     </td><td>0     </td><td>0     </td><td>0     </td><td>0     </td><td>0     </td></tr>\n",
       "\t<tr><th scope=row>10</th><td>17049 </td><td> 865  </td><td> 68.00</td><td>0.308 </td><td>78590 </td><td>0     </td><td>1     </td><td>0     </td><td>0     </td><td>0     </td><td>...   </td><td>1     </td><td>0     </td><td>0     </td><td>0     </td><td>0     </td><td>0     </td><td>0     </td><td>0     </td><td>0     </td><td>0     </td></tr>\n",
       "\t<tr><th scope=row>11</th><td>17016 </td><td> 773  </td><td> 48.00</td><td>0.333 </td><td>44235 </td><td>1     </td><td>0     </td><td>0     </td><td>0     </td><td>1     </td><td>...   </td><td>0     </td><td>0     </td><td>0     </td><td>0     </td><td>0     </td><td>1     </td><td>0     </td><td>0     </td><td>0     </td><td>0     </td></tr>\n",
       "\t<tr><th scope=row>13</th><td>16969 </td><td> 706  </td><td> 80.13</td><td>0.222 </td><td>53588 </td><td>1     </td><td>1     </td><td>0     </td><td>0     </td><td>0     </td><td>...   </td><td>0     </td><td>0     </td><td>0     </td><td>1     </td><td>0     </td><td>0     </td><td>0     </td><td>0     </td><td>0     </td><td>0     </td></tr>\n",
       "</tbody>\n",
       "</table>\n"
      ],
      "text/latex": [
       "\\begin{tabular}{r|lllllllllllllllllllllllllllllllll}\n",
       "  & tradeTime & DOM & square & ladderRatio & communityAverage & kitchen & renovationCondition.Hardcover & renovationCondition.Other & renovationCondition.Rough & renovationCondition.Simplicit & ... & district.DongCheng & district.FangShang & district.FaXing & district.FengTai & district.HaiDian & district.MenTouGou & district.ShiJingShan & district.ShunYi & district.TongZhou & district.XiCheng\\\\\n",
       "\\hline\n",
       "\t3 & 17146  & 1271   & 198.00 & 0.500  & 48160  & 1      & 0      & 0      & 0      & 1      & ...    & 0      & 0      & 0      & 0      & 0      & 0      & 0      & 0      & 0      & 0     \\\\\n",
       "\t5 & 17041  &  927   &  81.00 & 0.333  & 62588  & 1      & 0      & 0      & 1      & 0      & ...    & 1      & 0      & 0      & 0      & 0      & 0      & 0      & 0      & 0      & 0     \\\\\n",
       "\t6 & 17004  &  861   &  53.00 & 0.333  & 67738  & 1      & 0      & 0      & 0      & 1      & ...    & 0      & 0      & 0      & 0      & 0      & 0      & 0      & 0      & 0      & 0     \\\\\n",
       "\t10 & 17049  &  865   &  68.00 & 0.308  & 78590  & 0      & 1      & 0      & 0      & 0      & ...    & 1      & 0      & 0      & 0      & 0      & 0      & 0      & 0      & 0      & 0     \\\\\n",
       "\t11 & 17016  &  773   &  48.00 & 0.333  & 44235  & 1      & 0      & 0      & 0      & 1      & ...    & 0      & 0      & 0      & 0      & 0      & 1      & 0      & 0      & 0      & 0     \\\\\n",
       "\t13 & 16969  &  706   &  80.13 & 0.222  & 53588  & 1      & 1      & 0      & 0      & 0      & ...    & 0      & 0      & 0      & 1      & 0      & 0      & 0      & 0      & 0      & 0     \\\\\n",
       "\\end{tabular}\n"
      ],
      "text/markdown": [
       "\n",
       "| <!--/--> | tradeTime | DOM | square | ladderRatio | communityAverage | kitchen | renovationCondition.Hardcover | renovationCondition.Other | renovationCondition.Rough | renovationCondition.Simplicit | ... | district.DongCheng | district.FangShang | district.FaXing | district.FengTai | district.HaiDian | district.MenTouGou | district.ShiJingShan | district.ShunYi | district.TongZhou | district.XiCheng |\n",
       "|---|---|---|---|---|---|---|---|---|---|---|---|---|---|---|---|---|---|---|---|---|---|\n",
       "| 3 | 17146  | 1271   | 198.00 | 0.500  | 48160  | 1      | 0      | 0      | 0      | 1      | ...    | 0      | 0      | 0      | 0      | 0      | 0      | 0      | 0      | 0      | 0      |\n",
       "| 5 | 17041  |  927   |  81.00 | 0.333  | 62588  | 1      | 0      | 0      | 1      | 0      | ...    | 1      | 0      | 0      | 0      | 0      | 0      | 0      | 0      | 0      | 0      |\n",
       "| 6 | 17004  |  861   |  53.00 | 0.333  | 67738  | 1      | 0      | 0      | 0      | 1      | ...    | 0      | 0      | 0      | 0      | 0      | 0      | 0      | 0      | 0      | 0      |\n",
       "| 10 | 17049  |  865   |  68.00 | 0.308  | 78590  | 0      | 1      | 0      | 0      | 0      | ...    | 1      | 0      | 0      | 0      | 0      | 0      | 0      | 0      | 0      | 0      |\n",
       "| 11 | 17016  |  773   |  48.00 | 0.333  | 44235  | 1      | 0      | 0      | 0      | 1      | ...    | 0      | 0      | 0      | 0      | 0      | 1      | 0      | 0      | 0      | 0      |\n",
       "| 13 | 16969  |  706   |  80.13 | 0.222  | 53588  | 1      | 1      | 0      | 0      | 0      | ...    | 0      | 0      | 0      | 1      | 0      | 0      | 0      | 0      | 0      | 0      |\n",
       "\n"
      ],
      "text/plain": [
       "   tradeTime DOM  square ladderRatio communityAverage kitchen\n",
       "3  17146     1271 198.00 0.500       48160            1      \n",
       "5  17041      927  81.00 0.333       62588            1      \n",
       "6  17004      861  53.00 0.333       67738            1      \n",
       "10 17049      865  68.00 0.308       78590            0      \n",
       "11 17016      773  48.00 0.333       44235            1      \n",
       "13 16969      706  80.13 0.222       53588            1      \n",
       "   renovationCondition.Hardcover renovationCondition.Other\n",
       "3  0                             0                        \n",
       "5  0                             0                        \n",
       "6  0                             0                        \n",
       "10 1                             0                        \n",
       "11 0                             0                        \n",
       "13 1                             0                        \n",
       "   renovationCondition.Rough renovationCondition.Simplicit ...\n",
       "3  0                         1                             ...\n",
       "5  1                         0                             ...\n",
       "6  0                         1                             ...\n",
       "10 0                         0                             ...\n",
       "11 0                         1                             ...\n",
       "13 0                         0                             ...\n",
       "   district.DongCheng district.FangShang district.FaXing district.FengTai\n",
       "3  0                  0                  0               0               \n",
       "5  1                  0                  0               0               \n",
       "6  0                  0                  0               0               \n",
       "10 1                  0                  0               0               \n",
       "11 0                  0                  0               0               \n",
       "13 0                  0                  0               1               \n",
       "   district.HaiDian district.MenTouGou district.ShiJingShan district.ShunYi\n",
       "3  0                0                  0                    0              \n",
       "5  0                0                  0                    0              \n",
       "6  0                0                  0                    0              \n",
       "10 0                0                  0                    0              \n",
       "11 0                1                  0                    0              \n",
       "13 0                0                  0                    0              \n",
       "   district.TongZhou district.XiCheng\n",
       "3  0                 0               \n",
       "5  0                 0               \n",
       "6  0                 0               \n",
       "10 0                 0               \n",
       "11 0                 0               \n",
       "13 0                 0               "
      ]
     },
     "metadata": {},
     "output_type": "display_data"
    }
   ],
   "source": [
    "head(X_test)"
   ]
  },
  {
   "cell_type": "code",
   "execution_count": 56,
   "metadata": {},
   "outputs": [],
   "source": [
    "xgb_train = xgb.DMatrix(data = X_train, label = y_train)\n",
    "xgb_test = xgb.DMatrix(data = X_test, label = y_test)"
   ]
  },
  {
   "cell_type": "code",
   "execution_count": 57,
   "metadata": {},
   "outputs": [
    {
     "data": {
      "text/plain": [
       "xgb.DMatrix  dim: 103721 x 33  info: label  colnames: yes"
      ]
     },
     "metadata": {},
     "output_type": "display_data"
    }
   ],
   "source": [
    "xgb_test"
   ]
  },
  {
   "cell_type": "code",
   "execution_count": 58,
   "metadata": {},
   "outputs": [
    {
     "name": "stdout",
     "output_type": "stream",
     "text": [
      "[12:29:24] WARNING: amalgamation/../src/learner.cc:516: \n",
      "Parameters: { max_depth } might not be used.\n",
      "\n",
      "  This may not be accurate due to some parameters are only used in language bindings but\n",
      "  passed down to XGBoost core.  Or some parameters are not used but slip through this\n",
      "  verification. Please open an issue if you find above cases.\n",
      "\n",
      "\n",
      "[1]\ttrain-rmse:218.895615 \n",
      "[26]\ttrain-rmse:139.432297 \n",
      "[51]\ttrain-rmse:130.339417 \n",
      "[76]\ttrain-rmse:126.101822 \n",
      "[101]\ttrain-rmse:123.977348 \n",
      "[126]\ttrain-rmse:122.872665 \n",
      "[151]\ttrain-rmse:122.217842 \n",
      "[176]\ttrain-rmse:121.786079 \n",
      "[201]\ttrain-rmse:121.427994 \n",
      "[226]\ttrain-rmse:121.127724 \n",
      "[251]\ttrain-rmse:120.854477 \n",
      "[276]\ttrain-rmse:120.588432 \n",
      "[301]\ttrain-rmse:120.338470 \n",
      "[326]\ttrain-rmse:120.093842 \n",
      "[351]\ttrain-rmse:119.846397 \n",
      "[376]\ttrain-rmse:119.605522 \n",
      "[401]\ttrain-rmse:119.369308 \n",
      "[426]\ttrain-rmse:119.140495 \n",
      "[451]\ttrain-rmse:118.911385 \n",
      "[476]\ttrain-rmse:118.682411 \n",
      "[500]\ttrain-rmse:118.468559 \n"
     ]
    }
   ],
   "source": [
    "xgb.reg = xgboost(data = xgb_train, booster = \"gblinear\", max.depth = 10, nrounds = 500, \n",
    "               print_every_n = 25, objective = \"reg:squarederror\", eval_metric = 'rmse',\n",
    "                 )"
   ]
  },
  {
   "cell_type": "code",
   "execution_count": 59,
   "metadata": {},
   "outputs": [
    {
     "name": "stdout",
     "output_type": "stream",
     "text": [
      "##### xgb.Booster\n",
      "raw: 1.5 Kb \n",
      "call:\n",
      "  xgb.train(params = params, data = dtrain, nrounds = nrounds, \n",
      "    watchlist = watchlist, verbose = verbose, print_every_n = print_every_n, \n",
      "    early_stopping_rounds = early_stopping_rounds, maximize = maximize, \n",
      "    save_period = save_period, save_name = save_name, xgb_model = xgb_model, \n",
      "    callbacks = callbacks, booster = \"gblinear\", max.depth = 10, \n",
      "    objective = \"reg:squarederror\", eval_metric = \"rmse\")\n",
      "params (as set within xgb.train):\n",
      "  booster = \"gblinear\", max_depth = \"10\", objective = \"reg:squarederror\", eval_metric = \"rmse\", validate_parameters = \"TRUE\"\n",
      "xgb.attributes:\n",
      "  niter\n",
      "callbacks:\n",
      "  cb.print.evaluation(period = print_every_n)\n",
      "  cb.evaluation.log()\n",
      "# of features: 33 \n",
      "niter: 500\n",
      "nfeatures : 33 \n",
      "evaluation_log:\n",
      "    iter train_rmse\n",
      "       1   218.8956\n",
      "       2   199.1597\n",
      "---                \n",
      "     499   118.4767\n",
      "     500   118.4686\n"
     ]
    }
   ],
   "source": [
    "print(xgb.reg)"
   ]
  },
  {
   "cell_type": "code",
   "execution_count": 60,
   "metadata": {},
   "outputs": [],
   "source": [
    "pred_y_xgbr = predict(xgb.reg, xgb_test)"
   ]
  },
  {
   "cell_type": "code",
   "execution_count": 61,
   "metadata": {},
   "outputs": [
    {
     "data": {
      "text/html": [
       "<dl class=dl-horizontal>\n",
       "\t<dt>RMSE</dt>\n",
       "\t\t<dd>16215.5652164014</dd>\n",
       "\t<dt>Rsquared</dt>\n",
       "\t\t<dd>0.0750979496420874</dd>\n",
       "\t<dt>MAE</dt>\n",
       "\t\t<dd>16205.3921059734</dd>\n",
       "</dl>\n"
      ],
      "text/latex": [
       "\\begin{description*}\n",
       "\\item[RMSE] 16215.5652164014\n",
       "\\item[Rsquared] 0.0750979496420874\n",
       "\\item[MAE] 16205.3921059734\n",
       "\\end{description*}\n"
      ],
      "text/markdown": [
       "RMSE\n",
       ":   16215.5652164014Rsquared\n",
       ":   0.0750979496420874MAE\n",
       ":   16205.3921059734\n",
       "\n"
      ],
      "text/plain": [
       "        RMSE     Rsquared          MAE \n",
       "1.621557e+04 7.509795e-02 1.620539e+04 "
      ]
     },
     "metadata": {},
     "output_type": "display_data"
    }
   ],
   "source": [
    "postResample(pred = pred_y_xgbr, obs = testing[,1])"
   ]
  },
  {
   "cell_type": "code",
   "execution_count": 62,
   "metadata": {},
   "outputs": [
    {
     "data": {
      "image/png": "[encoded data removed]",
      "text/plain": [
       "plot without title"
      ]
     },
     "metadata": {},
     "output_type": "display_data"
    }
   ],
   "source": [
    "x = 1:length(y_test)\n",
    "plot(x, y_test, col = \"red\", type = \"l\")\n",
    "lines(x, pred_y_xgbr, col = \"blue\", type = \"l\")\n",
    "legend(\"topright\",  legend = c(\"original test_y\", \"predicted test_y\"), \n",
    "       col = c(\"red\", \"blue\"), box.lty = 1, cex = 0.8, lty = c(1, 1))"
   ]
  },
  {
   "cell_type": "code",
   "execution_count": 63,
   "metadata": {},
   "outputs": [],
   "source": [
    "save(xgb.reg, file = \"models/xgbr_model.rda\")\n",
    "save(xgb.reg, file = \"../house-price-prediction-app/shinyApp/models/xgbr_model.rda\")"
   ]
  },
  {
   "cell_type": "code",
   "execution_count": null,
   "metadata": {},
   "outputs": [],
   "source": []
  }
 ],
 "metadata": {
  "kernelspec": {
   "display_name": "R",
   "language": "R",
   "name": "ir"
  },
  "language_info": {
   "codemirror_mode": "r",
   "file_extension": ".r",
   "mimetype": "text/x-r-source",
   "name": "R",
   "pygments_lexer": "r",
   "version": "3.6.1"
  }
 },
 "nbformat": 4,
 "nbformat_minor": 4
}
