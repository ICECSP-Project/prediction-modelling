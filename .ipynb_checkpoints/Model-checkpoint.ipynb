{
 "cells": [
  {
   "cell_type": "markdown",
   "metadata": {},
   "source": [
    "# imports"
   ]
  },
  {
   "cell_type": "code",
   "execution_count": 21,
   "metadata": {},
   "outputs": [],
   "source": [
    "library(tidyverse)\n",
    "library(dplyr)\n",
    "library(data.table)\n",
    "library(caret)\n",
    "library(Metrics)"
   ]
  },
  {
   "cell_type": "code",
   "execution_count": 2,
   "metadata": {},
   "outputs": [
    {
     "name": "stderr",
     "output_type": "stream",
     "text": [
      "Warning message:\n",
      "\"Missing column names filled in: 'X1' [1]\"Parsed with column specification:\n",
      "cols(\n",
      "  .default = col_double(),\n",
      "  tradeTime = col_date(format = \"\"),\n",
      "  buildingType = col_character(),\n",
      "  renovationCondition = col_character(),\n",
      "  buildingStructure = col_character(),\n",
      "  elevator = col_character(),\n",
      "  fiveYearsProperty = col_character(),\n",
      "  subway = col_character(),\n",
      "  district = col_character()\n",
      ")\n",
      "See spec(...) for full column specifications.\n"
     ]
    },
    {
     "data": {
      "text/html": [
       "<table>\n",
       "<thead><tr><th scope=col>Lng</th><th scope=col>Lat</th><th scope=col>Cid</th><th scope=col>tradeTime</th><th scope=col>DOM</th><th scope=col>followers</th><th scope=col>totalPrice</th><th scope=col>price</th><th scope=col>square</th><th scope=col>livingRoom</th><th scope=col>...</th><th scope=col>buildingType</th><th scope=col>constructionTime</th><th scope=col>renovationCondition</th><th scope=col>buildingStructure</th><th scope=col>ladderRatio</th><th scope=col>elevator</th><th scope=col>fiveYearsProperty</th><th scope=col>subway</th><th scope=col>district</th><th scope=col>communityAverage</th></tr></thead>\n",
       "<tbody>\n",
       "\t<tr><td>116.4755         </td><td>40.01952         </td><td>1.111027e+12     </td><td>2016-08-09       </td><td>1464             </td><td>106              </td><td> 415.0           </td><td>31680            </td><td>131.00           </td><td>2                </td><td>...              </td><td>Tower            </td><td>2005             </td><td>Simplicit        </td><td>Steel/Concrete   </td><td>0.217            </td><td>Has_Elevator     </td><td>Ownership &gt; 5y</td><td>Has_Subway       </td><td>ChaoYang         </td><td>56021            </td></tr>\n",
       "\t<tr><td>116.4539         </td><td>39.88153         </td><td>1.111027e+12     </td><td>2016-07-28       </td><td> 903             </td><td>126              </td><td> 575.0           </td><td>43436            </td><td>132.38           </td><td>2                </td><td>...              </td><td>Tower            </td><td>2004             </td><td>Hardcover        </td><td>Steel/Concrete   </td><td>0.667            </td><td>Has_Elevator     </td><td>Ownership &lt; 5y</td><td>No_Subway        </td><td>ChaoYang         </td><td>71539            </td></tr>\n",
       "\t<tr><td>116.5620         </td><td>39.87714         </td><td>1.111041e+12     </td><td>2016-12-11       </td><td>1271             </td><td> 48              </td><td>1030.0           </td><td>52021            </td><td>198.00           </td><td>3                </td><td>...              </td><td>Plate            </td><td>2005             </td><td>Simplicit        </td><td>Steel/Concrete   </td><td>0.500            </td><td>Has_Elevator     </td><td>Ownership &gt; 5y</td><td>No_Subway        </td><td>ChaoYang         </td><td>48160            </td></tr>\n",
       "\t<tr><td>116.4380                                         </td><td>40.07611                                         </td><td>1.111043e+12                                     </td><td>2016-09-30                                       </td><td> 965                                             </td><td>138                                              </td><td> 297.5                                           </td><td>22202                                            </td><td>134.00                                           </td><td>3                                                </td><td>...                                              </td><td>Tower                                            </td><td>2008                                             </td><td><span style=white-space:pre-wrap>Other    </span></td><td>Steel/Concrete                                   </td><td>0.273                                            </td><td>Has_Elevator                                     </td><td>Ownership &gt; 5y                                </td><td>No_Subway                                        </td><td>ChangPing                                        </td><td>51238                                            </td></tr>\n",
       "\t<tr><td>116.4284                                              </td><td>39.88623                                              </td><td>1.111027e+12                                          </td><td>2016-08-28                                            </td><td> 927                                                  </td><td>286                                                   </td><td> 392.0                                                </td><td>48396                                                 </td><td> 81.00                                                </td><td>2                                                     </td><td>...                                                   </td><td>Plate                                                 </td><td>1960                                                  </td><td><span style=white-space:pre-wrap>Rough    </span>     </td><td><span style=white-space:pre-wrap>Mixed         </span></td><td>0.333                                                 </td><td>No_elevator                                           </td><td>Ownership &lt; 5y                                     </td><td>Has_Subway                                            </td><td>DongCheng                                             </td><td>62588                                                 </td></tr>\n",
       "\t<tr><td>116.4663         </td><td>39.99136         </td><td>1.111027e+12     </td><td>2016-07-22       </td><td> 861             </td><td> 57              </td><td> 275.6           </td><td>52000            </td><td> 53.00           </td><td>1                </td><td>...              </td><td>Plate            </td><td>2005             </td><td>Simplicit        </td><td>Steel/Concrete   </td><td>0.333            </td><td>Has_Elevator     </td><td>Ownership &lt; 5y</td><td>No_Subway        </td><td>ChaoYang         </td><td>67738            </td></tr>\n",
       "</tbody>\n",
       "</table>\n"
      ],
      "text/latex": [
       "\\begin{tabular}{r|llllllllllllllllllllllll}\n",
       " Lng & Lat & Cid & tradeTime & DOM & followers & totalPrice & price & square & livingRoom & ... & buildingType & constructionTime & renovationCondition & buildingStructure & ladderRatio & elevator & fiveYearsProperty & subway & district & communityAverage\\\\\n",
       "\\hline\n",
       "\t 116.4755       & 40.01952       & 1.111027e+12   & 2016-08-09     & 1464           & 106            &  415.0         & 31680          & 131.00         & 2              & ...            & Tower          & 2005           & Simplicit      & Steel/Concrete & 0.217          & Has\\_Elevator & Ownership > 5y & Has\\_Subway   & ChaoYang       & 56021         \\\\\n",
       "\t 116.4539       & 39.88153       & 1.111027e+12   & 2016-07-28     &  903           & 126            &  575.0         & 43436          & 132.38         & 2              & ...            & Tower          & 2004           & Hardcover      & Steel/Concrete & 0.667          & Has\\_Elevator & Ownership < 5y & No\\_Subway    & ChaoYang       & 71539         \\\\\n",
       "\t 116.5620       & 39.87714       & 1.111041e+12   & 2016-12-11     & 1271           &  48            & 1030.0         & 52021          & 198.00         & 3              & ...            & Plate          & 2005           & Simplicit      & Steel/Concrete & 0.500          & Has\\_Elevator & Ownership > 5y & No\\_Subway    & ChaoYang       & 48160         \\\\\n",
       "\t 116.4380       & 40.07611       & 1.111043e+12   & 2016-09-30     &  965           & 138            &  297.5         & 22202          & 134.00         & 3              & ...            & Tower          & 2008           & Other          & Steel/Concrete & 0.273          & Has\\_Elevator & Ownership > 5y & No\\_Subway    & ChangPing      & 51238         \\\\\n",
       "\t 116.4284       & 39.88623       & 1.111027e+12   & 2016-08-28     &  927           & 286            &  392.0         & 48396          &  81.00         & 2              & ...            & Plate          & 1960           & Rough          & Mixed          & 0.333          & No\\_elevator  & Ownership < 5y & Has\\_Subway   & DongCheng      & 62588         \\\\\n",
       "\t 116.4663       & 39.99136       & 1.111027e+12   & 2016-07-22     &  861           &  57            &  275.6         & 52000          &  53.00         & 1              & ...            & Plate          & 2005           & Simplicit      & Steel/Concrete & 0.333          & Has\\_Elevator & Ownership < 5y & No\\_Subway    & ChaoYang       & 67738         \\\\\n",
       "\\end{tabular}\n"
      ],
      "text/markdown": [
       "\n",
       "| Lng | Lat | Cid | tradeTime | DOM | followers | totalPrice | price | square | livingRoom | ... | buildingType | constructionTime | renovationCondition | buildingStructure | ladderRatio | elevator | fiveYearsProperty | subway | district | communityAverage |\n",
       "|---|---|---|---|---|---|---|---|---|---|---|---|---|---|---|---|---|---|---|---|---|\n",
       "| 116.4755       | 40.01952       | 1.111027e+12   | 2016-08-09     | 1464           | 106            |  415.0         | 31680          | 131.00         | 2              | ...            | Tower          | 2005           | Simplicit      | Steel/Concrete | 0.217          | Has_Elevator   | Ownership > 5y | Has_Subway     | ChaoYang       | 56021          |\n",
       "| 116.4539       | 39.88153       | 1.111027e+12   | 2016-07-28     |  903           | 126            |  575.0         | 43436          | 132.38         | 2              | ...            | Tower          | 2004           | Hardcover      | Steel/Concrete | 0.667          | Has_Elevator   | Ownership < 5y | No_Subway      | ChaoYang       | 71539          |\n",
       "| 116.5620       | 39.87714       | 1.111041e+12   | 2016-12-11     | 1271           |  48            | 1030.0         | 52021          | 198.00         | 3              | ...            | Plate          | 2005           | Simplicit      | Steel/Concrete | 0.500          | Has_Elevator   | Ownership > 5y | No_Subway      | ChaoYang       | 48160          |\n",
       "| 116.4380       | 40.07611       | 1.111043e+12   | 2016-09-30     |  965           | 138            |  297.5         | 22202          | 134.00         | 3              | ...            | Tower          | 2008           | Other          | Steel/Concrete | 0.273          | Has_Elevator   | Ownership > 5y | No_Subway      | ChangPing      | 51238          |\n",
       "| 116.4284       | 39.88623       | 1.111027e+12   | 2016-08-28     |  927           | 286            |  392.0         | 48396          |  81.00         | 2              | ...            | Plate          | 1960           | Rough          | Mixed          | 0.333          | No_elevator    | Ownership < 5y | Has_Subway     | DongCheng      | 62588          |\n",
       "| 116.4663       | 39.99136       | 1.111027e+12   | 2016-07-22     |  861           |  57            |  275.6         | 52000          |  53.00         | 1              | ...            | Plate          | 2005           | Simplicit      | Steel/Concrete | 0.333          | Has_Elevator   | Ownership < 5y | No_Subway      | ChaoYang       | 67738          |\n",
       "\n"
      ],
      "text/plain": [
       "  Lng      Lat      Cid          tradeTime  DOM  followers totalPrice price\n",
       "1 116.4755 40.01952 1.111027e+12 2016-08-09 1464 106        415.0     31680\n",
       "2 116.4539 39.88153 1.111027e+12 2016-07-28  903 126        575.0     43436\n",
       "3 116.5620 39.87714 1.111041e+12 2016-12-11 1271  48       1030.0     52021\n",
       "4 116.4380 40.07611 1.111043e+12 2016-09-30  965 138        297.5     22202\n",
       "5 116.4284 39.88623 1.111027e+12 2016-08-28  927 286        392.0     48396\n",
       "6 116.4663 39.99136 1.111027e+12 2016-07-22  861  57        275.6     52000\n",
       "  square livingRoom ... buildingType constructionTime renovationCondition\n",
       "1 131.00 2          ... Tower        2005             Simplicit          \n",
       "2 132.38 2          ... Tower        2004             Hardcover          \n",
       "3 198.00 3          ... Plate        2005             Simplicit          \n",
       "4 134.00 3          ... Tower        2008             Other              \n",
       "5  81.00 2          ... Plate        1960             Rough              \n",
       "6  53.00 1          ... Plate        2005             Simplicit          \n",
       "  buildingStructure ladderRatio elevator     fiveYearsProperty subway    \n",
       "1 Steel/Concrete    0.217       Has_Elevator Ownership > 5y    Has_Subway\n",
       "2 Steel/Concrete    0.667       Has_Elevator Ownership < 5y    No_Subway \n",
       "3 Steel/Concrete    0.500       Has_Elevator Ownership > 5y    No_Subway \n",
       "4 Steel/Concrete    0.273       Has_Elevator Ownership > 5y    No_Subway \n",
       "5 Mixed             0.333       No_elevator  Ownership < 5y    Has_Subway\n",
       "6 Steel/Concrete    0.333       Has_Elevator Ownership < 5y    No_Subway \n",
       "  district  communityAverage\n",
       "1 ChaoYang  56021           \n",
       "2 ChaoYang  71539           \n",
       "3 ChaoYang  48160           \n",
       "4 ChangPing 51238           \n",
       "5 DongCheng 62588           \n",
       "6 ChaoYang  67738           "
      ]
     },
     "metadata": {},
     "output_type": "display_data"
    }
   ],
   "source": [
    "cl_data <- read_csv(\"../datasets/Dataset 3 Beijing/cleaned_beijing.csv\")\n",
    "cl_data <- cl_data[ ,-c(1) ]\n",
    "head(cl_data)"
   ]
  },
  {
   "cell_type": "code",
   "execution_count": 3,
   "metadata": {},
   "outputs": [
    {
     "data": {
      "text/plain": [
       "      Lng             Lat             Cid              tradeTime         \n",
       " Min.   :116.1   Min.   :39.63   Min.   :1.111e+12   Min.   :2002-06-01  \n",
       " 1st Qu.:116.3   1st Qu.:39.89   1st Qu.:1.111e+12   1st Qu.:2013-12-26  \n",
       " Median :116.4   Median :39.93   Median :1.111e+12   Median :2015-09-27  \n",
       " Mean   :116.4   Mean   :39.95   Mean   :1.126e+12   Mean   :2015-04-30  \n",
       " 3rd Qu.:116.5   3rd Qu.:40.00   3rd Qu.:1.111e+12   3rd Qu.:2016-08-12  \n",
       " Max.   :116.7   Max.   :40.25   Max.   :1.185e+14   Max.   :2018-01-28  \n",
       "      DOM            followers         totalPrice         price       \n",
       " Min.   :   1.00   Min.   :   0.00   Min.   :  13.0   Min.   : 10000  \n",
       " 1st Qu.:   7.00   1st Qu.:   0.00   1st Qu.: 206.0   1st Qu.: 28362  \n",
       " Median :   7.00   Median :   5.00   Median : 295.0   Median : 39133  \n",
       " Mean   :  18.54   Mean   :  17.25   Mean   : 350.6   Mean   : 44003  \n",
       " 3rd Qu.:   8.00   3rd Qu.:  19.00   3rd Qu.: 428.0   3rd Qu.: 54348  \n",
       " Max.   :1677.00   Max.   :1143.00   Max.   :4900.0   Max.   :150000  \n",
       "     square         livingRoom    drawingRoom       kitchen      \n",
       " Min.   :  7.37   Min.   :0.00   Min.   :0.000   Min.   :0.0000  \n",
       " 1st Qu.: 57.91   1st Qu.:1.00   1st Qu.:1.000   1st Qu.:1.0000  \n",
       " Median : 73.92   Median :2.00   Median :1.000   Median :1.0000  \n",
       " Mean   : 82.58   Mean   :2.01   Mean   :1.171   Mean   :0.9949  \n",
       " 3rd Qu.: 98.15   3rd Qu.:2.00   3rd Qu.:1.000   3rd Qu.:1.0000  \n",
       " Max.   :640.00   Max.   :8.00   Max.   :5.000   Max.   :3.0000  \n",
       "    bathRoom         floor       buildingType       constructionTime\n",
       " Min.   :0.000   Min.   : 1.00   Length:296350      Min.   :1950    \n",
       " 1st Qu.:1.000   1st Qu.: 6.00   Class :character   1st Qu.:1994    \n",
       " Median :1.000   Median :11.00   Mode  :character   Median :2001    \n",
       " Mean   :1.182   Mean   :13.17                      Mean   :1999    \n",
       " 3rd Qu.:1.000   3rd Qu.:19.00                      3rd Qu.:2006    \n",
       " Max.   :7.000   Max.   :63.00                      Max.   :2016    \n",
       " renovationCondition buildingStructure   ladderRatio       elevator        \n",
       " Length:296350       Length:296350      Min.   :0.0140   Length:296350     \n",
       " Class :character    Class :character   1st Qu.:0.2500   Class :character  \n",
       " Mode  :character    Mode  :character   Median :0.3330   Mode  :character  \n",
       "                                        Mean   :0.3818                     \n",
       "                                        3rd Qu.:0.5000                     \n",
       "                                        Max.   :5.0000                     \n",
       " fiveYearsProperty     subway            district         communityAverage\n",
       " Length:296350      Length:296350      Length:296350      Min.   : 10847  \n",
       " Class :character   Class :character   Class :character   1st Qu.: 46578  \n",
       " Mode  :character   Mode  :character   Mode  :character   Median : 59060  \n",
       "                                                          Mean   : 63745  \n",
       "                                                          3rd Qu.: 75868  \n",
       "                                                          Max.   :183109  "
      ]
     },
     "metadata": {},
     "output_type": "display_data"
    }
   ],
   "source": [
    "summary(cl_data)"
   ]
  },
  {
   "cell_type": "code",
   "execution_count": 4,
   "metadata": {},
   "outputs": [
    {
     "data": {
      "text/html": [
       "<ol class=list-inline>\n",
       "\t<li>2005</li>\n",
       "\t<li>2004</li>\n",
       "\t<li>2008</li>\n",
       "\t<li>1960</li>\n",
       "\t<li>1997</li>\n",
       "\t<li>2009</li>\n",
       "\t<li>1991</li>\n",
       "\t<li>2001</li>\n",
       "\t<li>1990</li>\n",
       "\t<li>2011</li>\n",
       "\t<li>2000</li>\n",
       "\t<li>1998</li>\n",
       "\t<li>2010</li>\n",
       "\t<li>1996</li>\n",
       "\t<li>1993</li>\n",
       "\t<li>2006</li>\n",
       "\t<li>2002</li>\n",
       "\t<li>2012</li>\n",
       "\t<li>1989</li>\n",
       "\t<li>2003</li>\n",
       "\t<li>2007</li>\n",
       "\t<li>1994</li>\n",
       "\t<li>1984</li>\n",
       "\t<li>1992</li>\n",
       "\t<li>2014</li>\n",
       "\t<li>1985</li>\n",
       "\t<li>1999</li>\n",
       "\t<li>1979</li>\n",
       "\t<li>1981</li>\n",
       "\t<li>1976</li>\n",
       "\t<li>1982</li>\n",
       "\t<li>1975</li>\n",
       "\t<li>1983</li>\n",
       "\t<li>1986</li>\n",
       "\t<li>1995</li>\n",
       "\t<li>1965</li>\n",
       "\t<li>2013</li>\n",
       "\t<li>1988</li>\n",
       "\t<li>1987</li>\n",
       "\t<li>2015</li>\n",
       "\t<li>1955</li>\n",
       "\t<li>1980</li>\n",
       "\t<li>1978</li>\n",
       "\t<li>1958</li>\n",
       "\t<li>1970</li>\n",
       "\t<li>1956</li>\n",
       "\t<li>1977</li>\n",
       "\t<li>1964</li>\n",
       "\t<li>1963</li>\n",
       "\t<li>1967</li>\n",
       "\t<li>2016</li>\n",
       "\t<li>1974</li>\n",
       "\t<li>1973</li>\n",
       "\t<li>1959</li>\n",
       "\t<li>1954</li>\n",
       "\t<li>1962</li>\n",
       "\t<li>1966</li>\n",
       "\t<li>1957</li>\n",
       "\t<li>1972</li>\n",
       "\t<li>1971</li>\n",
       "\t<li>1953</li>\n",
       "\t<li>1968</li>\n",
       "\t<li>1961</li>\n",
       "\t<li>1950</li>\n",
       "\t<li>1952</li>\n",
       "\t<li>1969</li>\n",
       "</ol>\n"
      ],
      "text/latex": [
       "\\begin{enumerate*}\n",
       "\\item 2005\n",
       "\\item 2004\n",
       "\\item 2008\n",
       "\\item 1960\n",
       "\\item 1997\n",
       "\\item 2009\n",
       "\\item 1991\n",
       "\\item 2001\n",
       "\\item 1990\n",
       "\\item 2011\n",
       "\\item 2000\n",
       "\\item 1998\n",
       "\\item 2010\n",
       "\\item 1996\n",
       "\\item 1993\n",
       "\\item 2006\n",
       "\\item 2002\n",
       "\\item 2012\n",
       "\\item 1989\n",
       "\\item 2003\n",
       "\\item 2007\n",
       "\\item 1994\n",
       "\\item 1984\n",
       "\\item 1992\n",
       "\\item 2014\n",
       "\\item 1985\n",
       "\\item 1999\n",
       "\\item 1979\n",
       "\\item 1981\n",
       "\\item 1976\n",
       "\\item 1982\n",
       "\\item 1975\n",
       "\\item 1983\n",
       "\\item 1986\n",
       "\\item 1995\n",
       "\\item 1965\n",
       "\\item 2013\n",
       "\\item 1988\n",
       "\\item 1987\n",
       "\\item 2015\n",
       "\\item 1955\n",
       "\\item 1980\n",
       "\\item 1978\n",
       "\\item 1958\n",
       "\\item 1970\n",
       "\\item 1956\n",
       "\\item 1977\n",
       "\\item 1964\n",
       "\\item 1963\n",
       "\\item 1967\n",
       "\\item 2016\n",
       "\\item 1974\n",
       "\\item 1973\n",
       "\\item 1959\n",
       "\\item 1954\n",
       "\\item 1962\n",
       "\\item 1966\n",
       "\\item 1957\n",
       "\\item 1972\n",
       "\\item 1971\n",
       "\\item 1953\n",
       "\\item 1968\n",
       "\\item 1961\n",
       "\\item 1950\n",
       "\\item 1952\n",
       "\\item 1969\n",
       "\\end{enumerate*}\n"
      ],
      "text/markdown": [
       "1. 2005\n",
       "2. 2004\n",
       "3. 2008\n",
       "4. 1960\n",
       "5. 1997\n",
       "6. 2009\n",
       "7. 1991\n",
       "8. 2001\n",
       "9. 1990\n",
       "10. 2011\n",
       "11. 2000\n",
       "12. 1998\n",
       "13. 2010\n",
       "14. 1996\n",
       "15. 1993\n",
       "16. 2006\n",
       "17. 2002\n",
       "18. 2012\n",
       "19. 1989\n",
       "20. 2003\n",
       "21. 2007\n",
       "22. 1994\n",
       "23. 1984\n",
       "24. 1992\n",
       "25. 2014\n",
       "26. 1985\n",
       "27. 1999\n",
       "28. 1979\n",
       "29. 1981\n",
       "30. 1976\n",
       "31. 1982\n",
       "32. 1975\n",
       "33. 1983\n",
       "34. 1986\n",
       "35. 1995\n",
       "36. 1965\n",
       "37. 2013\n",
       "38. 1988\n",
       "39. 1987\n",
       "40. 2015\n",
       "41. 1955\n",
       "42. 1980\n",
       "43. 1978\n",
       "44. 1958\n",
       "45. 1970\n",
       "46. 1956\n",
       "47. 1977\n",
       "48. 1964\n",
       "49. 1963\n",
       "50. 1967\n",
       "51. 2016\n",
       "52. 1974\n",
       "53. 1973\n",
       "54. 1959\n",
       "55. 1954\n",
       "56. 1962\n",
       "57. 1966\n",
       "58. 1957\n",
       "59. 1972\n",
       "60. 1971\n",
       "61. 1953\n",
       "62. 1968\n",
       "63. 1961\n",
       "64. 1950\n",
       "65. 1952\n",
       "66. 1969\n",
       "\n",
       "\n"
      ],
      "text/plain": [
       " [1] 2005 2004 2008 1960 1997 2009 1991 2001 1990 2011 2000 1998 2010 1996 1993\n",
       "[16] 2006 2002 2012 1989 2003 2007 1994 1984 1992 2014 1985 1999 1979 1981 1976\n",
       "[31] 1982 1975 1983 1986 1995 1965 2013 1988 1987 2015 1955 1980 1978 1958 1970\n",
       "[46] 1956 1977 1964 1963 1967 2016 1974 1973 1959 1954 1962 1966 1957 1972 1971\n",
       "[61] 1953 1968 1961 1950 1952 1969"
      ]
     },
     "metadata": {},
     "output_type": "display_data"
    }
   ],
   "source": [
    "unique(cl_data$constructionTime)"
   ]
  },
  {
   "cell_type": "markdown",
   "metadata": {},
   "source": [
    "removing  Cid and total price. cid has too many factors (computer crashes when trained using as factor) "
   ]
  },
  {
   "cell_type": "code",
   "execution_count": 5,
   "metadata": {},
   "outputs": [],
   "source": [
    "data = cl_data[-c(3,7)]"
   ]
  },
  {
   "cell_type": "markdown",
   "metadata": {},
   "source": [
    "# Data After Modifiation"
   ]
  },
  {
   "cell_type": "code",
   "execution_count": 6,
   "metadata": {},
   "outputs": [
    {
     "data": {
      "text/html": [
       "<table>\n",
       "<thead><tr><th scope=col>Lng</th><th scope=col>Lat</th><th scope=col>tradeTime</th><th scope=col>DOM</th><th scope=col>followers</th><th scope=col>price</th><th scope=col>square</th><th scope=col>livingRoom</th><th scope=col>drawingRoom</th><th scope=col>kitchen</th><th scope=col>...</th><th scope=col>buildingType</th><th scope=col>constructionTime</th><th scope=col>renovationCondition</th><th scope=col>buildingStructure</th><th scope=col>ladderRatio</th><th scope=col>elevator</th><th scope=col>fiveYearsProperty</th><th scope=col>subway</th><th scope=col>district</th><th scope=col>communityAverage</th></tr></thead>\n",
       "<tbody>\n",
       "\t<tr><td>116.4755         </td><td>40.01952         </td><td>2016-08-09       </td><td>1464             </td><td>106              </td><td>31680            </td><td>131.00           </td><td>2                </td><td>1                </td><td>1                </td><td>...              </td><td>Tower            </td><td>2005             </td><td>Simplicit        </td><td>Steel/Concrete   </td><td>0.217            </td><td>Has_Elevator     </td><td>Ownership &gt; 5y</td><td>Has_Subway       </td><td>ChaoYang         </td><td>56021            </td></tr>\n",
       "\t<tr><td>116.4539         </td><td>39.88153         </td><td>2016-07-28       </td><td> 903             </td><td>126              </td><td>43436            </td><td>132.38           </td><td>2                </td><td>2                </td><td>1                </td><td>...              </td><td>Tower            </td><td>2004             </td><td>Hardcover        </td><td>Steel/Concrete   </td><td>0.667            </td><td>Has_Elevator     </td><td>Ownership &lt; 5y</td><td>No_Subway        </td><td>ChaoYang         </td><td>71539            </td></tr>\n",
       "\t<tr><td>116.5620         </td><td>39.87714         </td><td>2016-12-11       </td><td>1271             </td><td> 48              </td><td>52021            </td><td>198.00           </td><td>3                </td><td>2                </td><td>1                </td><td>...              </td><td>Plate            </td><td>2005             </td><td>Simplicit        </td><td>Steel/Concrete   </td><td>0.500            </td><td>Has_Elevator     </td><td>Ownership &gt; 5y</td><td>No_Subway        </td><td>ChaoYang         </td><td>48160            </td></tr>\n",
       "\t<tr><td>116.4380                                         </td><td>40.07611                                         </td><td>2016-09-30                                       </td><td> 965                                             </td><td>138                                              </td><td>22202                                            </td><td>134.00                                           </td><td>3                                                </td><td>1                                                </td><td>1                                                </td><td>...                                              </td><td>Tower                                            </td><td>2008                                             </td><td><span style=white-space:pre-wrap>Other    </span></td><td>Steel/Concrete                                   </td><td>0.273                                            </td><td>Has_Elevator                                     </td><td>Ownership &gt; 5y                                </td><td>No_Subway                                        </td><td>ChangPing                                        </td><td>51238                                            </td></tr>\n",
       "\t<tr><td>116.4284                                              </td><td>39.88623                                              </td><td>2016-08-28                                            </td><td> 927                                                  </td><td>286                                                   </td><td>48396                                                 </td><td> 81.00                                                </td><td>2                                                     </td><td>1                                                     </td><td>1                                                     </td><td>...                                                   </td><td>Plate                                                 </td><td>1960                                                  </td><td><span style=white-space:pre-wrap>Rough    </span>     </td><td><span style=white-space:pre-wrap>Mixed         </span></td><td>0.333                                                 </td><td>No_elevator                                           </td><td>Ownership &lt; 5y                                     </td><td>Has_Subway                                            </td><td>DongCheng                                             </td><td>62588                                                 </td></tr>\n",
       "\t<tr><td>116.4663         </td><td>39.99136         </td><td>2016-07-22       </td><td> 861             </td><td> 57              </td><td>52000            </td><td> 53.00           </td><td>1                </td><td>0                </td><td>1                </td><td>...              </td><td>Plate            </td><td>2005             </td><td>Simplicit        </td><td>Steel/Concrete   </td><td>0.333            </td><td>Has_Elevator     </td><td>Ownership &lt; 5y</td><td>No_Subway        </td><td>ChaoYang         </td><td>67738            </td></tr>\n",
       "</tbody>\n",
       "</table>\n"
      ],
      "text/latex": [
       "\\begin{tabular}{r|llllllllllllllllllllll}\n",
       " Lng & Lat & tradeTime & DOM & followers & price & square & livingRoom & drawingRoom & kitchen & ... & buildingType & constructionTime & renovationCondition & buildingStructure & ladderRatio & elevator & fiveYearsProperty & subway & district & communityAverage\\\\\n",
       "\\hline\n",
       "\t 116.4755       & 40.01952       & 2016-08-09     & 1464           & 106            & 31680          & 131.00         & 2              & 1              & 1              & ...            & Tower          & 2005           & Simplicit      & Steel/Concrete & 0.217          & Has\\_Elevator & Ownership > 5y & Has\\_Subway   & ChaoYang       & 56021         \\\\\n",
       "\t 116.4539       & 39.88153       & 2016-07-28     &  903           & 126            & 43436          & 132.38         & 2              & 2              & 1              & ...            & Tower          & 2004           & Hardcover      & Steel/Concrete & 0.667          & Has\\_Elevator & Ownership < 5y & No\\_Subway    & ChaoYang       & 71539         \\\\\n",
       "\t 116.5620       & 39.87714       & 2016-12-11     & 1271           &  48            & 52021          & 198.00         & 3              & 2              & 1              & ...            & Plate          & 2005           & Simplicit      & Steel/Concrete & 0.500          & Has\\_Elevator & Ownership > 5y & No\\_Subway    & ChaoYang       & 48160         \\\\\n",
       "\t 116.4380       & 40.07611       & 2016-09-30     &  965           & 138            & 22202          & 134.00         & 3              & 1              & 1              & ...            & Tower          & 2008           & Other          & Steel/Concrete & 0.273          & Has\\_Elevator & Ownership > 5y & No\\_Subway    & ChangPing      & 51238         \\\\\n",
       "\t 116.4284       & 39.88623       & 2016-08-28     &  927           & 286            & 48396          &  81.00         & 2              & 1              & 1              & ...            & Plate          & 1960           & Rough          & Mixed          & 0.333          & No\\_elevator  & Ownership < 5y & Has\\_Subway   & DongCheng      & 62588         \\\\\n",
       "\t 116.4663       & 39.99136       & 2016-07-22     &  861           &  57            & 52000          &  53.00         & 1              & 0              & 1              & ...            & Plate          & 2005           & Simplicit      & Steel/Concrete & 0.333          & Has\\_Elevator & Ownership < 5y & No\\_Subway    & ChaoYang       & 67738         \\\\\n",
       "\\end{tabular}\n"
      ],
      "text/markdown": [
       "\n",
       "| Lng | Lat | tradeTime | DOM | followers | price | square | livingRoom | drawingRoom | kitchen | ... | buildingType | constructionTime | renovationCondition | buildingStructure | ladderRatio | elevator | fiveYearsProperty | subway | district | communityAverage |\n",
       "|---|---|---|---|---|---|---|---|---|---|---|---|---|---|---|---|---|---|---|---|---|\n",
       "| 116.4755       | 40.01952       | 2016-08-09     | 1464           | 106            | 31680          | 131.00         | 2              | 1              | 1              | ...            | Tower          | 2005           | Simplicit      | Steel/Concrete | 0.217          | Has_Elevator   | Ownership > 5y | Has_Subway     | ChaoYang       | 56021          |\n",
       "| 116.4539       | 39.88153       | 2016-07-28     |  903           | 126            | 43436          | 132.38         | 2              | 2              | 1              | ...            | Tower          | 2004           | Hardcover      | Steel/Concrete | 0.667          | Has_Elevator   | Ownership < 5y | No_Subway      | ChaoYang       | 71539          |\n",
       "| 116.5620       | 39.87714       | 2016-12-11     | 1271           |  48            | 52021          | 198.00         | 3              | 2              | 1              | ...            | Plate          | 2005           | Simplicit      | Steel/Concrete | 0.500          | Has_Elevator   | Ownership > 5y | No_Subway      | ChaoYang       | 48160          |\n",
       "| 116.4380       | 40.07611       | 2016-09-30     |  965           | 138            | 22202          | 134.00         | 3              | 1              | 1              | ...            | Tower          | 2008           | Other          | Steel/Concrete | 0.273          | Has_Elevator   | Ownership > 5y | No_Subway      | ChangPing      | 51238          |\n",
       "| 116.4284       | 39.88623       | 2016-08-28     |  927           | 286            | 48396          |  81.00         | 2              | 1              | 1              | ...            | Plate          | 1960           | Rough          | Mixed          | 0.333          | No_elevator    | Ownership < 5y | Has_Subway     | DongCheng      | 62588          |\n",
       "| 116.4663       | 39.99136       | 2016-07-22     |  861           |  57            | 52000          |  53.00         | 1              | 0              | 1              | ...            | Plate          | 2005           | Simplicit      | Steel/Concrete | 0.333          | Has_Elevator   | Ownership < 5y | No_Subway      | ChaoYang       | 67738          |\n",
       "\n"
      ],
      "text/plain": [
       "  Lng      Lat      tradeTime  DOM  followers price square livingRoom\n",
       "1 116.4755 40.01952 2016-08-09 1464 106       31680 131.00 2         \n",
       "2 116.4539 39.88153 2016-07-28  903 126       43436 132.38 2         \n",
       "3 116.5620 39.87714 2016-12-11 1271  48       52021 198.00 3         \n",
       "4 116.4380 40.07611 2016-09-30  965 138       22202 134.00 3         \n",
       "5 116.4284 39.88623 2016-08-28  927 286       48396  81.00 2         \n",
       "6 116.4663 39.99136 2016-07-22  861  57       52000  53.00 1         \n",
       "  drawingRoom kitchen ... buildingType constructionTime renovationCondition\n",
       "1 1           1       ... Tower        2005             Simplicit          \n",
       "2 2           1       ... Tower        2004             Hardcover          \n",
       "3 2           1       ... Plate        2005             Simplicit          \n",
       "4 1           1       ... Tower        2008             Other              \n",
       "5 1           1       ... Plate        1960             Rough              \n",
       "6 0           1       ... Plate        2005             Simplicit          \n",
       "  buildingStructure ladderRatio elevator     fiveYearsProperty subway    \n",
       "1 Steel/Concrete    0.217       Has_Elevator Ownership > 5y    Has_Subway\n",
       "2 Steel/Concrete    0.667       Has_Elevator Ownership < 5y    No_Subway \n",
       "3 Steel/Concrete    0.500       Has_Elevator Ownership > 5y    No_Subway \n",
       "4 Steel/Concrete    0.273       Has_Elevator Ownership > 5y    No_Subway \n",
       "5 Mixed             0.333       No_elevator  Ownership < 5y    Has_Subway\n",
       "6 Steel/Concrete    0.333       Has_Elevator Ownership < 5y    No_Subway \n",
       "  district  communityAverage\n",
       "1 ChaoYang  56021           \n",
       "2 ChaoYang  71539           \n",
       "3 ChaoYang  48160           \n",
       "4 ChangPing 51238           \n",
       "5 DongCheng 62588           \n",
       "6 ChaoYang  67738           "
      ]
     },
     "metadata": {},
     "output_type": "display_data"
    }
   ],
   "source": [
    "head(data)"
   ]
  },
  {
   "cell_type": "code",
   "execution_count": 7,
   "metadata": {},
   "outputs": [
    {
     "name": "stdout",
     "output_type": "stream",
     "text": [
      "Classes 'tbl_df', 'tbl' and 'data.frame':\t296350 obs. of  22 variables:\n",
      " $ Lng                : num  116 116 117 116 116 ...\n",
      " $ Lat                : num  40 39.9 39.9 40.1 39.9 ...\n",
      " $ tradeTime          : Date, format: \"2016-08-09\" \"2016-07-28\" ...\n",
      " $ DOM                : num  1464 903 1271 965 927 ...\n",
      " $ followers          : num  106 126 48 138 286 57 167 138 218 134 ...\n",
      " $ price              : num  31680 43436 52021 22202 48396 ...\n",
      " $ square             : num  131 132 198 134 81 ...\n",
      " $ livingRoom         : num  2 2 3 3 2 1 2 3 1 1 ...\n",
      " $ drawingRoom        : num  1 2 2 1 1 0 1 2 0 0 ...\n",
      " $ kitchen            : num  1 1 1 1 1 1 1 1 1 0 ...\n",
      " $ bathRoom           : num  1 2 3 1 1 1 1 2 1 0 ...\n",
      " $ floor              : num  26 22 4 21 6 8 6 22 10 23 ...\n",
      " $ buildingType       : chr  \"Tower\" \"Tower\" \"Plate\" \"Tower\" ...\n",
      " $ constructionTime   : num  2005 2004 2005 2008 1960 ...\n",
      " $ renovationCondition: chr  \"Simplicit\" \"Hardcover\" \"Simplicit\" \"Other\" ...\n",
      " $ buildingStructure  : chr  \"Steel/Concrete\" \"Steel/Concrete\" \"Steel/Concrete\" \"Steel/Concrete\" ...\n",
      " $ ladderRatio        : num  0.217 0.667 0.5 0.273 0.333 0.333 0.5 0.667 0.333 0.308 ...\n",
      " $ elevator           : chr  \"Has_Elevator\" \"Has_Elevator\" \"Has_Elevator\" \"Has_Elevator\" ...\n",
      " $ fiveYearsProperty  : chr  \"Ownership > 5y\" \"Ownership < 5y\" \"Ownership > 5y\" \"Ownership > 5y\" ...\n",
      " $ subway             : chr  \"Has_Subway\" \"No_Subway\" \"No_Subway\" \"No_Subway\" ...\n",
      " $ district           : chr  \"ChaoYang\" \"ChaoYang\" \"ChaoYang\" \"ChangPing\" ...\n",
      " $ communityAverage   : num  56021 71539 48160 51238 62588 ...\n"
     ]
    }
   ],
   "source": [
    "str(data)"
   ]
  },
  {
   "cell_type": "markdown",
   "metadata": {},
   "source": [
    "# Runing an analysis of variabce to see the significat factors"
   ]
  },
  {
   "cell_type": "code",
   "execution_count": 8,
   "metadata": {},
   "outputs": [],
   "source": [
    "anova <- aov( price ~ . , data = data )"
   ]
  },
  {
   "cell_type": "code",
   "execution_count": 9,
   "metadata": {},
   "outputs": [
    {
     "data": {
      "text/plain": [
       "                        Df    Sum Sq   Mean Sq  F value Pr(>F)    \n",
       "Lng                      1 3.362e+12 3.362e+12  35191.6 <2e-16 ***\n",
       "Lat                      1 2.696e+11 2.696e+11   2822.3 <2e-16 ***\n",
       "tradeTime                1 3.956e+13 3.956e+13 414056.7 <2e-16 ***\n",
       "DOM                      1 9.808e+11 9.808e+11  10266.2 <2e-16 ***\n",
       "followers                1 1.049e+10 1.049e+10    109.8 <2e-16 ***\n",
       "square                   1 3.485e+12 3.485e+12  36475.4 <2e-16 ***\n",
       "livingRoom               1 3.904e+11 3.904e+11   4086.1 <2e-16 ***\n",
       "drawingRoom              1 5.909e+10 5.909e+10    618.4 <2e-16 ***\n",
       "kitchen                  1 1.609e+11 1.609e+11   1683.8 <2e-16 ***\n",
       "bathRoom                 1 4.947e+11 4.947e+11   5178.2 <2e-16 ***\n",
       "floor                    1 5.533e+11 5.533e+11   5791.1 <2e-16 ***\n",
       "buildingType             3 5.894e+11 1.965e+11   2056.5 <2e-16 ***\n",
       "constructionTime         1 5.432e+12 5.432e+12  56851.1 <2e-16 ***\n",
       "renovationCondition      3 1.355e+12 4.517e+11   4727.3 <2e-16 ***\n",
       "buildingStructure        5 1.086e+12 2.172e+11   2273.5 <2e-16 ***\n",
       "ladderRatio              1 3.749e+10 3.749e+10    392.4 <2e-16 ***\n",
       "elevator                 1 6.238e+11 6.238e+11   6528.9 <2e-16 ***\n",
       "fiveYearsProperty        1 4.374e+10 4.374e+10    457.8 <2e-16 ***\n",
       "subway                   1 3.756e+12 3.756e+12  39309.9 <2e-16 ***\n",
       "district                12 3.167e+13 2.639e+12  27626.6 <2e-16 ***\n",
       "communityAverage         1 1.693e+13 1.693e+13 177150.9 <2e-16 ***\n",
       "Residuals           296309 2.831e+13 9.554e+07                    \n",
       "---\n",
       "Signif. codes:  0 '***' 0.001 '**' 0.01 '*' 0.05 '.' 0.1 ' ' 1"
      ]
     },
     "metadata": {},
     "output_type": "display_data"
    }
   ],
   "source": [
    "summary(anova)"
   ]
  },
  {
   "cell_type": "markdown",
   "metadata": {},
   "source": [
    "# Splitting Data"
   ]
  },
  {
   "cell_type": "code",
   "execution_count": 10,
   "metadata": {},
   "outputs": [],
   "source": [
    "inTrain = createDataPartition(data$price, p = 0.7, list = F)\n",
    "train = data[inTrain,]\n",
    "test = data[-inTrain,]"
   ]
  },
  {
   "cell_type": "markdown",
   "metadata": {},
   "source": [
    "# Model creation\n",
    "## model with liner combination of all facotors"
   ]
  },
  {
   "cell_type": "code",
   "execution_count": 11,
   "metadata": {},
   "outputs": [],
   "source": [
    "model <- lm(price ~ . , data = train )"
   ]
  },
  {
   "cell_type": "code",
   "execution_count": 12,
   "metadata": {
    "scrolled": true
   },
   "outputs": [
    {
     "data": {
      "text/plain": [
       "\n",
       "Call:\n",
       "lm(formula = price ~ ., data = train)\n",
       "\n",
       "Residuals:\n",
       "   Min     1Q Median     3Q    Max \n",
       "-92310  -6058   -615   5432 142599 \n",
       "\n",
       "Coefficients:\n",
       "                                  Estimate Std. Error t value Pr(>|t|)    \n",
       "(Intercept)                      2.512e+05  6.202e+04   4.050 5.12e-05 ***\n",
       "Lng                             -3.305e+03  4.652e+02  -7.103 1.22e-12 ***\n",
       "Lat                             -3.047e+03  5.332e+02  -5.714 1.11e-08 ***\n",
       "tradeTime                        2.256e+01  5.491e-02 410.827  < 2e-16 ***\n",
       "DOM                              3.769e+01  6.812e-01  55.332  < 2e-16 ***\n",
       "followers                        8.206e+00  7.430e-01  11.043  < 2e-16 ***\n",
       "square                          -6.094e+01  1.318e+00 -46.243  < 2e-16 ***\n",
       "livingRoom                       1.289e+02  4.544e+01   2.836 0.004565 ** \n",
       "drawingRoom                      1.194e+03  5.484e+01  21.773  < 2e-16 ***\n",
       "kitchen                         -1.028e+03  2.258e+02  -4.550 5.36e-06 ***\n",
       "bathRoom                         1.090e+03  7.621e+01  14.297  < 2e-16 ***\n",
       "floor                           -7.955e+01  5.513e+00 -14.431  < 2e-16 ***\n",
       "buildingTypePlate               -1.459e+04  2.377e+03  -6.136 8.46e-10 ***\n",
       "buildingTypePlate/Tower         -1.503e+04  2.379e+03  -6.320 2.61e-10 ***\n",
       "buildingTypeTower               -1.461e+04  2.379e+03  -6.139 8.32e-10 ***\n",
       "constructionTime                -5.042e+01  3.722e+00 -13.548  < 2e-16 ***\n",
       "renovationConditionOther         5.849e+03  6.750e+01  86.646  < 2e-16 ***\n",
       "renovationConditionRough        -2.376e+03  1.715e+02 -13.856  < 2e-16 ***\n",
       "renovationConditionSimplicit    -9.842e+02  5.760e+01 -17.086  < 2e-16 ***\n",
       "buildingStructureBrick/Wood      1.012e+04  2.065e+03   4.902 9.49e-07 ***\n",
       "buildingStructureMixed           5.304e+02  1.085e+02   4.890 1.01e-06 ***\n",
       "buildingStructureSteel          -4.964e+01  9.591e+02  -0.052 0.958725    \n",
       "buildingStructureSteel/Concrete  1.582e+02  1.330e+02   1.189 0.234292    \n",
       "buildingStructureUnavailable    -1.519e+03  2.713e+03  -0.560 0.575357    \n",
       "ladderRatio                      2.043e+03  1.489e+02  13.722  < 2e-16 ***\n",
       "elevatorNo_elevator             -1.424e+03  9.804e+01 -14.526  < 2e-16 ***\n",
       "fiveYearsPropertyOwnership > 5y  1.539e+03  4.784e+01  32.177  < 2e-16 ***\n",
       "subwayNo_Subway                 -8.161e+02  4.853e+01 -16.814  < 2e-16 ***\n",
       "districtChaoYang                 1.563e+03  1.273e+02  12.277  < 2e-16 ***\n",
       "districtDaXing                  -3.731e+03  3.050e+02 -12.235  < 2e-16 ***\n",
       "districtDongCheng                9.680e+02  1.759e+02   5.503 3.75e-08 ***\n",
       "districtFangShang               -7.690e+03  3.232e+02 -23.795  < 2e-16 ***\n",
       "districtFaXing                  -8.930e+02  2.070e+02  -4.314 1.60e-05 ***\n",
       "districtFengTai                  9.270e+02  1.625e+02   5.706 1.16e-08 ***\n",
       "districtHaiDian                  2.386e+03  1.300e+02  18.355  < 2e-16 ***\n",
       "districtMenTouGou                8.151e+01  1.897e+02   0.430 0.667432    \n",
       "districtShiJingShan              1.214e+03  1.871e+02   6.488 8.74e-11 ***\n",
       "districtShunYi                   3.334e+03  3.503e+02   9.519  < 2e-16 ***\n",
       "districtTongZhou                 6.973e+02  2.005e+02   3.477 0.000506 ***\n",
       "districtXiCheng                 -1.708e+02  1.782e+02  -0.958 0.337930    \n",
       "communityAverage                 6.464e-01  1.838e-03 351.761  < 2e-16 ***\n",
       "---\n",
       "Signif. codes:  0 '***' 0.001 '**' 0.01 '*' 0.05 '.' 0.1 ' ' 1\n",
       "\n",
       "Residual standard error: 9767 on 207405 degrees of freedom\n",
       "Multiple R-squared:  0.7968,\tAdjusted R-squared:  0.7967 \n",
       "F-statistic: 2.033e+04 on 40 and 207405 DF,  p-value: < 2.2e-16\n"
      ]
     },
     "metadata": {},
     "output_type": "display_data"
    }
   ],
   "source": [
    "summary(model)"
   ]
  },
  {
   "cell_type": "code",
   "execution_count": 13,
   "metadata": {},
   "outputs": [
    {
     "data": {
      "text/html": [
       "9794.6884360598"
      ],
      "text/latex": [
       "9794.6884360598"
      ],
      "text/markdown": [
       "9794.6884360598"
      ],
      "text/plain": [
       "[1] 9794.688"
      ]
     },
     "metadata": {},
     "output_type": "display_data"
    }
   ],
   "source": [
    "p = predict(model, test)\n",
    "error = sqrt(sum((p-test$price)^2)/length(p))\n",
    "error"
   ]
  },
  {
   "cell_type": "markdown",
   "metadata": {},
   "source": [
    "## model with limited factors for initial testing"
   ]
  },
  {
   "cell_type": "code",
   "execution_count": 14,
   "metadata": {},
   "outputs": [],
   "source": [
    "model_limited <- lm(price ~ square + constructionTime + subway + district ,data = train)"
   ]
  },
  {
   "cell_type": "code",
   "execution_count": 15,
   "metadata": {},
   "outputs": [
    {
     "data": {
      "text/plain": [
       "\n",
       "Call:\n",
       "lm(formula = price ~ square + constructionTime + subway + district, \n",
       "    data = train)\n",
       "\n",
       "Residuals:\n",
       "   Min     1Q Median     3Q    Max \n",
       "-60498 -11291  -3512   9243 114169 \n",
       "\n",
       "Coefficients:\n",
       "                     Estimate Std. Error t value Pr(>|t|)    \n",
       "(Intercept)         46330.874  10026.653   4.621 3.83e-06 ***\n",
       "square                -31.448      1.181 -26.623  < 2e-16 ***\n",
       "constructionTime       -5.540      5.025  -1.103 0.270229    \n",
       "subwayNo_Subway     -3661.891     84.441 -43.366  < 2e-16 ***\n",
       "districtChaoYang    12439.663    134.034  92.810  < 2e-16 ***\n",
       "districtDaXing       1718.558    465.447   3.692 0.000222 ***\n",
       "districtDongCheng   29430.842    208.141 141.399  < 2e-16 ***\n",
       "districtFangShang   -1716.883    430.848  -3.985 6.75e-05 ***\n",
       "districtFaXing       -177.554    208.550  -0.851 0.394562    \n",
       "districtFengTai      7180.644    171.862  41.781  < 2e-16 ***\n",
       "districtHaiDian     24010.443    162.140 148.085  < 2e-16 ***\n",
       "districtMenTouGou   -5334.063    252.254 -21.146  < 2e-16 ***\n",
       "districtShiJingShan  5122.935    239.747  21.368  < 2e-16 ***\n",
       "districtShunYi      -2730.326    536.030  -5.094 3.52e-07 ***\n",
       "districtTongZhou    -2077.618    223.051  -9.315  < 2e-16 ***\n",
       "districtXiCheng     35741.634    176.781 202.180  < 2e-16 ***\n",
       "---\n",
       "Signif. codes:  0 '***' 0.001 '**' 0.01 '*' 0.05 '.' 0.1 ' ' 1\n",
       "\n",
       "Residual standard error: 17630 on 207430 degrees of freedom\n",
       "Multiple R-squared:  0.3379,\tAdjusted R-squared:  0.3378 \n",
       "F-statistic:  7057 on 15 and 207430 DF,  p-value: < 2.2e-16\n"
      ]
     },
     "metadata": {},
     "output_type": "display_data"
    }
   ],
   "source": [
    "summary(model_limited)"
   ]
  },
  {
   "cell_type": "code",
   "execution_count": 16,
   "metadata": {
    "scrolled": true
   },
   "outputs": [
    {
     "data": {
      "text/html": [
       "17619.2878677666"
      ],
      "text/latex": [
       "17619.2878677666"
      ],
      "text/markdown": [
       "17619.2878677666"
      ],
      "text/plain": [
       "[1] 17619.29"
      ]
     },
     "metadata": {},
     "output_type": "display_data"
    }
   ],
   "source": [
    "p = predict(model_limited, test)\n",
    "error = sqrt(sum((p-test$price)^2)/length(p))\n",
    "error"
   ]
  },
  {
   "cell_type": "code",
   "execution_count": 17,
   "metadata": {
    "scrolled": true
   },
   "outputs": [
    {
     "data": {
      "text/plain": [
       "81346528 bytes"
      ]
     },
     "metadata": {},
     "output_type": "display_data"
    }
   ],
   "source": [
    "object.size(model_limited)"
   ]
  },
  {
   "cell_type": "markdown",
   "metadata": {},
   "source": [
    "## Saving the model to disk\n"
   ]
  },
  {
   "cell_type": "code",
   "execution_count": 26,
   "metadata": {},
   "outputs": [],
   "source": [
    "save(model_limited, file = \"./models/final_model.rda\")\n",
    "save(model_limited, file = \"../house-price-prediction-app/shinyApp/models/final_model.rda\")"
   ]
  },
  {
   "cell_type": "markdown",
   "metadata": {},
   "source": [
    "verifying saved model"
   ]
  },
  {
   "cell_type": "code",
   "execution_count": 19,
   "metadata": {},
   "outputs": [
    {
     "data": {
      "text/html": [
       "'lm'"
      ],
      "text/latex": [
       "'lm'"
      ],
      "text/markdown": [
       "'lm'"
      ],
      "text/plain": [
       "[1] \"lm\""
      ]
     },
     "metadata": {},
     "output_type": "display_data"
    }
   ],
   "source": [
    "mdl = readRDS(\"./models/final_model.rds\")\n",
    "class(mdl)"
   ]
  },
  {
   "cell_type": "code",
   "execution_count": 20,
   "metadata": {
    "scrolled": true
   },
   "outputs": [
    {
     "data": {
      "text/html": [
       "17619.2878677666"
      ],
      "text/latex": [
       "17619.2878677666"
      ],
      "text/markdown": [
       "17619.2878677666"
      ],
      "text/plain": [
       "[1] 17619.29"
      ]
     },
     "metadata": {},
     "output_type": "display_data"
    }
   ],
   "source": [
    "p = predict(mdl, newdata = test)\n",
    "error = sqrt(sum((p-test$price)^2)/length(p))\n",
    "error"
   ]
  }
 ],
 "metadata": {
  "kernelspec": {
   "display_name": "R",
   "language": "R",
   "name": "ir"
  },
  "language_info": {
   "codemirror_mode": "r",
   "file_extension": ".r",
   "mimetype": "text/x-r-source",
   "name": "R",
   "pygments_lexer": "r",
   "version": "3.6.1"
  }
 },
 "nbformat": 4,
 "nbformat_minor": 4
}
