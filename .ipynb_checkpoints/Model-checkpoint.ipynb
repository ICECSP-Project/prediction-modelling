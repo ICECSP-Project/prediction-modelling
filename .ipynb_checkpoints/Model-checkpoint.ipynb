{
 "cells": [
  {
   "cell_type": "markdown",
   "metadata": {},
   "source": [
    "# imports"
   ]
  },
  {
   "cell_type": "code",
   "execution_count": 1,
   "metadata": {},
   "outputs": [
    {
     "name": "stderr",
     "output_type": "stream",
     "text": [
      "Registered S3 methods overwritten by 'ggplot2':\n",
      "  method         from \n",
      "  [.quosures     rlang\n",
      "  c.quosures     rlang\n",
      "  print.quosures rlang\n",
      "Registered S3 method overwritten by 'rvest':\n",
      "  method            from\n",
      "  read_xml.response xml2\n",
      "-- Attaching packages --------------------------------------- tidyverse 1.2.1 --\n",
      "v ggplot2 3.1.1       v purrr   0.3.2  \n",
      "v tibble  2.1.1       v dplyr   0.8.0.1\n",
      "v tidyr   0.8.3       v stringr 1.4.0  \n",
      "v readr   1.3.1       v forcats 0.4.0  \n",
      "-- Conflicts ------------------------------------------ tidyverse_conflicts() --\n",
      "x dplyr::filter() masks stats::filter()\n",
      "x dplyr::lag()    masks stats::lag()\n",
      "Warning message:\n",
      "\"package 'data.table' was built under R version 3.6.3\"\n",
      "Attaching package: 'data.table'\n",
      "\n",
      "The following objects are masked from 'package:dplyr':\n",
      "\n",
      "    between, first, last\n",
      "\n",
      "The following object is masked from 'package:purrr':\n",
      "\n",
      "    transpose\n",
      "\n",
      "Warning message:\n",
      "\"package 'spatstat' was built under R version 3.6.3\"Loading required package: spatstat.data\n",
      "Warning message:\n",
      "\"package 'spatstat.data' was built under R version 3.6.3\"Loading required package: nlme\n",
      "\n",
      "Attaching package: 'nlme'\n",
      "\n",
      "The following object is masked from 'package:dplyr':\n",
      "\n",
      "    collapse\n",
      "\n",
      "Loading required package: rpart\n",
      "Registered S3 method overwritten by 'spatstat':\n",
      "  method     from\n",
      "  print.boxx cli \n",
      "\n",
      "spatstat 1.64-1       (nickname: 'Help you I can, yes!') \n",
      "For an introduction to spatstat, type 'beginner' \n",
      "\n",
      "\n",
      "Note: R version 3.6.1 (2019-07-05) is more than a year old; we strongly recommend upgrading to the latest version\n",
      "\n",
      "Attaching package: 'spatstat'\n",
      "\n",
      "The following object is masked from 'package:data.table':\n",
      "\n",
      "    shift\n",
      "\n",
      "Warning message:\n",
      "\"package 'xgboost' was built under R version 3.6.3\"\n",
      "Attaching package: 'xgboost'\n",
      "\n",
      "The following object is masked from 'package:dplyr':\n",
      "\n",
      "    slice\n",
      "\n",
      "Warning message:\n",
      "\"package 'gbm' was built under R version 3.6.3\"Loaded gbm 2.1.8\n",
      "Loading required package: lattice\n",
      "\n",
      "Attaching package: 'lattice'\n",
      "\n",
      "The following object is masked from 'package:spatstat':\n",
      "\n",
      "    panel.histogram\n",
      "\n",
      "\n",
      "Attaching package: 'caret'\n",
      "\n",
      "The following object is masked from 'package:purrr':\n",
      "\n",
      "    lift\n",
      "\n",
      "Warning message:\n",
      "\"package 'Metrics' was built under R version 3.6.3\"\n",
      "Attaching package: 'Metrics'\n",
      "\n",
      "The following objects are masked from 'package:caret':\n",
      "\n",
      "    precision, recall\n",
      "\n",
      "The following object is masked from 'package:spatstat':\n",
      "\n",
      "    auc\n",
      "\n"
     ]
    }
   ],
   "source": [
    "library(tidyverse)\n",
    "library(dplyr)\n",
    "library(data.table)\n",
    "library(spatstat)\n",
    "\n",
    "library(xgboost)\n",
    "library(gbm)\n",
    "\n",
    "library(rpart)\n",
    "library(caret)\n",
    "\n",
    "library(Metrics)"
   ]
  },
  {
   "cell_type": "code",
   "execution_count": 2,
   "metadata": {},
   "outputs": [
    {
     "name": "stderr",
     "output_type": "stream",
     "text": [
      "Warning message:\n",
      "\"Missing column names filled in: 'X1' [1]\"Parsed with column specification:\n",
      "cols(\n",
      "  .default = col_double(),\n",
      "  tradeTime = col_date(format = \"\"),\n",
      "  buildingType = col_character(),\n",
      "  renovationCondition = col_character(),\n",
      "  buildingStructure = col_character(),\n",
      "  elevator = col_character(),\n",
      "  fiveYearsProperty = col_character(),\n",
      "  subway = col_character(),\n",
      "  district = col_character()\n",
      ")\n",
      "See spec(...) for full column specifications.\n"
     ]
    }
   ],
   "source": [
    "cl_data <- read_csv(\"../datasets/Dataset 3 Beijing/Datacleaning/cleaned_beijing.csv\")\n",
    "#cl_data <- read_csv(\"cleaned_beijing.csv\")\n",
    "cl_data <- cl_data[ -c(1) ]"
   ]
  },
  {
   "cell_type": "code",
   "execution_count": 3,
   "metadata": {},
   "outputs": [
    {
     "data": {
      "text/html": [
       "<table>\n",
       "<thead><tr><th scope=col>Lng</th><th scope=col>Lat</th><th scope=col>Cid</th><th scope=col>tradeTime</th><th scope=col>DOM</th><th scope=col>followers</th><th scope=col>totalPrice</th><th scope=col>price</th><th scope=col>square</th><th scope=col>livingRoom</th><th scope=col>...</th><th scope=col>buildingType</th><th scope=col>constructionTime</th><th scope=col>renovationCondition</th><th scope=col>buildingStructure</th><th scope=col>ladderRatio</th><th scope=col>elevator</th><th scope=col>fiveYearsProperty</th><th scope=col>subway</th><th scope=col>district</th><th scope=col>communityAverage</th></tr></thead>\n",
       "<tbody>\n",
       "\t<tr><td>116.4755         </td><td>40.01952         </td><td>1.111027e+12     </td><td>2016-08-09       </td><td>1464             </td><td>106              </td><td> 415.0           </td><td>31680            </td><td>131.00           </td><td>2                </td><td>...              </td><td>Tower            </td><td>2005             </td><td>Simplicit        </td><td>Steel/Concrete   </td><td>0.217            </td><td>Has_Elevator     </td><td>Ownership &gt; 5y</td><td>Has_Subway       </td><td>ChaoYang         </td><td>56021            </td></tr>\n",
       "\t<tr><td>116.4539         </td><td>39.88153         </td><td>1.111027e+12     </td><td>2016-07-28       </td><td> 903             </td><td>126              </td><td> 575.0           </td><td>43436            </td><td>132.38           </td><td>2                </td><td>...              </td><td>Tower            </td><td>2004             </td><td>Hardcover        </td><td>Steel/Concrete   </td><td>0.667            </td><td>Has_Elevator     </td><td>Ownership &lt; 5y</td><td>No_Subway        </td><td>ChaoYang         </td><td>71539            </td></tr>\n",
       "\t<tr><td>116.5620         </td><td>39.87714         </td><td>1.111041e+12     </td><td>2016-12-11       </td><td>1271             </td><td> 48              </td><td>1030.0           </td><td>52021            </td><td>198.00           </td><td>3                </td><td>...              </td><td>Plate            </td><td>2005             </td><td>Simplicit        </td><td>Steel/Concrete   </td><td>0.500            </td><td>Has_Elevator     </td><td>Ownership &gt; 5y</td><td>No_Subway        </td><td>ChaoYang         </td><td>48160            </td></tr>\n",
       "\t<tr><td>116.4380                                         </td><td>40.07611                                         </td><td>1.111043e+12                                     </td><td>2016-09-30                                       </td><td> 965                                             </td><td>138                                              </td><td> 297.5                                           </td><td>22202                                            </td><td>134.00                                           </td><td>3                                                </td><td>...                                              </td><td>Tower                                            </td><td>2008                                             </td><td><span style=white-space:pre-wrap>Other    </span></td><td>Steel/Concrete                                   </td><td>0.273                                            </td><td>Has_Elevator                                     </td><td>Ownership &gt; 5y                                </td><td>No_Subway                                        </td><td>ChangPing                                        </td><td>51238                                            </td></tr>\n",
       "\t<tr><td>116.4284                                              </td><td>39.88623                                              </td><td>1.111027e+12                                          </td><td>2016-08-28                                            </td><td> 927                                                  </td><td>286                                                   </td><td> 392.0                                                </td><td>48396                                                 </td><td> 81.00                                                </td><td>2                                                     </td><td>...                                                   </td><td>Plate                                                 </td><td>1960                                                  </td><td><span style=white-space:pre-wrap>Rough    </span>     </td><td><span style=white-space:pre-wrap>Mixed         </span></td><td>0.333                                                 </td><td>No_elevator                                           </td><td>Ownership &lt; 5y                                     </td><td>Has_Subway                                            </td><td>DongCheng                                             </td><td>62588                                                 </td></tr>\n",
       "\t<tr><td>116.4663         </td><td>39.99136         </td><td>1.111027e+12     </td><td>2016-07-22       </td><td> 861             </td><td> 57              </td><td> 275.6           </td><td>52000            </td><td> 53.00           </td><td>1                </td><td>...              </td><td>Plate            </td><td>2005             </td><td>Simplicit        </td><td>Steel/Concrete   </td><td>0.333            </td><td>Has_Elevator     </td><td>Ownership &lt; 5y</td><td>No_Subway        </td><td>ChaoYang         </td><td>67738            </td></tr>\n",
       "</tbody>\n",
       "</table>\n"
      ],
      "text/latex": [
       "\\begin{tabular}{r|llllllllllllllllllllllll}\n",
       " Lng & Lat & Cid & tradeTime & DOM & followers & totalPrice & price & square & livingRoom & ... & buildingType & constructionTime & renovationCondition & buildingStructure & ladderRatio & elevator & fiveYearsProperty & subway & district & communityAverage\\\\\n",
       "\\hline\n",
       "\t 116.4755       & 40.01952       & 1.111027e+12   & 2016-08-09     & 1464           & 106            &  415.0         & 31680          & 131.00         & 2              & ...            & Tower          & 2005           & Simplicit      & Steel/Concrete & 0.217          & Has\\_Elevator & Ownership > 5y & Has\\_Subway   & ChaoYang       & 56021         \\\\\n",
       "\t 116.4539       & 39.88153       & 1.111027e+12   & 2016-07-28     &  903           & 126            &  575.0         & 43436          & 132.38         & 2              & ...            & Tower          & 2004           & Hardcover      & Steel/Concrete & 0.667          & Has\\_Elevator & Ownership < 5y & No\\_Subway    & ChaoYang       & 71539         \\\\\n",
       "\t 116.5620       & 39.87714       & 1.111041e+12   & 2016-12-11     & 1271           &  48            & 1030.0         & 52021          & 198.00         & 3              & ...            & Plate          & 2005           & Simplicit      & Steel/Concrete & 0.500          & Has\\_Elevator & Ownership > 5y & No\\_Subway    & ChaoYang       & 48160         \\\\\n",
       "\t 116.4380       & 40.07611       & 1.111043e+12   & 2016-09-30     &  965           & 138            &  297.5         & 22202          & 134.00         & 3              & ...            & Tower          & 2008           & Other          & Steel/Concrete & 0.273          & Has\\_Elevator & Ownership > 5y & No\\_Subway    & ChangPing      & 51238         \\\\\n",
       "\t 116.4284       & 39.88623       & 1.111027e+12   & 2016-08-28     &  927           & 286            &  392.0         & 48396          &  81.00         & 2              & ...            & Plate          & 1960           & Rough          & Mixed          & 0.333          & No\\_elevator  & Ownership < 5y & Has\\_Subway   & DongCheng      & 62588         \\\\\n",
       "\t 116.4663       & 39.99136       & 1.111027e+12   & 2016-07-22     &  861           &  57            &  275.6         & 52000          &  53.00         & 1              & ...            & Plate          & 2005           & Simplicit      & Steel/Concrete & 0.333          & Has\\_Elevator & Ownership < 5y & No\\_Subway    & ChaoYang       & 67738         \\\\\n",
       "\\end{tabular}\n"
      ],
      "text/markdown": [
       "\n",
       "| Lng | Lat | Cid | tradeTime | DOM | followers | totalPrice | price | square | livingRoom | ... | buildingType | constructionTime | renovationCondition | buildingStructure | ladderRatio | elevator | fiveYearsProperty | subway | district | communityAverage |\n",
       "|---|---|---|---|---|---|---|---|---|---|---|---|---|---|---|---|---|---|---|---|---|\n",
       "| 116.4755       | 40.01952       | 1.111027e+12   | 2016-08-09     | 1464           | 106            |  415.0         | 31680          | 131.00         | 2              | ...            | Tower          | 2005           | Simplicit      | Steel/Concrete | 0.217          | Has_Elevator   | Ownership > 5y | Has_Subway     | ChaoYang       | 56021          |\n",
       "| 116.4539       | 39.88153       | 1.111027e+12   | 2016-07-28     |  903           | 126            |  575.0         | 43436          | 132.38         | 2              | ...            | Tower          | 2004           | Hardcover      | Steel/Concrete | 0.667          | Has_Elevator   | Ownership < 5y | No_Subway      | ChaoYang       | 71539          |\n",
       "| 116.5620       | 39.87714       | 1.111041e+12   | 2016-12-11     | 1271           |  48            | 1030.0         | 52021          | 198.00         | 3              | ...            | Plate          | 2005           | Simplicit      | Steel/Concrete | 0.500          | Has_Elevator   | Ownership > 5y | No_Subway      | ChaoYang       | 48160          |\n",
       "| 116.4380       | 40.07611       | 1.111043e+12   | 2016-09-30     |  965           | 138            |  297.5         | 22202          | 134.00         | 3              | ...            | Tower          | 2008           | Other          | Steel/Concrete | 0.273          | Has_Elevator   | Ownership > 5y | No_Subway      | ChangPing      | 51238          |\n",
       "| 116.4284       | 39.88623       | 1.111027e+12   | 2016-08-28     |  927           | 286            |  392.0         | 48396          |  81.00         | 2              | ...            | Plate          | 1960           | Rough          | Mixed          | 0.333          | No_elevator    | Ownership < 5y | Has_Subway     | DongCheng      | 62588          |\n",
       "| 116.4663       | 39.99136       | 1.111027e+12   | 2016-07-22     |  861           |  57            |  275.6         | 52000          |  53.00         | 1              | ...            | Plate          | 2005           | Simplicit      | Steel/Concrete | 0.333          | Has_Elevator   | Ownership < 5y | No_Subway      | ChaoYang       | 67738          |\n",
       "\n"
      ],
      "text/plain": [
       "  Lng      Lat      Cid          tradeTime  DOM  followers totalPrice price\n",
       "1 116.4755 40.01952 1.111027e+12 2016-08-09 1464 106        415.0     31680\n",
       "2 116.4539 39.88153 1.111027e+12 2016-07-28  903 126        575.0     43436\n",
       "3 116.5620 39.87714 1.111041e+12 2016-12-11 1271  48       1030.0     52021\n",
       "4 116.4380 40.07611 1.111043e+12 2016-09-30  965 138        297.5     22202\n",
       "5 116.4284 39.88623 1.111027e+12 2016-08-28  927 286        392.0     48396\n",
       "6 116.4663 39.99136 1.111027e+12 2016-07-22  861  57        275.6     52000\n",
       "  square livingRoom ... buildingType constructionTime renovationCondition\n",
       "1 131.00 2          ... Tower        2005             Simplicit          \n",
       "2 132.38 2          ... Tower        2004             Hardcover          \n",
       "3 198.00 3          ... Plate        2005             Simplicit          \n",
       "4 134.00 3          ... Tower        2008             Other              \n",
       "5  81.00 2          ... Plate        1960             Rough              \n",
       "6  53.00 1          ... Plate        2005             Simplicit          \n",
       "  buildingStructure ladderRatio elevator     fiveYearsProperty subway    \n",
       "1 Steel/Concrete    0.217       Has_Elevator Ownership > 5y    Has_Subway\n",
       "2 Steel/Concrete    0.667       Has_Elevator Ownership < 5y    No_Subway \n",
       "3 Steel/Concrete    0.500       Has_Elevator Ownership > 5y    No_Subway \n",
       "4 Steel/Concrete    0.273       Has_Elevator Ownership > 5y    No_Subway \n",
       "5 Mixed             0.333       No_elevator  Ownership < 5y    Has_Subway\n",
       "6 Steel/Concrete    0.333       Has_Elevator Ownership < 5y    No_Subway \n",
       "  district  communityAverage\n",
       "1 ChaoYang  56021           \n",
       "2 ChaoYang  71539           \n",
       "3 ChaoYang  48160           \n",
       "4 ChangPing 51238           \n",
       "5 DongCheng 62588           \n",
       "6 ChaoYang  67738           "
      ]
     },
     "metadata": {},
     "output_type": "display_data"
    }
   ],
   "source": [
    "head(cl_data)"
   ]
  },
  {
   "cell_type": "code",
   "execution_count": 4,
   "metadata": {},
   "outputs": [
    {
     "data": {
      "text/plain": [
       "      Lng             Lat             Cid              tradeTime         \n",
       " Min.   :116.1   Min.   :39.63   Min.   :1.111e+12   Min.   :2002-06-01  \n",
       " 1st Qu.:116.3   1st Qu.:39.89   1st Qu.:1.111e+12   1st Qu.:2013-12-26  \n",
       " Median :116.4   Median :39.93   Median :1.111e+12   Median :2015-09-27  \n",
       " Mean   :116.4   Mean   :39.95   Mean   :1.126e+12   Mean   :2015-04-30  \n",
       " 3rd Qu.:116.5   3rd Qu.:40.00   3rd Qu.:1.111e+12   3rd Qu.:2016-08-12  \n",
       " Max.   :116.7   Max.   :40.25   Max.   :1.185e+14   Max.   :2018-01-28  \n",
       "      DOM            followers         totalPrice         price       \n",
       " Min.   :   1.00   Min.   :   0.00   Min.   :  13.0   Min.   : 10000  \n",
       " 1st Qu.:   7.00   1st Qu.:   0.00   1st Qu.: 206.0   1st Qu.: 28362  \n",
       " Median :   7.00   Median :   5.00   Median : 295.0   Median : 39133  \n",
       " Mean   :  18.54   Mean   :  17.25   Mean   : 350.6   Mean   : 44003  \n",
       " 3rd Qu.:   8.00   3rd Qu.:  19.00   3rd Qu.: 428.0   3rd Qu.: 54348  \n",
       " Max.   :1677.00   Max.   :1143.00   Max.   :4900.0   Max.   :150000  \n",
       "     square         livingRoom    drawingRoom       kitchen      \n",
       " Min.   :  7.37   Min.   :0.00   Min.   :0.000   Min.   :0.0000  \n",
       " 1st Qu.: 57.91   1st Qu.:1.00   1st Qu.:1.000   1st Qu.:1.0000  \n",
       " Median : 73.92   Median :2.00   Median :1.000   Median :1.0000  \n",
       " Mean   : 82.58   Mean   :2.01   Mean   :1.171   Mean   :0.9949  \n",
       " 3rd Qu.: 98.15   3rd Qu.:2.00   3rd Qu.:1.000   3rd Qu.:1.0000  \n",
       " Max.   :640.00   Max.   :8.00   Max.   :5.000   Max.   :3.0000  \n",
       "    bathRoom         floor       buildingType       constructionTime\n",
       " Min.   :0.000   Min.   : 1.00   Length:296350      Min.   :1950    \n",
       " 1st Qu.:1.000   1st Qu.: 6.00   Class :character   1st Qu.:1994    \n",
       " Median :1.000   Median :11.00   Mode  :character   Median :2001    \n",
       " Mean   :1.182   Mean   :13.17                      Mean   :1999    \n",
       " 3rd Qu.:1.000   3rd Qu.:19.00                      3rd Qu.:2006    \n",
       " Max.   :7.000   Max.   :63.00                      Max.   :2016    \n",
       " renovationCondition buildingStructure   ladderRatio       elevator        \n",
       " Length:296350       Length:296350      Min.   :0.0140   Length:296350     \n",
       " Class :character    Class :character   1st Qu.:0.2500   Class :character  \n",
       " Mode  :character    Mode  :character   Median :0.3330   Mode  :character  \n",
       "                                        Mean   :0.3818                     \n",
       "                                        3rd Qu.:0.5000                     \n",
       "                                        Max.   :5.0000                     \n",
       " fiveYearsProperty     subway            district         communityAverage\n",
       " Length:296350      Length:296350      Length:296350      Min.   : 10847  \n",
       " Class :character   Class :character   Class :character   1st Qu.: 46578  \n",
       " Mode  :character   Mode  :character   Mode  :character   Median : 59060  \n",
       "                                                          Mean   : 63745  \n",
       "                                                          3rd Qu.: 75868  \n",
       "                                                          Max.   :183109  "
      ]
     },
     "metadata": {},
     "output_type": "display_data"
    }
   ],
   "source": [
    "summary(cl_data)"
   ]
  },
  {
   "cell_type": "code",
   "execution_count": 5,
   "metadata": {
    "scrolled": true
   },
   "outputs": [
    {
     "data": {
      "text/html": [
       "<ol class=list-inline>\n",
       "\t<li>2005</li>\n",
       "\t<li>2004</li>\n",
       "\t<li>2008</li>\n",
       "\t<li>1960</li>\n",
       "\t<li>1997</li>\n",
       "\t<li>2009</li>\n",
       "\t<li>1991</li>\n",
       "\t<li>2001</li>\n",
       "\t<li>1990</li>\n",
       "\t<li>2011</li>\n",
       "\t<li>2000</li>\n",
       "\t<li>1998</li>\n",
       "\t<li>2010</li>\n",
       "\t<li>1996</li>\n",
       "\t<li>1993</li>\n",
       "\t<li>2006</li>\n",
       "\t<li>2002</li>\n",
       "\t<li>2012</li>\n",
       "\t<li>1989</li>\n",
       "\t<li>2003</li>\n",
       "\t<li>2007</li>\n",
       "\t<li>1994</li>\n",
       "\t<li>1984</li>\n",
       "\t<li>1992</li>\n",
       "\t<li>2014</li>\n",
       "\t<li>1985</li>\n",
       "\t<li>1999</li>\n",
       "\t<li>1979</li>\n",
       "\t<li>1981</li>\n",
       "\t<li>1976</li>\n",
       "\t<li>1982</li>\n",
       "\t<li>1975</li>\n",
       "\t<li>1983</li>\n",
       "\t<li>1986</li>\n",
       "\t<li>1995</li>\n",
       "\t<li>1965</li>\n",
       "\t<li>2013</li>\n",
       "\t<li>1988</li>\n",
       "\t<li>1987</li>\n",
       "\t<li>2015</li>\n",
       "\t<li>1955</li>\n",
       "\t<li>1980</li>\n",
       "\t<li>1978</li>\n",
       "\t<li>1958</li>\n",
       "\t<li>1970</li>\n",
       "\t<li>1956</li>\n",
       "\t<li>1977</li>\n",
       "\t<li>1964</li>\n",
       "\t<li>1963</li>\n",
       "\t<li>1967</li>\n",
       "\t<li>2016</li>\n",
       "\t<li>1974</li>\n",
       "\t<li>1973</li>\n",
       "\t<li>1959</li>\n",
       "\t<li>1954</li>\n",
       "\t<li>1962</li>\n",
       "\t<li>1966</li>\n",
       "\t<li>1957</li>\n",
       "\t<li>1972</li>\n",
       "\t<li>1971</li>\n",
       "\t<li>1953</li>\n",
       "\t<li>1968</li>\n",
       "\t<li>1961</li>\n",
       "\t<li>1950</li>\n",
       "\t<li>1952</li>\n",
       "\t<li>1969</li>\n",
       "</ol>\n"
      ],
      "text/latex": [
       "\\begin{enumerate*}\n",
       "\\item 2005\n",
       "\\item 2004\n",
       "\\item 2008\n",
       "\\item 1960\n",
       "\\item 1997\n",
       "\\item 2009\n",
       "\\item 1991\n",
       "\\item 2001\n",
       "\\item 1990\n",
       "\\item 2011\n",
       "\\item 2000\n",
       "\\item 1998\n",
       "\\item 2010\n",
       "\\item 1996\n",
       "\\item 1993\n",
       "\\item 2006\n",
       "\\item 2002\n",
       "\\item 2012\n",
       "\\item 1989\n",
       "\\item 2003\n",
       "\\item 2007\n",
       "\\item 1994\n",
       "\\item 1984\n",
       "\\item 1992\n",
       "\\item 2014\n",
       "\\item 1985\n",
       "\\item 1999\n",
       "\\item 1979\n",
       "\\item 1981\n",
       "\\item 1976\n",
       "\\item 1982\n",
       "\\item 1975\n",
       "\\item 1983\n",
       "\\item 1986\n",
       "\\item 1995\n",
       "\\item 1965\n",
       "\\item 2013\n",
       "\\item 1988\n",
       "\\item 1987\n",
       "\\item 2015\n",
       "\\item 1955\n",
       "\\item 1980\n",
       "\\item 1978\n",
       "\\item 1958\n",
       "\\item 1970\n",
       "\\item 1956\n",
       "\\item 1977\n",
       "\\item 1964\n",
       "\\item 1963\n",
       "\\item 1967\n",
       "\\item 2016\n",
       "\\item 1974\n",
       "\\item 1973\n",
       "\\item 1959\n",
       "\\item 1954\n",
       "\\item 1962\n",
       "\\item 1966\n",
       "\\item 1957\n",
       "\\item 1972\n",
       "\\item 1971\n",
       "\\item 1953\n",
       "\\item 1968\n",
       "\\item 1961\n",
       "\\item 1950\n",
       "\\item 1952\n",
       "\\item 1969\n",
       "\\end{enumerate*}\n"
      ],
      "text/markdown": [
       "1. 2005\n",
       "2. 2004\n",
       "3. 2008\n",
       "4. 1960\n",
       "5. 1997\n",
       "6. 2009\n",
       "7. 1991\n",
       "8. 2001\n",
       "9. 1990\n",
       "10. 2011\n",
       "11. 2000\n",
       "12. 1998\n",
       "13. 2010\n",
       "14. 1996\n",
       "15. 1993\n",
       "16. 2006\n",
       "17. 2002\n",
       "18. 2012\n",
       "19. 1989\n",
       "20. 2003\n",
       "21. 2007\n",
       "22. 1994\n",
       "23. 1984\n",
       "24. 1992\n",
       "25. 2014\n",
       "26. 1985\n",
       "27. 1999\n",
       "28. 1979\n",
       "29. 1981\n",
       "30. 1976\n",
       "31. 1982\n",
       "32. 1975\n",
       "33. 1983\n",
       "34. 1986\n",
       "35. 1995\n",
       "36. 1965\n",
       "37. 2013\n",
       "38. 1988\n",
       "39. 1987\n",
       "40. 2015\n",
       "41. 1955\n",
       "42. 1980\n",
       "43. 1978\n",
       "44. 1958\n",
       "45. 1970\n",
       "46. 1956\n",
       "47. 1977\n",
       "48. 1964\n",
       "49. 1963\n",
       "50. 1967\n",
       "51. 2016\n",
       "52. 1974\n",
       "53. 1973\n",
       "54. 1959\n",
       "55. 1954\n",
       "56. 1962\n",
       "57. 1966\n",
       "58. 1957\n",
       "59. 1972\n",
       "60. 1971\n",
       "61. 1953\n",
       "62. 1968\n",
       "63. 1961\n",
       "64. 1950\n",
       "65. 1952\n",
       "66. 1969\n",
       "\n",
       "\n"
      ],
      "text/plain": [
       " [1] 2005 2004 2008 1960 1997 2009 1991 2001 1990 2011 2000 1998 2010 1996 1993\n",
       "[16] 2006 2002 2012 1989 2003 2007 1994 1984 1992 2014 1985 1999 1979 1981 1976\n",
       "[31] 1982 1975 1983 1986 1995 1965 2013 1988 1987 2015 1955 1980 1978 1958 1970\n",
       "[46] 1956 1977 1964 1963 1967 2016 1974 1973 1959 1954 1962 1966 1957 1972 1971\n",
       "[61] 1953 1968 1961 1950 1952 1969"
      ]
     },
     "metadata": {},
     "output_type": "display_data"
    }
   ],
   "source": [
    "unique(cl_data$constructionTime)"
   ]
  },
  {
   "cell_type": "markdown",
   "metadata": {},
   "source": [
    "removing  Cid and total price. cid has too many factors (computer crashes when trained using as factor) "
   ]
  },
  {
   "cell_type": "code",
   "execution_count": 6,
   "metadata": {},
   "outputs": [],
   "source": [
    "data = cl_data[-c(3,7)]"
   ]
  },
  {
   "cell_type": "markdown",
   "metadata": {},
   "source": [
    "# Data After Modifiation"
   ]
  },
  {
   "cell_type": "code",
   "execution_count": 7,
   "metadata": {},
   "outputs": [
    {
     "data": {
      "text/html": [
       "<table>\n",
       "<thead><tr><th scope=col>Lng</th><th scope=col>Lat</th><th scope=col>tradeTime</th><th scope=col>DOM</th><th scope=col>followers</th><th scope=col>price</th><th scope=col>square</th><th scope=col>livingRoom</th><th scope=col>drawingRoom</th><th scope=col>kitchen</th><th scope=col>...</th><th scope=col>buildingType</th><th scope=col>constructionTime</th><th scope=col>renovationCondition</th><th scope=col>buildingStructure</th><th scope=col>ladderRatio</th><th scope=col>elevator</th><th scope=col>fiveYearsProperty</th><th scope=col>subway</th><th scope=col>district</th><th scope=col>communityAverage</th></tr></thead>\n",
       "<tbody>\n",
       "\t<tr><td>116.4755         </td><td>40.01952         </td><td>2016-08-09       </td><td>1464             </td><td>106              </td><td>31680            </td><td>131.00           </td><td>2                </td><td>1                </td><td>1                </td><td>...              </td><td>Tower            </td><td>2005             </td><td>Simplicit        </td><td>Steel/Concrete   </td><td>0.217            </td><td>Has_Elevator     </td><td>Ownership &gt; 5y</td><td>Has_Subway       </td><td>ChaoYang         </td><td>56021            </td></tr>\n",
       "\t<tr><td>116.4539         </td><td>39.88153         </td><td>2016-07-28       </td><td> 903             </td><td>126              </td><td>43436            </td><td>132.38           </td><td>2                </td><td>2                </td><td>1                </td><td>...              </td><td>Tower            </td><td>2004             </td><td>Hardcover        </td><td>Steel/Concrete   </td><td>0.667            </td><td>Has_Elevator     </td><td>Ownership &lt; 5y</td><td>No_Subway        </td><td>ChaoYang         </td><td>71539            </td></tr>\n",
       "\t<tr><td>116.5620         </td><td>39.87714         </td><td>2016-12-11       </td><td>1271             </td><td> 48              </td><td>52021            </td><td>198.00           </td><td>3                </td><td>2                </td><td>1                </td><td>...              </td><td>Plate            </td><td>2005             </td><td>Simplicit        </td><td>Steel/Concrete   </td><td>0.500            </td><td>Has_Elevator     </td><td>Ownership &gt; 5y</td><td>No_Subway        </td><td>ChaoYang         </td><td>48160            </td></tr>\n",
       "\t<tr><td>116.4380                                         </td><td>40.07611                                         </td><td>2016-09-30                                       </td><td> 965                                             </td><td>138                                              </td><td>22202                                            </td><td>134.00                                           </td><td>3                                                </td><td>1                                                </td><td>1                                                </td><td>...                                              </td><td>Tower                                            </td><td>2008                                             </td><td><span style=white-space:pre-wrap>Other    </span></td><td>Steel/Concrete                                   </td><td>0.273                                            </td><td>Has_Elevator                                     </td><td>Ownership &gt; 5y                                </td><td>No_Subway                                        </td><td>ChangPing                                        </td><td>51238                                            </td></tr>\n",
       "\t<tr><td>116.4284                                              </td><td>39.88623                                              </td><td>2016-08-28                                            </td><td> 927                                                  </td><td>286                                                   </td><td>48396                                                 </td><td> 81.00                                                </td><td>2                                                     </td><td>1                                                     </td><td>1                                                     </td><td>...                                                   </td><td>Plate                                                 </td><td>1960                                                  </td><td><span style=white-space:pre-wrap>Rough    </span>     </td><td><span style=white-space:pre-wrap>Mixed         </span></td><td>0.333                                                 </td><td>No_elevator                                           </td><td>Ownership &lt; 5y                                     </td><td>Has_Subway                                            </td><td>DongCheng                                             </td><td>62588                                                 </td></tr>\n",
       "\t<tr><td>116.4663         </td><td>39.99136         </td><td>2016-07-22       </td><td> 861             </td><td> 57              </td><td>52000            </td><td> 53.00           </td><td>1                </td><td>0                </td><td>1                </td><td>...              </td><td>Plate            </td><td>2005             </td><td>Simplicit        </td><td>Steel/Concrete   </td><td>0.333            </td><td>Has_Elevator     </td><td>Ownership &lt; 5y</td><td>No_Subway        </td><td>ChaoYang         </td><td>67738            </td></tr>\n",
       "</tbody>\n",
       "</table>\n"
      ],
      "text/latex": [
       "\\begin{tabular}{r|llllllllllllllllllllll}\n",
       " Lng & Lat & tradeTime & DOM & followers & price & square & livingRoom & drawingRoom & kitchen & ... & buildingType & constructionTime & renovationCondition & buildingStructure & ladderRatio & elevator & fiveYearsProperty & subway & district & communityAverage\\\\\n",
       "\\hline\n",
       "\t 116.4755       & 40.01952       & 2016-08-09     & 1464           & 106            & 31680          & 131.00         & 2              & 1              & 1              & ...            & Tower          & 2005           & Simplicit      & Steel/Concrete & 0.217          & Has\\_Elevator & Ownership > 5y & Has\\_Subway   & ChaoYang       & 56021         \\\\\n",
       "\t 116.4539       & 39.88153       & 2016-07-28     &  903           & 126            & 43436          & 132.38         & 2              & 2              & 1              & ...            & Tower          & 2004           & Hardcover      & Steel/Concrete & 0.667          & Has\\_Elevator & Ownership < 5y & No\\_Subway    & ChaoYang       & 71539         \\\\\n",
       "\t 116.5620       & 39.87714       & 2016-12-11     & 1271           &  48            & 52021          & 198.00         & 3              & 2              & 1              & ...            & Plate          & 2005           & Simplicit      & Steel/Concrete & 0.500          & Has\\_Elevator & Ownership > 5y & No\\_Subway    & ChaoYang       & 48160         \\\\\n",
       "\t 116.4380       & 40.07611       & 2016-09-30     &  965           & 138            & 22202          & 134.00         & 3              & 1              & 1              & ...            & Tower          & 2008           & Other          & Steel/Concrete & 0.273          & Has\\_Elevator & Ownership > 5y & No\\_Subway    & ChangPing      & 51238         \\\\\n",
       "\t 116.4284       & 39.88623       & 2016-08-28     &  927           & 286            & 48396          &  81.00         & 2              & 1              & 1              & ...            & Plate          & 1960           & Rough          & Mixed          & 0.333          & No\\_elevator  & Ownership < 5y & Has\\_Subway   & DongCheng      & 62588         \\\\\n",
       "\t 116.4663       & 39.99136       & 2016-07-22     &  861           &  57            & 52000          &  53.00         & 1              & 0              & 1              & ...            & Plate          & 2005           & Simplicit      & Steel/Concrete & 0.333          & Has\\_Elevator & Ownership < 5y & No\\_Subway    & ChaoYang       & 67738         \\\\\n",
       "\\end{tabular}\n"
      ],
      "text/markdown": [
       "\n",
       "| Lng | Lat | tradeTime | DOM | followers | price | square | livingRoom | drawingRoom | kitchen | ... | buildingType | constructionTime | renovationCondition | buildingStructure | ladderRatio | elevator | fiveYearsProperty | subway | district | communityAverage |\n",
       "|---|---|---|---|---|---|---|---|---|---|---|---|---|---|---|---|---|---|---|---|---|\n",
       "| 116.4755       | 40.01952       | 2016-08-09     | 1464           | 106            | 31680          | 131.00         | 2              | 1              | 1              | ...            | Tower          | 2005           | Simplicit      | Steel/Concrete | 0.217          | Has_Elevator   | Ownership > 5y | Has_Subway     | ChaoYang       | 56021          |\n",
       "| 116.4539       | 39.88153       | 2016-07-28     |  903           | 126            | 43436          | 132.38         | 2              | 2              | 1              | ...            | Tower          | 2004           | Hardcover      | Steel/Concrete | 0.667          | Has_Elevator   | Ownership < 5y | No_Subway      | ChaoYang       | 71539          |\n",
       "| 116.5620       | 39.87714       | 2016-12-11     | 1271           |  48            | 52021          | 198.00         | 3              | 2              | 1              | ...            | Plate          | 2005           | Simplicit      | Steel/Concrete | 0.500          | Has_Elevator   | Ownership > 5y | No_Subway      | ChaoYang       | 48160          |\n",
       "| 116.4380       | 40.07611       | 2016-09-30     |  965           | 138            | 22202          | 134.00         | 3              | 1              | 1              | ...            | Tower          | 2008           | Other          | Steel/Concrete | 0.273          | Has_Elevator   | Ownership > 5y | No_Subway      | ChangPing      | 51238          |\n",
       "| 116.4284       | 39.88623       | 2016-08-28     |  927           | 286            | 48396          |  81.00         | 2              | 1              | 1              | ...            | Plate          | 1960           | Rough          | Mixed          | 0.333          | No_elevator    | Ownership < 5y | Has_Subway     | DongCheng      | 62588          |\n",
       "| 116.4663       | 39.99136       | 2016-07-22     |  861           |  57            | 52000          |  53.00         | 1              | 0              | 1              | ...            | Plate          | 2005           | Simplicit      | Steel/Concrete | 0.333          | Has_Elevator   | Ownership < 5y | No_Subway      | ChaoYang       | 67738          |\n",
       "\n"
      ],
      "text/plain": [
       "  Lng      Lat      tradeTime  DOM  followers price square livingRoom\n",
       "1 116.4755 40.01952 2016-08-09 1464 106       31680 131.00 2         \n",
       "2 116.4539 39.88153 2016-07-28  903 126       43436 132.38 2         \n",
       "3 116.5620 39.87714 2016-12-11 1271  48       52021 198.00 3         \n",
       "4 116.4380 40.07611 2016-09-30  965 138       22202 134.00 3         \n",
       "5 116.4284 39.88623 2016-08-28  927 286       48396  81.00 2         \n",
       "6 116.4663 39.99136 2016-07-22  861  57       52000  53.00 1         \n",
       "  drawingRoom kitchen ... buildingType constructionTime renovationCondition\n",
       "1 1           1       ... Tower        2005             Simplicit          \n",
       "2 2           1       ... Tower        2004             Hardcover          \n",
       "3 2           1       ... Plate        2005             Simplicit          \n",
       "4 1           1       ... Tower        2008             Other              \n",
       "5 1           1       ... Plate        1960             Rough              \n",
       "6 0           1       ... Plate        2005             Simplicit          \n",
       "  buildingStructure ladderRatio elevator     fiveYearsProperty subway    \n",
       "1 Steel/Concrete    0.217       Has_Elevator Ownership > 5y    Has_Subway\n",
       "2 Steel/Concrete    0.667       Has_Elevator Ownership < 5y    No_Subway \n",
       "3 Steel/Concrete    0.500       Has_Elevator Ownership > 5y    No_Subway \n",
       "4 Steel/Concrete    0.273       Has_Elevator Ownership > 5y    No_Subway \n",
       "5 Mixed             0.333       No_elevator  Ownership < 5y    Has_Subway\n",
       "6 Steel/Concrete    0.333       Has_Elevator Ownership < 5y    No_Subway \n",
       "  district  communityAverage\n",
       "1 ChaoYang  56021           \n",
       "2 ChaoYang  71539           \n",
       "3 ChaoYang  48160           \n",
       "4 ChangPing 51238           \n",
       "5 DongCheng 62588           \n",
       "6 ChaoYang  67738           "
      ]
     },
     "metadata": {},
     "output_type": "display_data"
    }
   ],
   "source": [
    "head(data)"
   ]
  },
  {
   "cell_type": "code",
   "execution_count": 8,
   "metadata": {},
   "outputs": [
    {
     "data": {
      "text/html": [
       "<ol class=list-inline>\n",
       "\t<li>'Lng'</li>\n",
       "\t<li>'Lat'</li>\n",
       "\t<li>'tradeTime'</li>\n",
       "\t<li>'DOM'</li>\n",
       "\t<li>'followers'</li>\n",
       "\t<li>'price'</li>\n",
       "\t<li>'square'</li>\n",
       "\t<li>'livingRoom'</li>\n",
       "\t<li>'drawingRoom'</li>\n",
       "\t<li>'kitchen'</li>\n",
       "\t<li>'bathRoom'</li>\n",
       "\t<li>'floor'</li>\n",
       "\t<li>'buildingType'</li>\n",
       "\t<li>'constructionTime'</li>\n",
       "\t<li>'renovationCondition'</li>\n",
       "\t<li>'buildingStructure'</li>\n",
       "\t<li>'ladderRatio'</li>\n",
       "\t<li>'elevator'</li>\n",
       "\t<li>'fiveYearsProperty'</li>\n",
       "\t<li>'subway'</li>\n",
       "\t<li>'district'</li>\n",
       "\t<li>'communityAverage'</li>\n",
       "</ol>\n"
      ],
      "text/latex": [
       "\\begin{enumerate*}\n",
       "\\item 'Lng'\n",
       "\\item 'Lat'\n",
       "\\item 'tradeTime'\n",
       "\\item 'DOM'\n",
       "\\item 'followers'\n",
       "\\item 'price'\n",
       "\\item 'square'\n",
       "\\item 'livingRoom'\n",
       "\\item 'drawingRoom'\n",
       "\\item 'kitchen'\n",
       "\\item 'bathRoom'\n",
       "\\item 'floor'\n",
       "\\item 'buildingType'\n",
       "\\item 'constructionTime'\n",
       "\\item 'renovationCondition'\n",
       "\\item 'buildingStructure'\n",
       "\\item 'ladderRatio'\n",
       "\\item 'elevator'\n",
       "\\item 'fiveYearsProperty'\n",
       "\\item 'subway'\n",
       "\\item 'district'\n",
       "\\item 'communityAverage'\n",
       "\\end{enumerate*}\n"
      ],
      "text/markdown": [
       "1. 'Lng'\n",
       "2. 'Lat'\n",
       "3. 'tradeTime'\n",
       "4. 'DOM'\n",
       "5. 'followers'\n",
       "6. 'price'\n",
       "7. 'square'\n",
       "8. 'livingRoom'\n",
       "9. 'drawingRoom'\n",
       "10. 'kitchen'\n",
       "11. 'bathRoom'\n",
       "12. 'floor'\n",
       "13. 'buildingType'\n",
       "14. 'constructionTime'\n",
       "15. 'renovationCondition'\n",
       "16. 'buildingStructure'\n",
       "17. 'ladderRatio'\n",
       "18. 'elevator'\n",
       "19. 'fiveYearsProperty'\n",
       "20. 'subway'\n",
       "21. 'district'\n",
       "22. 'communityAverage'\n",
       "\n",
       "\n"
      ],
      "text/plain": [
       " [1] \"Lng\"                 \"Lat\"                 \"tradeTime\"          \n",
       " [4] \"DOM\"                 \"followers\"           \"price\"              \n",
       " [7] \"square\"              \"livingRoom\"          \"drawingRoom\"        \n",
       "[10] \"kitchen\"             \"bathRoom\"            \"floor\"              \n",
       "[13] \"buildingType\"        \"constructionTime\"    \"renovationCondition\"\n",
       "[16] \"buildingStructure\"   \"ladderRatio\"         \"elevator\"           \n",
       "[19] \"fiveYearsProperty\"   \"subway\"              \"district\"           \n",
       "[22] \"communityAverage\"   "
      ]
     },
     "metadata": {},
     "output_type": "display_data"
    }
   ],
   "source": [
    "colnames(data)"
   ]
  },
  {
   "cell_type": "code",
   "execution_count": 9,
   "metadata": {},
   "outputs": [
    {
     "name": "stdout",
     "output_type": "stream",
     "text": [
      "Classes 'tbl_df', 'tbl' and 'data.frame':\t296350 obs. of  22 variables:\n",
      " $ Lng                : num  116 116 117 116 116 ...\n",
      " $ Lat                : num  40 39.9 39.9 40.1 39.9 ...\n",
      " $ tradeTime          : Date, format: \"2016-08-09\" \"2016-07-28\" ...\n",
      " $ DOM                : num  1464 903 1271 965 927 ...\n",
      " $ followers          : num  106 126 48 138 286 57 167 138 218 134 ...\n",
      " $ price              : num  31680 43436 52021 22202 48396 ...\n",
      " $ square             : num  131 132 198 134 81 ...\n",
      " $ livingRoom         : num  2 2 3 3 2 1 2 3 1 1 ...\n",
      " $ drawingRoom        : num  1 2 2 1 1 0 1 2 0 0 ...\n",
      " $ kitchen            : num  1 1 1 1 1 1 1 1 1 0 ...\n",
      " $ bathRoom           : num  1 2 3 1 1 1 1 2 1 0 ...\n",
      " $ floor              : num  26 22 4 21 6 8 6 22 10 23 ...\n",
      " $ buildingType       : chr  \"Tower\" \"Tower\" \"Plate\" \"Tower\" ...\n",
      " $ constructionTime   : num  2005 2004 2005 2008 1960 ...\n",
      " $ renovationCondition: chr  \"Simplicit\" \"Hardcover\" \"Simplicit\" \"Other\" ...\n",
      " $ buildingStructure  : chr  \"Steel/Concrete\" \"Steel/Concrete\" \"Steel/Concrete\" \"Steel/Concrete\" ...\n",
      " $ ladderRatio        : num  0.217 0.667 0.5 0.273 0.333 0.333 0.5 0.667 0.333 0.308 ...\n",
      " $ elevator           : chr  \"Has_Elevator\" \"Has_Elevator\" \"Has_Elevator\" \"Has_Elevator\" ...\n",
      " $ fiveYearsProperty  : chr  \"Ownership > 5y\" \"Ownership < 5y\" \"Ownership > 5y\" \"Ownership > 5y\" ...\n",
      " $ subway             : chr  \"Has_Subway\" \"No_Subway\" \"No_Subway\" \"No_Subway\" ...\n",
      " $ district           : chr  \"ChaoYang\" \"ChaoYang\" \"ChaoYang\" \"ChangPing\" ...\n",
      " $ communityAverage   : num  56021 71539 48160 51238 62588 ...\n"
     ]
    }
   ],
   "source": [
    "str(data)"
   ]
  },
  {
   "cell_type": "markdown",
   "metadata": {},
   "source": [
    "# Runing an analysis of variabce to see the significat factors"
   ]
  },
  {
   "cell_type": "code",
   "execution_count": 10,
   "metadata": {},
   "outputs": [],
   "source": [
    "anova <- aov( price ~ . , data = data )"
   ]
  },
  {
   "cell_type": "code",
   "execution_count": 11,
   "metadata": {},
   "outputs": [
    {
     "data": {
      "text/plain": [
       "                        Df    Sum Sq   Mean Sq  F value Pr(>F)    \n",
       "Lng                      1 3.362e+12 3.362e+12  35190.1 <2e-16 ***\n",
       "Lat                      1 2.696e+11 2.696e+11   2822.3 <2e-16 ***\n",
       "tradeTime                1 3.956e+13 3.956e+13 414057.9 <2e-16 ***\n",
       "DOM                      1 9.809e+11 9.809e+11  10266.3 <2e-16 ***\n",
       "followers                1 1.049e+10 1.049e+10    109.8 <2e-16 ***\n",
       "square                   1 3.485e+12 3.485e+12  36475.2 <2e-16 ***\n",
       "livingRoom               1 3.904e+11 3.904e+11   4086.1 <2e-16 ***\n",
       "drawingRoom              1 5.909e+10 5.909e+10    618.4 <2e-16 ***\n",
       "kitchen                  1 1.609e+11 1.609e+11   1683.8 <2e-16 ***\n",
       "bathRoom                 1 4.947e+11 4.947e+11   5178.2 <2e-16 ***\n",
       "floor                    1 5.533e+11 5.533e+11   5791.1 <2e-16 ***\n",
       "buildingType             3 5.894e+11 1.965e+11   2056.5 <2e-16 ***\n",
       "constructionTime         1 5.432e+12 5.432e+12  56851.2 <2e-16 ***\n",
       "renovationCondition      3 1.355e+12 4.517e+11   4727.3 <2e-16 ***\n",
       "buildingStructure        5 1.086e+12 2.172e+11   2273.5 <2e-16 ***\n",
       "ladderRatio              1 3.749e+10 3.749e+10    392.4 <2e-16 ***\n",
       "elevator                 1 6.238e+11 6.238e+11   6529.0 <2e-16 ***\n",
       "fiveYearsProperty        1 4.374e+10 4.374e+10    457.8 <2e-16 ***\n",
       "subway                   1 3.756e+12 3.756e+12  39309.8 <2e-16 ***\n",
       "district                12 3.167e+13 2.639e+12  27626.5 <2e-16 ***\n",
       "communityAverage         1 1.693e+13 1.693e+13 177151.3 <2e-16 ***\n",
       "Residuals           296309 2.831e+13 9.554e+07                    \n",
       "---\n",
       "Signif. codes:  0 '***' 0.001 '**' 0.01 '*' 0.05 '.' 0.1 ' ' 1"
      ]
     },
     "metadata": {},
     "output_type": "display_data"
    }
   ],
   "source": [
    "summary(anova)"
   ]
  },
  {
   "cell_type": "markdown",
   "metadata": {},
   "source": [
    "# Spliting Data"
   ]
  },
  {
   "cell_type": "code",
   "execution_count": 12,
   "metadata": {},
   "outputs": [
    {
     "data": {
      "text/html": [
       "<ol class=list-inline>\n",
       "\t<li>192630</li>\n",
       "\t<li>22</li>\n",
       "</ol>\n"
      ],
      "text/latex": [
       "\\begin{enumerate*}\n",
       "\\item 192630\n",
       "\\item 22\n",
       "\\end{enumerate*}\n"
      ],
      "text/markdown": [
       "1. 192630\n",
       "2. 22\n",
       "\n",
       "\n"
      ],
      "text/plain": [
       "[1] 192630     22"
      ]
     },
     "metadata": {},
     "output_type": "display_data"
    },
    {
     "data": {
      "text/html": [
       "<ol class=list-inline>\n",
       "\t<li>103720</li>\n",
       "\t<li>22</li>\n",
       "</ol>\n"
      ],
      "text/latex": [
       "\\begin{enumerate*}\n",
       "\\item 103720\n",
       "\\item 22\n",
       "\\end{enumerate*}\n"
      ],
      "text/markdown": [
       "1. 103720\n",
       "2. 22\n",
       "\n",
       "\n"
      ],
      "text/plain": [
       "[1] 103720     22"
      ]
     },
     "metadata": {},
     "output_type": "display_data"
    }
   ],
   "source": [
    "set.seed(193)\n",
    "inTrain = createDataPartition(data$price, p = 0.65, list = F)\n",
    "\n",
    "training = data[inTrain,]\n",
    "testing = data[-inTrain,]\n",
    "\n",
    "dim(training); dim(testing)"
   ]
  },
  {
   "cell_type": "markdown",
   "metadata": {},
   "source": [
    "# Model creation"
   ]
  },
  {
   "cell_type": "markdown",
   "metadata": {},
   "source": [
    "## model with linercombiantion of all facotors"
   ]
  },
  {
   "cell_type": "code",
   "execution_count": 13,
   "metadata": {},
   "outputs": [],
   "source": [
    "model <- lm(price ~ . , data = training )"
   ]
  },
  {
   "cell_type": "code",
   "execution_count": 14,
   "metadata": {
    "scrolled": false
   },
   "outputs": [
    {
     "data": {
      "text/plain": [
       "\n",
       "Call:\n",
       "lm(formula = price ~ ., data = training)\n",
       "\n",
       "Residuals:\n",
       "   Min     1Q Median     3Q    Max \n",
       "-92413  -6065   -596   5433 132839 \n",
       "\n",
       "Coefficients:\n",
       "                                  Estimate Std. Error t value Pr(>|t|)    \n",
       "(Intercept)                      2.988e+05  6.449e+04   4.634 3.60e-06 ***\n",
       "Lng                             -3.499e+03  4.833e+02  -7.241 4.47e-13 ***\n",
       "Lat                             -3.277e+03  5.551e+02  -5.903 3.57e-09 ***\n",
       "tradeTime                        2.251e+01  5.691e-02 395.583  < 2e-16 ***\n",
       "DOM                              3.773e+01  7.025e-01  53.713  < 2e-16 ***\n",
       "followers                        8.632e+00  7.791e-01  11.079  < 2e-16 ***\n",
       "square                          -6.178e+01  1.375e+00 -44.931  < 2e-16 ***\n",
       "livingRoom                       1.114e+02  4.725e+01   2.358 0.018369 *  \n",
       "drawingRoom                      1.206e+03  5.680e+01  21.234  < 2e-16 ***\n",
       "kitchen                         -9.719e+02  2.381e+02  -4.081 4.48e-05 ***\n",
       "bathRoom                         1.124e+03  7.881e+01  14.257  < 2e-16 ***\n",
       "floor                           -7.279e+01  5.701e+00 -12.769  < 2e-16 ***\n",
       "buildingTypePlate               -1.729e+04  2.410e+03  -7.173 7.34e-13 ***\n",
       "buildingTypePlate/Tower         -1.769e+04  2.411e+03  -7.338 2.18e-13 ***\n",
       "buildingTypeTower               -1.734e+04  2.412e+03  -7.190 6.49e-13 ***\n",
       "constructionTime                -5.659e+01  3.864e+00 -14.647  < 2e-16 ***\n",
       "renovationConditionOther         5.855e+03  6.985e+01  83.821  < 2e-16 ***\n",
       "renovationConditionRough        -2.580e+03  1.775e+02 -14.537  < 2e-16 ***\n",
       "renovationConditionSimplicit    -9.532e+02  5.971e+01 -15.963  < 2e-16 ***\n",
       "buildingStructureBrick/Wood      6.510e+03  1.964e+03   3.315 0.000917 ***\n",
       "buildingStructureMixed           4.833e+02  1.124e+02   4.298 1.72e-05 ***\n",
       "buildingStructureSteel          -1.431e+02  1.001e+03  -0.143 0.886319    \n",
       "buildingStructureSteel/Concrete  1.655e+02  1.379e+02   1.201 0.229923    \n",
       "buildingStructureUnavailable    -2.598e+03  2.944e+03  -0.882 0.377566    \n",
       "ladderRatio                      2.056e+03  1.543e+02  13.320  < 2e-16 ***\n",
       "elevatorNo_elevator             -1.378e+03  1.014e+02 -13.589  < 2e-16 ***\n",
       "fiveYearsPropertyOwnership > 5y  1.525e+03  4.959e+01  30.760  < 2e-16 ***\n",
       "subwayNo_Subway                 -7.975e+02  5.022e+01 -15.879  < 2e-16 ***\n",
       "districtChaoYang                 1.397e+03  1.321e+02  10.577  < 2e-16 ***\n",
       "districtDaXing                  -3.682e+03  3.157e+02 -11.664  < 2e-16 ***\n",
       "districtDongCheng                8.223e+02  1.828e+02   4.498 6.85e-06 ***\n",
       "districtFangShang               -7.963e+03  3.338e+02 -23.856  < 2e-16 ***\n",
       "districtFaXing                  -1.016e+03  2.152e+02  -4.720 2.36e-06 ***\n",
       "districtFengTai                  8.334e+02  1.685e+02   4.947 7.56e-07 ***\n",
       "districtHaiDian                  2.264e+03  1.348e+02  16.798  < 2e-16 ***\n",
       "districtMenTouGou               -8.711e+00  1.962e+02  -0.044 0.964587    \n",
       "districtShiJingShan              1.023e+03  1.942e+02   5.268 1.38e-07 ***\n",
       "districtShunYi                   3.562e+03  3.663e+02   9.724  < 2e-16 ***\n",
       "districtTongZhou                 6.035e+02  2.080e+02   2.902 0.003711 ** \n",
       "districtXiCheng                 -3.709e+02  1.850e+02  -2.005 0.044970 *  \n",
       "communityAverage                 6.469e-01  1.904e-03 339.739  < 2e-16 ***\n",
       "---\n",
       "Signif. codes:  0 '***' 0.001 '**' 0.01 '*' 0.05 '.' 0.1 ' ' 1\n",
       "\n",
       "Residual standard error: 9750 on 192589 degrees of freedom\n",
       "Multiple R-squared:  0.7975,\tAdjusted R-squared:  0.7975 \n",
       "F-statistic: 1.897e+04 on 40 and 192589 DF,  p-value: < 2.2e-16\n"
      ]
     },
     "metadata": {},
     "output_type": "display_data"
    }
   ],
   "source": [
    "summary(model)"
   ]
  },
  {
   "cell_type": "markdown",
   "metadata": {},
   "source": [
    "mean funtion not working had to imporvised now "
   ]
  },
  {
   "cell_type": "code",
   "execution_count": 15,
   "metadata": {},
   "outputs": [
    {
     "data": {
      "text/html": [
       "9821.82"
      ],
      "text/latex": [
       "9821.82"
      ],
      "text/markdown": [
       "9821.82"
      ],
      "text/plain": [
       "[1] 9821.82"
      ]
     },
     "metadata": {},
     "output_type": "display_data"
    }
   ],
   "source": [
    "pred = predict(model, testing)\n",
    "error = sqrt(sum((pred-testing[\"price\"])^2)/length(pred))\n",
    "round(error,2)"
   ]
  },
  {
   "cell_type": "markdown",
   "metadata": {},
   "source": [
    "## model with limited factors for initial testing"
   ]
  },
  {
   "cell_type": "code",
   "execution_count": 16,
   "metadata": {},
   "outputs": [],
   "source": [
    "model_limited <- lm(price ~ square + buildingType +constructionTime + subway + district , data = training )\n"
   ]
  },
  {
   "cell_type": "code",
   "execution_count": 17,
   "metadata": {
    "scrolled": false
   },
   "outputs": [
    {
     "data": {
      "text/plain": [
       "\n",
       "Call:\n",
       "lm(formula = price ~ square + buildingType + constructionTime + \n",
       "    subway + district, data = training)\n",
       "\n",
       "Residuals:\n",
       "   Min     1Q Median     3Q    Max \n",
       "-73467 -11252  -3456   9154 114097 \n",
       "\n",
       "Coefficients:\n",
       "                          Estimate Std. Error t value Pr(>|t|)    \n",
       "(Intercept)              79588.184  11624.494   6.847 7.59e-12 ***\n",
       "square                     -31.134      1.225 -25.413  < 2e-16 ***\n",
       "buildingTypePlate       -34429.802   3322.774 -10.362  < 2e-16 ***\n",
       "buildingTypePlate/Tower -33693.608   3324.348 -10.135  < 2e-16 ***\n",
       "buildingTypeTower       -36597.878   3323.756 -11.011  < 2e-16 ***\n",
       "constructionTime            -4.888      5.607  -0.872 0.383407    \n",
       "subwayNo_Subway          -3770.118     87.954 -42.865  < 2e-16 ***\n",
       "districtChaoYang         12927.877    143.048  90.375  < 2e-16 ***\n",
       "districtDaXing            1708.973    480.704   3.555 0.000378 ***\n",
       "districtDongCheng        29697.007    219.002 135.602  < 2e-16 ***\n",
       "districtFangShang        -1708.926    441.526  -3.870 0.000109 ***\n",
       "districtFaXing            -498.622    216.207  -2.306 0.021099 *  \n",
       "districtFengTai           7974.276    181.061  44.042  < 2e-16 ***\n",
       "districtHaiDian          24522.021    170.434 143.880  < 2e-16 ***\n",
       "districtMenTouGou        -5443.673    259.678 -20.963  < 2e-16 ***\n",
       "districtShiJingShan       5335.886    250.540  21.298  < 2e-16 ***\n",
       "districtShunYi           -3031.085    559.488  -5.418 6.05e-08 ***\n",
       "districtTongZhou         -2173.246    231.508  -9.387  < 2e-16 ***\n",
       "districtXiCheng          36171.242    186.306 194.150  < 2e-16 ***\n",
       "---\n",
       "Signif. codes:  0 '***' 0.001 '**' 0.01 '*' 0.05 '.' 0.1 ' ' 1\n",
       "\n",
       "Residual standard error: 17570 on 192611 degrees of freedom\n",
       "Multiple R-squared:  0.3428,\tAdjusted R-squared:  0.3427 \n",
       "F-statistic:  5582 on 18 and 192611 DF,  p-value: < 2.2e-16\n"
      ]
     },
     "metadata": {},
     "output_type": "display_data"
    }
   ],
   "source": [
    "summary(model_limited)"
   ]
  },
  {
   "cell_type": "code",
   "execution_count": 18,
   "metadata": {},
   "outputs": [
    {
     "data": {
      "text/html": [
       "17639.81"
      ],
      "text/latex": [
       "17639.81"
      ],
      "text/markdown": [
       "17639.81"
      ],
      "text/plain": [
       "[1] 17639.81"
      ]
     },
     "metadata": {},
     "output_type": "display_data"
    }
   ],
   "source": [
    "pred = predict(model_limited, testing)\n",
    "error = sqrt(sum((pred-testing[\"price\"])^2)/length(pred))\n",
    "round(error,2)"
   ]
  },
  {
   "cell_type": "markdown",
   "metadata": {},
   "source": [
    "'price'\n",
    "'square'\n",
    "'livingRoom'\n",
    "'drawingRoom'\n",
    "'kitchen'\n",
    "'bathRoom'\n",
    "'floor'\n",
    "'buildingType'\n",
    "'constructionTime'\n",
    "'renovationCondition'\n",
    "'buildingStructure'\n",
    "'ladderRatio'\n",
    "'elevator'\n",
    "'fiveYearsProperty'\n",
    "'subway'\n",
    "'district'## tree model"
   ]
  },
  {
   "cell_type": "code",
   "execution_count": 19,
   "metadata": {},
   "outputs": [],
   "source": [
    "fit <- rpart(price ~ square + livingRoom + drawingRoom + kitchen + bathRoom + floor + buildingType + \n",
    "             constructionTime + renovationCondition + buildingStructure + elevator+ subway+ district, \n",
    "             data = training ,method=\"anova\", control = list(minsplit = 10, maxdepth = 12, xval = 10))"
   ]
  },
  {
   "cell_type": "code",
   "execution_count": 20,
   "metadata": {
    "scrolled": false
   },
   "outputs": [
    {
     "name": "stdout",
     "output_type": "stream",
     "text": [
      "Call:\n",
      "rpart(formula = price ~ square + livingRoom + drawingRoom + kitchen + \n",
      "    bathRoom + floor + buildingType + constructionTime + renovationCondition + \n",
      "    buildingStructure + elevator + subway + district, data = training, \n",
      "    method = \"anova\", control = list(minsplit = 10, maxdepth = 12, \n",
      "        xval = 10))\n",
      "  n= 192630 \n",
      "\n",
      "          CP nsplit rel error    xerror        xstd\n",
      "1 0.23983814      0 1.0000000 1.0000082 0.004599498\n",
      "2 0.06403518      1 0.7601619 0.7601831 0.003255873\n",
      "3 0.05542529      2 0.6961267 0.6961511 0.003098639\n",
      "4 0.03601880      3 0.6407014 0.6407426 0.002936463\n",
      "5 0.01325959      4 0.6046826 0.6047334 0.002874498\n",
      "6 0.01140800      5 0.5914230 0.5921152 0.002783820\n",
      "7 0.01000000      6 0.5800150 0.5807081 0.002781006\n",
      "\n",
      "Variable importance\n",
      "           district renovationCondition   buildingStructure              subway \n",
      "                 67                  22                   2                   2 \n",
      "              floor            elevator        buildingType    constructionTime \n",
      "                  2                   1                   1                   1 \n",
      "             square \n",
      "                  1 \n",
      "\n",
      "Node number 1: 192630 observations,    complexity param=0.2398381\n",
      "  mean=44002.66, MSE=4.694602e+08 \n",
      "  left son=2 (140300 obs) right son=3 (52330 obs)\n",
      "  Primary splits:\n",
      "      district            splits as  LLLRLLLRLLLLR, improve=0.23983810, (0 missing)\n",
      "      renovationCondition splits as  RLRR, improve=0.09533172, (0 missing)\n",
      "      constructionTime    < 1992.5 to the right, improve=0.05730719, (0 missing)\n",
      "      subway              splits as  RL, improve=0.05304717, (0 missing)\n",
      "      square              < 78.815 to the right, improve=0.03750274, (0 missing)\n",
      "  Surrogate splits:\n",
      "      constructionTime  < 1980.5 to the right, agree=0.732, adj=0.013, (0 split)\n",
      "      square            < 31.875 to the right, agree=0.730, adj=0.007, (0 split)\n",
      "      floor             < 1.5    to the right, agree=0.728, adj=0.001, (0 split)\n",
      "      buildingType      splits as  RLLL,       agree=0.728, adj=0.001, (0 split)\n",
      "      buildingStructure splits as  LRLLLL,     agree=0.728, adj=0.000, (0 split)\n",
      "\n",
      "Node number 2: 140300 observations,    complexity param=0.06403518\n",
      "  mean=37522.21, MSE=2.582589e+08 \n",
      "  left son=4 (56815 obs) right son=5 (83485 obs)\n",
      "  Primary splits:\n",
      "      district            splits as  LRL-LLR-LLLL-, improve=0.15981900, (0 missing)\n",
      "      renovationCondition splits as  RLRR, improve=0.11913610, (0 missing)\n",
      "      subway              splits as  RL, improve=0.04345536, (0 missing)\n",
      "      buildingStructure   splits as  LLLLRL, improve=0.04336439, (0 missing)\n",
      "      floor               < 11.5   to the left,  improve=0.03521790, (0 missing)\n",
      "  Surrogate splits:\n",
      "      buildingStructure splits as  RLLRRL,     agree=0.667, adj=0.178, (0 split)\n",
      "      subway            splits as  RL,         agree=0.649, adj=0.134, (0 split)\n",
      "      floor             < 11.5   to the left,  agree=0.644, adj=0.121, (0 split)\n",
      "      elevator          splits as  RL,         agree=0.639, adj=0.110, (0 split)\n",
      "      buildingType      splits as  -LRR,       agree=0.626, adj=0.076, (0 split)\n",
      "\n",
      "Node number 3: 52330 observations,    complexity param=0.05542529\n",
      "  mean=61377.14, MSE=6.212367e+08 \n",
      "  left son=6 (19186 obs) right son=7 (33144 obs)\n",
      "  Primary splits:\n",
      "      renovationCondition splits as  RLRR, improve=0.15417810, (0 missing)\n",
      "      district            splits as  ---R---L----R, improve=0.04430075, (0 missing)\n",
      "      constructionTime    < 1994.5 to the right, improve=0.03485184, (0 missing)\n",
      "      square              < 79.305 to the right, improve=0.01993266, (0 missing)\n",
      "      subway              splits as  RL, improve=0.01733037, (0 missing)\n",
      "  Surrogate splits:\n",
      "      bathRoom         < 0.5    to the left,  agree=0.634, adj=0.001, (0 split)\n",
      "      floor            < 1.5    to the left,  agree=0.634, adj=0.001, (0 split)\n",
      "      square           < 14.955 to the left,  agree=0.634, adj=0.001, (0 split)\n",
      "      buildingType     splits as  LRRR,       agree=0.634, adj=0.001, (0 split)\n",
      "      constructionTime < 2013.5 to the right, agree=0.634, adj=0.000, (0 split)\n",
      "\n",
      "Node number 4: 56815 observations,    complexity param=0.011408\n",
      "  mean=29734.41, MSE=1.403716e+08 \n",
      "  left son=8 (21344 obs) right son=9 (35471 obs)\n",
      "  Primary splits:\n",
      "      renovationCondition splits as  RLRR,       improve=0.12935690, (0 missing)\n",
      "      buildingStructure   splits as  LRLLRL,     improve=0.04829755, (0 missing)\n",
      "      constructionTime    < 2011.5 to the left,  improve=0.04702343, (0 missing)\n",
      "      elevator            splits as  RL,         improve=0.03134221, (0 missing)\n",
      "      floor               < 7.5    to the left,  improve=0.02963016, (0 missing)\n",
      "  Surrogate splits:\n",
      "      constructionTime < 1976.5 to the left,  agree=0.624, adj=0, (0 split)\n",
      "      bathRoom         < 0.5    to the left,  agree=0.624, adj=0, (0 split)\n",
      "      livingRoom       < 0.5    to the left,  agree=0.624, adj=0, (0 split)\n",
      "      kitchen          < 2.5    to the right, agree=0.624, adj=0, (0 split)\n",
      "      floor            < 2.5    to the left,  agree=0.624, adj=0, (0 split)\n",
      "\n",
      "Node number 5: 83485 observations,    complexity param=0.0360188\n",
      "  mean=42822.13, MSE=2.691223e+08 \n",
      "  left son=10 (29962 obs) right son=11 (53523 obs)\n",
      "  Primary splits:\n",
      "      renovationCondition splits as  RLRR, improve=0.144975200, (0 missing)\n",
      "      subway              splits as  RL, improve=0.018461160, (0 missing)\n",
      "      district            splits as  -R----L------, improve=0.017394070, (0 missing)\n",
      "      constructionTime    < 2011.5 to the left,  improve=0.010902390, (0 missing)\n",
      "      square              < 45.705 to the right, improve=0.003582285, (0 missing)\n",
      "  Surrogate splits:\n",
      "      bathRoom < 0.5    to the left,  agree=0.641, adj=0.001, (0 split)\n",
      "      square   < 18.78  to the left,  agree=0.641, adj=0.000, (0 split)\n",
      "      kitchen  < 2.5    to the right, agree=0.641, adj=0.000, (0 split)\n",
      "\n",
      "Node number 6: 19186 observations\n",
      "  mean=48513.91, MSE=4.282165e+08 \n",
      "\n",
      "Node number 7: 33144 observations,    complexity param=0.01325959\n",
      "  mean=68823.26, MSE=5.817442e+08 \n",
      "  left son=14 (14476 obs) right son=15 (18668 obs)\n",
      "  Primary splits:\n",
      "      district         splits as  ---R---L----R, improve=0.06218933, (0 missing)\n",
      "      constructionTime < 1994.5 to the right, improve=0.04271195, (0 missing)\n",
      "      square           < 81.325 to the right, improve=0.02591556, (0 missing)\n",
      "      subway           splits as  RL, improve=0.02123421, (0 missing)\n",
      "      floor            < 20.5   to the right, improve=0.01665165, (0 missing)\n",
      "  Surrogate splits:\n",
      "      subway           splits as  RL,         agree=0.631, adj=0.155, (0 split)\n",
      "      square           < 81.755 to the right, agree=0.597, adj=0.078, (0 split)\n",
      "      drawingRoom      < 1.5    to the right, agree=0.589, adj=0.059, (0 split)\n",
      "      constructionTime < 2006.5 to the right, agree=0.582, adj=0.044, (0 split)\n",
      "      bathRoom         < 1.5    to the right, agree=0.579, adj=0.037, (0 split)\n",
      "\n",
      "Node number 8: 21344 observations\n",
      "  mean=24241.11, MSE=9.34953e+07 \n",
      "\n",
      "Node number 9: 35471 observations\n",
      "  mean=33039.9, MSE=1.394943e+08 \n",
      "\n",
      "Node number 10: 29962 observations\n",
      "  mean=34473.66, MSE=1.638018e+08 \n",
      "\n",
      "Node number 11: 53523 observations\n",
      "  mean=47495.57, MSE=2.672232e+08 \n",
      "\n",
      "Node number 14: 14476 observations\n",
      "  mean=61992.82, MSE=4.32911e+08 \n",
      "\n",
      "Node number 15: 18668 observations\n",
      "  mean=74119.89, MSE=6.329235e+08 \n",
      "\n"
     ]
    }
   ],
   "source": [
    "summary(fit)"
   ]
  },
  {
   "cell_type": "code",
   "execution_count": 21,
   "metadata": {},
   "outputs": [
    {
     "data": {
      "text/html": [
       "16596.79"
      ],
      "text/latex": [
       "16596.79"
      ],
      "text/markdown": [
       "16596.79"
      ],
      "text/plain": [
       "[1] 16596.79"
      ]
     },
     "metadata": {},
     "output_type": "display_data"
    }
   ],
   "source": [
    "pred = predict(fit, testing)\n",
    "error = sqrt(sum((pred-testing[\"price\"])^2)/length(pred))\n",
    "round(error,2)"
   ]
  },
  {
   "cell_type": "code",
   "execution_count": 22,
   "metadata": {},
   "outputs": [],
   "source": [
    "save(fit, file = \"models/limited_model.rda\")\n",
    "save(fit, file = \"../house-price-prediction-app/shinyApp/models/limited_model.rda\")"
   ]
  },
  {
   "cell_type": "markdown",
   "metadata": {},
   "source": [
    "## Random forest\n",
    "\n",
    "crashes computer uses all ram"
   ]
  },
  {
   "cell_type": "markdown",
   "metadata": {},
   "source": [
    "## Feature analysis"
   ]
  },
  {
   "cell_type": "code",
   "execution_count": 23,
   "metadata": {
    "scrolled": true
   },
   "outputs": [
    {
     "data": {
      "text/plain": [
       "   Min. 1st Qu.  Median    Mean 3rd Qu.    Max. \n",
       "   7.37   57.96   74.04   82.65   98.27  640.00 "
      ]
     },
     "metadata": {},
     "output_type": "display_data"
    },
    {
     "data": {
      "text/html": [
       "'numeric'"
      ],
      "text/latex": [
       "'numeric'"
      ],
      "text/markdown": [
       "'numeric'"
      ],
      "text/plain": [
       "[1] \"numeric\""
      ]
     },
     "metadata": {},
     "output_type": "display_data"
    },
    {
     "data": {
      "text/html": [
       "16147"
      ],
      "text/latex": [
       "16147"
      ],
      "text/markdown": [
       "16147"
      ],
      "text/plain": [
       "[1] 16147"
      ]
     },
     "metadata": {},
     "output_type": "display_data"
    }
   ],
   "source": [
    "summary(training$square); class(training$square); length(unique(training$square))"
   ]
  },
  {
   "cell_type": "code",
   "execution_count": 24,
   "metadata": {},
   "outputs": [
    {
     "data": {
      "text/html": [
       "<ol class=list-inline>\n",
       "\t<li>3</li>\n",
       "\t<li>1</li>\n",
       "\t<li>2</li>\n",
       "\t<li>4</li>\n",
       "\t<li>5</li>\n",
       "\t<li>6</li>\n",
       "\t<li>7</li>\n",
       "\t<li>0</li>\n",
       "\t<li>8</li>\n",
       "</ol>\n"
      ],
      "text/latex": [
       "\\begin{enumerate*}\n",
       "\\item 3\n",
       "\\item 1\n",
       "\\item 2\n",
       "\\item 4\n",
       "\\item 5\n",
       "\\item 6\n",
       "\\item 7\n",
       "\\item 0\n",
       "\\item 8\n",
       "\\end{enumerate*}\n"
      ],
      "text/markdown": [
       "1. 3\n",
       "2. 1\n",
       "3. 2\n",
       "4. 4\n",
       "5. 5\n",
       "6. 6\n",
       "7. 7\n",
       "8. 0\n",
       "9. 8\n",
       "\n",
       "\n"
      ],
      "text/plain": [
       "[1] 3 1 2 4 5 6 7 0 8"
      ]
     },
     "metadata": {},
     "output_type": "display_data"
    },
    {
     "data": {
      "text/html": [
       "'numeric'"
      ],
      "text/latex": [
       "'numeric'"
      ],
      "text/markdown": [
       "'numeric'"
      ],
      "text/plain": [
       "[1] \"numeric\""
      ]
     },
     "metadata": {},
     "output_type": "display_data"
    }
   ],
   "source": [
    "unique(training$livingRoom); class(training$livingRoom)"
   ]
  },
  {
   "cell_type": "code",
   "execution_count": 25,
   "metadata": {},
   "outputs": [
    {
     "data": {
      "text/html": [
       "<ol class=list-inline>\n",
       "\t<li>2</li>\n",
       "\t<li>1</li>\n",
       "\t<li>0</li>\n",
       "\t<li>4</li>\n",
       "\t<li>3</li>\n",
       "\t<li>5</li>\n",
       "</ol>\n"
      ],
      "text/latex": [
       "\\begin{enumerate*}\n",
       "\\item 2\n",
       "\\item 1\n",
       "\\item 0\n",
       "\\item 4\n",
       "\\item 3\n",
       "\\item 5\n",
       "\\end{enumerate*}\n"
      ],
      "text/markdown": [
       "1. 2\n",
       "2. 1\n",
       "3. 0\n",
       "4. 4\n",
       "5. 3\n",
       "6. 5\n",
       "\n",
       "\n"
      ],
      "text/plain": [
       "[1] 2 1 0 4 3 5"
      ]
     },
     "metadata": {},
     "output_type": "display_data"
    },
    {
     "data": {
      "text/html": [
       "'numeric'"
      ],
      "text/latex": [
       "'numeric'"
      ],
      "text/markdown": [
       "'numeric'"
      ],
      "text/plain": [
       "[1] \"numeric\""
      ]
     },
     "metadata": {},
     "output_type": "display_data"
    }
   ],
   "source": [
    "unique(training$drawingRoom); class(training$drawingRoom)"
   ]
  },
  {
   "cell_type": "code",
   "execution_count": 26,
   "metadata": {},
   "outputs": [
    {
     "data": {
      "text/html": [
       "<ol class=list-inline>\n",
       "\t<li>1</li>\n",
       "\t<li>0</li>\n",
       "\t<li>2</li>\n",
       "\t<li>3</li>\n",
       "</ol>\n"
      ],
      "text/latex": [
       "\\begin{enumerate*}\n",
       "\\item 1\n",
       "\\item 0\n",
       "\\item 2\n",
       "\\item 3\n",
       "\\end{enumerate*}\n"
      ],
      "text/markdown": [
       "1. 1\n",
       "2. 0\n",
       "3. 2\n",
       "4. 3\n",
       "\n",
       "\n"
      ],
      "text/plain": [
       "[1] 1 0 2 3"
      ]
     },
     "metadata": {},
     "output_type": "display_data"
    },
    {
     "data": {
      "text/html": [
       "'numeric'"
      ],
      "text/latex": [
       "'numeric'"
      ],
      "text/markdown": [
       "'numeric'"
      ],
      "text/plain": [
       "[1] \"numeric\""
      ]
     },
     "metadata": {},
     "output_type": "display_data"
    }
   ],
   "source": [
    "unique(training$kitchen); class(training$kitchen)"
   ]
  },
  {
   "cell_type": "code",
   "execution_count": 27,
   "metadata": {},
   "outputs": [
    {
     "data": {
      "text/html": [
       "<ol class=list-inline>\n",
       "\t<li>3</li>\n",
       "\t<li>1</li>\n",
       "\t<li>2</li>\n",
       "\t<li>0</li>\n",
       "\t<li>4</li>\n",
       "\t<li>5</li>\n",
       "\t<li>6</li>\n",
       "\t<li>7</li>\n",
       "</ol>\n"
      ],
      "text/latex": [
       "\\begin{enumerate*}\n",
       "\\item 3\n",
       "\\item 1\n",
       "\\item 2\n",
       "\\item 0\n",
       "\\item 4\n",
       "\\item 5\n",
       "\\item 6\n",
       "\\item 7\n",
       "\\end{enumerate*}\n"
      ],
      "text/markdown": [
       "1. 3\n",
       "2. 1\n",
       "3. 2\n",
       "4. 0\n",
       "5. 4\n",
       "6. 5\n",
       "7. 6\n",
       "8. 7\n",
       "\n",
       "\n"
      ],
      "text/plain": [
       "[1] 3 1 2 0 4 5 6 7"
      ]
     },
     "metadata": {},
     "output_type": "display_data"
    },
    {
     "data": {
      "text/html": [
       "'numeric'"
      ],
      "text/latex": [
       "'numeric'"
      ],
      "text/markdown": [
       "'numeric'"
      ],
      "text/plain": [
       "[1] \"numeric\""
      ]
     },
     "metadata": {},
     "output_type": "display_data"
    }
   ],
   "source": [
    "unique(training$bathRoom); class(training$bathRoom)"
   ]
  },
  {
   "cell_type": "code",
   "execution_count": 28,
   "metadata": {},
   "outputs": [
    {
     "data": {
      "text/plain": [
       "   Min. 1st Qu.  Median    Mean 3rd Qu.    Max. \n",
       "   1.00    6.00   11.00   13.17   19.00   57.00 "
      ]
     },
     "metadata": {},
     "output_type": "display_data"
    },
    {
     "data": {
      "text/html": [
       "'numeric'"
      ],
      "text/latex": [
       "'numeric'"
      ],
      "text/markdown": [
       "'numeric'"
      ],
      "text/plain": [
       "[1] \"numeric\""
      ]
     },
     "metadata": {},
     "output_type": "display_data"
    }
   ],
   "source": [
    "summary(training$floor); class(training$floor)"
   ]
  },
  {
   "cell_type": "code",
   "execution_count": 29,
   "metadata": {},
   "outputs": [
    {
     "data": {
      "text/html": [
       "<ol class=list-inline>\n",
       "\t<li>'Plate'</li>\n",
       "\t<li>'Tower'</li>\n",
       "\t<li>'Plate/Tower'</li>\n",
       "\t<li>'Bungalow'</li>\n",
       "</ol>\n"
      ],
      "text/latex": [
       "\\begin{enumerate*}\n",
       "\\item 'Plate'\n",
       "\\item 'Tower'\n",
       "\\item 'Plate/Tower'\n",
       "\\item 'Bungalow'\n",
       "\\end{enumerate*}\n"
      ],
      "text/markdown": [
       "1. 'Plate'\n",
       "2. 'Tower'\n",
       "3. 'Plate/Tower'\n",
       "4. 'Bungalow'\n",
       "\n",
       "\n"
      ],
      "text/plain": [
       "[1] \"Plate\"       \"Tower\"       \"Plate/Tower\" \"Bungalow\"   "
      ]
     },
     "metadata": {},
     "output_type": "display_data"
    },
    {
     "data": {
      "text/html": [
       "'character'"
      ],
      "text/latex": [
       "'character'"
      ],
      "text/markdown": [
       "'character'"
      ],
      "text/plain": [
       "[1] \"character\""
      ]
     },
     "metadata": {},
     "output_type": "display_data"
    }
   ],
   "source": [
    "unique(training$buildingType); class(training$buildingType)"
   ]
  },
  {
   "cell_type": "code",
   "execution_count": 30,
   "metadata": {},
   "outputs": [
    {
     "data": {
      "text/html": [
       "<ol class=list-inline>\n",
       "\t<li>'Steel/Concrete'</li>\n",
       "\t<li>'Mixed'</li>\n",
       "\t<li>'Brick/Concrete'</li>\n",
       "\t<li>'Steel'</li>\n",
       "\t<li>'Unavailable'</li>\n",
       "\t<li>'Brick/Wood'</li>\n",
       "</ol>\n"
      ],
      "text/latex": [
       "\\begin{enumerate*}\n",
       "\\item 'Steel/Concrete'\n",
       "\\item 'Mixed'\n",
       "\\item 'Brick/Concrete'\n",
       "\\item 'Steel'\n",
       "\\item 'Unavailable'\n",
       "\\item 'Brick/Wood'\n",
       "\\end{enumerate*}\n"
      ],
      "text/markdown": [
       "1. 'Steel/Concrete'\n",
       "2. 'Mixed'\n",
       "3. 'Brick/Concrete'\n",
       "4. 'Steel'\n",
       "5. 'Unavailable'\n",
       "6. 'Brick/Wood'\n",
       "\n",
       "\n"
      ],
      "text/plain": [
       "[1] \"Steel/Concrete\" \"Mixed\"          \"Brick/Concrete\" \"Steel\"         \n",
       "[5] \"Unavailable\"    \"Brick/Wood\"    "
      ]
     },
     "metadata": {},
     "output_type": "display_data"
    },
    {
     "data": {
      "text/html": [
       "'character'"
      ],
      "text/latex": [
       "'character'"
      ],
      "text/markdown": [
       "'character'"
      ],
      "text/plain": [
       "[1] \"character\""
      ]
     },
     "metadata": {},
     "output_type": "display_data"
    }
   ],
   "source": [
    "unique(training$buildingStructure); class(training$buildingStructure)"
   ]
  },
  {
   "cell_type": "code",
   "execution_count": 31,
   "metadata": {},
   "outputs": [
    {
     "data": {
      "text/plain": [
       "   Min. 1st Qu.  Median    Mean 3rd Qu.    Max. \n",
       "   1950    1994    2001    1999    2006    2016 "
      ]
     },
     "metadata": {},
     "output_type": "display_data"
    },
    {
     "data": {
      "text/html": [
       "'numeric'"
      ],
      "text/latex": [
       "'numeric'"
      ],
      "text/markdown": [
       "'numeric'"
      ],
      "text/plain": [
       "[1] \"numeric\""
      ]
     },
     "metadata": {},
     "output_type": "display_data"
    }
   ],
   "source": [
    "summary(training$constructionTime); class(training$constructionTime)"
   ]
  },
  {
   "cell_type": "code",
   "execution_count": 32,
   "metadata": {},
   "outputs": [
    {
     "data": {
      "text/html": [
       "<ol class=list-inline>\n",
       "\t<li>'Simplicit'</li>\n",
       "\t<li>'Other'</li>\n",
       "\t<li>'Hardcover'</li>\n",
       "\t<li>'Rough'</li>\n",
       "</ol>\n"
      ],
      "text/latex": [
       "\\begin{enumerate*}\n",
       "\\item 'Simplicit'\n",
       "\\item 'Other'\n",
       "\\item 'Hardcover'\n",
       "\\item 'Rough'\n",
       "\\end{enumerate*}\n"
      ],
      "text/markdown": [
       "1. 'Simplicit'\n",
       "2. 'Other'\n",
       "3. 'Hardcover'\n",
       "4. 'Rough'\n",
       "\n",
       "\n"
      ],
      "text/plain": [
       "[1] \"Simplicit\" \"Other\"     \"Hardcover\" \"Rough\"    "
      ]
     },
     "metadata": {},
     "output_type": "display_data"
    },
    {
     "data": {
      "text/html": [
       "'character'"
      ],
      "text/latex": [
       "'character'"
      ],
      "text/markdown": [
       "'character'"
      ],
      "text/plain": [
       "[1] \"character\""
      ]
     },
     "metadata": {},
     "output_type": "display_data"
    }
   ],
   "source": [
    "unique(training$renovationCondition); class(training$renovationCondition)"
   ]
  },
  {
   "cell_type": "code",
   "execution_count": 33,
   "metadata": {
    "scrolled": true
   },
   "outputs": [
    {
     "data": {
      "text/html": [
       "<ol class=list-inline>\n",
       "\t<li>'Has_Elevator'</li>\n",
       "\t<li>'No_elevator'</li>\n",
       "</ol>\n"
      ],
      "text/latex": [
       "\\begin{enumerate*}\n",
       "\\item 'Has\\_Elevator'\n",
       "\\item 'No\\_elevator'\n",
       "\\end{enumerate*}\n"
      ],
      "text/markdown": [
       "1. 'Has_Elevator'\n",
       "2. 'No_elevator'\n",
       "\n",
       "\n"
      ],
      "text/plain": [
       "[1] \"Has_Elevator\" \"No_elevator\" "
      ]
     },
     "metadata": {},
     "output_type": "display_data"
    },
    {
     "data": {
      "text/html": [
       "'character'"
      ],
      "text/latex": [
       "'character'"
      ],
      "text/markdown": [
       "'character'"
      ],
      "text/plain": [
       "[1] \"character\""
      ]
     },
     "metadata": {},
     "output_type": "display_data"
    }
   ],
   "source": [
    "unique(training$elevator); class(training$elevator)"
   ]
  },
  {
   "cell_type": "code",
   "execution_count": 34,
   "metadata": {},
   "outputs": [
    {
     "data": {
      "text/html": [
       "<ol class=list-inline>\n",
       "\t<li>'No_Subway'</li>\n",
       "\t<li>'Has_Subway'</li>\n",
       "</ol>\n"
      ],
      "text/latex": [
       "\\begin{enumerate*}\n",
       "\\item 'No\\_Subway'\n",
       "\\item 'Has\\_Subway'\n",
       "\\end{enumerate*}\n"
      ],
      "text/markdown": [
       "1. 'No_Subway'\n",
       "2. 'Has_Subway'\n",
       "\n",
       "\n"
      ],
      "text/plain": [
       "[1] \"No_Subway\"  \"Has_Subway\""
      ]
     },
     "metadata": {},
     "output_type": "display_data"
    },
    {
     "data": {
      "text/html": [
       "'character'"
      ],
      "text/latex": [
       "'character'"
      ],
      "text/markdown": [
       "'character'"
      ],
      "text/plain": [
       "[1] \"character\""
      ]
     },
     "metadata": {},
     "output_type": "display_data"
    }
   ],
   "source": [
    "unique(training$subway); class(training$subway)"
   ]
  },
  {
   "cell_type": "code",
   "execution_count": 35,
   "metadata": {
    "scrolled": true
   },
   "outputs": [
    {
     "data": {
      "text/html": [
       "<ol class=list-inline>\n",
       "\t<li>'ChaoYang'</li>\n",
       "\t<li>'ChangPing'</li>\n",
       "\t<li>'DongCheng'</li>\n",
       "\t<li>'MenTouGou'</li>\n",
       "\t<li>'FengTai'</li>\n",
       "\t<li>'HaiDian'</li>\n",
       "\t<li>'XiCheng'</li>\n",
       "\t<li>'FaXing'</li>\n",
       "\t<li>'FangShang'</li>\n",
       "\t<li>'DaXing'</li>\n",
       "\t<li>'ShiJingShan'</li>\n",
       "\t<li>'ShunYi'</li>\n",
       "\t<li>'TongZhou'</li>\n",
       "</ol>\n"
      ],
      "text/latex": [
       "\\begin{enumerate*}\n",
       "\\item 'ChaoYang'\n",
       "\\item 'ChangPing'\n",
       "\\item 'DongCheng'\n",
       "\\item 'MenTouGou'\n",
       "\\item 'FengTai'\n",
       "\\item 'HaiDian'\n",
       "\\item 'XiCheng'\n",
       "\\item 'FaXing'\n",
       "\\item 'FangShang'\n",
       "\\item 'DaXing'\n",
       "\\item 'ShiJingShan'\n",
       "\\item 'ShunYi'\n",
       "\\item 'TongZhou'\n",
       "\\end{enumerate*}\n"
      ],
      "text/markdown": [
       "1. 'ChaoYang'\n",
       "2. 'ChangPing'\n",
       "3. 'DongCheng'\n",
       "4. 'MenTouGou'\n",
       "5. 'FengTai'\n",
       "6. 'HaiDian'\n",
       "7. 'XiCheng'\n",
       "8. 'FaXing'\n",
       "9. 'FangShang'\n",
       "10. 'DaXing'\n",
       "11. 'ShiJingShan'\n",
       "12. 'ShunYi'\n",
       "13. 'TongZhou'\n",
       "\n",
       "\n"
      ],
      "text/plain": [
       " [1] \"ChaoYang\"    \"ChangPing\"   \"DongCheng\"   \"MenTouGou\"   \"FengTai\"    \n",
       " [6] \"HaiDian\"     \"XiCheng\"     \"FaXing\"      \"FangShang\"   \"DaXing\"     \n",
       "[11] \"ShiJingShan\" \"ShunYi\"      \"TongZhou\"   "
      ]
     },
     "metadata": {},
     "output_type": "display_data"
    },
    {
     "data": {
      "text/html": [
       "'character'"
      ],
      "text/latex": [
       "'character'"
      ],
      "text/markdown": [
       "'character'"
      ],
      "text/plain": [
       "[1] \"character\""
      ]
     },
     "metadata": {},
     "output_type": "display_data"
    }
   ],
   "source": [
    "unique(training$district); class(training$district)"
   ]
  },
  {
   "cell_type": "markdown",
   "metadata": {},
   "source": [
    "## Extended liner Model"
   ]
  },
  {
   "cell_type": "code",
   "execution_count": 36,
   "metadata": {},
   "outputs": [
    {
     "name": "stdout",
     "output_type": "stream",
     "text": [
      "Classes 'tbl_df', 'tbl' and 'data.frame':\t296350 obs. of  22 variables:\n",
      " $ Lng                : num  116 116 117 116 116 ...\n",
      " $ Lat                : num  40 39.9 39.9 40.1 39.9 ...\n",
      " $ tradeTime          : Date, format: \"2016-08-09\" \"2016-07-28\" ...\n",
      " $ DOM                : num  1464 903 1271 965 927 ...\n",
      " $ followers          : num  106 126 48 138 286 57 167 138 218 134 ...\n",
      " $ price              : num  31680 43436 52021 22202 48396 ...\n",
      " $ square             : num  131 132 198 134 81 ...\n",
      " $ livingRoom         : num  2 2 3 3 2 1 2 3 1 1 ...\n",
      " $ drawingRoom        : num  1 2 2 1 1 0 1 2 0 0 ...\n",
      " $ kitchen            : num  1 1 1 1 1 1 1 1 1 0 ...\n",
      " $ bathRoom           : num  1 2 3 1 1 1 1 2 1 0 ...\n",
      " $ floor              : num  26 22 4 21 6 8 6 22 10 23 ...\n",
      " $ buildingType       : chr  \"Tower\" \"Tower\" \"Plate\" \"Tower\" ...\n",
      " $ constructionTime   : num  2005 2004 2005 2008 1960 ...\n",
      " $ renovationCondition: chr  \"Simplicit\" \"Hardcover\" \"Simplicit\" \"Other\" ...\n",
      " $ buildingStructure  : chr  \"Steel/Concrete\" \"Steel/Concrete\" \"Steel/Concrete\" \"Steel/Concrete\" ...\n",
      " $ ladderRatio        : num  0.217 0.667 0.5 0.273 0.333 0.333 0.5 0.667 0.333 0.308 ...\n",
      " $ elevator           : chr  \"Has_Elevator\" \"Has_Elevator\" \"Has_Elevator\" \"Has_Elevator\" ...\n",
      " $ fiveYearsProperty  : chr  \"Ownership > 5y\" \"Ownership < 5y\" \"Ownership > 5y\" \"Ownership > 5y\" ...\n",
      " $ subway             : chr  \"Has_Subway\" \"No_Subway\" \"No_Subway\" \"No_Subway\" ...\n",
      " $ district           : chr  \"ChaoYang\" \"ChaoYang\" \"ChaoYang\" \"ChangPing\" ...\n",
      " $ communityAverage   : num  56021 71539 48160 51238 62588 ...\n"
     ]
    }
   ],
   "source": [
    "str(data)"
   ]
  },
  {
   "cell_type": "code",
   "execution_count": 37,
   "metadata": {},
   "outputs": [],
   "source": [
    "model_ext<- lm(price ~ square + livingRoom + drawingRoom + kitchen + bathRoom + floor + buildingType + \n",
    "             constructionTime + renovationCondition + buildingStructure + elevator+ subway+ district , data = training )"
   ]
  },
  {
   "cell_type": "code",
   "execution_count": 38,
   "metadata": {},
   "outputs": [
    {
     "data": {
      "text/plain": [
       "\n",
       "Call:\n",
       "lm(formula = price ~ square + livingRoom + drawingRoom + kitchen + \n",
       "    bathRoom + floor + buildingType + constructionTime + renovationCondition + \n",
       "    buildingStructure + elevator + subway + district, data = training)\n",
       "\n",
       "Residuals:\n",
       "   Min     1Q Median     3Q    Max \n",
       "-77423 -10688  -2493   8004 118949 \n",
       "\n",
       "Coefficients:\n",
       "                                  Estimate Std. Error  t value Pr(>|t|)    \n",
       "(Intercept)                     279886.149  13127.993   21.320  < 2e-16 ***\n",
       "square                             -88.624      2.220  -39.922  < 2e-16 ***\n",
       "livingRoom                        1256.206     77.961   16.113  < 2e-16 ***\n",
       "drawingRoom                       -212.350     93.353   -2.275   0.0229 *  \n",
       "kitchen                           4455.974    393.352   11.328  < 2e-16 ***\n",
       "bathRoom                          3233.101    129.973   24.875  < 2e-16 ***\n",
       "floor                              137.926      9.286   14.854  < 2e-16 ***\n",
       "buildingTypePlate               -33522.961   3987.816   -8.406  < 2e-16 ***\n",
       "buildingTypePlate/Tower         -35896.669   3989.733   -8.997  < 2e-16 ***\n",
       "buildingTypeTower               -39490.042   3990.272   -9.897  < 2e-16 ***\n",
       "constructionTime                  -105.356      6.270  -16.802  < 2e-16 ***\n",
       "renovationConditionOther        -14448.025     86.690 -166.662  < 2e-16 ***\n",
       "renovationConditionRough         -3854.799    293.343  -13.141  < 2e-16 ***\n",
       "renovationConditionSimplicit     -1568.251     98.547  -15.914  < 2e-16 ***\n",
       "buildingStructureBrick/Wood      14410.406   3249.900    4.434 9.25e-06 ***\n",
       "buildingStructureMixed             820.887    185.999    4.413 1.02e-05 ***\n",
       "buildingStructureSteel           -1032.441   1656.835   -0.623   0.5332    \n",
       "buildingStructureSteel/Concrete   1912.701    227.620    8.403  < 2e-16 ***\n",
       "buildingStructureUnavailable      6533.904   4871.438    1.341   0.1798    \n",
       "elevatorNo_elevator              -3180.379    167.004  -19.044  < 2e-16 ***\n",
       "subwayNo_Subway                  -3374.969     81.240  -41.543  < 2e-16 ***\n",
       "districtChaoYang                 11425.894    137.922   82.843  < 2e-16 ***\n",
       "districtDaXing                     531.160    443.073    1.199   0.2306    \n",
       "districtDongCheng                28820.800    204.455  140.964  < 2e-16 ***\n",
       "districtFangShang                -5826.561    408.995  -14.246  < 2e-16 ***\n",
       "districtFaXing                    -152.424    200.591   -0.760   0.4473    \n",
       "districtFengTai                   7075.354    170.257   41.557  < 2e-16 ***\n",
       "districtHaiDian                  23708.629    159.685  148.471  < 2e-16 ***\n",
       "districtMenTouGou                -4121.009    239.062  -17.238  < 2e-16 ***\n",
       "districtShiJingShan               5124.419    233.990   21.900  < 2e-16 ***\n",
       "districtShunYi                   -5707.299    541.341  -10.543  < 2e-16 ***\n",
       "districtTongZhou                 -2174.005    213.992  -10.159  < 2e-16 ***\n",
       "districtXiCheng                  35087.595    173.423  202.323  < 2e-16 ***\n",
       "---\n",
       "Signif. codes:  0 '***' 0.001 '**' 0.01 '*' 0.05 '.' 0.1 ' ' 1\n",
       "\n",
       "Residual standard error: 16130 on 192597 degrees of freedom\n",
       "Multiple R-squared:  0.4456,\tAdjusted R-squared:  0.4455 \n",
       "F-statistic:  4837 on 32 and 192597 DF,  p-value: < 2.2e-16\n"
      ]
     },
     "metadata": {},
     "output_type": "display_data"
    }
   ],
   "source": [
    "summary(model_ext)"
   ]
  },
  {
   "cell_type": "code",
   "execution_count": 39,
   "metadata": {},
   "outputs": [
    {
     "data": {
      "text/html": [
       "16210.65"
      ],
      "text/latex": [
       "16210.65"
      ],
      "text/markdown": [
       "16210.65"
      ],
      "text/plain": [
       "[1] 16210.65"
      ]
     },
     "metadata": {},
     "output_type": "display_data"
    }
   ],
   "source": [
    "pred = predict(model_ext, testing)\n",
    "error = sqrt(sum((pred-testing[\"price\"])^2)/length(pred))\n",
    "round(error,2)"
   ]
  },
  {
   "cell_type": "code",
   "execution_count": 40,
   "metadata": {},
   "outputs": [],
   "source": [
    "save(model_ext, file = \"models/extended_model.rda\")\n",
    "save(model_ext, file = \"../house-price-prediction-app/shinyApp/models/extended_model.rda\")"
   ]
  },
  {
   "cell_type": "markdown",
   "metadata": {},
   "source": [
    "## converting some (num) columns to factors"
   ]
  },
  {
   "cell_type": "code",
   "execution_count": 41,
   "metadata": {
    "scrolled": false
   },
   "outputs": [
    {
     "name": "stdout",
     "output_type": "stream",
     "text": [
      "Classes 'tbl_df', 'tbl' and 'data.frame':\t296350 obs. of  22 variables:\n",
      " $ Lng                : num  116 116 117 116 116 ...\n",
      " $ Lat                : num  40 39.9 39.9 40.1 39.9 ...\n",
      " $ tradeTime          : Date, format: \"2016-08-09\" \"2016-07-28\" ...\n",
      " $ DOM                : num  1464 903 1271 965 927 ...\n",
      " $ followers          : num  106 126 48 138 286 57 167 138 218 134 ...\n",
      " $ price              : num  31680 43436 52021 22202 48396 ...\n",
      " $ square             : num  131 132 198 134 81 ...\n",
      " $ livingRoom         : num  2 2 3 3 2 1 2 3 1 1 ...\n",
      " $ drawingRoom        : num  1 2 2 1 1 0 1 2 0 0 ...\n",
      " $ kitchen            : num  1 1 1 1 1 1 1 1 1 0 ...\n",
      " $ bathRoom           : num  1 2 3 1 1 1 1 2 1 0 ...\n",
      " $ floor              : num  26 22 4 21 6 8 6 22 10 23 ...\n",
      " $ buildingType       : chr  \"Tower\" \"Tower\" \"Plate\" \"Tower\" ...\n",
      " $ constructionTime   : num  2005 2004 2005 2008 1960 ...\n",
      " $ renovationCondition: chr  \"Simplicit\" \"Hardcover\" \"Simplicit\" \"Other\" ...\n",
      " $ buildingStructure  : chr  \"Steel/Concrete\" \"Steel/Concrete\" \"Steel/Concrete\" \"Steel/Concrete\" ...\n",
      " $ ladderRatio        : num  0.217 0.667 0.5 0.273 0.333 0.333 0.5 0.667 0.333 0.308 ...\n",
      " $ elevator           : chr  \"Has_Elevator\" \"Has_Elevator\" \"Has_Elevator\" \"Has_Elevator\" ...\n",
      " $ fiveYearsProperty  : chr  \"Ownership > 5y\" \"Ownership < 5y\" \"Ownership > 5y\" \"Ownership > 5y\" ...\n",
      " $ subway             : chr  \"Has_Subway\" \"No_Subway\" \"No_Subway\" \"No_Subway\" ...\n",
      " $ district           : chr  \"ChaoYang\" \"ChaoYang\" \"ChaoYang\" \"ChangPing\" ...\n",
      " $ communityAverage   : num  56021 71539 48160 51238 62588 ...\n"
     ]
    }
   ],
   "source": [
    "str(data)"
   ]
  },
  {
   "cell_type": "code",
   "execution_count": 42,
   "metadata": {},
   "outputs": [],
   "source": [
    "data$livingRoom <- as.factor(data$livingRoom)\n",
    "data$drawingRoom <- as.factor(data$drawingRoom)\n",
    "data$kitchen <- as.factor(data$kitchen)\n",
    "data$bathRoom <- as.factor(data$bathRoom)\n",
    "data$floor <- as.factor(data$floor) # this might cause problems "
   ]
  },
  {
   "cell_type": "code",
   "execution_count": 43,
   "metadata": {
    "scrolled": false
   },
   "outputs": [
    {
     "name": "stdout",
     "output_type": "stream",
     "text": [
      "Classes 'tbl_df', 'tbl' and 'data.frame':\t296350 obs. of  22 variables:\n",
      " $ Lng                : num  116 116 117 116 116 ...\n",
      " $ Lat                : num  40 39.9 39.9 40.1 39.9 ...\n",
      " $ tradeTime          : Date, format: \"2016-08-09\" \"2016-07-28\" ...\n",
      " $ DOM                : num  1464 903 1271 965 927 ...\n",
      " $ followers          : num  106 126 48 138 286 57 167 138 218 134 ...\n",
      " $ price              : num  31680 43436 52021 22202 48396 ...\n",
      " $ square             : num  131 132 198 134 81 ...\n",
      " $ livingRoom         : Factor w/ 9 levels \"0\",\"1\",\"2\",\"3\",..: 3 3 4 4 3 2 3 4 2 2 ...\n",
      " $ drawingRoom        : Factor w/ 6 levels \"0\",\"1\",\"2\",\"3\",..: 2 3 3 2 2 1 2 3 1 1 ...\n",
      " $ kitchen            : Factor w/ 4 levels \"0\",\"1\",\"2\",\"3\": 2 2 2 2 2 2 2 2 2 1 ...\n",
      " $ bathRoom           : Factor w/ 8 levels \"0\",\"1\",\"2\",\"3\",..: 2 3 4 2 2 2 2 3 2 1 ...\n",
      " $ floor              : Factor w/ 40 levels \"1\",\"2\",\"3\",\"4\",..: 26 22 4 21 6 8 6 22 10 23 ...\n",
      " $ buildingType       : chr  \"Tower\" \"Tower\" \"Plate\" \"Tower\" ...\n",
      " $ constructionTime   : num  2005 2004 2005 2008 1960 ...\n",
      " $ renovationCondition: chr  \"Simplicit\" \"Hardcover\" \"Simplicit\" \"Other\" ...\n",
      " $ buildingStructure  : chr  \"Steel/Concrete\" \"Steel/Concrete\" \"Steel/Concrete\" \"Steel/Concrete\" ...\n",
      " $ ladderRatio        : num  0.217 0.667 0.5 0.273 0.333 0.333 0.5 0.667 0.333 0.308 ...\n",
      " $ elevator           : chr  \"Has_Elevator\" \"Has_Elevator\" \"Has_Elevator\" \"Has_Elevator\" ...\n",
      " $ fiveYearsProperty  : chr  \"Ownership > 5y\" \"Ownership < 5y\" \"Ownership > 5y\" \"Ownership > 5y\" ...\n",
      " $ subway             : chr  \"Has_Subway\" \"No_Subway\" \"No_Subway\" \"No_Subway\" ...\n",
      " $ district           : chr  \"ChaoYang\" \"ChaoYang\" \"ChaoYang\" \"ChangPing\" ...\n",
      " $ communityAverage   : num  56021 71539 48160 51238 62588 ...\n"
     ]
    }
   ],
   "source": [
    "str(data)"
   ]
  },
  {
   "cell_type": "code",
   "execution_count": 44,
   "metadata": {},
   "outputs": [],
   "source": [
    "training <- data[inTrain,]\n",
    "testing <- data[-inTrain,]"
   ]
  },
  {
   "cell_type": "code",
   "execution_count": 45,
   "metadata": {},
   "outputs": [],
   "source": [
    "model <- lm(price ~ livingRoom + drawingRoom + kitchen + bathRoom + floor + buildingType +\n",
    "            constructionTime + renovationCondition + buildingStructure + elevator+ subway+ district , data = training )"
   ]
  },
  {
   "cell_type": "code",
   "execution_count": 46,
   "metadata": {
    "scrolled": false
   },
   "outputs": [
    {
     "data": {
      "text/plain": [
       "\n",
       "Call:\n",
       "lm(formula = price ~ livingRoom + drawingRoom + kitchen + bathRoom + \n",
       "    floor + buildingType + constructionTime + renovationCondition + \n",
       "    buildingStructure + elevator + subway + district, data = training)\n",
       "\n",
       "Residuals:\n",
       "   Min     1Q Median     3Q    Max \n",
       "-85479 -10689  -2502   7973 120490 \n",
       "\n",
       "Coefficients:\n",
       "                                  Estimate Std. Error  t value Pr(>|t|)    \n",
       "(Intercept)                     391057.736  14365.405   27.222  < 2e-16 ***\n",
       "livingRoom1                      -1886.497   5383.876   -0.350 0.726041    \n",
       "livingRoom2                      -2839.527   5383.708   -0.527 0.597896    \n",
       "livingRoom3                      -2986.604   5384.526   -0.555 0.579125    \n",
       "livingRoom4                      -3944.911   5391.837   -0.732 0.464386    \n",
       "livingRoom5                      -8319.318   5434.755   -1.531 0.125830    \n",
       "livingRoom6                     -10471.129   5598.127   -1.870 0.061420 .  \n",
       "livingRoom7                     -15061.167   6743.079   -2.234 0.025512 *  \n",
       "livingRoom8                     -14774.899  17014.407   -0.868 0.385190    \n",
       "drawingRoom1                       202.871    173.959    1.166 0.243535    \n",
       "drawingRoom2                     -1803.452    201.223   -8.962  < 2e-16 ***\n",
       "drawingRoom3                     -1038.678    843.976   -1.231 0.218438    \n",
       "drawingRoom4                      2914.397   3582.153    0.814 0.415882    \n",
       "drawingRoom5                    -27534.122  16184.901   -1.701 0.088903 .  \n",
       "kitchen1                          5658.152    516.205   10.961  < 2e-16 ***\n",
       "kitchen2                          8543.133    920.141    9.285  < 2e-16 ***\n",
       "kitchen3                          7870.449   4899.751    1.606 0.108211    \n",
       "bathRoom1                        -2197.746    957.476   -2.295 0.021714 *  \n",
       "bathRoom2                        -1569.809    966.343   -1.624 0.104274    \n",
       "bathRoom3                         1514.369   1061.939    1.426 0.153858    \n",
       "bathRoom4                         5614.164   1539.337    3.647 0.000265 ***\n",
       "bathRoom5                        11508.195   3340.963    3.445 0.000572 ***\n",
       "bathRoom6                       -12262.931   9389.845   -1.306 0.191562    \n",
       "bathRoom7                       -14165.296  16172.417   -0.876 0.381090    \n",
       "floor2                          -55964.275   7884.110   -7.098 1.27e-12 ***\n",
       "floor3                          -49663.174   7597.983   -6.536 6.32e-11 ***\n",
       "floor4                          -49900.710   7558.087   -6.602 4.06e-11 ***\n",
       "floor5                          -47489.309   7552.927   -6.288 3.23e-10 ***\n",
       "floor6                          -49440.597   7551.757   -6.547 5.89e-11 ***\n",
       "floor7                          -48512.720   7554.408   -6.422 1.35e-10 ***\n",
       "floor8                          -49960.098   7567.296   -6.602 4.06e-11 ***\n",
       "floor9                          -48529.122   7558.677   -6.420 1.36e-10 ***\n",
       "floor10                         -49274.248   7559.632   -6.518 7.14e-11 ***\n",
       "floor11                         -49924.588   7557.964   -6.606 3.97e-11 ***\n",
       "floor12                         -49394.688   7558.193   -6.535 6.37e-11 ***\n",
       "floor13                         -51293.468   7561.481   -6.784 1.18e-11 ***\n",
       "floor14                         -49801.236   7557.998   -6.589 4.43e-11 ***\n",
       "floor15                         -48449.906   7559.022   -6.410 1.46e-10 ***\n",
       "floor16                         -46356.793   7557.125   -6.134 8.58e-10 ***\n",
       "floor17                         -46119.920   7560.688   -6.100 1.06e-09 ***\n",
       "floor18                         -47736.661   7556.487   -6.317 2.67e-10 ***\n",
       "floor19                         -50347.530   7561.041   -6.659 2.77e-11 ***\n",
       "floor20                         -46786.549   7558.238   -6.190 6.02e-10 ***\n",
       "floor21                         -48577.343   7558.632   -6.427 1.31e-10 ***\n",
       "floor22                         -48610.531   7558.821   -6.431 1.27e-10 ***\n",
       "floor23                         -47127.497   7563.188   -6.231 4.64e-10 ***\n",
       "floor24                         -49416.666   7557.898   -6.538 6.23e-11 ***\n",
       "floor25                         -45602.577   7560.327   -6.032 1.62e-09 ***\n",
       "floor26                         -46001.133   7559.705   -6.085 1.17e-09 ***\n",
       "floor27                         -43039.933   7561.516   -5.692 1.26e-08 ***\n",
       "floor28                         -48750.677   7559.185   -6.449 1.13e-10 ***\n",
       "floor29                         -49240.778   7571.530   -6.503 7.87e-11 ***\n",
       "floor30                         -46283.289   7567.178   -6.116 9.59e-10 ***\n",
       "floor31                         -46000.745   7607.400   -6.047 1.48e-09 ***\n",
       "floor32                         -51463.331   7567.291   -6.801 1.04e-11 ***\n",
       "floor33                         -44629.157   7603.288   -5.870 4.37e-09 ***\n",
       "floor34                         -41603.663   7634.713   -5.449 5.06e-08 ***\n",
       "floor35                         -12622.831  11055.762   -1.142 0.253563    \n",
       "floor36                         -51645.630  11055.440   -4.672 2.99e-06 ***\n",
       "floor37                         -41870.963  11996.876   -3.490 0.000483 ***\n",
       "floor42                         -24489.606   8566.299   -2.859 0.004252 ** \n",
       "floor57                          42860.712  17820.798    2.405 0.016169 *  \n",
       "buildingTypePlate                10816.375   7523.549    1.438 0.150530    \n",
       "buildingTypePlate/Tower           8594.040   7524.317    1.142 0.253385    \n",
       "buildingTypeTower                 4908.813   7524.631    0.652 0.514166    \n",
       "constructionTime                  -156.821      6.322  -24.806  < 2e-16 ***\n",
       "renovationConditionOther        -14377.956     86.789 -165.666  < 2e-16 ***\n",
       "renovationConditionRough         -3924.731    293.953  -13.352  < 2e-16 ***\n",
       "renovationConditionSimplicit     -1470.461     98.669  -14.903  < 2e-16 ***\n",
       "buildingStructureBrick/Wood      10554.919   3360.400    3.141 0.001684 ** \n",
       "buildingStructureMixed             926.392    187.634    4.937 7.93e-07 ***\n",
       "buildingStructureSteel            -951.446   1659.600   -0.573 0.566443    \n",
       "buildingStructureSteel/Concrete   2020.078    232.878    8.674  < 2e-16 ***\n",
       "buildingStructureUnavailable      5546.303   4877.550    1.137 0.255494    \n",
       "elevatorNo_elevator              -3180.798    243.456  -13.065  < 2e-16 ***\n",
       "subwayNo_Subway                  -3491.539     82.008  -42.575  < 2e-16 ***\n",
       "districtChaoYang                 11600.368    139.800   82.978  < 2e-16 ***\n",
       "districtDaXing                    1055.702    446.627    2.364 0.018093 *  \n",
       "districtDongCheng                28922.103    205.690  140.610  < 2e-16 ***\n",
       "districtFangShang                -5408.757    412.954  -13.098  < 2e-16 ***\n",
       "districtFaXing                      85.491    201.160    0.425 0.670843    \n",
       "districtFengTai                   7584.002    172.018   44.088  < 2e-16 ***\n",
       "districtHaiDian                  23788.246    161.014  147.740  < 2e-16 ***\n",
       "districtMenTouGou                -4145.610    240.767  -17.218  < 2e-16 ***\n",
       "districtShiJingShan               5164.077    236.389   21.846  < 2e-16 ***\n",
       "districtShunYi                   -5076.532    561.879   -9.035  < 2e-16 ***\n",
       "districtTongZhou                 -1738.878    215.094   -8.084 6.29e-16 ***\n",
       "districtXiCheng                  35431.359    174.413  203.147  < 2e-16 ***\n",
       "---\n",
       "Signif. codes:  0 '***' 0.001 '**' 0.01 '*' 0.05 '.' 0.1 ' ' 1\n",
       "\n",
       "Residual standard error: 16140 on 192542 degrees of freedom\n",
       "Multiple R-squared:  0.4454,\tAdjusted R-squared:  0.4452 \n",
       "F-statistic:  1778 on 87 and 192542 DF,  p-value: < 2.2e-16\n"
      ]
     },
     "metadata": {},
     "output_type": "display_data"
    }
   ],
   "source": [
    "summary(model)"
   ]
  },
  {
   "cell_type": "code",
   "execution_count": null,
   "metadata": {},
   "outputs": [],
   "source": [
    "# pred = predict(model, testing)\n",
    "# error = sqrt(sum((pred-testing[\"price\"])^2)/length(pred))\n",
    "# round(error,2)"
   ]
  },
  {
   "cell_type": "markdown",
   "metadata": {},
   "source": [
    "minor perfoamce imporvemnt, even after removing square"
   ]
  },
  {
   "cell_type": "markdown",
   "metadata": {},
   "source": [
    "## Using Gradient Boosting Regression model \n",
    "from xgboost package"
   ]
  },
  {
   "cell_type": "code",
   "execution_count": 48,
   "metadata": {},
   "outputs": [],
   "source": [
    "formula = as.formula(\"totalPrice ~ 'tradeTime'+'DOM'+'square'+'ladderRatio'+\n",
    "               'communityAverage'+'kitchen'+'renovationCondition'+'buildingStructure'+\n",
    "               'fiveYearsProperty'+'subway'+'district'\")"
   ]
  },
  {
   "cell_type": "code",
   "execution_count": 52,
   "metadata": {},
   "outputs": [],
   "source": [
    "s_data = select(cl_data, tradeTime,DOM, square,ladderRatio,\n",
    "               communityAverage, kitchen, renovationCondition, buildingStructure,\n",
    "               fiveYearsProperty, subway,district, totalPrice)"
   ]
  },
  {
   "cell_type": "code",
   "execution_count": 53,
   "metadata": {},
   "outputs": [],
   "source": [
    "s_data_dm = as.data.frame(dummify(s_data))"
   ]
  },
  {
   "cell_type": "code",
   "execution_count": 54,
   "metadata": {},
   "outputs": [
    {
     "data": {
      "text/html": [
       "<table>\n",
       "<thead><tr><th scope=col>tradeTime</th><th scope=col>DOM</th><th scope=col>square</th><th scope=col>ladderRatio</th><th scope=col>communityAverage</th><th scope=col>kitchen</th><th scope=col>renovationCondition.Hardcover</th><th scope=col>renovationCondition.Other</th><th scope=col>renovationCondition.Rough</th><th scope=col>renovationCondition.Simplicit</th><th scope=col>...</th><th scope=col>district.FangShang</th><th scope=col>district.FaXing</th><th scope=col>district.FengTai</th><th scope=col>district.HaiDian</th><th scope=col>district.MenTouGou</th><th scope=col>district.ShiJingShan</th><th scope=col>district.ShunYi</th><th scope=col>district.TongZhou</th><th scope=col>district.XiCheng</th><th scope=col>totalPrice</th></tr></thead>\n",
       "<tbody>\n",
       "\t<tr><td>17022 </td><td>1464  </td><td>131.00</td><td>0.217 </td><td>56021 </td><td>1     </td><td>0     </td><td>0     </td><td>0     </td><td>1     </td><td>...   </td><td>0     </td><td>0     </td><td>0     </td><td>0     </td><td>0     </td><td>0     </td><td>0     </td><td>0     </td><td>0     </td><td> 415.0</td></tr>\n",
       "\t<tr><td>17010 </td><td> 903  </td><td>132.38</td><td>0.667 </td><td>71539 </td><td>1     </td><td>1     </td><td>0     </td><td>0     </td><td>0     </td><td>...   </td><td>0     </td><td>0     </td><td>0     </td><td>0     </td><td>0     </td><td>0     </td><td>0     </td><td>0     </td><td>0     </td><td> 575.0</td></tr>\n",
       "\t<tr><td>17146 </td><td>1271  </td><td>198.00</td><td>0.500 </td><td>48160 </td><td>1     </td><td>0     </td><td>0     </td><td>0     </td><td>1     </td><td>...   </td><td>0     </td><td>0     </td><td>0     </td><td>0     </td><td>0     </td><td>0     </td><td>0     </td><td>0     </td><td>0     </td><td>1030.0</td></tr>\n",
       "\t<tr><td>17074 </td><td> 965  </td><td>134.00</td><td>0.273 </td><td>51238 </td><td>1     </td><td>0     </td><td>1     </td><td>0     </td><td>0     </td><td>...   </td><td>0     </td><td>0     </td><td>0     </td><td>0     </td><td>0     </td><td>0     </td><td>0     </td><td>0     </td><td>0     </td><td> 297.5</td></tr>\n",
       "\t<tr><td>17041 </td><td> 927  </td><td> 81.00</td><td>0.333 </td><td>62588 </td><td>1     </td><td>0     </td><td>0     </td><td>1     </td><td>0     </td><td>...   </td><td>0     </td><td>0     </td><td>0     </td><td>0     </td><td>0     </td><td>0     </td><td>0     </td><td>0     </td><td>0     </td><td> 392.0</td></tr>\n",
       "\t<tr><td>17004 </td><td> 861  </td><td> 53.00</td><td>0.333 </td><td>67738 </td><td>1     </td><td>0     </td><td>0     </td><td>0     </td><td>1     </td><td>...   </td><td>0     </td><td>0     </td><td>0     </td><td>0     </td><td>0     </td><td>0     </td><td>0     </td><td>0     </td><td>0     </td><td> 275.6</td></tr>\n",
       "</tbody>\n",
       "</table>\n"
      ],
      "text/latex": [
       "\\begin{tabular}{r|llllllllllllllllllllllllllllllllll}\n",
       " tradeTime & DOM & square & ladderRatio & communityAverage & kitchen & renovationCondition.Hardcover & renovationCondition.Other & renovationCondition.Rough & renovationCondition.Simplicit & ... & district.FangShang & district.FaXing & district.FengTai & district.HaiDian & district.MenTouGou & district.ShiJingShan & district.ShunYi & district.TongZhou & district.XiCheng & totalPrice\\\\\n",
       "\\hline\n",
       "\t 17022  & 1464   & 131.00 & 0.217  & 56021  & 1      & 0      & 0      & 0      & 1      & ...    & 0      & 0      & 0      & 0      & 0      & 0      & 0      & 0      & 0      &  415.0\\\\\n",
       "\t 17010  &  903   & 132.38 & 0.667  & 71539  & 1      & 1      & 0      & 0      & 0      & ...    & 0      & 0      & 0      & 0      & 0      & 0      & 0      & 0      & 0      &  575.0\\\\\n",
       "\t 17146  & 1271   & 198.00 & 0.500  & 48160  & 1      & 0      & 0      & 0      & 1      & ...    & 0      & 0      & 0      & 0      & 0      & 0      & 0      & 0      & 0      & 1030.0\\\\\n",
       "\t 17074  &  965   & 134.00 & 0.273  & 51238  & 1      & 0      & 1      & 0      & 0      & ...    & 0      & 0      & 0      & 0      & 0      & 0      & 0      & 0      & 0      &  297.5\\\\\n",
       "\t 17041  &  927   &  81.00 & 0.333  & 62588  & 1      & 0      & 0      & 1      & 0      & ...    & 0      & 0      & 0      & 0      & 0      & 0      & 0      & 0      & 0      &  392.0\\\\\n",
       "\t 17004  &  861   &  53.00 & 0.333  & 67738  & 1      & 0      & 0      & 0      & 1      & ...    & 0      & 0      & 0      & 0      & 0      & 0      & 0      & 0      & 0      &  275.6\\\\\n",
       "\\end{tabular}\n"
      ],
      "text/markdown": [
       "\n",
       "| tradeTime | DOM | square | ladderRatio | communityAverage | kitchen | renovationCondition.Hardcover | renovationCondition.Other | renovationCondition.Rough | renovationCondition.Simplicit | ... | district.FangShang | district.FaXing | district.FengTai | district.HaiDian | district.MenTouGou | district.ShiJingShan | district.ShunYi | district.TongZhou | district.XiCheng | totalPrice |\n",
       "|---|---|---|---|---|---|---|---|---|---|---|---|---|---|---|---|---|---|---|---|---|\n",
       "| 17022  | 1464   | 131.00 | 0.217  | 56021  | 1      | 0      | 0      | 0      | 1      | ...    | 0      | 0      | 0      | 0      | 0      | 0      | 0      | 0      | 0      |  415.0 |\n",
       "| 17010  |  903   | 132.38 | 0.667  | 71539  | 1      | 1      | 0      | 0      | 0      | ...    | 0      | 0      | 0      | 0      | 0      | 0      | 0      | 0      | 0      |  575.0 |\n",
       "| 17146  | 1271   | 198.00 | 0.500  | 48160  | 1      | 0      | 0      | 0      | 1      | ...    | 0      | 0      | 0      | 0      | 0      | 0      | 0      | 0      | 0      | 1030.0 |\n",
       "| 17074  |  965   | 134.00 | 0.273  | 51238  | 1      | 0      | 1      | 0      | 0      | ...    | 0      | 0      | 0      | 0      | 0      | 0      | 0      | 0      | 0      |  297.5 |\n",
       "| 17041  |  927   |  81.00 | 0.333  | 62588  | 1      | 0      | 0      | 1      | 0      | ...    | 0      | 0      | 0      | 0      | 0      | 0      | 0      | 0      | 0      |  392.0 |\n",
       "| 17004  |  861   |  53.00 | 0.333  | 67738  | 1      | 0      | 0      | 0      | 1      | ...    | 0      | 0      | 0      | 0      | 0      | 0      | 0      | 0      | 0      |  275.6 |\n",
       "\n"
      ],
      "text/plain": [
       "  tradeTime DOM  square ladderRatio communityAverage kitchen\n",
       "1 17022     1464 131.00 0.217       56021            1      \n",
       "2 17010      903 132.38 0.667       71539            1      \n",
       "3 17146     1271 198.00 0.500       48160            1      \n",
       "4 17074      965 134.00 0.273       51238            1      \n",
       "5 17041      927  81.00 0.333       62588            1      \n",
       "6 17004      861  53.00 0.333       67738            1      \n",
       "  renovationCondition.Hardcover renovationCondition.Other\n",
       "1 0                             0                        \n",
       "2 1                             0                        \n",
       "3 0                             0                        \n",
       "4 0                             1                        \n",
       "5 0                             0                        \n",
       "6 0                             0                        \n",
       "  renovationCondition.Rough renovationCondition.Simplicit ...\n",
       "1 0                         1                             ...\n",
       "2 0                         0                             ...\n",
       "3 0                         1                             ...\n",
       "4 0                         0                             ...\n",
       "5 1                         0                             ...\n",
       "6 0                         1                             ...\n",
       "  district.FangShang district.FaXing district.FengTai district.HaiDian\n",
       "1 0                  0               0                0               \n",
       "2 0                  0               0                0               \n",
       "3 0                  0               0                0               \n",
       "4 0                  0               0                0               \n",
       "5 0                  0               0                0               \n",
       "6 0                  0               0                0               \n",
       "  district.MenTouGou district.ShiJingShan district.ShunYi district.TongZhou\n",
       "1 0                  0                    0               0                \n",
       "2 0                  0                    0               0                \n",
       "3 0                  0                    0               0                \n",
       "4 0                  0                    0               0                \n",
       "5 0                  0                    0               0                \n",
       "6 0                  0                    0               0                \n",
       "  district.XiCheng totalPrice\n",
       "1 0                 415.0    \n",
       "2 0                 575.0    \n",
       "3 0                1030.0    \n",
       "4 0                 297.5    \n",
       "5 0                 392.0    \n",
       "6 0                 275.6    "
      ]
     },
     "metadata": {},
     "output_type": "display_data"
    }
   ],
   "source": [
    "head(s_data_dm)"
   ]
  },
  {
   "cell_type": "code",
   "execution_count": 55,
   "metadata": {},
   "outputs": [
    {
     "data": {
      "text/html": [
       "<ol class=list-inline>\n",
       "\t<li>192629</li>\n",
       "\t<li>34</li>\n",
       "</ol>\n"
      ],
      "text/latex": [
       "\\begin{enumerate*}\n",
       "\\item 192629\n",
       "\\item 34\n",
       "\\end{enumerate*}\n"
      ],
      "text/markdown": [
       "1. 192629\n",
       "2. 34\n",
       "\n",
       "\n"
      ],
      "text/plain": [
       "[1] 192629     34"
      ]
     },
     "metadata": {},
     "output_type": "display_data"
    },
    {
     "data": {
      "text/html": [
       "<ol class=list-inline>\n",
       "\t<li>103721</li>\n",
       "\t<li>34</li>\n",
       "</ol>\n"
      ],
      "text/latex": [
       "\\begin{enumerate*}\n",
       "\\item 103721\n",
       "\\item 34\n",
       "\\end{enumerate*}\n"
      ],
      "text/markdown": [
       "1. 103721\n",
       "2. 34\n",
       "\n",
       "\n"
      ],
      "text/plain": [
       "[1] 103721     34"
      ]
     },
     "metadata": {},
     "output_type": "display_data"
    }
   ],
   "source": [
    "set.seed(193)\n",
    "inTrain = createDataPartition(s_data_dm$totalPrice, p = 0.65, list = F)\n",
    "\n",
    "training = s_data_dm[inTrain,]\n",
    "testing = s_data_dm[-inTrain,]\n",
    "\n",
    "dim(training); dim(testing)"
   ]
  },
  {
   "cell_type": "code",
   "execution_count": 56,
   "metadata": {},
   "outputs": [
    {
     "data": {
      "text/html": [
       "<table>\n",
       "<thead><tr><th></th><th scope=col>tradeTime</th><th scope=col>DOM</th><th scope=col>square</th><th scope=col>ladderRatio</th><th scope=col>communityAverage</th><th scope=col>kitchen</th><th scope=col>renovationCondition.Hardcover</th><th scope=col>renovationCondition.Other</th><th scope=col>renovationCondition.Rough</th><th scope=col>renovationCondition.Simplicit</th><th scope=col>...</th><th scope=col>district.FangShang</th><th scope=col>district.FaXing</th><th scope=col>district.FengTai</th><th scope=col>district.HaiDian</th><th scope=col>district.MenTouGou</th><th scope=col>district.ShiJingShan</th><th scope=col>district.ShunYi</th><th scope=col>district.TongZhou</th><th scope=col>district.XiCheng</th><th scope=col>totalPrice</th></tr></thead>\n",
       "<tbody>\n",
       "\t<tr><th scope=row>1</th><td>17022 </td><td>1464  </td><td>131.00</td><td>0.217 </td><td>56021 </td><td>1     </td><td>0     </td><td>0     </td><td>0     </td><td>1     </td><td>...   </td><td>0     </td><td>0     </td><td>0     </td><td>0     </td><td>0     </td><td>0     </td><td>0     </td><td>0     </td><td>0     </td><td>415.0 </td></tr>\n",
       "\t<tr><th scope=row>2</th><td>17010 </td><td> 903  </td><td>132.38</td><td>0.667 </td><td>71539 </td><td>1     </td><td>1     </td><td>0     </td><td>0     </td><td>0     </td><td>...   </td><td>0     </td><td>0     </td><td>0     </td><td>0     </td><td>0     </td><td>0     </td><td>0     </td><td>0     </td><td>0     </td><td>575.0 </td></tr>\n",
       "\t<tr><th scope=row>4</th><td>17074 </td><td> 965  </td><td>134.00</td><td>0.273 </td><td>51238 </td><td>1     </td><td>0     </td><td>1     </td><td>0     </td><td>0     </td><td>...   </td><td>0     </td><td>0     </td><td>0     </td><td>0     </td><td>0     </td><td>0     </td><td>0     </td><td>0     </td><td>0     </td><td>297.5 </td></tr>\n",
       "\t<tr><th scope=row>7</th><td>16996 </td><td> 851  </td><td> 73.00</td><td>0.500 </td><td>50112 </td><td>1     </td><td>1     </td><td>0     </td><td>0     </td><td>0     </td><td>...   </td><td>0     </td><td>0     </td><td>0     </td><td>0     </td><td>0     </td><td>0     </td><td>0     </td><td>0     </td><td>0     </td><td>275.0 </td></tr>\n",
       "\t<tr><th scope=row>8</th><td>17051 </td><td> 904  </td><td>161.55</td><td>0.667 </td><td>71539 </td><td>1     </td><td>1     </td><td>0     </td><td>0     </td><td>0     </td><td>...   </td><td>0     </td><td>0     </td><td>0     </td><td>0     </td><td>0     </td><td>0     </td><td>0     </td><td>0     </td><td>0     </td><td>800.0 </td></tr>\n",
       "\t<tr><th scope=row>9</th><td>17048 </td><td> 873  </td><td> 48.00</td><td>0.333 </td><td>44235 </td><td>1     </td><td>0     </td><td>1     </td><td>0     </td><td>0     </td><td>...   </td><td>0     </td><td>0     </td><td>0     </td><td>0     </td><td>1     </td><td>0     </td><td>0     </td><td>0     </td><td>0     </td><td>134.0 </td></tr>\n",
       "</tbody>\n",
       "</table>\n"
      ],
      "text/latex": [
       "\\begin{tabular}{r|llllllllllllllllllllllllllllllllll}\n",
       "  & tradeTime & DOM & square & ladderRatio & communityAverage & kitchen & renovationCondition.Hardcover & renovationCondition.Other & renovationCondition.Rough & renovationCondition.Simplicit & ... & district.FangShang & district.FaXing & district.FengTai & district.HaiDian & district.MenTouGou & district.ShiJingShan & district.ShunYi & district.TongZhou & district.XiCheng & totalPrice\\\\\n",
       "\\hline\n",
       "\t1 & 17022  & 1464   & 131.00 & 0.217  & 56021  & 1      & 0      & 0      & 0      & 1      & ...    & 0      & 0      & 0      & 0      & 0      & 0      & 0      & 0      & 0      & 415.0 \\\\\n",
       "\t2 & 17010  &  903   & 132.38 & 0.667  & 71539  & 1      & 1      & 0      & 0      & 0      & ...    & 0      & 0      & 0      & 0      & 0      & 0      & 0      & 0      & 0      & 575.0 \\\\\n",
       "\t4 & 17074  &  965   & 134.00 & 0.273  & 51238  & 1      & 0      & 1      & 0      & 0      & ...    & 0      & 0      & 0      & 0      & 0      & 0      & 0      & 0      & 0      & 297.5 \\\\\n",
       "\t7 & 16996  &  851   &  73.00 & 0.500  & 50112  & 1      & 1      & 0      & 0      & 0      & ...    & 0      & 0      & 0      & 0      & 0      & 0      & 0      & 0      & 0      & 275.0 \\\\\n",
       "\t8 & 17051  &  904   & 161.55 & 0.667  & 71539  & 1      & 1      & 0      & 0      & 0      & ...    & 0      & 0      & 0      & 0      & 0      & 0      & 0      & 0      & 0      & 800.0 \\\\\n",
       "\t9 & 17048  &  873   &  48.00 & 0.333  & 44235  & 1      & 0      & 1      & 0      & 0      & ...    & 0      & 0      & 0      & 0      & 1      & 0      & 0      & 0      & 0      & 134.0 \\\\\n",
       "\\end{tabular}\n"
      ],
      "text/markdown": [
       "\n",
       "| <!--/--> | tradeTime | DOM | square | ladderRatio | communityAverage | kitchen | renovationCondition.Hardcover | renovationCondition.Other | renovationCondition.Rough | renovationCondition.Simplicit | ... | district.FangShang | district.FaXing | district.FengTai | district.HaiDian | district.MenTouGou | district.ShiJingShan | district.ShunYi | district.TongZhou | district.XiCheng | totalPrice |\n",
       "|---|---|---|---|---|---|---|---|---|---|---|---|---|---|---|---|---|---|---|---|---|---|\n",
       "| 1 | 17022  | 1464   | 131.00 | 0.217  | 56021  | 1      | 0      | 0      | 0      | 1      | ...    | 0      | 0      | 0      | 0      | 0      | 0      | 0      | 0      | 0      | 415.0  |\n",
       "| 2 | 17010  |  903   | 132.38 | 0.667  | 71539  | 1      | 1      | 0      | 0      | 0      | ...    | 0      | 0      | 0      | 0      | 0      | 0      | 0      | 0      | 0      | 575.0  |\n",
       "| 4 | 17074  |  965   | 134.00 | 0.273  | 51238  | 1      | 0      | 1      | 0      | 0      | ...    | 0      | 0      | 0      | 0      | 0      | 0      | 0      | 0      | 0      | 297.5  |\n",
       "| 7 | 16996  |  851   |  73.00 | 0.500  | 50112  | 1      | 1      | 0      | 0      | 0      | ...    | 0      | 0      | 0      | 0      | 0      | 0      | 0      | 0      | 0      | 275.0  |\n",
       "| 8 | 17051  |  904   | 161.55 | 0.667  | 71539  | 1      | 1      | 0      | 0      | 0      | ...    | 0      | 0      | 0      | 0      | 0      | 0      | 0      | 0      | 0      | 800.0  |\n",
       "| 9 | 17048  |  873   |  48.00 | 0.333  | 44235  | 1      | 0      | 1      | 0      | 0      | ...    | 0      | 0      | 0      | 0      | 1      | 0      | 0      | 0      | 0      | 134.0  |\n",
       "\n"
      ],
      "text/plain": [
       "  tradeTime DOM  square ladderRatio communityAverage kitchen\n",
       "1 17022     1464 131.00 0.217       56021            1      \n",
       "2 17010      903 132.38 0.667       71539            1      \n",
       "4 17074      965 134.00 0.273       51238            1      \n",
       "7 16996      851  73.00 0.500       50112            1      \n",
       "8 17051      904 161.55 0.667       71539            1      \n",
       "9 17048      873  48.00 0.333       44235            1      \n",
       "  renovationCondition.Hardcover renovationCondition.Other\n",
       "1 0                             0                        \n",
       "2 1                             0                        \n",
       "4 0                             1                        \n",
       "7 1                             0                        \n",
       "8 1                             0                        \n",
       "9 0                             1                        \n",
       "  renovationCondition.Rough renovationCondition.Simplicit ...\n",
       "1 0                         1                             ...\n",
       "2 0                         0                             ...\n",
       "4 0                         0                             ...\n",
       "7 0                         0                             ...\n",
       "8 0                         0                             ...\n",
       "9 0                         0                             ...\n",
       "  district.FangShang district.FaXing district.FengTai district.HaiDian\n",
       "1 0                  0               0                0               \n",
       "2 0                  0               0                0               \n",
       "4 0                  0               0                0               \n",
       "7 0                  0               0                0               \n",
       "8 0                  0               0                0               \n",
       "9 0                  0               0                0               \n",
       "  district.MenTouGou district.ShiJingShan district.ShunYi district.TongZhou\n",
       "1 0                  0                    0               0                \n",
       "2 0                  0                    0               0                \n",
       "4 0                  0                    0               0                \n",
       "7 0                  0                    0               0                \n",
       "8 0                  0                    0               0                \n",
       "9 1                  0                    0               0                \n",
       "  district.XiCheng totalPrice\n",
       "1 0                415.0     \n",
       "2 0                575.0     \n",
       "4 0                297.5     \n",
       "7 0                275.0     \n",
       "8 0                800.0     \n",
       "9 0                134.0     "
      ]
     },
     "metadata": {},
     "output_type": "display_data"
    }
   ],
   "source": [
    "head(training)"
   ]
  },
  {
   "cell_type": "code",
   "execution_count": 59,
   "metadata": {},
   "outputs": [
    {
     "name": "stdout",
     "output_type": "stream",
     "text": [
      "[1] \"Training variables\"\n"
     ]
    },
    {
     "data": {
      "text/html": [
       "<ol class=list-inline>\n",
       "\t<li>192629</li>\n",
       "\t<li>33</li>\n",
       "</ol>\n"
      ],
      "text/latex": [
       "\\begin{enumerate*}\n",
       "\\item 192629\n",
       "\\item 33\n",
       "\\end{enumerate*}\n"
      ],
      "text/markdown": [
       "1. 192629\n",
       "2. 33\n",
       "\n",
       "\n"
      ],
      "text/plain": [
       "[1] 192629     33"
      ]
     },
     "metadata": {},
     "output_type": "display_data"
    },
    {
     "data": {
      "text/html": [
       "192629"
      ],
      "text/latex": [
       "192629"
      ],
      "text/markdown": [
       "192629"
      ],
      "text/plain": [
       "[1] 192629"
      ]
     },
     "metadata": {},
     "output_type": "display_data"
    },
    {
     "name": "stdout",
     "output_type": "stream",
     "text": [
      "[1] \"Testing variables\"\n"
     ]
    },
    {
     "data": {
      "text/html": [
       "<ol class=list-inline>\n",
       "\t<li>103721</li>\n",
       "\t<li>33</li>\n",
       "</ol>\n"
      ],
      "text/latex": [
       "\\begin{enumerate*}\n",
       "\\item 103721\n",
       "\\item 33\n",
       "\\end{enumerate*}\n"
      ],
      "text/markdown": [
       "1. 103721\n",
       "2. 33\n",
       "\n",
       "\n"
      ],
      "text/plain": [
       "[1] 103721     33"
      ]
     },
     "metadata": {},
     "output_type": "display_data"
    },
    {
     "data": {
      "text/html": [
       "103721"
      ],
      "text/latex": [
       "103721"
      ],
      "text/markdown": [
       "103721"
      ],
      "text/plain": [
       "[1] 103721"
      ]
     },
     "metadata": {},
     "output_type": "display_data"
    }
   ],
   "source": [
    "X_train = data.matrix(training[,-34])\n",
    "y_train = training[,34]\n",
    "\n",
    "X_test = data.matrix(testing[,-34])\n",
    "y_test = testing[,34]\n",
    "\n",
    "print(\"Training variables\")\n",
    "dim(X_train); length(y_train)\n",
    "print(\"Testing variables\")\n",
    "dim(X_test); length(y_test)"
   ]
  },
  {
   "cell_type": "code",
   "execution_count": 60,
   "metadata": {},
   "outputs": [
    {
     "data": {
      "text/html": [
       "<table>\n",
       "<thead><tr><th></th><th scope=col>tradeTime</th><th scope=col>DOM</th><th scope=col>square</th><th scope=col>ladderRatio</th><th scope=col>communityAverage</th><th scope=col>kitchen</th><th scope=col>renovationCondition.Hardcover</th><th scope=col>renovationCondition.Other</th><th scope=col>renovationCondition.Rough</th><th scope=col>renovationCondition.Simplicit</th><th scope=col>...</th><th scope=col>district.DongCheng</th><th scope=col>district.FangShang</th><th scope=col>district.FaXing</th><th scope=col>district.FengTai</th><th scope=col>district.HaiDian</th><th scope=col>district.MenTouGou</th><th scope=col>district.ShiJingShan</th><th scope=col>district.ShunYi</th><th scope=col>district.TongZhou</th><th scope=col>district.XiCheng</th></tr></thead>\n",
       "<tbody>\n",
       "\t<tr><th scope=row>3</th><td>17146 </td><td>1271  </td><td>198.00</td><td>0.500 </td><td>48160 </td><td>1     </td><td>0     </td><td>0     </td><td>0     </td><td>1     </td><td>...   </td><td>0     </td><td>0     </td><td>0     </td><td>0     </td><td>0     </td><td>0     </td><td>0     </td><td>0     </td><td>0     </td><td>0     </td></tr>\n",
       "\t<tr><th scope=row>5</th><td>17041 </td><td> 927  </td><td> 81.00</td><td>0.333 </td><td>62588 </td><td>1     </td><td>0     </td><td>0     </td><td>1     </td><td>0     </td><td>...   </td><td>1     </td><td>0     </td><td>0     </td><td>0     </td><td>0     </td><td>0     </td><td>0     </td><td>0     </td><td>0     </td><td>0     </td></tr>\n",
       "\t<tr><th scope=row>6</th><td>17004 </td><td> 861  </td><td> 53.00</td><td>0.333 </td><td>67738 </td><td>1     </td><td>0     </td><td>0     </td><td>0     </td><td>1     </td><td>...   </td><td>0     </td><td>0     </td><td>0     </td><td>0     </td><td>0     </td><td>0     </td><td>0     </td><td>0     </td><td>0     </td><td>0     </td></tr>\n",
       "\t<tr><th scope=row>10</th><td>17049 </td><td> 865  </td><td> 68.00</td><td>0.308 </td><td>78590 </td><td>0     </td><td>1     </td><td>0     </td><td>0     </td><td>0     </td><td>...   </td><td>1     </td><td>0     </td><td>0     </td><td>0     </td><td>0     </td><td>0     </td><td>0     </td><td>0     </td><td>0     </td><td>0     </td></tr>\n",
       "\t<tr><th scope=row>11</th><td>17016 </td><td> 773  </td><td> 48.00</td><td>0.333 </td><td>44235 </td><td>1     </td><td>0     </td><td>0     </td><td>0     </td><td>1     </td><td>...   </td><td>0     </td><td>0     </td><td>0     </td><td>0     </td><td>0     </td><td>1     </td><td>0     </td><td>0     </td><td>0     </td><td>0     </td></tr>\n",
       "\t<tr><th scope=row>13</th><td>16969 </td><td> 706  </td><td> 80.13</td><td>0.222 </td><td>53588 </td><td>1     </td><td>1     </td><td>0     </td><td>0     </td><td>0     </td><td>...   </td><td>0     </td><td>0     </td><td>0     </td><td>1     </td><td>0     </td><td>0     </td><td>0     </td><td>0     </td><td>0     </td><td>0     </td></tr>\n",
       "</tbody>\n",
       "</table>\n"
      ],
      "text/latex": [
       "\\begin{tabular}{r|lllllllllllllllllllllllllllllllll}\n",
       "  & tradeTime & DOM & square & ladderRatio & communityAverage & kitchen & renovationCondition.Hardcover & renovationCondition.Other & renovationCondition.Rough & renovationCondition.Simplicit & ... & district.DongCheng & district.FangShang & district.FaXing & district.FengTai & district.HaiDian & district.MenTouGou & district.ShiJingShan & district.ShunYi & district.TongZhou & district.XiCheng\\\\\n",
       "\\hline\n",
       "\t3 & 17146  & 1271   & 198.00 & 0.500  & 48160  & 1      & 0      & 0      & 0      & 1      & ...    & 0      & 0      & 0      & 0      & 0      & 0      & 0      & 0      & 0      & 0     \\\\\n",
       "\t5 & 17041  &  927   &  81.00 & 0.333  & 62588  & 1      & 0      & 0      & 1      & 0      & ...    & 1      & 0      & 0      & 0      & 0      & 0      & 0      & 0      & 0      & 0     \\\\\n",
       "\t6 & 17004  &  861   &  53.00 & 0.333  & 67738  & 1      & 0      & 0      & 0      & 1      & ...    & 0      & 0      & 0      & 0      & 0      & 0      & 0      & 0      & 0      & 0     \\\\\n",
       "\t10 & 17049  &  865   &  68.00 & 0.308  & 78590  & 0      & 1      & 0      & 0      & 0      & ...    & 1      & 0      & 0      & 0      & 0      & 0      & 0      & 0      & 0      & 0     \\\\\n",
       "\t11 & 17016  &  773   &  48.00 & 0.333  & 44235  & 1      & 0      & 0      & 0      & 1      & ...    & 0      & 0      & 0      & 0      & 0      & 1      & 0      & 0      & 0      & 0     \\\\\n",
       "\t13 & 16969  &  706   &  80.13 & 0.222  & 53588  & 1      & 1      & 0      & 0      & 0      & ...    & 0      & 0      & 0      & 1      & 0      & 0      & 0      & 0      & 0      & 0     \\\\\n",
       "\\end{tabular}\n"
      ],
      "text/markdown": [
       "\n",
       "| <!--/--> | tradeTime | DOM | square | ladderRatio | communityAverage | kitchen | renovationCondition.Hardcover | renovationCondition.Other | renovationCondition.Rough | renovationCondition.Simplicit | ... | district.DongCheng | district.FangShang | district.FaXing | district.FengTai | district.HaiDian | district.MenTouGou | district.ShiJingShan | district.ShunYi | district.TongZhou | district.XiCheng |\n",
       "|---|---|---|---|---|---|---|---|---|---|---|---|---|---|---|---|---|---|---|---|---|---|\n",
       "| 3 | 17146  | 1271   | 198.00 | 0.500  | 48160  | 1      | 0      | 0      | 0      | 1      | ...    | 0      | 0      | 0      | 0      | 0      | 0      | 0      | 0      | 0      | 0      |\n",
       "| 5 | 17041  |  927   |  81.00 | 0.333  | 62588  | 1      | 0      | 0      | 1      | 0      | ...    | 1      | 0      | 0      | 0      | 0      | 0      | 0      | 0      | 0      | 0      |\n",
       "| 6 | 17004  |  861   |  53.00 | 0.333  | 67738  | 1      | 0      | 0      | 0      | 1      | ...    | 0      | 0      | 0      | 0      | 0      | 0      | 0      | 0      | 0      | 0      |\n",
       "| 10 | 17049  |  865   |  68.00 | 0.308  | 78590  | 0      | 1      | 0      | 0      | 0      | ...    | 1      | 0      | 0      | 0      | 0      | 0      | 0      | 0      | 0      | 0      |\n",
       "| 11 | 17016  |  773   |  48.00 | 0.333  | 44235  | 1      | 0      | 0      | 0      | 1      | ...    | 0      | 0      | 0      | 0      | 0      | 1      | 0      | 0      | 0      | 0      |\n",
       "| 13 | 16969  |  706   |  80.13 | 0.222  | 53588  | 1      | 1      | 0      | 0      | 0      | ...    | 0      | 0      | 0      | 1      | 0      | 0      | 0      | 0      | 0      | 0      |\n",
       "\n"
      ],
      "text/plain": [
       "   tradeTime DOM  square ladderRatio communityAverage kitchen\n",
       "3  17146     1271 198.00 0.500       48160            1      \n",
       "5  17041      927  81.00 0.333       62588            1      \n",
       "6  17004      861  53.00 0.333       67738            1      \n",
       "10 17049      865  68.00 0.308       78590            0      \n",
       "11 17016      773  48.00 0.333       44235            1      \n",
       "13 16969      706  80.13 0.222       53588            1      \n",
       "   renovationCondition.Hardcover renovationCondition.Other\n",
       "3  0                             0                        \n",
       "5  0                             0                        \n",
       "6  0                             0                        \n",
       "10 1                             0                        \n",
       "11 0                             0                        \n",
       "13 1                             0                        \n",
       "   renovationCondition.Rough renovationCondition.Simplicit ...\n",
       "3  0                         1                             ...\n",
       "5  1                         0                             ...\n",
       "6  0                         1                             ...\n",
       "10 0                         0                             ...\n",
       "11 0                         1                             ...\n",
       "13 0                         0                             ...\n",
       "   district.DongCheng district.FangShang district.FaXing district.FengTai\n",
       "3  0                  0                  0               0               \n",
       "5  1                  0                  0               0               \n",
       "6  0                  0                  0               0               \n",
       "10 1                  0                  0               0               \n",
       "11 0                  0                  0               0               \n",
       "13 0                  0                  0               1               \n",
       "   district.HaiDian district.MenTouGou district.ShiJingShan district.ShunYi\n",
       "3  0                0                  0                    0              \n",
       "5  0                0                  0                    0              \n",
       "6  0                0                  0                    0              \n",
       "10 0                0                  0                    0              \n",
       "11 0                1                  0                    0              \n",
       "13 0                0                  0                    0              \n",
       "   district.TongZhou district.XiCheng\n",
       "3  0                 0               \n",
       "5  0                 0               \n",
       "6  0                 0               \n",
       "10 0                 0               \n",
       "11 0                 0               \n",
       "13 0                 0               "
      ]
     },
     "metadata": {},
     "output_type": "display_data"
    }
   ],
   "source": [
    "head(X_test)"
   ]
  },
  {
   "cell_type": "code",
   "execution_count": 61,
   "metadata": {},
   "outputs": [],
   "source": [
    "xgb_train = xgb.DMatrix(data = X_train, label = y_train)\n",
    "xgb_test = xgb.DMatrix(data = X_test, label = y_test)"
   ]
  },
  {
   "cell_type": "code",
   "execution_count": 63,
   "metadata": {},
   "outputs": [
    {
     "data": {
      "text/plain": [
       "xgb.DMatrix  dim: 103721 x 33  info: label  colnames: yes"
      ]
     },
     "metadata": {},
     "output_type": "display_data"
    }
   ],
   "source": [
    "xgb_test"
   ]
  },
  {
   "cell_type": "code",
   "execution_count": 64,
   "metadata": {},
   "outputs": [
    {
     "name": "stdout",
     "output_type": "stream",
     "text": [
      "[12:14:17] WARNING: amalgamation/../src/learner.cc:516: \n",
      "Parameters: { max_depth } might not be used.\n",
      "\n",
      "  This may not be accurate due to some parameters are only used in language bindings but\n",
      "  passed down to XGBoost core.  Or some parameters are not used but slip through this\n",
      "  verification. Please open an issue if you find above cases.\n",
      "\n",
      "\n",
      "[1]\ttrain-rmse:216.451111 \n",
      "[26]\ttrain-rmse:137.267426 \n",
      "[51]\ttrain-rmse:129.159973 \n",
      "[76]\ttrain-rmse:125.331024 \n",
      "[101]\ttrain-rmse:123.415688 \n",
      "[126]\ttrain-rmse:122.402596 \n",
      "[151]\ttrain-rmse:121.799431 \n",
      "[176]\ttrain-rmse:121.380745 \n",
      "[201]\ttrain-rmse:121.048660 \n",
      "[226]\ttrain-rmse:120.761993 \n",
      "[251]\ttrain-rmse:120.494385 \n",
      "[276]\ttrain-rmse:120.242752 \n",
      "[301]\ttrain-rmse:119.995026 \n",
      "[326]\ttrain-rmse:119.755768 \n",
      "[351]\ttrain-rmse:119.517471 \n",
      "[376]\ttrain-rmse:119.282578 \n",
      "[401]\ttrain-rmse:119.053619 \n",
      "[426]\ttrain-rmse:118.822624 \n",
      "[451]\ttrain-rmse:118.597481 \n",
      "[476]\ttrain-rmse:118.374573 \n",
      "[500]\ttrain-rmse:118.161156 \n"
     ]
    }
   ],
   "source": [
    "xgb.reg = xgboost(data = xgb_train, booster = \"gblinear\", max.depth = 10, nrounds = 500, \n",
    "               print_every_n = 25, objective = \"reg:squarederror\", eval_metric = 'rmse')"
   ]
  },
  {
   "cell_type": "code",
   "execution_count": 65,
   "metadata": {},
   "outputs": [
    {
     "name": "stdout",
     "output_type": "stream",
     "text": [
      "##### xgb.Booster\n",
      "raw: 1.5 Kb \n",
      "call:\n",
      "  xgb.train(params = params, data = dtrain, nrounds = nrounds, \n",
      "    watchlist = watchlist, verbose = verbose, print_every_n = print_every_n, \n",
      "    early_stopping_rounds = early_stopping_rounds, maximize = maximize, \n",
      "    save_period = save_period, save_name = save_name, xgb_model = xgb_model, \n",
      "    callbacks = callbacks, booster = \"gblinear\", max.depth = 10, \n",
      "    objective = \"reg:squarederror\", eval_metric = \"rmse\")\n",
      "params (as set within xgb.train):\n",
      "  booster = \"gblinear\", max_depth = \"10\", objective = \"reg:squarederror\", eval_metric = \"rmse\", validate_parameters = \"TRUE\"\n",
      "xgb.attributes:\n",
      "  niter\n",
      "callbacks:\n",
      "  cb.print.evaluation(period = print_every_n)\n",
      "  cb.evaluation.log()\n",
      "# of features: 33 \n",
      "niter: 500\n",
      "nfeatures : 33 \n",
      "evaluation_log:\n",
      "    iter train_rmse\n",
      "       1   216.4511\n",
      "       2   195.3912\n",
      "---                \n",
      "     499   118.1709\n",
      "     500   118.1612\n"
     ]
    }
   ],
   "source": [
    "print(xgb.reg)"
   ]
  },
  {
   "cell_type": "code",
   "execution_count": 66,
   "metadata": {},
   "outputs": [],
   "source": [
    "pred_y_xgbr = predict(xgb.reg, xgb_test)"
   ]
  },
  {
   "cell_type": "code",
   "execution_count": 67,
   "metadata": {},
   "outputs": [
    {
     "data": {
      "text/html": [
       "<dl class=dl-horizontal>\n",
       "\t<dt>RMSE</dt>\n",
       "\t\t<dd>16215.5970528649</dd>\n",
       "\t<dt>Rsquared</dt>\n",
       "\t\t<dd>0.0765598966921416</dd>\n",
       "\t<dt>MAE</dt>\n",
       "\t\t<dd>16205.4425128119</dd>\n",
       "</dl>\n"
      ],
      "text/latex": [
       "\\begin{description*}\n",
       "\\item[RMSE] 16215.5970528649\n",
       "\\item[Rsquared] 0.0765598966921416\n",
       "\\item[MAE] 16205.4425128119\n",
       "\\end{description*}\n"
      ],
      "text/markdown": [
       "RMSE\n",
       ":   16215.5970528649Rsquared\n",
       ":   0.0765598966921416MAE\n",
       ":   16205.4425128119\n",
       "\n"
      ],
      "text/plain": [
       "        RMSE     Rsquared          MAE \n",
       "1.621560e+04 7.655990e-02 1.620544e+04 "
      ]
     },
     "metadata": {},
     "output_type": "display_data"
    }
   ],
   "source": [
    "postResample(pred = pred_y_xgbr, obs = testing[,1])"
   ]
  },
  {
   "cell_type": "code",
   "execution_count": 68,
   "metadata": {},
   "outputs": [
    {
     "data": {
      "image/png": "[encoded data removed]",
      "text/plain": [
       "plot without title"
      ]
     },
     "metadata": {},
     "output_type": "display_data"
    }
   ],
   "source": [
    "x = 1:length(y_test)\n",
    "plot(x, y_test, col = \"red\", type = \"l\")\n",
    "lines(x, pred_y_xgbr, col = \"blue\", type = \"l\")\n",
    "legend(\"topright\",  legend = c(\"original test_y\", \"predicted test_y\"), \n",
    "       col = c(\"red\", \"blue\"), box.lty = 1, cex = 0.8, lty = c(1, 1))"
   ]
  },
  {
   "cell_type": "markdown",
   "metadata": {},
   "source": [
    "### Polynomial "
   ]
  },
  {
   "cell_type": "markdown",
   "metadata": {},
   "source": [
    "#### Method 1: "
   ]
  },
  {
   "cell_type": "code",
   "execution_count": null,
   "metadata": {
    "scrolled": true
   },
   "outputs": [],
   "source": [
    "install.packages(\"KRLS\")\n",
    "library(KRLS)"
   ]
  },
  {
   "cell_type": "code",
   "execution_count": null,
   "metadata": {
    "scrolled": true
   },
   "outputs": [],
   "source": [
    "poly_mdl = train(totalPrice~., method = \"krlsPoly\", lambda = 0.01, degree = 3, data = training)"
   ]
  },
  {
   "cell_type": "code",
   "execution_count": null,
   "metadata": {},
   "outputs": [],
   "source": [
    "y_pred_poly = predict(poly_mdl, testing)"
   ]
  },
  {
   "cell_type": "code",
   "execution_count": null,
   "metadata": {},
   "outputs": [],
   "source": [
    "postResample(pred = y_pred_poly, obs = testing[,1])"
   ]
  }
 ],
 "metadata": {
  "kernelspec": {
   "display_name": "R",
   "language": "R",
   "name": "ir"
  },
  "language_info": {
   "codemirror_mode": "r",
   "file_extension": ".r",
   "mimetype": "text/x-r-source",
   "name": "R",
   "pygments_lexer": "r",
   "version": "3.6.1"
  }
 },
 "nbformat": 4,
 "nbformat_minor": 4
}
